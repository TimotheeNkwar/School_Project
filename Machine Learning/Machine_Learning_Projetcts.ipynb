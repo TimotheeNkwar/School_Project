{
 "cells": [
  {
   "cell_type": "markdown",
   "metadata": {},
   "source": [
    "<center>\n",
    "    <h1>CYPRUS INTERNATIONAL UNIVERSITY</h1>\n",
    "    <h2><b>School of Applied Science</b></h2>\n",
    "    <h3>Department of <span style=\"color:black;\">Data Science</span></h3>\n",
    "    <br>\n",
    "    <img src=\"https://en.wikipedia.org/wiki/Cyprus_International_University#/media/File:Uluslararas%C4%B1_K%C4%B1br%C4%B1s_%C3%9Cniversitesi_Resmi_Logo.png\" width=\"150\",height=\"150\">\n",
    "    <br><br>\n",
    "    <h3><b>Name & Surname :</b></h3><span style=\"color:blue;\"> TIMOTHEE KABONGO NKWAR</span></h3>\n",
    "    <h3><b>INSTRUCTOR :</b> <span style=\"color:blue;\">Dr. Yasemin Bay</span></h3>\n",
    "    <h3><b>COURSE NAME :</b> <span style=\"color:blue;\">DASC311 Statistical Machine Learning</span></h3>\n",
    "    <br>\n",
    "    <h3><b>Student ID:</b><span style=\"color:blue;\">22205731</span> <span style=\"color:red;\"></span></h3>\n",
    "</center>\n"
   ]
  },
  {
   "cell_type": "markdown",
   "metadata": {},
   "source": [
    "# 1 LOGISTIC REGRESSION"
   ]
  },
  {
   "cell_type": "code",
   "execution_count": 1,
   "metadata": {},
   "outputs": [
    {
     "data": {
      "text/plain": [
       "'\\n                              Dataset Information\\n\\n\\nThis dataset include data for the estimation of obesity levels in individuals from the countries of Mexico, Peru and Colombia,\\nbased on their eating habits and physical condition. The data contains 17 attributes and 2111 records, the records are labeled \\nwith the class variable NObesity (Obesity Level), that allows classification of the data using the values of Insufficient Weight, \\nNormal Weight, Overweight Level I, Overweight Level II, Obesity Type I, Obesity Type II and Obesity Type III. 77% of the data was \\ngenerated synthetically using the Weka tool and the SMOTE filter, 23% of the data was collected directly from users through a web platform.\\n\\n\\n\\n'"
      ]
     },
     "execution_count": 1,
     "metadata": {},
     "output_type": "execute_result"
    }
   ],
   "source": [
    "#link to the dataset : https://archive.ics.uci.edu/dataset/544/estimation+of+obesity+levels+based+on+eating+habits+and+physical+condition-\n",
    "\n",
    "from ucimlrepo import fetch_ucirepo \n",
    "  \n",
    "# fetch dataset \n",
    "Male_or_female_based_on_eating_habits_and_physical_condition = fetch_ucirepo(id=544) \n",
    "  \n",
    "# data (as pandas dataframes) \n",
    "data = Male_or_female_based_on_eating_habits_and_physical_condition.data.features \n",
    "'''\n",
    "                              Dataset Information\n",
    "\n",
    "\n",
    "This dataset include data for the estimation of obesity levels in individuals from the countries of Mexico, Peru and Colombia,\n",
    "based on their eating habits and physical condition. The data contains 17 attributes and 2111 records, the records are labeled \n",
    "with the class variable NObesity (Obesity Level), that allows classification of the data using the values of Insufficient Weight, \n",
    "Normal Weight, Overweight Level I, Overweight Level II, Obesity Type I, Obesity Type II and Obesity Type III. 77% of the data was \n",
    "generated synthetically using the Weka tool and the SMOTE filter, 23% of the data was collected directly from users through a web platform.\n",
    "\n",
    "\n",
    "\n",
    "'''"
   ]
  },
  {
   "cell_type": "markdown",
   "metadata": {},
   "source": [
    "## Logistic Regression is a supervised learning algorithm used for binary classification (and extended to multiclass with variations). Unlike linear regression, which predicts continuous values, logistic regression predicts probabilities and classifies data into categories"
   ]
  },
  {
   "cell_type": "code",
   "execution_count": 2,
   "metadata": {},
   "outputs": [
    {
     "data": {
      "text/plain": [
       "(2111, 16)"
      ]
     },
     "execution_count": 2,
     "metadata": {},
     "output_type": "execute_result"
    }
   ],
   "source": [
    "# check the size of the dataset\n",
    "data.shape"
   ]
  },
  {
   "cell_type": "code",
   "execution_count": 3,
   "metadata": {},
   "outputs": [],
   "source": [
    "# Importing the libraries\n",
    "import numpy as np\n",
    "import pandas as pd\n",
    "import matplotlib.pyplot as plt\n",
    "import seaborn as sns\n",
    "import plotly.express as px"
   ]
  },
  {
   "cell_type": "code",
   "execution_count": 4,
   "metadata": {},
   "outputs": [
    {
     "data": {
      "application/vnd.microsoft.datawrangler.viewer.v0+json": {
       "columns": [
        {
         "name": "index",
         "rawType": "int64",
         "type": "integer"
        },
        {
         "name": "Gender",
         "rawType": "object",
         "type": "string"
        },
        {
         "name": "Age",
         "rawType": "float64",
         "type": "float"
        },
        {
         "name": "Height",
         "rawType": "float64",
         "type": "float"
        },
        {
         "name": "Weight",
         "rawType": "float64",
         "type": "float"
        },
        {
         "name": "family_history_with_overweight",
         "rawType": "object",
         "type": "string"
        },
        {
         "name": "FAVC",
         "rawType": "object",
         "type": "string"
        },
        {
         "name": "FCVC",
         "rawType": "float64",
         "type": "float"
        },
        {
         "name": "NCP",
         "rawType": "float64",
         "type": "float"
        },
        {
         "name": "CAEC",
         "rawType": "object",
         "type": "string"
        },
        {
         "name": "SMOKE",
         "rawType": "object",
         "type": "string"
        },
        {
         "name": "CH2O",
         "rawType": "float64",
         "type": "float"
        },
        {
         "name": "SCC",
         "rawType": "object",
         "type": "string"
        },
        {
         "name": "FAF",
         "rawType": "float64",
         "type": "float"
        },
        {
         "name": "TUE",
         "rawType": "float64",
         "type": "float"
        },
        {
         "name": "CALC",
         "rawType": "object",
         "type": "string"
        },
        {
         "name": "MTRANS",
         "rawType": "object",
         "type": "string"
        }
       ],
       "conversionMethod": "pd.DataFrame",
       "ref": "edc63159-fe69-44bb-9720-87bdfffba7ff",
       "rows": [
        [
         "0",
         "Female",
         "21.0",
         "1.62",
         "64.0",
         "yes",
         "no",
         "2.0",
         "3.0",
         "Sometimes",
         "no",
         "2.0",
         "no",
         "0.0",
         "1.0",
         "no",
         "Public_Transportation"
        ],
        [
         "1",
         "Female",
         "21.0",
         "1.52",
         "56.0",
         "yes",
         "no",
         "3.0",
         "3.0",
         "Sometimes",
         "yes",
         "3.0",
         "yes",
         "3.0",
         "0.0",
         "Sometimes",
         "Public_Transportation"
        ],
        [
         "2",
         "Male",
         "23.0",
         "1.8",
         "77.0",
         "yes",
         "no",
         "2.0",
         "3.0",
         "Sometimes",
         "no",
         "2.0",
         "no",
         "2.0",
         "1.0",
         "Frequently",
         "Public_Transportation"
        ],
        [
         "3",
         "Male",
         "27.0",
         "1.8",
         "87.0",
         "no",
         "no",
         "3.0",
         "3.0",
         "Sometimes",
         "no",
         "2.0",
         "no",
         "2.0",
         "0.0",
         "Frequently",
         "Walking"
        ],
        [
         "4",
         "Male",
         "22.0",
         "1.78",
         "89.8",
         "no",
         "no",
         "2.0",
         "1.0",
         "Sometimes",
         "no",
         "2.0",
         "no",
         "0.0",
         "0.0",
         "Sometimes",
         "Public_Transportation"
        ]
       ],
       "shape": {
        "columns": 16,
        "rows": 5
       }
      },
      "text/html": [
       "<div>\n",
       "<style scoped>\n",
       "    .dataframe tbody tr th:only-of-type {\n",
       "        vertical-align: middle;\n",
       "    }\n",
       "\n",
       "    .dataframe tbody tr th {\n",
       "        vertical-align: top;\n",
       "    }\n",
       "\n",
       "    .dataframe thead th {\n",
       "        text-align: right;\n",
       "    }\n",
       "</style>\n",
       "<table border=\"1\" class=\"dataframe\">\n",
       "  <thead>\n",
       "    <tr style=\"text-align: right;\">\n",
       "      <th></th>\n",
       "      <th>Gender</th>\n",
       "      <th>Age</th>\n",
       "      <th>Height</th>\n",
       "      <th>Weight</th>\n",
       "      <th>family_history_with_overweight</th>\n",
       "      <th>FAVC</th>\n",
       "      <th>FCVC</th>\n",
       "      <th>NCP</th>\n",
       "      <th>CAEC</th>\n",
       "      <th>SMOKE</th>\n",
       "      <th>CH2O</th>\n",
       "      <th>SCC</th>\n",
       "      <th>FAF</th>\n",
       "      <th>TUE</th>\n",
       "      <th>CALC</th>\n",
       "      <th>MTRANS</th>\n",
       "    </tr>\n",
       "  </thead>\n",
       "  <tbody>\n",
       "    <tr>\n",
       "      <th>0</th>\n",
       "      <td>Female</td>\n",
       "      <td>21.0</td>\n",
       "      <td>1.62</td>\n",
       "      <td>64.0</td>\n",
       "      <td>yes</td>\n",
       "      <td>no</td>\n",
       "      <td>2.0</td>\n",
       "      <td>3.0</td>\n",
       "      <td>Sometimes</td>\n",
       "      <td>no</td>\n",
       "      <td>2.0</td>\n",
       "      <td>no</td>\n",
       "      <td>0.0</td>\n",
       "      <td>1.0</td>\n",
       "      <td>no</td>\n",
       "      <td>Public_Transportation</td>\n",
       "    </tr>\n",
       "    <tr>\n",
       "      <th>1</th>\n",
       "      <td>Female</td>\n",
       "      <td>21.0</td>\n",
       "      <td>1.52</td>\n",
       "      <td>56.0</td>\n",
       "      <td>yes</td>\n",
       "      <td>no</td>\n",
       "      <td>3.0</td>\n",
       "      <td>3.0</td>\n",
       "      <td>Sometimes</td>\n",
       "      <td>yes</td>\n",
       "      <td>3.0</td>\n",
       "      <td>yes</td>\n",
       "      <td>3.0</td>\n",
       "      <td>0.0</td>\n",
       "      <td>Sometimes</td>\n",
       "      <td>Public_Transportation</td>\n",
       "    </tr>\n",
       "    <tr>\n",
       "      <th>2</th>\n",
       "      <td>Male</td>\n",
       "      <td>23.0</td>\n",
       "      <td>1.80</td>\n",
       "      <td>77.0</td>\n",
       "      <td>yes</td>\n",
       "      <td>no</td>\n",
       "      <td>2.0</td>\n",
       "      <td>3.0</td>\n",
       "      <td>Sometimes</td>\n",
       "      <td>no</td>\n",
       "      <td>2.0</td>\n",
       "      <td>no</td>\n",
       "      <td>2.0</td>\n",
       "      <td>1.0</td>\n",
       "      <td>Frequently</td>\n",
       "      <td>Public_Transportation</td>\n",
       "    </tr>\n",
       "    <tr>\n",
       "      <th>3</th>\n",
       "      <td>Male</td>\n",
       "      <td>27.0</td>\n",
       "      <td>1.80</td>\n",
       "      <td>87.0</td>\n",
       "      <td>no</td>\n",
       "      <td>no</td>\n",
       "      <td>3.0</td>\n",
       "      <td>3.0</td>\n",
       "      <td>Sometimes</td>\n",
       "      <td>no</td>\n",
       "      <td>2.0</td>\n",
       "      <td>no</td>\n",
       "      <td>2.0</td>\n",
       "      <td>0.0</td>\n",
       "      <td>Frequently</td>\n",
       "      <td>Walking</td>\n",
       "    </tr>\n",
       "    <tr>\n",
       "      <th>4</th>\n",
       "      <td>Male</td>\n",
       "      <td>22.0</td>\n",
       "      <td>1.78</td>\n",
       "      <td>89.8</td>\n",
       "      <td>no</td>\n",
       "      <td>no</td>\n",
       "      <td>2.0</td>\n",
       "      <td>1.0</td>\n",
       "      <td>Sometimes</td>\n",
       "      <td>no</td>\n",
       "      <td>2.0</td>\n",
       "      <td>no</td>\n",
       "      <td>0.0</td>\n",
       "      <td>0.0</td>\n",
       "      <td>Sometimes</td>\n",
       "      <td>Public_Transportation</td>\n",
       "    </tr>\n",
       "  </tbody>\n",
       "</table>\n",
       "</div>"
      ],
      "text/plain": [
       "   Gender   Age  Height  Weight family_history_with_overweight FAVC  FCVC  \\\n",
       "0  Female  21.0    1.62    64.0                            yes   no   2.0   \n",
       "1  Female  21.0    1.52    56.0                            yes   no   3.0   \n",
       "2    Male  23.0    1.80    77.0                            yes   no   2.0   \n",
       "3    Male  27.0    1.80    87.0                             no   no   3.0   \n",
       "4    Male  22.0    1.78    89.8                             no   no   2.0   \n",
       "\n",
       "   NCP       CAEC SMOKE  CH2O  SCC  FAF  TUE        CALC  \\\n",
       "0  3.0  Sometimes    no   2.0   no  0.0  1.0          no   \n",
       "1  3.0  Sometimes   yes   3.0  yes  3.0  0.0   Sometimes   \n",
       "2  3.0  Sometimes    no   2.0   no  2.0  1.0  Frequently   \n",
       "3  3.0  Sometimes    no   2.0   no  2.0  0.0  Frequently   \n",
       "4  1.0  Sometimes    no   2.0   no  0.0  0.0   Sometimes   \n",
       "\n",
       "                  MTRANS  \n",
       "0  Public_Transportation  \n",
       "1  Public_Transportation  \n",
       "2  Public_Transportation  \n",
       "3                Walking  \n",
       "4  Public_Transportation  "
      ]
     },
     "execution_count": 4,
     "metadata": {},
     "output_type": "execute_result"
    }
   ],
   "source": [
    "# load the data\n",
    "data \n",
    "data.head()"
   ]
  },
  {
   "cell_type": "markdown",
   "metadata": {},
   "source": [
    "## DATA PREPROCESSING AND EDA"
   ]
  },
  {
   "cell_type": "code",
   "execution_count": 5,
   "metadata": {},
   "outputs": [
    {
     "data": {
      "application/vnd.microsoft.datawrangler.viewer.v0+json": {
       "columns": [
        {
         "name": "index",
         "rawType": "int64",
         "type": "integer"
        },
        {
         "name": "Age",
         "rawType": "float64",
         "type": "float"
        },
        {
         "name": "Height",
         "rawType": "float64",
         "type": "float"
        },
        {
         "name": "Weight",
         "rawType": "float64",
         "type": "float"
        },
        {
         "name": "FCVC",
         "rawType": "float64",
         "type": "float"
        },
        {
         "name": "NCP",
         "rawType": "float64",
         "type": "float"
        },
        {
         "name": "CH2O",
         "rawType": "float64",
         "type": "float"
        },
        {
         "name": "FAF",
         "rawType": "float64",
         "type": "float"
        },
        {
         "name": "TUE",
         "rawType": "float64",
         "type": "float"
        },
        {
         "name": "Gender",
         "rawType": "int64",
         "type": "integer"
        }
       ],
       "conversionMethod": "pd.DataFrame",
       "ref": "25757c23-e717-4cad-aab4-9dd0da2f3b32",
       "rows": [
        [
         "0",
         "21.0",
         "1.62",
         "64.0",
         "2.0",
         "3.0",
         "2.0",
         "0.0",
         "1.0",
         "0"
        ],
        [
         "1",
         "21.0",
         "1.52",
         "56.0",
         "3.0",
         "3.0",
         "3.0",
         "3.0",
         "0.0",
         "0"
        ],
        [
         "2",
         "23.0",
         "1.8",
         "77.0",
         "2.0",
         "3.0",
         "2.0",
         "2.0",
         "1.0",
         "1"
        ],
        [
         "3",
         "27.0",
         "1.8",
         "87.0",
         "3.0",
         "3.0",
         "2.0",
         "2.0",
         "0.0",
         "1"
        ],
        [
         "4",
         "22.0",
         "1.78",
         "89.8",
         "2.0",
         "1.0",
         "2.0",
         "0.0",
         "0.0",
         "1"
        ]
       ],
       "shape": {
        "columns": 9,
        "rows": 5
       }
      },
      "text/html": [
       "<div>\n",
       "<style scoped>\n",
       "    .dataframe tbody tr th:only-of-type {\n",
       "        vertical-align: middle;\n",
       "    }\n",
       "\n",
       "    .dataframe tbody tr th {\n",
       "        vertical-align: top;\n",
       "    }\n",
       "\n",
       "    .dataframe thead th {\n",
       "        text-align: right;\n",
       "    }\n",
       "</style>\n",
       "<table border=\"1\" class=\"dataframe\">\n",
       "  <thead>\n",
       "    <tr style=\"text-align: right;\">\n",
       "      <th></th>\n",
       "      <th>Age</th>\n",
       "      <th>Height</th>\n",
       "      <th>Weight</th>\n",
       "      <th>FCVC</th>\n",
       "      <th>NCP</th>\n",
       "      <th>CH2O</th>\n",
       "      <th>FAF</th>\n",
       "      <th>TUE</th>\n",
       "      <th>Gender</th>\n",
       "    </tr>\n",
       "  </thead>\n",
       "  <tbody>\n",
       "    <tr>\n",
       "      <th>0</th>\n",
       "      <td>21.0</td>\n",
       "      <td>1.62</td>\n",
       "      <td>64.0</td>\n",
       "      <td>2.0</td>\n",
       "      <td>3.0</td>\n",
       "      <td>2.0</td>\n",
       "      <td>0.0</td>\n",
       "      <td>1.0</td>\n",
       "      <td>0</td>\n",
       "    </tr>\n",
       "    <tr>\n",
       "      <th>1</th>\n",
       "      <td>21.0</td>\n",
       "      <td>1.52</td>\n",
       "      <td>56.0</td>\n",
       "      <td>3.0</td>\n",
       "      <td>3.0</td>\n",
       "      <td>3.0</td>\n",
       "      <td>3.0</td>\n",
       "      <td>0.0</td>\n",
       "      <td>0</td>\n",
       "    </tr>\n",
       "    <tr>\n",
       "      <th>2</th>\n",
       "      <td>23.0</td>\n",
       "      <td>1.80</td>\n",
       "      <td>77.0</td>\n",
       "      <td>2.0</td>\n",
       "      <td>3.0</td>\n",
       "      <td>2.0</td>\n",
       "      <td>2.0</td>\n",
       "      <td>1.0</td>\n",
       "      <td>1</td>\n",
       "    </tr>\n",
       "    <tr>\n",
       "      <th>3</th>\n",
       "      <td>27.0</td>\n",
       "      <td>1.80</td>\n",
       "      <td>87.0</td>\n",
       "      <td>3.0</td>\n",
       "      <td>3.0</td>\n",
       "      <td>2.0</td>\n",
       "      <td>2.0</td>\n",
       "      <td>0.0</td>\n",
       "      <td>1</td>\n",
       "    </tr>\n",
       "    <tr>\n",
       "      <th>4</th>\n",
       "      <td>22.0</td>\n",
       "      <td>1.78</td>\n",
       "      <td>89.8</td>\n",
       "      <td>2.0</td>\n",
       "      <td>1.0</td>\n",
       "      <td>2.0</td>\n",
       "      <td>0.0</td>\n",
       "      <td>0.0</td>\n",
       "      <td>1</td>\n",
       "    </tr>\n",
       "  </tbody>\n",
       "</table>\n",
       "</div>"
      ],
      "text/plain": [
       "    Age  Height  Weight  FCVC  NCP  CH2O  FAF  TUE  Gender\n",
       "0  21.0    1.62    64.0   2.0  3.0   2.0  0.0  1.0       0\n",
       "1  21.0    1.52    56.0   3.0  3.0   3.0  3.0  0.0       0\n",
       "2  23.0    1.80    77.0   2.0  3.0   2.0  2.0  1.0       1\n",
       "3  27.0    1.80    87.0   3.0  3.0   2.0  2.0  0.0       1\n",
       "4  22.0    1.78    89.8   2.0  1.0   2.0  0.0  0.0       1"
      ]
     },
     "execution_count": 5,
     "metadata": {},
     "output_type": "execute_result"
    }
   ],
   "source": [
    "# Convert the gender into a boolean\n",
    "data_encoded = pd.get_dummies(data, columns=[\"Gender\", \"CAEC\", \"CALC\", \"MTRANS\",\n",
    "                                             \"family_history_with_overweight\",\"SMOKE\"],\n",
    "                              drop_first=True,dtype=int)\n",
    "\n",
    "# delete some useless columns\n",
    "data_encoded.drop( columns =['family_history_with_overweight_yes','FAVC','SCC','SMOKE_yes',\n",
    "                             'CALC_no','CAEC_Sometimes', 'CAEC_no', 'CALC_Frequently', 'MTRANS_Motorbike',\n",
    "                             'MTRANS_Public_Transportation', 'MTRANS_Walking','CAEC_Frequently','CALC_Sometimes',  \n",
    "                             'MTRANS_Bike'], axis=1, inplace=True)\n",
    "\n",
    "# rename the colonne Gender_male tu Gender\n",
    "data_encoded.rename(columns={'Gender_Male':\"Gender\"}, inplace=True)\n",
    "data_encoded.head()\n"
   ]
  },
  {
   "cell_type": "code",
   "execution_count": 6,
   "metadata": {},
   "outputs": [
    {
     "data": {
      "application/vnd.plotly.v1+json": {
       "config": {
        "plotlyServerURL": "https://plot.ly"
       },
       "data": [
        {
         "hovertemplate": "Age=%{x}<br>Weight=%{y}<br>Gender=%{marker.color}<extra></extra>",
         "legendgroup": "",
         "marker": {
          "color": {
           "bdata": "AAABAQEBAAEBAQEAAQEBAAEAAAABAAAAAQEBAAEBAQAAAQEAAAABAAABAAEBAAEBAAAAAAAAAAEBAQABAAEBAQAAAQEBAQAAAAEBAAAAAAEAAQEAAQEBAQAAAAABAAABAAAAAQABAAAAAAABAQABAAAAAAAAAAEAAAEBAQEBAQABAQABAAABAQEBAQEBAQEAAQEAAAAAAQAAAQEAAAEAAQEBAAEBAQABAAABAQABAQAAAQEBAAAAAAEAAQEBAAEBAQEAAQEBAAAAAAABAQABAQAAAQAAAQEBAAEAAAABAAAAAQAAAAEBAAAAAAAAAAAAAAEAAQAAAAABAQABAQAAAQEBAQABAAEBAQEAAQEBAQABAQAAAQEAAQEBAAEBAQAAAAEBAQEBAQAAAQEBAQEBAAEBAAABAAEBAAEAAQEBAAABAQABAAABAQEAAAEBAAABAQEAAAEBAQEBAQABAQEBAAAAAAABAAEAAQAAAQEBAQAAAQEBAAABAQABAQEBAQABAAAAAAEAAQABAQAAAAEBAQEBAQABAQEAAQABAAEBAQEBAQEBAQEBAQEAAQABAQEAAQABAAAAAAAAAAEBAQABAQAAAQEBAAABAAABAQABAQEBAAEBAAAAAAAAAQAAAAEAAAEAAAABAQEBAAEBAQEAAQEBAAAAAAAAAAAAAQEBAAAAAAAAAAAAAAAAAAAAAAAAAAAAAQEBAQEBAAAAAAAAAAAAAAAAAAAAAQEBAQEBAQEBAAAAAQEBAAAAAAAAAAAAAAAAAQEBAAAAAAAAAAAAAQEBAQEBAQEBAAAAAAAAAQEBAQAAAAAAAAABAAAAAAAAAQEBAAEAAAAAAQAAAAEBAQAAAQEBAAAAAAAAAAAAAAAAAAAAAAAAAAAAAAEBAQEAAQAAAAAAAAABAAAAAAAAAAEAAQEBAQEBAQAAAAEBAQABAAAAAAAAAAAAAAEBAQAAAAAAAAAAAAEBAQEBAQEBAQAAAAAAAAEBAQEBAQEBAQABAQABAAABAAAAAQEBAAEBAQEBAAEAAAEBAAEBAQAAAQAAAAABAAEAAAAAAQABAQAAAAABAQEBAQEAAAEBAAEBAQEBAQAAAAABAAAAAAABAQEBAQAAAQEBAQEBAQAAAAABAQEAAAABAQABAQEBAAAAAQAAAAAAAAEBAAAAAAAAAAAAAQAAAAEBAAAAAAABAQEBAQEBAAEAAAEBAQABAQAAAAEBAAAAAAABAQEBAAAAAQEBAAABAQEAAAAAAQEBAAEBAQEAAAEBAAAAAAABAAEAAAEAAAAAAQAAAQEBAAAAAAABAQEBAQEBAQEAAQEAAAEAAAEBAAABAQABAQABAAEBAQEAAQABAQEBAAEAAAAAAQEAAAAAAQEAAAEBAQEBAAEBAQAAAAEBAQEBAQEBAQEBAQEAAAABAAABAQEBAQABAAEAAQABAAEBAAEAAQEAAQABAQEAAQAAAQAAAQABAQEBAAEBAAABAQEBAQEBAQEAAAEAAQEBAQEBAQEAAAEBAAABAAABAQABAQEAAQAAAQEBAQEBAAEAAQEBAQABAAAAAAEBAAAAAAEBAAABAQEBAQABAQEBAAABAQEBAQEBAQEBAQEBAAAAAQEAAQEBAQAAAAAAAAEBAAAAAQEAAAEAAQABAQEBAQEAAAAAAAEAAQEAAQEAAAEBAQEBAQAAAQEBAAABAAABAQEAAQEAAQEAAQEBAQEAAAAAAAABAQEBAAAAAAEBAAAAAAEBAAABAQAAAQEBAQEBAQEBAQAAAAAAAAEBAAABAQAAAQEAAAEBAQEBAQAAAQEBAQAAAQEAAAEBAQEAAAEBAAABAQAAAQEBAQEBAQEBAQAAAAAAAAAAAAAAAAEBAAAAAAAAAAABAQEBAAAAAAEBAAABAQAAAQEBAQEBAQEBAQEBAAAAAAAAAAAAAAEBAAABAQEBAAABAQEBAAAAAAEBAQEBAQEBAQEBAQAAAAABAQEBAQEAAAAAAQEAAAAAAQEBAQEBAAABAQEBAAABAQEBAAABAQEBAQEBAQEBAQEBAQEBAQEBAQEBAQEBAQEBAQEBAQEBAQEBAQEBAQEBAQEBAQEBAQEBAQEBAQEBAQEBAQEBAQEBAQEBAQEBAQEBAQEBAQEBAQEBAQEBAQEBAQEBAQEBAQEBAQEBAQEBAQEBAQEBAQEBAQEBAQEBAQEBAQEBAQEBAQEBAQEBAQEBAQEBAQEBAQEBAQEBAQEBAQEBAQEBAQEBAQEBAQEBAQEBAQEBAQEBAQEBAQEBAQEBAQEBAQEBAQEBAQEBAQEBAQEBAQEBAQEBAQEBAQEBAQEBAQEBAQEBAQEBAQEBAQEBAQEBAQEBAQEBAQEBAQEBAQEBAQEBAQEBAQEBAQEBAQEBAQEBAQEBAQEBAQEBAQEBAQEBAQEAAAAAAAAAAAAAAAAAAAAAAAAAAAAAAAAAAAAAAAAAAAAAAAAAAAAAAAAAAAAAAAAAAAAAAAAAAAAAAAAAAAAAAAAAAAAAAAAAAAAAAAAAAAAAAAAAAAAAAAAAAAAAAAAAAAAAAAAAAAAAAAAAAAAAAAAAAAAAAAAAAAAAAAAAAAAAAAAAAAAAAAAAAAAAAAAAAAAAAAAAAAAAAAAAAAAAAAAAAAAAAAAAAAAAAAAAAAAAAAAAAAAAAAAAAAAAAAAAAAAAAAAAAAAAAAAAAAAAAAAAAAAAAAAAAAAAAAAAAAAAAAAAAAAAAAAAAAAAAAAAAAAAAAAAAAAAAAAAAAAAAAAAAAAAAAAAAAAAAAAAAAAAAAAAAAAAAAAAAAAAAAAAAAAAAAAAAAAAAAAAAAAAAAAAAAAAAAA=",
           "dtype": "i1"
          },
          "coloraxis": "coloraxis",
          "symbol": "circle"
         },
         "mode": "markers",
         "name": "",
         "showlegend": false,
         "type": "scattergl",
         "x": {
          "bdata": "AAAAAAAANUAAAAAAAAA1QAAAAAAAADdAAAAAAAAAO0AAAAAAAAA2QAAAAAAAAD1AAAAAAAAAN0AAAAAAAAA2QAAAAAAAADhAAAAAAAAANkAAAAAAAAA6QAAAAAAAADVAAAAAAAAANkAAAAAAAIBEQAAAAAAAADdAAAAAAAAANkAAAAAAAAA7QAAAAAAAAD1AAAAAAAAAPkAAAAAAAAA3QAAAAAAAADZAAAAAAAAASkAAAAAAAAA2QAAAAAAAADZAAAAAAAAANUAAAAAAAAA0QAAAAAAAADVAAAAAAAAAN0AAAAAAAAAzQAAAAAAAADdAAAAAAAAAPUAAAAAAAAA/QAAAAAAAADhAAAAAAACAQ0AAAAAAAAA2QAAAAAAAADVAAAAAAAAANkAAAAAAAAA1QAAAAAAAADdAAAAAAAAANUAAAAAAAAA1QAAAAAAAADdAAAAAAAAANUAAAAAAAAA1QAAAAAAAADVAAAAAAAAANUAAAAAAAAA1QAAAAAAAADVAAAAAAAAANEAAAAAAAAA1QAAAAAAAADVAAAAAAAAANEAAAAAAAAA3QAAAAAAAADdAAAAAAAAANkAAAAAAAAA3QAAAAAAAADZAAAAAAAAANUAAAAAAAAAxQAAAAAAAADRAAAAAAAAANUAAAAAAAAA0QAAAAAAAADZAAAAAAAAANkAAAAAAAAA1QAAAAAAAADVAAAAAAAAAN0AAAAAAAAA3QAAAAAAAAD5AAAAAAAAAN0AAAAAAAAA3QAAAAAAAADZAAAAAAAAAOEAAAAAAAAAzQAAAAAAAADhAAAAAAAAAN0AAAAAAAAA4QAAAAAAAADhAAAAAAAAAN0AAAAAAAAA3QAAAAAAAADNAAAAAAAAAPkAAAAAAAAA3QAAAAAAAADNAAAAAAAAAOUAAAAAAAAA3QAAAAAAAADVAAAAAAAAAM0AAAAAAAAA2QAAAAAAAAD1AAAAAAAAAOUAAAAAAAAA0QAAAAAAAgEtAAAAAAAAANEAAAAAAAAA4QAAAAAAAADpAAAAAAAAAN0AAAAAAAAA1QAAAAAAAADVAAAAAAAAAN0AAAAAAAAA1QAAAAAAAADZAAAAAAAAANUAAAAAAAAA2QAAAAAAAAENAAAAAAAAAOUAAAAAAAAA5QAAAAAAAADZAAAAAAAAANkAAAAAAAAA1QAAAAAAAADVAAAAAAAAANkAAAAAAAAAyQAAAAAAAADZAAAAAAAAAM0AAAAAAAAAxQAAAAAAAAC5AAAAAAAAAMUAAAAAAAAA3QAAAAAAAADNAAAAAAAAAN0AAAAAAAAA3QAAAAAAAADVAAAAAAAAAOEAAAAAAAAA3QAAAAAAAADJAAAAAAAAAM0AAAAAAAAAzQAAAAAAAADRAAAAAAAAAO0AAAAAAAAA0QAAAAAAAADdAAAAAAAAAM0AAAAAAAIBOQAAAAAAAAD5AAAAAAAAAOEAAAAAAAAA5QAAAAAAAAEZAAAAAAAAAP0AAAAAAAAA5QAAAAAAAADdAAAAAAAAAOUAAAAAAAAA3QAAAAAAAAEFAAAAAAAAANkAAAAAAAAA1QAAAAAAAADhAAAAAAAAAQkAAAAAAAAA7QAAAAAAAAEBAAAAAAAAAOUAAAAAAAAA+QAAAAAAAAENAAAAAAAAAQUAAAAAAAAA2QAAAAAAAAD9AAAAAAACAQUAAAAAAAAA1QAAAAAAAAERAAAAAAAAAO0AAAAAAAAA0QAAAAAAAgEtAAAAAAAAANUAAAAAAAAA5QAAAAAAAgEFAAAAAAAAAPkAAAAAAAAA9QAAAAAAAADRAAAAAAAAANkAAAAAAAIBGQAAAAAAAADZAAAAAAAAAMkAAAAAAAAA3QAAAAAAAADJAAAAAAAAANUAAAAAAAABDQAAAAAAAADJAAAAAAAAANkAAAAAAAAA6QAAAAAAAADVAAAAAAAAAMkAAAAAAAAA3QAAAAAAAADZAAAAAAAAAN0AAAAAAAAA1QAAAAAAAAD9AAAAAAACAQ0AAAAAAAAA5QAAAAAAAgEFAAAAAAACAQEAAAAAAAAA0QAAAAAAAADpAAAAAAAAANEAAAAAAAAA0QAAAAAAAADdAAAAAAAAAM0AAAAAAAAA2QAAAAAAAgERAAAAAAAAAMkAAAAAAAAA3QAAAAAAAADdAAAAAAACAREAAAAAAAAA6QAAAAAAAAD1AAAAAAAAAO0AAAAAAAAA3QAAAAAAAADNAAAAAAAAAPkAAAAAAAAA2QAAAAAAAADZAAAAAAAAANEAAAAAAAAA1QAAAAAAAADhAAAAAAAAANUAAAAAAAAA1QAAAAAAAADVAAAAAAAAAN0AAAAAAAAA1QAAAAAAAADVAAAAAAAAANUAAAAAAAAA1QAAAAAAAADdAAAAAAAAANUAAAAAAAAA2QAAAAAAAADdAAAAAAAAAOUAAAAAAAAA0QAAAAAAAADhAAAAAAAAAREAAAAAAAABAQAAAAAAAADRAAAAAAAAANUAAAAAAAIBJQAAAAAAAAEFAAAAAAAAAM0AAAAAAAAAzQAAAAAAAADVAAAAAAAAAM0AAAAAAAAA0QAAAAAAAADNAAAAAAAAAMUAAAAAAAAA2QAAAAAAAADRAAAAAAACAQEAAAAAAAAA1QAAAAAAAADRAAAAAAAAANEAAAAAAAAA0QAAAAAAAADVAAAAAAAAANUAAAAAAAAA0QAAAAAAAADRAAAAAAAAATEAAAAAAAAA6QAAAAAAAADZAAAAAAAAAM0AAAAAAAAAyQAAAAAAAADNAAAAAAAAAMkAAAAAAAAAyQAAAAAAAADVAAAAAAAAAPEAAAAAAAAAyQAAAAAAAADdAAAAAAAAAMkAAAAAAAAAyQAAAAAAAgENAAAAAAAAAQ0AAAAAAAAAxQAAAAAAAADdAAAAAAAAAN0AAAAAAAAAzQAAAAAAAADJAAAAAAAAAOUAAAAAAAAA5QAAAAAAAADJAAAAAAAAAMEAAAAAAAAA1QAAAAAAAAEBAAAAAAAAAMkAAAAAAAAA1QAAAAAAAADJAAAAAAAAAMkAAAAAAAAAxQAAAAAAAADRAAAAAAAAANUAAAAAAAAA1QAAAAAAAADJAAAAAAAAAMUAAAAAAAAAzQAAAAAAAADBAAAAAAAAAMUAAAAAAAAA1QAAAAAAAADNAAAAAAAAAMkAAAAAAAAAwQAAAAAAAADVAAAAAAAAAOkAAAAAAAAAyQAAAAAAAADdAAAAAAAAAOkAAAAAAAAAyQAAAAAAAADBAAAAAAAAAMEAAAAAAAAA0QAAAAAAAADdAAAAAAAAAOEAAAAAAAAA3QAAAAAAAADRAAAAAAAAAMEAAAAAAAAAxQAAAAAAAADFAAAAAAAAAMEAAAAAAAAAxQAAAAAAAADpAAAAAAAAAOkAAAAAAAABDQAAAAAAAADJAAAAAAAAAOUAAAAAAAAA7QAAAAAAAADVAAAAAAAAAQ0AAAAAAAAA3QAAAAAAAADJAAAAAAAAAPkAAAAAAAAA1QAAAAAAAADJAAAAAAAAAN0AAAAAAAAAzQAAAAAAAADNAAAAAAAAAMUAAAAAAAAAxQAAAAAAAADtAAAAAAAAAN0AAAAAAAAAyQAAAAAAAADNAAAAAAAAANEAAAAAAAAAyQAAAAAAAADFAAAAAAAAAM0AAAAAAAAA1QAAAAAAAADRAAAAAAAAAN0AAAAAAAAA3QAAAAAAAADJAAAAAAAAAMUAAAAAAAAA1QAAAAAAAADFAAAAAAAAAMkAAAAAAAAA0QAAAAAAAADFAAAAAAAAAOkAAAAAAAAAxQAAAAAAAADhAAAAAAAAAMUAAAAAAAAA7QAAAAAAAADFAAAAAAAAAMUAAAAAAAIBEQAAAAAAAgEBAAAAAAAAANEAAAAAAAABEQAAAAAAAgEJAAAAAAAAAM0AAAAAAAAA4QAAAAAAAADhAAAAAAACAQEAAAAAAAABEQAAAAAAAgEJAAAAAAAAANEAAAAAAAAAzQAAAAAAAADFAAAAAAAAAMkAAAAAAAAA1QAAAAAAAADJAAAAAAACAREAAAAAAAABCQAAAAAAAADJAAAAAAAAAMkAAAAAAAAAxQAAAAAAAADlAAAAAAAAANUAAAAAAAAA9QAAAAAAAADFAAAAAAAAAMkAAAAAAAAAwQAAAAAAAADJAAAAAAACAQkAAAAAAAAAyQAAAAAAAADBAAAAAAAAAN0AAAAAAAAAyQAAAAAAAADJAAAAAAAAAMkAAAAAAAAAxQAAAAAAAADRAAAAAAAAAQ0AAAAAAAAA0QAAAAAAAADVAAAAAAAAANUAAAAAAAAAyQAAAAAAAADpAAAAAAAAAO0AAAAAAAAA6QAAAAAAAAEFAAAAAAAAAMkAAAAAAAIBAQAAAAAAAADNAAAAAAAAANEAAAAAAAIBAQAAAAAAAADRAAAAAAAAANEAAAAAAAIBAQAAAAAAAgEBAAAAAAACAQEAAAAAAAAAsQAAAAAAAAEFAAAAAAAAAMkAAAAAAAAAyQAAAAAAAAD1AAAAAAAAAMkAAAAAAAAAyQAAAAAAAADNAAAAAAACAQEAAAAAAAIBAQAAAAAAAADNAAAAAAAAANkAAAAAAAAA0QAAAAAAAADdAAAAAAAAAOkAAAAAAAAAyQAAAAAAAADJAAAAAAAAAM0AAAAAAAAAyQAAAAAAAADNAAAAAAAAAM0AAAAAAAAAyQAAAAAAAADJAAAAAAAAAM0AAAAAAAAAzQAAAAAAAADJAAAAAAAAAMkAAAAAAAAA6QAAAAAAAADJAAAAAAAAAM0AAAAAAAAAzQAAAAAAAADNAAAAAAAAAM0AAAAAAAAA4QAAAAAAAADJAAAAAAAAAM0AAAAAAAAAzQAAAAAAAADdAAAAAAAAAMkAAAAAAAAA0QAAAAAAAADJAAAAAAACAQEAAAAAAAAAzQAAAAAAAADNAAAAAAAAAM0AAAAAAAAAyQAAAAAAAADVAAAAAAAAAO0AAAAAAAAAxQAAAAAAAADJAAAAAAAAAMkAAAAAAAAA2QAAAAAAAADZAAAAAAAAANEAAAAAAAAAzQAAAAAAAADRAAAAAAAAAMkAAAAAAAAAyQAAAAAAAADJAAAAAAAAAM0AAAAAAAAAyQAAAAAAAADJAAAAAAAAAMkAAAAAAAAAzQAAAAAAAADFAAAAAAAAAMkAAAAAAAAAyQAAAAAAAADRAAAAAAAAAMkAAAAAAAABCQAAAAAAAADVAAAAAAAAAN0AAAAAAAAA0QAAAAAAAADVAAAAAAAAAM0AAAAAAAAA4QAAAAAAAADlAAAAAAACARkAAAAAAAAA0QAAAAAAAADJAAAAAAAAAM0AAAAAAAAAyQAAAAAAAADRAcQSpFDsyOUCoqzsW24AyQAAAAAAAADpAeXk6V5TaNUC8eapDbuY1QIp2FVJ+TjJAAAAAAAAAOkAAAAAAAAA6QGg/UkSG2TVA7byNzY7MM0A7/aAuUjAxQDqTNlX3SDZAAAAAAAAANkCRYRVvZAY1QMWNW8zPCTZAtkjajT4+NUBk521sdiQ2QPLR4oxh9jVAi4nNx7V9NUBjZMkcy7c2QBgnvtpRgDdAPujZrPqIMkAAAAAAAAAzQAAAAAAAADNAVrjlIylBNEAAAAAAAAA1QDOmYI2zOTRASYCaWrbeM0CjyFpDqSU0QAAAAAAAADVAObaeIRz/NUA1XU90XWA1QF7WxAJfuTNAAAAAAAAAN0DxngPLEdo2QAAAAAAAADdAtOOG3003MkCd19glqs81QGVtUzwuKjJAWtk+5C3fMkAiqBq9GsQyQOZXc4BgijJA4bTgRV/hM0C1FmahnbczQPP/qiNHojNAAAAAAAAAN0DZsKayKGg0QAAAAAAAADdAzXSvk/oOM0DGh9nLttMyQNdqD3uhUDNAFZFhFW/4PUBrJ0pCIjFAQLMLBtfcKThA2/y/6sgJMUCfH0YIj04wQLOarie6MjBAAAAAAAAAMkAAAAAAAAAyQAAAAAAAADJArG9gcqN8MUDLv5ZXruszQCvaHOc2bTJA6uqOxTYVMUDU1ohgHAAxQPq5oSk7RTBALQq7KHroMUDvqDEh5h4xQI+oUN1cVDNAE/QXesRgNkDVJk7ud/Q0QF99PPTd/TZA4pLjTulMM0DNr+YAwRAxQD49tmXAFTNAHjUmxFwGMkCNQ/0ubNUzQGTnbWx2xDFACWzOwTOBM0ABamrZWvMzQAAAAAAAADNAAAAAAAAAMUAAAAAAAAAxQPs6cM6IhjJAjpWYZyXtNkCC4VzDDMk1QAAAAAAAADdAiBOYTutmMUAAAAAAAAAyQPphhPBoezJAnWhXIeWHMkCJB5RNufIzQKyql99pZjRAG7yvyoWOM0Bq2VpfJLQxQF5lbVM8RjJAAAAAAAAAMkCtpYC0/zUxQLovZ7YreDFAAAAAAAAAMkAAAAAAAAAyQAAAAAAAADJAOQ8nMJ0CM0DUnpJzYhczQBDmdi/3xTNAaMpOP6h7M0AAAAAAAAAzQObMdoU+aDNAAAAAAAAAMkDDuvHuyGwyQAAAAAAAADJANEsC1NT6M0CgNqrTgcw1QGXG20qvNTZAE9cxrrgEN0CrsBnggmAzQNBiKZKv+DRAy9qmeFxYNEDJqgg3GYU0QH0E/vDzZzRATkS/tn56NUAcs+xJYF8yQC/Df7qB7jNAizidZKv/NkB3gv3XuQEyQOvDeqNWZkFA3NRA8zl/MEAAAAAAAAAyQMpOP6iLYDFAlnuBWaGcMECTjnIwmxQxQOqymNh8+DZAfCjRksfDMUDKxRhYx0UzQAAAAAAAADNAmpSCbi8RMUAAAAAAAAA3QAAAAAAAADJA7bjhd9MNM0AAAAAAAAAyQMVwdQDEfTFAAAAAAAAAMkBvS+SCMyw0QIWWdf9YODNAAAAAAAAAMkCRYRVvZPYzQLIsmPijlDFAhssqbAYgNUCXjGMkewg2QAzJycStvjRAjSrDuBuMNkDHLebnhtY1QJY/3xYsCTdAGTp2UImHNUDcR25Nukk1QBcSMLq8cTdACwvuBzxUNkBuNIC3QOoyQAAAAAAAADNASiandoYNM0Dv/nivWpkzQAAAAAAAADVAuqP/5VqsM0C3e7lPjj40QKipZWt9jTRAAAAAAAAANUBxxjAnaP81QN6QRgVORjVA+rSK/tDoMkCyu0BJgWU2QDB/hcyVFTNAi2zn+6kVNUBGC9C2mhEyQP7uHTUm0DVAaXIxBtYJMkA9YB4y5d8yQIOG/gkuNjNAbXL4pBP9MkDCGJEotGgzQBwHXi13qjNAwAMDCB/CM0CY3v5cNGw2QJPheD4DPjRAnfaUnBOjNkCMSBRa1gEzQC+Lic3HSTJA++k/a35QM0A9Sbpm8iU7QI1D/S5sYTlAKh4X1SLeNkAkmdU73LoxQJFGBU621TBApI6Oq5GFMUAAAAAAAAAyQAAAAAAAADJApb4s7dQgMkCSek/ltGcxQKabxCCwujNA9x+ZDp2GMkAtCrsoepgyQH3qWKX0nDBAs9E5P8XtMED1EI3uIMIxQBWRYRVvSDFAP+QtVz/+M0DCvp1EhO82QB0c7E0MvTRAdbD+z2H+NkDn/X+cMFEzQA3BcRk36TBADCJS0y4SM0DV6qurAgUyQAznGmZovDNAij20jxUYMkDCTrFqEA4zQE61Fmah2TRAyt3n+GhZM0AAAAAAAAAxQDMZjuczNDFA4IWt2cqrMUD0GOWZl081QKT9D7BWtTVAY/GbwkotNkCdSDDVzNIxQAAAAAAAADJA0CozpfVHMkCWWYRiK6gyQDp3u16a/jNAl1XYDHBBNEAZxXJLq90zQOp1i8BY4zFAiL1QwHZ4MkDOixNf7ewxQBZod0gxADFA5e5zfLRcMUAAAAAAAAAyQAAAAAAAADJAAAAAAAAAMkCgbTXrjAczQFcKgVziRDNARgn6Cz3yM0BvDAHAsaMzQAAAAAAAADNA4UbKFklvM0AAAAAAAAAyQHdIMUCiYTJAAAAAAAAAMkDCo40j1rI6QNKowMk2IDVA1QeSdw4xOUAuGjIepfY1QAAAAAAAADVAUKkSZW8dM0BMiLmkaulEQGTnbWx2JDVA8tHijGH2NUB8J2a9GNYyQKweMA+ZkjdANNqqJLLZQEBqTfOOU9g1QAAAAAAAADVAXvHUIw2QQUClv5fCg2JCQKhy2lNy3jVAmrM+5ZiMNkAAAAAAAAA1QAAAAAAAADVAMUW5NH71PkChgVg2cwQ1QMuisIuinzNA0ZSdflCjM0CFQC5x5Gk1QOPhPQeWBzVAv/BKkueqNkAAAAAAAAA0QJ3X2CWqzzVAAAAAAAAANUCmJsEb0iAyQAAAAAAAADVAza/mAMEUPUC86ZYd4ls6QLUWZqGdtzZA+n/VkSPRM0AMBWwHIwY4QJOnrKbrS0BAAAAAAAAAN0Azi1BsBfEwQDp4JjRJLDBA5nRZTGy2N0C1wYno15hBQPPLYIxILDdAnyEcs+ybQkAVArnEkRMzQJ8fRgiPTjBAPGwiMxdMMkAZrDjVWpwyQFa3ek56czFAntFWJZG9PUD7sN6oFYo/QBLAzeLFBjJAmfBL/bx5M0AAAAAAAAAzQAAAAAAAADJA+rmhKTtFMkBZFHZR9NAzQBXj/E0oZDxAJH7FGi7COkAQzTy5pgg1QKhtwygIbjZAcLIN3IGmOkAA4q5eRZ41QJHT1/M1AzVAg6Pk1TkSNUDUug1qv70zQCyC/61kNzNAF9nO91MfRUAWFtwPeEg2QCi2gqYlFjVAgQncuptzN0DhC5Opgr02QDogCft25jJA5zbhXpkrN0BgIAiQoX9AQEbPLXQlQEBAknh5OlfwNUCemWA41+g1QAAAAAAAADVAFYvfFFa6QkAAAAAAAABEQOdz7na9eENA/P84YcL8NUDggmxZvjI1QAAAAAAAADVAAAAAAAAANUAAAAAAAAA1QAAAAAAAADVAAAAAAAAANUDgSnZsBFI9QGJITiZuQT9App2ayw3aNkAAAAAAAAA6QPIGmPkOyjNAFD3wMVjlM0CA1ZEjnbEzQH+g3LbvOTNAtoDQevimNUDf+UUJ+q81QL6JITmZdDVAAAAAAAAANUAAAAAAAAA1QCKKyRtgVjNAo3cq4J6zNUDtgVZgyJ41QITx07g3AzVAhVypZ0EENUAAAAAAAAAzQAAAAAAAADVAAAAAAAAANUDNdoU+WOY7QDLohNBB0zxA0GT/PA0MOkAAAAAAAAA3QAAAAAAAADRARbsKKT/VNUDyJVRweEE+QJFI2/gTnT5AQS0GD9M+N0AAAAAAAAAyQAAAAAAAADJAduEH51PzMEDs2t5uSdY1QAAAAAAAADtADag3o+a9QUBJ1uHoKs03QOGyCpsBXjdAAAAAAAAAREBhiQeUTWEwQPnbniCx3TBAEeD0Lt4XMEAAAAAAAAAyQFch5SfV1jJAE9OFWP25M0Do+dNGdfIyQPAw7Zv7xzFAq8yU1t+MQEAZ529CIaBAQBGrP8Iw/DJAkdPX8zXfMkCIDoEjgXozQMlWl1MCbjNAKXrgY7D6NEAjSRCugN4yQMECmDJwPDJA5NcPscHmNEDn+6nx0hUxQNobfGEyyTlATWpoA7DJOkBkJHuEmgk1QEPiHksfAjVAQN6rVia0OkBDHyxjQ7s1QJUnEHaKDTVAAAAAAAAANUBtcCL6tT0zQHQlAtU/eENAtJHrppT7Q0A7AU2EDUM0QKsEi8OZTzRACcIVUKhrNUDoLR7ec9gyQN3vUBTojzdA2jujrUoeN0AiqYWSyd1AQOWYLO4/kjVAYhHDDmMqNUAAAAAAAAA1QAAAAAAAADVALZW3I5xYQ0A0vFmD93lDQHZu2ozTUEJA+fTYlgH/NUD1Y5P8iPM1QBrfF5eqBDZAAAAAAAAANUAAAAAAAAA1QAAAAAAAADVAs0EmGTnvPUDnbWx2pCo/QNE+VvDbiDRA1NSytb74M0CNl24Sg6AzQNpTck7s7TVAUl+WdmoCNUC94xQdyYk1QJzc71AU1DZAHXV0XI3QNkAfMXpuoZMzQJqWWBmN0DVAd6IkJNL6NUAAAAAAAAA1QJ7vp8ZLBzVAPBOaJJa4MkAAAAAAAAA1QAAAAAAAADVAwY2ULZJ2PUDm54am7Eg4QEWcTrLVSTpAexUZHZB0N0DA6V28H6MzQElnYORlPTZAVd6OcFqgP0AAAAAAAAA3QE0vMZbp3zZAy4XKv5ZrMUAIy9jQzc4xQNczhGOWPTBAcqWeBaFAN0CqgeZz7mJBQOxP4nMnxDZAX0TbMXWbQ0CiJY+n5dszQMU56ui4XjBA6C6JsyL+MUD+gAcGEC4zQAn+t5IdnzNAOGqF6XvBM0A+0AoMWRkxQNIdxM4UQjFAH6D7cmYnPUAib7n6sSNAQJgVinQ/yz9A6kDWU6sDMkCPwvUoXK8zQNwNorWigTNAAAAAAAAAM0AAAAAAAAAyQGHij6LOADJAsoF0sWkNMkChvI+jOcYzQOT2yycrLjVA4Qz+fjHLNUD0NjY7UuE0QAKCOXr8LjVAfZI7bCJjQEAR4PQu3lM/QCiAYmTJ9D1ABoVBmUZnNUA2lNqLaJc2QAeynlp9lTxAbQIMy59pQ0CASSpTzJtBQKpIhbGFZDRAoKcBg6QnNkCF7/0N2hszQIUIOIQqtTRAqfdUTnuiNEDGa17VWQ02QMHHYMWp3jZAI59XPPXoNkAAAAAAAAA3QIWX4NQHrjhAE7u2t1viN0DAAwMIH3Y5QGB4JclzVT9AKLfte9QbOEBhbvdyn9Q8QDHPSlrxkTFATDj0Fg8HM0AMdO0L6KE5QGHgufdw8TZAUkZcABpJN0AAAAAAAAA3QEUSvYxiMTlA0UGXcOgxQUBT6pJxjJg6QOxRuB6Fn0tAZyjueJNFQUDT9xqC4841QHbexmZHHjJAjZjZ5zEYRUAAAAAAAAA2QGMOgo5WxTxA/oFy2757OUBqTfOOU6w1QLA6cqQzeDdAAAAAAAAAN0AAAAAAAAA3QOffLvt1O0NA4QuTqYK/QkA9tmXAWdhAQADl795RL0FAS1tc4zNtP0BnDd5X5SRBQP7UeOkm3TJAYMlVLH7zMkCh98YQAKwzQMh+FkuRaklA16TbErn4MUAAAAAAAAAyQNpxw++mszJAEHhgAOExQUBY5NcPsS0xQEOtad5xikBAYqJBCp6iQEDvGvSltydCQAAAAAAAADRAXTY656eMMkCdE3toHx9BQKfLYmLzUTdAK/uuCP6zM0CkiXeAJzkzQN7/xwkTsj1AAAAAAAAAO0CKV1nbFAc1QE6AYfnzgUBAAAAAAAAAMkAGhNbDl40+QAAAAAAAgEBA8iVUcHjpOECkwW1t4XE4QF6c+GpH6TNAOIWVCioaQUDJc30fDiRBQMZun1VmYjdAh6bs9IOeRUAAAAAAAIBGQLgHISBfFjZA0Jz1KcdgNUBBnl2+9WU/QLUbfcwHfD9AAKq4cYu1NUDr/rEQHbY+QMnH7gIlaUFADag3o+bXNEDrOlRTknEzQCEdHsL4fTRAowIn28DxNkAAAAAAAAA3QOFiRQ2mEThAxF29ioy6N0CLUGwFTTc9QJKVXwZjwDhAWkqWk1D6PEB9JCU9DHExQM6N6QlLIDNAb9kh/mEfOEAAAAAAAAA3QDaPw2D+0jxAcLN4sTAaQUAvTRHg9Co8QLHeqBWmkUtADw9h/DR8QUC0lCwnofw0QD4HliNkMENAYygn2lUwNkCztikeFxU1QC4fSUkPSzlAAAAAAAAAN0CQL6GCw5VDQHREvkupBUFA+1sC8E+XQEBccXFUbtIzQNUD5iFTJjNAI59XPPU+R0Ds+3CQEOUxQJjdk4eF4jJADXBBtiwxQ0APmIdM+aw2QP5F0JhJhkBA2ILeG0OaQkC8Wu7MBAczQEOOrWcIv0JAPuqvV1ioOEBHxmrz/wIyQITwaOOIWTtAAAAAAAAAMkDzqzlAMIFAQAAAAAAAADJANUBpqFEUPkCTb7a5MQk5QMsTCDvFMjJAQSjv42i6QUDFxVG5ic43QDM2dLM/skNAlDE+zF5iNUBhinJp/Lo2QJQT7SqkNDVAuYlamltVNUAP0765v2RAQFT83xEVTkBAe/SG+8gFPkCV1t8SgB81QJATJoxm/TZA/67PnPVROEC9UwH3PKNCQKSoM/eQDEFAzxJkBFQANUBLH7qgvvU1QMuFyr+WyzNAR+NQvwsXM0D11sBWCdI0QKvrUE1JFjZAKQmJtI0vNkBDyHn/H/s2QAAAAAAAADdA7e9sj94wOEBGQlvOpfA3QNxlv+50lzpAG5sdqb5DP0Ds+3CQEKE3QIgvE0VINTpAchQgCmawMUAao3VUNSkzQCKrWz0ndTlAM1GE1O38NkDVPbK5apo3QLvSMlLv4TZAJo+n5QeWN0Abf6KyYTdBQOkrSDMWeTlAmS1ZFeGCS0DWql0T0lJBQPonuFhR/zVA3Lkw0osuMkDPhCaJJd9EQAR1yqMbeTVA0/TZAdfBO0DO4sXCEB05QCfChqdX0jVAAG+BBMWrNEDTM73EWKY2QL5p+uyAJzdAn+V5cHcMQ0Annx7bMtJCQFSM8zehFkFArtSzIJQdQUA1fuGVJPc/QEOSWb3Dl0BACjAsf769MkBrRga5i/QzQCJTPgRVrzNAUdobfGHaR0BS0Vj7O/8xQO61oPfG+DFAWWyTisZuNECRnEzcKvpAQK2lgLT/CTFAuwm+afqIQEBhTzv8NX9BQGvwvioX3EFABcWPMXcBM0AlXMgjuNkyQIBHVKhuij9AbF9AL9xVN0DXMhmO578zQNEEiljEkDNAuk4jLZVbPkAAAAAAAAA7QNB9ObNdYTVAqIx/n3GTQEAAAAAAAAAyQMMRpFLsHkBAuVSlLa6pP0AsLLgf8Fg4QMIYkSi0XDhAHm/yW3R2M0CjeJW1TbdBQGcrL/mf7kBA3PP8aaPON0CLUdfa+8pDQFsk7UYf6UZAOpZ31QPuOUDkS6jg8Ao6QPEsQUZAjT5A+u3rwDnhQ0DJAiZw62I/QManABjPtDlAqiheZW3NRUCVn1T7dChFQOI/3UCBpzZA4GdcOBCuNkBCP1OvWxQ4QIULeQQ3MjVAGJRpNLmYNkAAAAAAAAA3QIf6XdiarUJApg7yejDBNkBR9pZyvkA3QF4T0hqDBjZAYTWWsDYWMkAPXyaKkP45QDMWTWcnaURAAAAAAAAAN0D+RdCYSfpCQLbY7bPKUD9A+3jou1upNkAHDJI+rShEQKvQQCybXTdA/5WVJqW4NUANi1HX2rFBQL76eOi7DzZAAAAAAAAAN0AAAAAAAAA3QH8V4LvNeURA4xx1dFyRQ0Al6C/0iEU6QAjm6PF7xzdAs3ixMESWNEA5ZAPpYqs1QAAAAAAAADdAH73hPnLTNECR71Lqki0yQAAAAAAAADJAIEWduYdEMkAAAAAAAAA3QAAAAAAAADdAXCBB8WP8NEAZWMfxQ4E1QAAAAAAAADJAAAAAAAAAMkA1JsRcUnEzQIpz1NFx3TZA4Lw48dXyNUBnKsQj8TY1QDbmdcQhRzZAMh6lEp7qQkA10HzO3dBCQD/G3LWErDFAxAq3fCTDQkDQfTmzXcFFQAAAAAAAADJAAAAAAAAAMkDUY1sGnIE9QAAAAAAAADJAKuW1Erq7OEAAAAAAAAA9QAAAAAAAADJABd1e0hgZNUCX4qqy7xYzQJWaPdAKUDJAW2CPiZRCMkCskV1pGQE6QKrTgayn/jlA29styQFdQkCIuDmVDCZDQJ/nTxvVKT5AAaWhRiHFPECWP98WLCtFQLNEZ5lFpEdAB5eOOc+ENkB8J2a9GNY2QAAAAAAAADdAz2VqErz5NkCXb31Yb7g2QITx07g34zdAAAAAAAAAN0AAAAAAAAA3QCmWW1oNE0NA5EnSNZP7QkB/MzFdiMU2QIkjD0QWlTZAObNdoQ8CNUDwFd16TZc2QEEPtW0YITBAc77Ye/HpMEDVz5uKVHA9QJ7uPPGc4T1A4iGMn8bLRUB4CU59IH9EQNzZVx6k7zZAAAAAAAAAN0DFxVG5icxCQCKoGr0axEJAyLYMOEuhP0BEFmniHaQ/QIRIhhxb3zVAaqD5nLvVNUCGAraDEQNCQH5yFCAK1ENAIlM+BFUvOECARunSvzw3QBfTTPc6qUFAym/RyVJjP0AAAAAAAAA3QAAAAAAAADdA6iKFsvCtNkCTAaCKG3s2QG8MAcCxs0RA4sluZvRZREDnU8cqpWM9QC2Y+KOo9z5AaOif4GJ5N0AN+z2xTlE4QCSAm8WLDTFAzR5oBYYMMkD+tFGdDuA2QD0NGCR94jZABkZe1sS6MkBhM8AF2QI1QE5Ev7Z+mjJAaYtrfCYbNUAAAAAAAAA3QDVh+8kY+zVA4/xNKEQENUC1w1+TNbo1QAAAAAAAADJAAAAAAAAAMkAL7ZxmgW4zQHO8AtGTKjJA2V92Tx5aNkBLWBtjJ3g2QNBGrptShjNANs07TtF9NEDj/46oUJtDQF/SGK2jDENAGvz9YrYIM0ByameY2hIxQAuXVdgMRkNAu5nRj4ZXQ0AAAAAAAAAyQAAAAAAAADJAZ9E7FXCfPUDrHAOy18s+QAAAAAAAADJAyqmdYWobMkBYHqSnyFU/QAAAAAAAAD1Aa7kzEwwDMkAAAAAAAAAyQD4mUprNEzVAZd6q61ANNUA9t9CVCBQyQEGd8uhGEDJArYTukjhrNEDQfw9eu5Q0QP3dO2pMCDpAtd/aiZL0OUDiyW5m9AM6QDgvTny16zlAEfxvJTuiPUA1C7Q7pHJAQBYvFobIX0NA1As+zcnXQ0BPPGcLCJ1AQIf+CS5WODpA0JuKVBgXN0CvsyH/zJA4QFORCmMLS0VA9fOmIhXcRUCcFrzoK7BFQF1vm6kQ00NAo8haQ6mxNkAgJuFCHq02QG07bY0IzjZAQKa1aWzbNkAa3xeXqhg3QJiiXBq/0DZATP28qUgFNUBMUS6NXwA1QPCFyVTB4DZAPYBFfv3YNkAAAAAAAAA3QAAAAAAAADdAZVWEm4yQQ0BrDDohdLhCQLbaw14o+DZARdWvdD68NkAlr84xIFM3QGA/xAYLqzdAUp0OZD3lNUBq3nGKjmQ1QNczhGOWLTJAgqlm1lLoMkAd6KG2DQM6QCTyXUpdsjlAjln2JLA7RECe8BKc+jhDQPj6WpcaeThAVd0jm6t6N0BeL00R4DJDQAXB49u7/EJAkKFjB5XIP0DQgHozaq49QPNzQ1N2ljVA1h72QgG/NUCHpYEf1chDQImYEkn0VkJAQgjIl1DtNkBCIm3jT1Q3QM6qz9VWIDZAGNF2TN2tNUB5ru/DQVZCQPvOL0rQ90JAAz4/jBA6NkCTxJJy94k2QIFdTZ6yTjZAeXjPgeVcNkAu51JcVeY2QCOe7GZG/zZA61T5npFyQ0AuH0lJD2VEQOjB3Vm7U0RA6WSp9X5FQ0CV8e8zLvQ5QEURUrez0zpAox8Np8zNN0AJxOv6Bac3QEX11sBWrTRADTm2niHMNUCjO4idKbg2QIAnLVxWLTZAl6yKcJMZN0BLAtTUsi04QEQUkzfA7DRAbcfUXdn5NEA3iNaKNts1QBrh7UEIJDJAAAAAAAAAMkAAAAAAAAAyQJpEveDTNDRA4les4SInMkBWZHRAElY2QAAAAAAAADdAVB7dCIsWNkAAAAAAAAA3QKG8j6M5/jRAl/26052nNEDCps6j4p81QH8SnzvBrjVAAAAAAAAAMkAAAAAAAAAyQAAAAAAAADJAAAAAAAAAMkAs76oHzF8zQK/uWGyTRjNAVFc+y/P0NkDSHFn5ZdQ2QD25pkBmMzZAj26ERUWwNUDlmgKZnc00QArYDkbsgzNA/5YA/FP2NUBCJ4QOuog0QHZsBOJ1pUNAn62Dg73vQkD+Cpkrg85CQCKKyRtgvEJAz2kWaHecMkCVYdwNomkxQDGUE+0qkENAd4cUAySIQkAuILQevqhEQJ2f4jjw3EVAAAAAAAAAMkAAAAAAAAAyQAAAAAAAADJAAAAAAAAAMkBNFYxK6mg9QE0vMZbpazxAAAAAAAAAMkAAAAAAAAAyQJjbvdwnPzdAWFTE6SR7OEAAAAAAAAA9QGuCqPsA+DtAsMVun1UGMkAIjzaOWBsyQHsTQ3IyYTVAtrxyvW1aNUDtZHCUvFY0QN44Kcx7uDRACaUvhJwLM0CdSgaAKvIyQNOHLqhv4TJAjnbc8LvZM0ATQ3IycTM+QG2umueIUDlANQcI5uiXQkBJ9Z1flFpAQOtztRX7jztA2h8ot+1rPkCVLCeh9PE6QCAqjZjZEUFAFCUhkbY5OkA6kzZV91w8QDAQBMjQ/TtA6NhBJa5/OUC7uI0G8Jo+QOfDswQZdT9AXOZ0WUzUOEDC+dSxSr04QAAAAAAAgERAIhrdQezUO0AO95Fbk0I3QLluSnmttDZAz7pGy4EKOEDaN/dXjwM0QMy0/SsrBT5Auk4jLZUnOUCh15/E594+QCY2H9eGtjxAwXKEDOS1PkC2D3nL1dM9QGaDTDJy3j9Alj50QX1FQkAVxausbY41QLfSa7Ox9jdAt0WZDTIlOEBcIEHxY0w5QNTS3AphwT9AYqHWNO+gPkCaIsDpXXQ3QL1yvW2mbjdA65Cb4QZARECbkqzD0UlBQH4BvXDnRjZAWU+tvrr2NUDN5JttbgA4QJMBoIobBzRAVkYjn1e0PEDRV5BmLMY6QEga3NYWijlAYf91btpMOUARct7/xzE/QHcU56ijZURAEHUfgNTGQEBYWHA/4E0+QG3mkNRC9T5AMISc9/9tPUCk/Q+wVoU+QBJNoIhFnD5Ab57qkJu9OkC5+xwfLa46QM+hDFUxh0JAWRMLfEXTPEBq39xfPeI5QDXR56OMfDlAZK4Mqg3iPUCMLQQ5KPU6QJDBilOtfTpA2/gTlQ2PO0BsBU1LrOg2QHQn2H+dMzhA76mc9pSwP0CTG0XWGj4+QPfHe9XKWD9AFJM3wMyTPkDAPjp15R85QFSNXg1QgjlAhNbDl4l6OUCm0k84uxk5QDJXBtUGQ0NAesISDyhbQ0AXKZSFr7c5QAslk1M7IUBAqtTsgVZ4N0D4cMlxp2g4QKzEPCtpcThAwf2ABwboNkDJHMu76gE4QGghAaPLrz5A6bZELjgvNEBzgjY5fHI5QMKk+PiEAD5AG70aoDQwPkCNRj6veD44QBx4tdyZhThArOP4odK4PUAHX5hMFeg9QH9Ma9PYikJAFva0w1+LQ0CyD7IsmKg2QATo9/2b4zZAinYVUn6iOEAtexLYnOs4QBQi4BCqyD9AeSEdHsKgP0Bmv+505/k2QEWEfxE0+jZAueNNfot8REAAAAAAAIBEQMfVyK60uDVA7+cU5GeLNUC69ZoeFAA4QApoImx4CjhAx7lNuFeCPUDFBDV8Cz89QBnjw+xlVzlA/pyC/GxQOUC3RgTj4C5EQJCjObLy30BAS+fDswRvQEBslWBxOGc+QHdkrDb/rz1AqiwKuyj+PEBKfVnaqXk+QIi5pGq7WT5ABOPg0jGvOkAcCp+tg5s6QCfZ6nJKlkBAvk1/9iMlQEA6PITx0ww6QKVKlL2l2DlAwmnBi76ePUDSHFn5ZXA7QMzxCkRPfjxAoUrNHmh5O0DP29jsSAk5QA4viEhN0zhAcv27PnN+PkDM0HgiiJs+QFHc8Sa/MT9AvhOzXgxdP0Borz4e+gY5QFSobi7+DjlAIGEYsORqOEAwuycPC5U4QCTRyyiWDURA9yAE5EsWREBiga/o1i87QKxvYHKjbD5AyJbl6zIkN0Cm0k84uy04QIzWUdUE1TZAQkKUL2gVN0DgoL36eBQ4QE6bcRqi8jpAswsG19wZNEChZd0/Fso2QO25TE2CZzxAEi7kEdwAPkBcdoh/2CI5QGjnNAu0IzlA+ROVDWu+P0AsDJHT18s+QKeyKOyiZDxAcSAkC5jwO0AkDtlAugg/QJ8dcF0xrz5AaOc0C7QbPkBHdTqQ9Vg/QCEgX0IFwz9Ad2ouNxj6PkBEwYwpWMtCQJoklpS7/0JAumsJ+aCnNUAFwk6xatQ2QD/IsmDiAzlAMlpHVRPQN0CgMv59xvk3QDntKTknJjhAeouH9xwQOUAYBcHj2yM5QB+EgHwJuT5AQDTz5JrqPkBZFeEmowI/QMXnTrD/mj5AklhS7j6fOEAPR1fp7r43QJNzYg/tUzdAdAtdiUBpN0Bs66f/rOlDQGe610l9a0JAndmu0AflQEA6ArhZvBRBQO9v0F59lDZAAVEwYwraNkByo8haQ0E3QDzbozfcVzZAyenr+ZoBOEDS4oxhTgA4QOZ1xCEbKDRAFoVdFD1cN0DrGi0Hevw8QGKFWz6Stj1A9pmzPuVkO0ArpWd6iek4QH9Ma9PYhjlAk6espuuFOUBX7gVmhdI5QB++TBQh4TlARuuoaoJcPkA2zqYjgHM+QFuVRPZBSERAhNcubThARECemWA411A+QEomp3aGpUBAtfl/1ZGjPkA51VqYhco9QG/VdaimND9AG/FkNzPmPkCg3LbvUas9QHlzuFZ7mD5AD7iumBGOPkAvMgG/RpI/QF/rUiP0kz5AyXTo9Ly3PkBosn+eBrw6QG6JXHAGszpAJA7ZQLqoOUD752nAIFk6QJDBilOt0UJAEOZ2L/fhQkDP+L64VEE8QKhy2lNy7jtAiqvKvit+OUB0QBL27Yw5QJqV7UPeijlA71NVaCDCOUBhONcwQ/s9QFtEFJM35D1AIOup1VfHOkD2QgHbwWA8QPFneLMGMzpAllmEYitEO0D3ArNCkaI7QNUgzO1e5jpAurpjsU3CNkDsLlBSYMU2QGAgCJCh0zdAuCBblq8vOED4pumzA/I+QA4uHXOefT9AqfsApDaRP0BlxttKr3E+QEZe1sQCMz9A7BNAMbIwP0BLyXISSpM+QK6CGOjasz5Aayi1F9EOOUC4V+atuiY5QO60NSIYIzlA3NeBc0ZUOUC05VyKq6o5QLNeDOVEAzlAuAGfH0YMOUB4JjRJLG05QI7LuKmBmkJA9Zz0vvENQ0DMme0KfVJDQGTnbWx2DkNA6lil9EzTOEDshJfg1J86QJIDdjV53EBA7DL8pxtCQECDGVOwxuE3QC+ob5nTUTdAqUvGMZLpN0DtEP+wpfs4QOWzPA/ugjhAvYxiuaUNOEBEM0+uKeg2QFxzR//LJTdA3jgpzHsAOEAsYW2MnQA4QEloy7kUtz5AI/jfSnakPkD4/3HChBE0QAiT4uMT6jRAcvvlkxWDOUCzRGeZRdg6QHAk0GBT6zlAAAAAAAAAOkBvRs1XyTsyQKd0sP7PJTJAAAAAAAAAOkAAAAAAAAA6QJ28yAT85jlAEY3uIHaKOUBcWg2Je2Q2QAwiUtMuTjVAAAAAAAAAOkAAAAAAAAA6QG+70FynVTVAHxFTIon6NkDQ1VbsLwM1QH+l8+FZDjVA7C5QUmDFMkCimSfXFEQ4QAAAAAAAADpAAAAAAAAAOkCr56T3jfc5QAAAAAAAADpAuCIxQQ2XNEDV6UDWU384QDpcqz3s/TlALqwb747oOUANjLysiS0yQK+zIf/MHDJAAAAAAAAAOkAAAAAAAAA6QJ28yAT85jlAEY3uIHaKOUBGelG7X4U0QPLPDOID3zRAAAAAAAAAOkAAAAAAAAA6QIgNFk7SxDVAp60RwTjkNEA1sistI/E0QII4Dycw/TRAweYcPBNeMkC/mC1ZFQ01QAAAAAAAADpAAAAAAAAAOkD+R6ZDp/85QAAAAAAAADpAnb0z2qrYNkD0iTxJuuIzQLn7HB8t7jlAttsuNNflOUAAAAAAAAA6QF6gpMAC+DlA44kgzsNVMkDHvI44ZLM1QMMuih74ODJAqmBUUidgNEAAAAAAAAA6QAAAAAAAADpAAAAAAAAAOkAAAAAAAAA6QPAUcqWe8TlARUjdzr5KOUAAqyNHOqc5QKJ6a2CryDlAd4TTghctM0AucHmsGTU1QF2JQPUPojVAIywq4nQCNUAAAAAAAAA6QAAAAAAAADpAAAAAAAAAOkAZrDjVWvQ5QBebVgqBADVApU3VPbLFNUB7iEZ3EMM3QJ57D5ccczhAxD9s6dFgMkBYHqSnyLkzQD48S5ARWDVAxCPx8nRSNUCoAYOkT0MzQNrhr8kakTVAhq+vdal5OEDyCkRPypw5QAAAAAAAADpAAAAAAAAAOkAAAAAAAAA6QAAAAAAAADpAq1s9J733OUBREaeTbP05QAAAAAAAADpATDWzlgKeOUDuJvim6Qc1QLa/sz168zRAONpxw+/6NkAt6/6xEG03QF2nkZbK/zlAA7UYPEzvOUCiJY+n5VM0QI1/n3HheDNAAAAAAAAAOkAAAAAAAAA6QJT7HYoC0TlAQNmUK7x/OUAQXVDfMiMzQJpEveDTMDRAAAAAAAAAOkAAAAAAAAA6QGhAvRk11zVAnwCKkSXfNEBnt5bJcIA1QN2ZCYZzhTVA74y2KolQMkDTLxFvnYczQAAAAAAAADpAAAAAAAAAOkAAAAAAAAA6QAAAAAAAADpABVPNrKXENUDY17rUCD01QLn7HB8t7jlAm1lLAWnrOUBTl4xjJOs5QAeXjjnPkDlAIlUUr7K+MkAfhlYnZ7Q1QGGnWDUIFzRADFpIwOgeMkAAAAAAAAA6QAAAAAAAADpARs7Cnnb8OUD4+e/Ba/s5QBDn4QSmvzlA1J0nnrP1OUAAqyNHOqc5QKJ6a2CryDlAK8JNRpVpNUCs4o3MI8c2QDkLe9rhIzVAH/ZCAdtpNUAAAAAAAAA6QAAAAAAAADpAAAAAAAAAOkAAAAAAAAA6QFKazeMwZDVADfs9sU4NNUBMxca8jnQ3QODzwwjhsTdAvqJbr+mZNEByFva0w880QENznUZa/jNATDj0Fg8TNEC7XwX4bucyQIId/wWCyDNAg24vaYxKOECSlzWxwE85QAAAAAAAADpAAAAAAAAAOkAAAAAAAAA6QAAAAAAAADpABHRfzmz3OUDx1CMNbvM5QAAAAAAAADpAAAAAAAAAOkC8H7dfPtk0QCY6yyxCzTRA68n8o2+2N0CQEOULWhA4QDAS2nIu9TlA/YSzW8voOUDx12SNevQ5QAmocASp6DlA/MdCdAhMM0DZ0M3+QE0yQGZMwRpn3zNAF7zoK0gjMkAAAAAAAAA6QAAAAAAAADpAAAAAAAAAOkAAAAAAAAA6QAWLw5lfbTlAUDQPYJHLOUByw++mW345QI8dVOI6hjlAahg+IqboNECEnWLVIMg0QI0kQbgCSjVAfjhIiPI1NUAAAAAAAAA6QAAAAAAAADpAAAAAAAAAOkAAAAAAAAA6QHODoQ4rqDVAjPSidr/CNUCZ8bbSawc1QD6w479ASDVA2T7kLVdjNEBlxttKrwU1QHJPV3csGjRAInL6er5KNUDNPSR874c0QBA9KZMa+jJALj2a6snsNECOI9biU0g1QAAAAAAAADpAAAAAAAAAOkAAAAAAAAA6QAAAAAAAADpAdQMF3sn/OUCX5esy/P85QAAAAAAAADpAAAAAAAAAOkD7srRTc103QHbfMTz2azdA5usy/KfTMkBG09nJ4PAyQFRx4xbz6zlAfTz03a3wOUB95xcl6P85QMU6Vb5n6DlAzv3V4779OUA/5C1XP/45QAuallgZ/TlAlQ9B1ej5OUATu7a3W74yQCeG5GTiUjRAQBaiQ+BkNUAPfAxWnNY1QE3bv7LSNDJAYHXkSGeIMkD3Ax4YQHA0QK/qrBbYyzRAAAAAAAAAOkAAAAAAAAA6QAAAAAAAADpAAAAAAAAAOkAAAAAAAAA6QIlDNpAu/jlAAAAAAAAAOkAAAAAAAAA6QKZkOQml8zlA4iL3dHX7OUAIzEOmfHg5QPSLEvQXSjlA7KAS1zGyOUA/q8yU1o85QHxGIjSC1TlASRCugELlOUDVJHhDGgkzQIdPOpFgojJAIo0KnGyzNEB+4ZUkz700QEyMZfolsjVAGQKAY8+iNUC9HkyKjzs1QKinj8AfAjVARbde04P2OUAAAAAAAAA6QAAAAAAAADpAAAAAAAAAOkAAAAAAAAA6QAAAAAAAADpAwJKrWPz2OUAaMEj6tP45QGywcJLm8zRAJA9EFmn6NEAUIuAQqqw1QMgG0sWmkTVAC+9yEd+lN0B9A5MbRTI4QFLSw9DqSDhAkZighm+xOEClhGBVvdwyQNZx/FBpbDJAOfHVjuJkNEDPvYdLjjc0QNPbn4uGVDVAVK2FWWiHM0BIqBlSRV0zQN6SHLCrITVAvAhTlEsDM0DvAiUFFngyQHCVJxB2kjVA5UF6ihyuNUCLGeHtQXg4QNTUsrW+IDlAKNL9nIL8OUCSek/ltPM5QAAAAAAAADpAAAAAAAAAOkAAAAAAAAA6QAAAAAAAADpAAAAAAAAAOkAAAAAAAAA6QAAAAAAAADpAAAAAAAAAOkDDDfj8MPo5QN44Kcx79DlAYmafxyj/OUBCQL6ECv45QNC3BUt1+TlApYP1fw7HOUDIlA9B1bg5QOLmVDIAxDlAZvhPN1AENUCg3oyar641QPfMkgA1STVA91s7URL6NEBm3T8Wovs1QDntKTknhjZAvD5z1qdcOEBbW3heKqo3QA==",
          "dtype": "f8"
         },
         "xaxis": "x",
         "y": {
          "bdata": "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",
          "dtype": "f8"
         },
         "yaxis": "y"
        }
       ],
       "layout": {
        "coloraxis": {
         "colorbar": {
          "title": {
           "text": "Gender"
          }
         },
         "colorscale": [
          [
           0,
           "#0d0887"
          ],
          [
           0.1111111111111111,
           "#46039f"
          ],
          [
           0.2222222222222222,
           "#7201a8"
          ],
          [
           0.3333333333333333,
           "#9c179e"
          ],
          [
           0.4444444444444444,
           "#bd3786"
          ],
          [
           0.5555555555555556,
           "#d8576b"
          ],
          [
           0.6666666666666666,
           "#ed7953"
          ],
          [
           0.7777777777777778,
           "#fb9f3a"
          ],
          [
           0.8888888888888888,
           "#fdca26"
          ],
          [
           1,
           "#f0f921"
          ]
         ]
        },
        "height": 400,
        "legend": {
         "tracegroupgap": 0
        },
        "margin": {
         "t": 60
        },
        "template": {
         "data": {
          "bar": [
           {
            "error_x": {
             "color": "#f2f5fa"
            },
            "error_y": {
             "color": "#f2f5fa"
            },
            "marker": {
             "line": {
              "color": "rgb(17,17,17)",
              "width": 0.5
             },
             "pattern": {
              "fillmode": "overlay",
              "size": 10,
              "solidity": 0.2
             }
            },
            "type": "bar"
           }
          ],
          "barpolar": [
           {
            "marker": {
             "line": {
              "color": "rgb(17,17,17)",
              "width": 0.5
             },
             "pattern": {
              "fillmode": "overlay",
              "size": 10,
              "solidity": 0.2
             }
            },
            "type": "barpolar"
           }
          ],
          "carpet": [
           {
            "aaxis": {
             "endlinecolor": "#A2B1C6",
             "gridcolor": "#506784",
             "linecolor": "#506784",
             "minorgridcolor": "#506784",
             "startlinecolor": "#A2B1C6"
            },
            "baxis": {
             "endlinecolor": "#A2B1C6",
             "gridcolor": "#506784",
             "linecolor": "#506784",
             "minorgridcolor": "#506784",
             "startlinecolor": "#A2B1C6"
            },
            "type": "carpet"
           }
          ],
          "choropleth": [
           {
            "colorbar": {
             "outlinewidth": 0,
             "ticks": ""
            },
            "type": "choropleth"
           }
          ],
          "contour": [
           {
            "colorbar": {
             "outlinewidth": 0,
             "ticks": ""
            },
            "colorscale": [
             [
              0,
              "#0d0887"
             ],
             [
              0.1111111111111111,
              "#46039f"
             ],
             [
              0.2222222222222222,
              "#7201a8"
             ],
             [
              0.3333333333333333,
              "#9c179e"
             ],
             [
              0.4444444444444444,
              "#bd3786"
             ],
             [
              0.5555555555555556,
              "#d8576b"
             ],
             [
              0.6666666666666666,
              "#ed7953"
             ],
             [
              0.7777777777777778,
              "#fb9f3a"
             ],
             [
              0.8888888888888888,
              "#fdca26"
             ],
             [
              1,
              "#f0f921"
             ]
            ],
            "type": "contour"
           }
          ],
          "contourcarpet": [
           {
            "colorbar": {
             "outlinewidth": 0,
             "ticks": ""
            },
            "type": "contourcarpet"
           }
          ],
          "heatmap": [
           {
            "colorbar": {
             "outlinewidth": 0,
             "ticks": ""
            },
            "colorscale": [
             [
              0,
              "#0d0887"
             ],
             [
              0.1111111111111111,
              "#46039f"
             ],
             [
              0.2222222222222222,
              "#7201a8"
             ],
             [
              0.3333333333333333,
              "#9c179e"
             ],
             [
              0.4444444444444444,
              "#bd3786"
             ],
             [
              0.5555555555555556,
              "#d8576b"
             ],
             [
              0.6666666666666666,
              "#ed7953"
             ],
             [
              0.7777777777777778,
              "#fb9f3a"
             ],
             [
              0.8888888888888888,
              "#fdca26"
             ],
             [
              1,
              "#f0f921"
             ]
            ],
            "type": "heatmap"
           }
          ],
          "histogram": [
           {
            "marker": {
             "pattern": {
              "fillmode": "overlay",
              "size": 10,
              "solidity": 0.2
             }
            },
            "type": "histogram"
           }
          ],
          "histogram2d": [
           {
            "colorbar": {
             "outlinewidth": 0,
             "ticks": ""
            },
            "colorscale": [
             [
              0,
              "#0d0887"
             ],
             [
              0.1111111111111111,
              "#46039f"
             ],
             [
              0.2222222222222222,
              "#7201a8"
             ],
             [
              0.3333333333333333,
              "#9c179e"
             ],
             [
              0.4444444444444444,
              "#bd3786"
             ],
             [
              0.5555555555555556,
              "#d8576b"
             ],
             [
              0.6666666666666666,
              "#ed7953"
             ],
             [
              0.7777777777777778,
              "#fb9f3a"
             ],
             [
              0.8888888888888888,
              "#fdca26"
             ],
             [
              1,
              "#f0f921"
             ]
            ],
            "type": "histogram2d"
           }
          ],
          "histogram2dcontour": [
           {
            "colorbar": {
             "outlinewidth": 0,
             "ticks": ""
            },
            "colorscale": [
             [
              0,
              "#0d0887"
             ],
             [
              0.1111111111111111,
              "#46039f"
             ],
             [
              0.2222222222222222,
              "#7201a8"
             ],
             [
              0.3333333333333333,
              "#9c179e"
             ],
             [
              0.4444444444444444,
              "#bd3786"
             ],
             [
              0.5555555555555556,
              "#d8576b"
             ],
             [
              0.6666666666666666,
              "#ed7953"
             ],
             [
              0.7777777777777778,
              "#fb9f3a"
             ],
             [
              0.8888888888888888,
              "#fdca26"
             ],
             [
              1,
              "#f0f921"
             ]
            ],
            "type": "histogram2dcontour"
           }
          ],
          "mesh3d": [
           {
            "colorbar": {
             "outlinewidth": 0,
             "ticks": ""
            },
            "type": "mesh3d"
           }
          ],
          "parcoords": [
           {
            "line": {
             "colorbar": {
              "outlinewidth": 0,
              "ticks": ""
             }
            },
            "type": "parcoords"
           }
          ],
          "pie": [
           {
            "automargin": true,
            "type": "pie"
           }
          ],
          "scatter": [
           {
            "marker": {
             "line": {
              "color": "#283442"
             }
            },
            "type": "scatter"
           }
          ],
          "scatter3d": [
           {
            "line": {
             "colorbar": {
              "outlinewidth": 0,
              "ticks": ""
             }
            },
            "marker": {
             "colorbar": {
              "outlinewidth": 0,
              "ticks": ""
             }
            },
            "type": "scatter3d"
           }
          ],
          "scattercarpet": [
           {
            "marker": {
             "colorbar": {
              "outlinewidth": 0,
              "ticks": ""
             }
            },
            "type": "scattercarpet"
           }
          ],
          "scattergeo": [
           {
            "marker": {
             "colorbar": {
              "outlinewidth": 0,
              "ticks": ""
             }
            },
            "type": "scattergeo"
           }
          ],
          "scattergl": [
           {
            "marker": {
             "line": {
              "color": "#283442"
             }
            },
            "type": "scattergl"
           }
          ],
          "scattermap": [
           {
            "marker": {
             "colorbar": {
              "outlinewidth": 0,
              "ticks": ""
             }
            },
            "type": "scattermap"
           }
          ],
          "scattermapbox": [
           {
            "marker": {
             "colorbar": {
              "outlinewidth": 0,
              "ticks": ""
             }
            },
            "type": "scattermapbox"
           }
          ],
          "scatterpolar": [
           {
            "marker": {
             "colorbar": {
              "outlinewidth": 0,
              "ticks": ""
             }
            },
            "type": "scatterpolar"
           }
          ],
          "scatterpolargl": [
           {
            "marker": {
             "colorbar": {
              "outlinewidth": 0,
              "ticks": ""
             }
            },
            "type": "scatterpolargl"
           }
          ],
          "scatterternary": [
           {
            "marker": {
             "colorbar": {
              "outlinewidth": 0,
              "ticks": ""
             }
            },
            "type": "scatterternary"
           }
          ],
          "surface": [
           {
            "colorbar": {
             "outlinewidth": 0,
             "ticks": ""
            },
            "colorscale": [
             [
              0,
              "#0d0887"
             ],
             [
              0.1111111111111111,
              "#46039f"
             ],
             [
              0.2222222222222222,
              "#7201a8"
             ],
             [
              0.3333333333333333,
              "#9c179e"
             ],
             [
              0.4444444444444444,
              "#bd3786"
             ],
             [
              0.5555555555555556,
              "#d8576b"
             ],
             [
              0.6666666666666666,
              "#ed7953"
             ],
             [
              0.7777777777777778,
              "#fb9f3a"
             ],
             [
              0.8888888888888888,
              "#fdca26"
             ],
             [
              1,
              "#f0f921"
             ]
            ],
            "type": "surface"
           }
          ],
          "table": [
           {
            "cells": {
             "fill": {
              "color": "#506784"
             },
             "line": {
              "color": "rgb(17,17,17)"
             }
            },
            "header": {
             "fill": {
              "color": "#2a3f5f"
             },
             "line": {
              "color": "rgb(17,17,17)"
             }
            },
            "type": "table"
           }
          ]
         },
         "layout": {
          "annotationdefaults": {
           "arrowcolor": "#f2f5fa",
           "arrowhead": 0,
           "arrowwidth": 1
          },
          "autotypenumbers": "strict",
          "coloraxis": {
           "colorbar": {
            "outlinewidth": 0,
            "ticks": ""
           }
          },
          "colorscale": {
           "diverging": [
            [
             0,
             "#8e0152"
            ],
            [
             0.1,
             "#c51b7d"
            ],
            [
             0.2,
             "#de77ae"
            ],
            [
             0.3,
             "#f1b6da"
            ],
            [
             0.4,
             "#fde0ef"
            ],
            [
             0.5,
             "#f7f7f7"
            ],
            [
             0.6,
             "#e6f5d0"
            ],
            [
             0.7,
             "#b8e186"
            ],
            [
             0.8,
             "#7fbc41"
            ],
            [
             0.9,
             "#4d9221"
            ],
            [
             1,
             "#276419"
            ]
           ],
           "sequential": [
            [
             0,
             "#0d0887"
            ],
            [
             0.1111111111111111,
             "#46039f"
            ],
            [
             0.2222222222222222,
             "#7201a8"
            ],
            [
             0.3333333333333333,
             "#9c179e"
            ],
            [
             0.4444444444444444,
             "#bd3786"
            ],
            [
             0.5555555555555556,
             "#d8576b"
            ],
            [
             0.6666666666666666,
             "#ed7953"
            ],
            [
             0.7777777777777778,
             "#fb9f3a"
            ],
            [
             0.8888888888888888,
             "#fdca26"
            ],
            [
             1,
             "#f0f921"
            ]
           ],
           "sequentialminus": [
            [
             0,
             "#0d0887"
            ],
            [
             0.1111111111111111,
             "#46039f"
            ],
            [
             0.2222222222222222,
             "#7201a8"
            ],
            [
             0.3333333333333333,
             "#9c179e"
            ],
            [
             0.4444444444444444,
             "#bd3786"
            ],
            [
             0.5555555555555556,
             "#d8576b"
            ],
            [
             0.6666666666666666,
             "#ed7953"
            ],
            [
             0.7777777777777778,
             "#fb9f3a"
            ],
            [
             0.8888888888888888,
             "#fdca26"
            ],
            [
             1,
             "#f0f921"
            ]
           ]
          },
          "colorway": [
           "#636efa",
           "#EF553B",
           "#00cc96",
           "#ab63fa",
           "#FFA15A",
           "#19d3f3",
           "#FF6692",
           "#B6E880",
           "#FF97FF",
           "#FECB52"
          ],
          "font": {
           "color": "#f2f5fa"
          },
          "geo": {
           "bgcolor": "rgb(17,17,17)",
           "lakecolor": "rgb(17,17,17)",
           "landcolor": "rgb(17,17,17)",
           "showlakes": true,
           "showland": true,
           "subunitcolor": "#506784"
          },
          "hoverlabel": {
           "align": "left"
          },
          "hovermode": "closest",
          "mapbox": {
           "style": "dark"
          },
          "paper_bgcolor": "rgb(17,17,17)",
          "plot_bgcolor": "rgb(17,17,17)",
          "polar": {
           "angularaxis": {
            "gridcolor": "#506784",
            "linecolor": "#506784",
            "ticks": ""
           },
           "bgcolor": "rgb(17,17,17)",
           "radialaxis": {
            "gridcolor": "#506784",
            "linecolor": "#506784",
            "ticks": ""
           }
          },
          "scene": {
           "xaxis": {
            "backgroundcolor": "rgb(17,17,17)",
            "gridcolor": "#506784",
            "gridwidth": 2,
            "linecolor": "#506784",
            "showbackground": true,
            "ticks": "",
            "zerolinecolor": "#C8D4E3"
           },
           "yaxis": {
            "backgroundcolor": "rgb(17,17,17)",
            "gridcolor": "#506784",
            "gridwidth": 2,
            "linecolor": "#506784",
            "showbackground": true,
            "ticks": "",
            "zerolinecolor": "#C8D4E3"
           },
           "zaxis": {
            "backgroundcolor": "rgb(17,17,17)",
            "gridcolor": "#506784",
            "gridwidth": 2,
            "linecolor": "#506784",
            "showbackground": true,
            "ticks": "",
            "zerolinecolor": "#C8D4E3"
           }
          },
          "shapedefaults": {
           "line": {
            "color": "#f2f5fa"
           }
          },
          "sliderdefaults": {
           "bgcolor": "#C8D4E3",
           "bordercolor": "rgb(17,17,17)",
           "borderwidth": 1,
           "tickwidth": 0
          },
          "ternary": {
           "aaxis": {
            "gridcolor": "#506784",
            "linecolor": "#506784",
            "ticks": ""
           },
           "baxis": {
            "gridcolor": "#506784",
            "linecolor": "#506784",
            "ticks": ""
           },
           "bgcolor": "rgb(17,17,17)",
           "caxis": {
            "gridcolor": "#506784",
            "linecolor": "#506784",
            "ticks": ""
           }
          },
          "title": {
           "x": 0.05
          },
          "updatemenudefaults": {
           "bgcolor": "#506784",
           "borderwidth": 0
          },
          "xaxis": {
           "automargin": true,
           "gridcolor": "#283442",
           "linecolor": "#506784",
           "ticks": "",
           "title": {
            "standoff": 15
           },
           "zerolinecolor": "#283442",
           "zerolinewidth": 2
          },
          "yaxis": {
           "automargin": true,
           "gridcolor": "#283442",
           "linecolor": "#506784",
           "ticks": "",
           "title": {
            "standoff": 15
           },
           "zerolinecolor": "#283442",
           "zerolinewidth": 2
          }
         }
        },
        "title": {
         "text": "Distribution of gender over Age and Weight"
        },
        "width": 800,
        "xaxis": {
         "anchor": "y",
         "domain": [
          0,
          1
         ],
         "title": {
          "text": "Age"
         }
        },
        "yaxis": {
         "anchor": "x",
         "domain": [
          0,
          1
         ],
         "title": {
          "text": "Weight"
         }
        }
       }
      }
     },
     "metadata": {},
     "output_type": "display_data"
    }
   ],
   "source": [
    "import plotly.express as px\n",
    "fig = px.scatter(data_encoded,x=\"Age\",y=\"Weight\",color=\"Gender\")\n",
    "fig.update_layout(\n",
    "    title=\"Distribution of gender over Age and Weight\",\n",
    "    xaxis_title=\"Age\",\n",
    "    yaxis_title=\"Weight\",\n",
    "    template=\"plotly_dark\",\n",
    "    height=400,\n",
    "    width=800\n",
    ")\n",
    "fig.show()\n",
    "\n"
   ]
  },
  {
   "cell_type": "code",
   "execution_count": 7,
   "metadata": {},
   "outputs": [
    {
     "data": {
      "application/vnd.plotly.v1+json": {
       "config": {
        "plotlyServerURL": "https://plot.ly"
       },
       "data": [
        {
         "hovertemplate": "Count=%{x}<br>Gender=%{y}<extra></extra>",
         "legendgroup": "",
         "marker": {
          "color": "#636efa",
          "pattern": {
           "shape": ""
          }
         },
         "name": "",
         "orientation": "h",
         "showlegend": false,
         "textposition": "auto",
         "type": "bar",
         "x": {
          "bdata": "LAQTBA==",
          "dtype": "i2"
         },
         "xaxis": "x",
         "y": {
          "bdata": "AQA=",
          "dtype": "i1"
         },
         "yaxis": "y"
        }
       ],
       "layout": {
        "bargap": 0.5,
        "barmode": "relative",
        "height": 300,
        "legend": {
         "tracegroupgap": 0
        },
        "margin": {
         "t": 60
        },
        "template": {
         "data": {
          "bar": [
           {
            "error_x": {
             "color": "#f2f5fa"
            },
            "error_y": {
             "color": "#f2f5fa"
            },
            "marker": {
             "line": {
              "color": "rgb(17,17,17)",
              "width": 0.5
             },
             "pattern": {
              "fillmode": "overlay",
              "size": 10,
              "solidity": 0.2
             }
            },
            "type": "bar"
           }
          ],
          "barpolar": [
           {
            "marker": {
             "line": {
              "color": "rgb(17,17,17)",
              "width": 0.5
             },
             "pattern": {
              "fillmode": "overlay",
              "size": 10,
              "solidity": 0.2
             }
            },
            "type": "barpolar"
           }
          ],
          "carpet": [
           {
            "aaxis": {
             "endlinecolor": "#A2B1C6",
             "gridcolor": "#506784",
             "linecolor": "#506784",
             "minorgridcolor": "#506784",
             "startlinecolor": "#A2B1C6"
            },
            "baxis": {
             "endlinecolor": "#A2B1C6",
             "gridcolor": "#506784",
             "linecolor": "#506784",
             "minorgridcolor": "#506784",
             "startlinecolor": "#A2B1C6"
            },
            "type": "carpet"
           }
          ],
          "choropleth": [
           {
            "colorbar": {
             "outlinewidth": 0,
             "ticks": ""
            },
            "type": "choropleth"
           }
          ],
          "contour": [
           {
            "colorbar": {
             "outlinewidth": 0,
             "ticks": ""
            },
            "colorscale": [
             [
              0,
              "#0d0887"
             ],
             [
              0.1111111111111111,
              "#46039f"
             ],
             [
              0.2222222222222222,
              "#7201a8"
             ],
             [
              0.3333333333333333,
              "#9c179e"
             ],
             [
              0.4444444444444444,
              "#bd3786"
             ],
             [
              0.5555555555555556,
              "#d8576b"
             ],
             [
              0.6666666666666666,
              "#ed7953"
             ],
             [
              0.7777777777777778,
              "#fb9f3a"
             ],
             [
              0.8888888888888888,
              "#fdca26"
             ],
             [
              1,
              "#f0f921"
             ]
            ],
            "type": "contour"
           }
          ],
          "contourcarpet": [
           {
            "colorbar": {
             "outlinewidth": 0,
             "ticks": ""
            },
            "type": "contourcarpet"
           }
          ],
          "heatmap": [
           {
            "colorbar": {
             "outlinewidth": 0,
             "ticks": ""
            },
            "colorscale": [
             [
              0,
              "#0d0887"
             ],
             [
              0.1111111111111111,
              "#46039f"
             ],
             [
              0.2222222222222222,
              "#7201a8"
             ],
             [
              0.3333333333333333,
              "#9c179e"
             ],
             [
              0.4444444444444444,
              "#bd3786"
             ],
             [
              0.5555555555555556,
              "#d8576b"
             ],
             [
              0.6666666666666666,
              "#ed7953"
             ],
             [
              0.7777777777777778,
              "#fb9f3a"
             ],
             [
              0.8888888888888888,
              "#fdca26"
             ],
             [
              1,
              "#f0f921"
             ]
            ],
            "type": "heatmap"
           }
          ],
          "histogram": [
           {
            "marker": {
             "pattern": {
              "fillmode": "overlay",
              "size": 10,
              "solidity": 0.2
             }
            },
            "type": "histogram"
           }
          ],
          "histogram2d": [
           {
            "colorbar": {
             "outlinewidth": 0,
             "ticks": ""
            },
            "colorscale": [
             [
              0,
              "#0d0887"
             ],
             [
              0.1111111111111111,
              "#46039f"
             ],
             [
              0.2222222222222222,
              "#7201a8"
             ],
             [
              0.3333333333333333,
              "#9c179e"
             ],
             [
              0.4444444444444444,
              "#bd3786"
             ],
             [
              0.5555555555555556,
              "#d8576b"
             ],
             [
              0.6666666666666666,
              "#ed7953"
             ],
             [
              0.7777777777777778,
              "#fb9f3a"
             ],
             [
              0.8888888888888888,
              "#fdca26"
             ],
             [
              1,
              "#f0f921"
             ]
            ],
            "type": "histogram2d"
           }
          ],
          "histogram2dcontour": [
           {
            "colorbar": {
             "outlinewidth": 0,
             "ticks": ""
            },
            "colorscale": [
             [
              0,
              "#0d0887"
             ],
             [
              0.1111111111111111,
              "#46039f"
             ],
             [
              0.2222222222222222,
              "#7201a8"
             ],
             [
              0.3333333333333333,
              "#9c179e"
             ],
             [
              0.4444444444444444,
              "#bd3786"
             ],
             [
              0.5555555555555556,
              "#d8576b"
             ],
             [
              0.6666666666666666,
              "#ed7953"
             ],
             [
              0.7777777777777778,
              "#fb9f3a"
             ],
             [
              0.8888888888888888,
              "#fdca26"
             ],
             [
              1,
              "#f0f921"
             ]
            ],
            "type": "histogram2dcontour"
           }
          ],
          "mesh3d": [
           {
            "colorbar": {
             "outlinewidth": 0,
             "ticks": ""
            },
            "type": "mesh3d"
           }
          ],
          "parcoords": [
           {
            "line": {
             "colorbar": {
              "outlinewidth": 0,
              "ticks": ""
             }
            },
            "type": "parcoords"
           }
          ],
          "pie": [
           {
            "automargin": true,
            "type": "pie"
           }
          ],
          "scatter": [
           {
            "marker": {
             "line": {
              "color": "#283442"
             }
            },
            "type": "scatter"
           }
          ],
          "scatter3d": [
           {
            "line": {
             "colorbar": {
              "outlinewidth": 0,
              "ticks": ""
             }
            },
            "marker": {
             "colorbar": {
              "outlinewidth": 0,
              "ticks": ""
             }
            },
            "type": "scatter3d"
           }
          ],
          "scattercarpet": [
           {
            "marker": {
             "colorbar": {
              "outlinewidth": 0,
              "ticks": ""
             }
            },
            "type": "scattercarpet"
           }
          ],
          "scattergeo": [
           {
            "marker": {
             "colorbar": {
              "outlinewidth": 0,
              "ticks": ""
             }
            },
            "type": "scattergeo"
           }
          ],
          "scattergl": [
           {
            "marker": {
             "line": {
              "color": "#283442"
             }
            },
            "type": "scattergl"
           }
          ],
          "scattermap": [
           {
            "marker": {
             "colorbar": {
              "outlinewidth": 0,
              "ticks": ""
             }
            },
            "type": "scattermap"
           }
          ],
          "scattermapbox": [
           {
            "marker": {
             "colorbar": {
              "outlinewidth": 0,
              "ticks": ""
             }
            },
            "type": "scattermapbox"
           }
          ],
          "scatterpolar": [
           {
            "marker": {
             "colorbar": {
              "outlinewidth": 0,
              "ticks": ""
             }
            },
            "type": "scatterpolar"
           }
          ],
          "scatterpolargl": [
           {
            "marker": {
             "colorbar": {
              "outlinewidth": 0,
              "ticks": ""
             }
            },
            "type": "scatterpolargl"
           }
          ],
          "scatterternary": [
           {
            "marker": {
             "colorbar": {
              "outlinewidth": 0,
              "ticks": ""
             }
            },
            "type": "scatterternary"
           }
          ],
          "surface": [
           {
            "colorbar": {
             "outlinewidth": 0,
             "ticks": ""
            },
            "colorscale": [
             [
              0,
              "#0d0887"
             ],
             [
              0.1111111111111111,
              "#46039f"
             ],
             [
              0.2222222222222222,
              "#7201a8"
             ],
             [
              0.3333333333333333,
              "#9c179e"
             ],
             [
              0.4444444444444444,
              "#bd3786"
             ],
             [
              0.5555555555555556,
              "#d8576b"
             ],
             [
              0.6666666666666666,
              "#ed7953"
             ],
             [
              0.7777777777777778,
              "#fb9f3a"
             ],
             [
              0.8888888888888888,
              "#fdca26"
             ],
             [
              1,
              "#f0f921"
             ]
            ],
            "type": "surface"
           }
          ],
          "table": [
           {
            "cells": {
             "fill": {
              "color": "#506784"
             },
             "line": {
              "color": "rgb(17,17,17)"
             }
            },
            "header": {
             "fill": {
              "color": "#2a3f5f"
             },
             "line": {
              "color": "rgb(17,17,17)"
             }
            },
            "type": "table"
           }
          ]
         },
         "layout": {
          "annotationdefaults": {
           "arrowcolor": "#f2f5fa",
           "arrowhead": 0,
           "arrowwidth": 1
          },
          "autotypenumbers": "strict",
          "coloraxis": {
           "colorbar": {
            "outlinewidth": 0,
            "ticks": ""
           }
          },
          "colorscale": {
           "diverging": [
            [
             0,
             "#8e0152"
            ],
            [
             0.1,
             "#c51b7d"
            ],
            [
             0.2,
             "#de77ae"
            ],
            [
             0.3,
             "#f1b6da"
            ],
            [
             0.4,
             "#fde0ef"
            ],
            [
             0.5,
             "#f7f7f7"
            ],
            [
             0.6,
             "#e6f5d0"
            ],
            [
             0.7,
             "#b8e186"
            ],
            [
             0.8,
             "#7fbc41"
            ],
            [
             0.9,
             "#4d9221"
            ],
            [
             1,
             "#276419"
            ]
           ],
           "sequential": [
            [
             0,
             "#0d0887"
            ],
            [
             0.1111111111111111,
             "#46039f"
            ],
            [
             0.2222222222222222,
             "#7201a8"
            ],
            [
             0.3333333333333333,
             "#9c179e"
            ],
            [
             0.4444444444444444,
             "#bd3786"
            ],
            [
             0.5555555555555556,
             "#d8576b"
            ],
            [
             0.6666666666666666,
             "#ed7953"
            ],
            [
             0.7777777777777778,
             "#fb9f3a"
            ],
            [
             0.8888888888888888,
             "#fdca26"
            ],
            [
             1,
             "#f0f921"
            ]
           ],
           "sequentialminus": [
            [
             0,
             "#0d0887"
            ],
            [
             0.1111111111111111,
             "#46039f"
            ],
            [
             0.2222222222222222,
             "#7201a8"
            ],
            [
             0.3333333333333333,
             "#9c179e"
            ],
            [
             0.4444444444444444,
             "#bd3786"
            ],
            [
             0.5555555555555556,
             "#d8576b"
            ],
            [
             0.6666666666666666,
             "#ed7953"
            ],
            [
             0.7777777777777778,
             "#fb9f3a"
            ],
            [
             0.8888888888888888,
             "#fdca26"
            ],
            [
             1,
             "#f0f921"
            ]
           ]
          },
          "colorway": [
           "#636efa",
           "#EF553B",
           "#00cc96",
           "#ab63fa",
           "#FFA15A",
           "#19d3f3",
           "#FF6692",
           "#B6E880",
           "#FF97FF",
           "#FECB52"
          ],
          "font": {
           "color": "#f2f5fa"
          },
          "geo": {
           "bgcolor": "rgb(17,17,17)",
           "lakecolor": "rgb(17,17,17)",
           "landcolor": "rgb(17,17,17)",
           "showlakes": true,
           "showland": true,
           "subunitcolor": "#506784"
          },
          "hoverlabel": {
           "align": "left"
          },
          "hovermode": "closest",
          "mapbox": {
           "style": "dark"
          },
          "paper_bgcolor": "rgb(17,17,17)",
          "plot_bgcolor": "rgb(17,17,17)",
          "polar": {
           "angularaxis": {
            "gridcolor": "#506784",
            "linecolor": "#506784",
            "ticks": ""
           },
           "bgcolor": "rgb(17,17,17)",
           "radialaxis": {
            "gridcolor": "#506784",
            "linecolor": "#506784",
            "ticks": ""
           }
          },
          "scene": {
           "xaxis": {
            "backgroundcolor": "rgb(17,17,17)",
            "gridcolor": "#506784",
            "gridwidth": 2,
            "linecolor": "#506784",
            "showbackground": true,
            "ticks": "",
            "zerolinecolor": "#C8D4E3"
           },
           "yaxis": {
            "backgroundcolor": "rgb(17,17,17)",
            "gridcolor": "#506784",
            "gridwidth": 2,
            "linecolor": "#506784",
            "showbackground": true,
            "ticks": "",
            "zerolinecolor": "#C8D4E3"
           },
           "zaxis": {
            "backgroundcolor": "rgb(17,17,17)",
            "gridcolor": "#506784",
            "gridwidth": 2,
            "linecolor": "#506784",
            "showbackground": true,
            "ticks": "",
            "zerolinecolor": "#C8D4E3"
           }
          },
          "shapedefaults": {
           "line": {
            "color": "#f2f5fa"
           }
          },
          "sliderdefaults": {
           "bgcolor": "#C8D4E3",
           "bordercolor": "rgb(17,17,17)",
           "borderwidth": 1,
           "tickwidth": 0
          },
          "ternary": {
           "aaxis": {
            "gridcolor": "#506784",
            "linecolor": "#506784",
            "ticks": ""
           },
           "baxis": {
            "gridcolor": "#506784",
            "linecolor": "#506784",
            "ticks": ""
           },
           "bgcolor": "rgb(17,17,17)",
           "caxis": {
            "gridcolor": "#506784",
            "linecolor": "#506784",
            "ticks": ""
           }
          },
          "title": {
           "x": 0.05
          },
          "updatemenudefaults": {
           "bgcolor": "#506784",
           "borderwidth": 0
          },
          "xaxis": {
           "automargin": true,
           "gridcolor": "#283442",
           "linecolor": "#506784",
           "ticks": "",
           "title": {
            "standoff": 15
           },
           "zerolinecolor": "#283442",
           "zerolinewidth": 2
          },
          "yaxis": {
           "automargin": true,
           "gridcolor": "#283442",
           "linecolor": "#506784",
           "ticks": "",
           "title": {
            "standoff": 15
           },
           "zerolinecolor": "#283442",
           "zerolinewidth": 2
          }
         }
        },
        "width": 800,
        "xaxis": {
         "anchor": "y",
         "domain": [
          0,
          1
         ],
         "title": {
          "text": "Count"
         }
        },
        "yaxis": {
         "anchor": "x",
         "domain": [
          0,
          1
         ],
         "title": {
          "text": "Gender"
         }
        }
       }
      }
     },
     "metadata": {},
     "output_type": "display_data"
    }
   ],
   "source": [
    "\n",
    "\n",
    "\n",
    "gender_counts = data_encoded[\"Gender\"].value_counts().reset_index()\n",
    "gender_counts.columns = [\"Gender\", \"Count\"]\n",
    "\n",
    "\n",
    "fig = px.bar(\n",
    "    gender_counts,\n",
    "    x=\"Count\",\n",
    "    y=\"Gender\",\n",
    "    orientation=\"h\",\n",
    "    template=\"plotly_dark\",\n",
    "    width=800,\n",
    ")\n",
    "fig.update_layout(\n",
    "    height=300,     \n",
    "    bargap=0.5    \n",
    ")\n",
    "fig.show()\n"
   ]
  },
  {
   "cell_type": "code",
   "execution_count": 8,
   "metadata": {},
   "outputs": [
    {
     "data": {
      "text/plain": [
       "<Axes: ylabel='Height'>"
      ]
     },
     "execution_count": 8,
     "metadata": {},
     "output_type": "execute_result"
    },
    {
     "data": {
      "image/png": "[encoded data removed]",
      "text/plain": [
       "<Figure size 640x480 with 1 Axes>"
      ]
     },
     "metadata": {},
     "output_type": "display_data"
    }
   ],
   "source": [
    "sns.boxplot(data_encoded[\"Height\"])"
   ]
  },
  {
   "cell_type": "code",
   "execution_count": 9,
   "metadata": {},
   "outputs": [
    {
     "data": {
      "text/plain": [
       "<Axes: ylabel='Weight'>"
      ]
     },
     "execution_count": 9,
     "metadata": {},
     "output_type": "execute_result"
    },
    {
     "data": {
      "image/png": "[encoded data removed]",
      "text/plain": [
       "<Figure size 640x480 with 1 Axes>"
      ]
     },
     "metadata": {},
     "output_type": "display_data"
    }
   ],
   "source": [
    "sns.boxplot(data_encoded[\"Weight\"])"
   ]
  },
  {
   "cell_type": "code",
   "execution_count": 10,
   "metadata": {},
   "outputs": [
    {
     "data": {
      "text/plain": [
       "<seaborn.axisgrid.FacetGrid at 0x28cb0494d70>"
      ]
     },
     "execution_count": 10,
     "metadata": {},
     "output_type": "execute_result"
    },
    {
     "data": {
      "image/png": "[encoded data removed]",
      "text/plain": [
       "<Figure size 500x500 with 1 Axes>"
      ]
     },
     "metadata": {},
     "output_type": "display_data"
    }
   ],
   "source": [
    "sns.displot(data_encoded[\"Age\"],kde=True)"
   ]
  },
  {
   "cell_type": "code",
   "execution_count": 11,
   "metadata": {},
   "outputs": [
    {
     "data": {
      "text/plain": [
       "<seaborn.axisgrid.FacetGrid at 0x28cb0b539d0>"
      ]
     },
     "execution_count": 11,
     "metadata": {},
     "output_type": "execute_result"
    },
    {
     "data": {
      "image/png": "[encoded data removed]",
      "text/plain": [
       "<Figure size 500x500 with 1 Axes>"
      ]
     },
     "metadata": {},
     "output_type": "display_data"
    }
   ],
   "source": [
    "\n",
    "sns.displot(data_encoded[\"Weight\"],kde=True)"
   ]
  },
  {
   "cell_type": "code",
   "execution_count": 12,
   "metadata": {},
   "outputs": [
    {
     "data": {
      "application/vnd.microsoft.datawrangler.viewer.v0+json": {
       "columns": [
        {
         "name": "index",
         "rawType": "int64",
         "type": "integer"
        },
        {
         "name": "Age",
         "rawType": "float64",
         "type": "float"
        },
        {
         "name": "Height",
         "rawType": "float64",
         "type": "float"
        },
        {
         "name": "Weight",
         "rawType": "float64",
         "type": "float"
        },
        {
         "name": "FCVC",
         "rawType": "float64",
         "type": "float"
        },
        {
         "name": "NCP",
         "rawType": "float64",
         "type": "float"
        },
        {
         "name": "CH2O",
         "rawType": "float64",
         "type": "float"
        },
        {
         "name": "FAF",
         "rawType": "float64",
         "type": "float"
        },
        {
         "name": "TUE",
         "rawType": "float64",
         "type": "float"
        },
        {
         "name": "Gender",
         "rawType": "int64",
         "type": "integer"
        }
       ],
       "conversionMethod": "pd.DataFrame",
       "ref": "209d7c52-b8c7-4c9c-b056-9bb130d15569",
       "rows": [
        [
         "0",
         "21.0",
         "1.62",
         "64.0",
         "2.0",
         "3.0",
         "2.0",
         "0.0",
         "1.0",
         "0"
        ],
        [
         "1",
         "21.0",
         "1.52",
         "56.0",
         "3.0",
         "3.0",
         "3.0",
         "3.0",
         "0.0",
         "0"
        ],
        [
         "2",
         "23.0",
         "1.8",
         "77.0",
         "2.0",
         "3.0",
         "2.0",
         "2.0",
         "1.0",
         "1"
        ],
        [
         "3",
         "27.0",
         "1.8",
         "87.0",
         "3.0",
         "3.0",
         "2.0",
         "2.0",
         "0.0",
         "1"
        ],
        [
         "4",
         "22.0",
         "1.78",
         "89.8",
         "2.0",
         "1.0",
         "2.0",
         "0.0",
         "0.0",
         "1"
        ]
       ],
       "shape": {
        "columns": 9,
        "rows": 5
       }
      },
      "text/html": [
       "<div>\n",
       "<style scoped>\n",
       "    .dataframe tbody tr th:only-of-type {\n",
       "        vertical-align: middle;\n",
       "    }\n",
       "\n",
       "    .dataframe tbody tr th {\n",
       "        vertical-align: top;\n",
       "    }\n",
       "\n",
       "    .dataframe thead th {\n",
       "        text-align: right;\n",
       "    }\n",
       "</style>\n",
       "<table border=\"1\" class=\"dataframe\">\n",
       "  <thead>\n",
       "    <tr style=\"text-align: right;\">\n",
       "      <th></th>\n",
       "      <th>Age</th>\n",
       "      <th>Height</th>\n",
       "      <th>Weight</th>\n",
       "      <th>FCVC</th>\n",
       "      <th>NCP</th>\n",
       "      <th>CH2O</th>\n",
       "      <th>FAF</th>\n",
       "      <th>TUE</th>\n",
       "      <th>Gender</th>\n",
       "    </tr>\n",
       "  </thead>\n",
       "  <tbody>\n",
       "    <tr>\n",
       "      <th>0</th>\n",
       "      <td>21.0</td>\n",
       "      <td>1.62</td>\n",
       "      <td>64.0</td>\n",
       "      <td>2.0</td>\n",
       "      <td>3.0</td>\n",
       "      <td>2.0</td>\n",
       "      <td>0.0</td>\n",
       "      <td>1.0</td>\n",
       "      <td>0</td>\n",
       "    </tr>\n",
       "    <tr>\n",
       "      <th>1</th>\n",
       "      <td>21.0</td>\n",
       "      <td>1.52</td>\n",
       "      <td>56.0</td>\n",
       "      <td>3.0</td>\n",
       "      <td>3.0</td>\n",
       "      <td>3.0</td>\n",
       "      <td>3.0</td>\n",
       "      <td>0.0</td>\n",
       "      <td>0</td>\n",
       "    </tr>\n",
       "    <tr>\n",
       "      <th>2</th>\n",
       "      <td>23.0</td>\n",
       "      <td>1.80</td>\n",
       "      <td>77.0</td>\n",
       "      <td>2.0</td>\n",
       "      <td>3.0</td>\n",
       "      <td>2.0</td>\n",
       "      <td>2.0</td>\n",
       "      <td>1.0</td>\n",
       "      <td>1</td>\n",
       "    </tr>\n",
       "    <tr>\n",
       "      <th>3</th>\n",
       "      <td>27.0</td>\n",
       "      <td>1.80</td>\n",
       "      <td>87.0</td>\n",
       "      <td>3.0</td>\n",
       "      <td>3.0</td>\n",
       "      <td>2.0</td>\n",
       "      <td>2.0</td>\n",
       "      <td>0.0</td>\n",
       "      <td>1</td>\n",
       "    </tr>\n",
       "    <tr>\n",
       "      <th>4</th>\n",
       "      <td>22.0</td>\n",
       "      <td>1.78</td>\n",
       "      <td>89.8</td>\n",
       "      <td>2.0</td>\n",
       "      <td>1.0</td>\n",
       "      <td>2.0</td>\n",
       "      <td>0.0</td>\n",
       "      <td>0.0</td>\n",
       "      <td>1</td>\n",
       "    </tr>\n",
       "  </tbody>\n",
       "</table>\n",
       "</div>"
      ],
      "text/plain": [
       "    Age  Height  Weight  FCVC  NCP  CH2O  FAF  TUE  Gender\n",
       "0  21.0    1.62    64.0   2.0  3.0   2.0  0.0  1.0       0\n",
       "1  21.0    1.52    56.0   3.0  3.0   3.0  3.0  0.0       0\n",
       "2  23.0    1.80    77.0   2.0  3.0   2.0  2.0  1.0       1\n",
       "3  27.0    1.80    87.0   3.0  3.0   2.0  2.0  0.0       1\n",
       "4  22.0    1.78    89.8   2.0  1.0   2.0  0.0  0.0       1"
      ]
     },
     "execution_count": 12,
     "metadata": {},
     "output_type": "execute_result"
    }
   ],
   "source": [
    "\n",
    "data_encoded.head()"
   ]
  },
  {
   "cell_type": "code",
   "execution_count": 13,
   "metadata": {},
   "outputs": [
    {
     "name": "stdout",
     "output_type": "stream",
     "text": [
      "<class 'pandas.core.frame.DataFrame'>\n",
      "RangeIndex: 2111 entries, 0 to 2110\n",
      "Data columns (total 9 columns):\n",
      " #   Column  Non-Null Count  Dtype  \n",
      "---  ------  --------------  -----  \n",
      " 0   Age     2111 non-null   float64\n",
      " 1   Height  2111 non-null   float64\n",
      " 2   Weight  2111 non-null   float64\n",
      " 3   FCVC    2111 non-null   float64\n",
      " 4   NCP     2111 non-null   float64\n",
      " 5   CH2O    2111 non-null   float64\n",
      " 6   FAF     2111 non-null   float64\n",
      " 7   TUE     2111 non-null   float64\n",
      " 8   Gender  2111 non-null   int64  \n",
      "dtypes: float64(8), int64(1)\n",
      "memory usage: 148.6 KB\n"
     ]
    }
   ],
   "source": [
    "data_encoded.info()"
   ]
  },
  {
   "cell_type": "code",
   "execution_count": 14,
   "metadata": {},
   "outputs": [
    {
     "data": {
      "application/vnd.microsoft.datawrangler.viewer.v0+json": {
       "columns": [
        {
         "name": "index",
         "rawType": "object",
         "type": "string"
        },
        {
         "name": "count",
         "rawType": "float64",
         "type": "float"
        },
        {
         "name": "mean",
         "rawType": "float64",
         "type": "float"
        },
        {
         "name": "std",
         "rawType": "float64",
         "type": "float"
        },
        {
         "name": "min",
         "rawType": "float64",
         "type": "float"
        },
        {
         "name": "25%",
         "rawType": "float64",
         "type": "float"
        },
        {
         "name": "50%",
         "rawType": "float64",
         "type": "float"
        },
        {
         "name": "75%",
         "rawType": "float64",
         "type": "float"
        },
        {
         "name": "max",
         "rawType": "float64",
         "type": "float"
        }
       ],
       "conversionMethod": "pd.DataFrame",
       "ref": "4718855a-35f2-4d3d-946f-1abffa0fa244",
       "rows": [
        [
         "Age",
         "2111.0",
         "24.312599908574136",
         "6.345968273732234",
         "14.0",
         "19.947192",
         "22.77789",
         "26.0",
         "61.0"
        ],
        [
         "Height",
         "2111.0",
         "1.7016773533870204",
         "0.09330481986792007",
         "1.45",
         "1.63",
         "1.700499",
         "1.768464",
         "1.98"
        ],
        [
         "Weight",
         "2111.0",
         "86.58605812648035",
         "26.1911717452047",
         "39.0",
         "65.473343",
         "83.0",
         "107.430682",
         "173.0"
        ],
        [
         "FCVC",
         "2111.0",
         "2.4190430615821885",
         "0.5339265785033002",
         "1.0",
         "2.0",
         "2.385502",
         "3.0",
         "3.0"
        ],
        [
         "NCP",
         "2111.0",
         "2.6856280497394596",
         "0.7780386488418612",
         "1.0",
         "2.658738",
         "3.0",
         "3.0",
         "4.0"
        ],
        [
         "CH2O",
         "2111.0",
         "2.0080114040738986",
         "0.6129534517968722",
         "1.0",
         "1.5848125",
         "2.0",
         "2.47742",
         "3.0"
        ],
        [
         "FAF",
         "2111.0",
         "1.0102976958787304",
         "0.850592430836698",
         "0.0",
         "0.124505",
         "1.0",
         "1.6666775",
         "3.0"
        ],
        [
         "TUE",
         "2111.0",
         "0.657865923732828",
         "0.6089272596763782",
         "0.0",
         "0.0",
         "0.62535",
         "1.0",
         "2.0"
        ],
        [
         "Gender",
         "2111.0",
         "0.5059213642823307",
         "0.5000833972849265",
         "0.0",
         "0.0",
         "1.0",
         "1.0",
         "1.0"
        ]
       ],
       "shape": {
        "columns": 8,
        "rows": 9
       }
      },
      "text/html": [
       "<div>\n",
       "<style scoped>\n",
       "    .dataframe tbody tr th:only-of-type {\n",
       "        vertical-align: middle;\n",
       "    }\n",
       "\n",
       "    .dataframe tbody tr th {\n",
       "        vertical-align: top;\n",
       "    }\n",
       "\n",
       "    .dataframe thead th {\n",
       "        text-align: right;\n",
       "    }\n",
       "</style>\n",
       "<table border=\"1\" class=\"dataframe\">\n",
       "  <thead>\n",
       "    <tr style=\"text-align: right;\">\n",
       "      <th></th>\n",
       "      <th>count</th>\n",
       "      <th>mean</th>\n",
       "      <th>std</th>\n",
       "      <th>min</th>\n",
       "      <th>25%</th>\n",
       "      <th>50%</th>\n",
       "      <th>75%</th>\n",
       "      <th>max</th>\n",
       "    </tr>\n",
       "  </thead>\n",
       "  <tbody>\n",
       "    <tr>\n",
       "      <th>Age</th>\n",
       "      <td>2111.0</td>\n",
       "      <td>24.312600</td>\n",
       "      <td>6.345968</td>\n",
       "      <td>14.00</td>\n",
       "      <td>19.947192</td>\n",
       "      <td>22.777890</td>\n",
       "      <td>26.000000</td>\n",
       "      <td>61.00</td>\n",
       "    </tr>\n",
       "    <tr>\n",
       "      <th>Height</th>\n",
       "      <td>2111.0</td>\n",
       "      <td>1.701677</td>\n",
       "      <td>0.093305</td>\n",
       "      <td>1.45</td>\n",
       "      <td>1.630000</td>\n",
       "      <td>1.700499</td>\n",
       "      <td>1.768464</td>\n",
       "      <td>1.98</td>\n",
       "    </tr>\n",
       "    <tr>\n",
       "      <th>Weight</th>\n",
       "      <td>2111.0</td>\n",
       "      <td>86.586058</td>\n",
       "      <td>26.191172</td>\n",
       "      <td>39.00</td>\n",
       "      <td>65.473343</td>\n",
       "      <td>83.000000</td>\n",
       "      <td>107.430682</td>\n",
       "      <td>173.00</td>\n",
       "    </tr>\n",
       "    <tr>\n",
       "      <th>FCVC</th>\n",
       "      <td>2111.0</td>\n",
       "      <td>2.419043</td>\n",
       "      <td>0.533927</td>\n",
       "      <td>1.00</td>\n",
       "      <td>2.000000</td>\n",
       "      <td>2.385502</td>\n",
       "      <td>3.000000</td>\n",
       "      <td>3.00</td>\n",
       "    </tr>\n",
       "    <tr>\n",
       "      <th>NCP</th>\n",
       "      <td>2111.0</td>\n",
       "      <td>2.685628</td>\n",
       "      <td>0.778039</td>\n",
       "      <td>1.00</td>\n",
       "      <td>2.658738</td>\n",
       "      <td>3.000000</td>\n",
       "      <td>3.000000</td>\n",
       "      <td>4.00</td>\n",
       "    </tr>\n",
       "    <tr>\n",
       "      <th>CH2O</th>\n",
       "      <td>2111.0</td>\n",
       "      <td>2.008011</td>\n",
       "      <td>0.612953</td>\n",
       "      <td>1.00</td>\n",
       "      <td>1.584812</td>\n",
       "      <td>2.000000</td>\n",
       "      <td>2.477420</td>\n",
       "      <td>3.00</td>\n",
       "    </tr>\n",
       "    <tr>\n",
       "      <th>FAF</th>\n",
       "      <td>2111.0</td>\n",
       "      <td>1.010298</td>\n",
       "      <td>0.850592</td>\n",
       "      <td>0.00</td>\n",
       "      <td>0.124505</td>\n",
       "      <td>1.000000</td>\n",
       "      <td>1.666678</td>\n",
       "      <td>3.00</td>\n",
       "    </tr>\n",
       "    <tr>\n",
       "      <th>TUE</th>\n",
       "      <td>2111.0</td>\n",
       "      <td>0.657866</td>\n",
       "      <td>0.608927</td>\n",
       "      <td>0.00</td>\n",
       "      <td>0.000000</td>\n",
       "      <td>0.625350</td>\n",
       "      <td>1.000000</td>\n",
       "      <td>2.00</td>\n",
       "    </tr>\n",
       "    <tr>\n",
       "      <th>Gender</th>\n",
       "      <td>2111.0</td>\n",
       "      <td>0.505921</td>\n",
       "      <td>0.500083</td>\n",
       "      <td>0.00</td>\n",
       "      <td>0.000000</td>\n",
       "      <td>1.000000</td>\n",
       "      <td>1.000000</td>\n",
       "      <td>1.00</td>\n",
       "    </tr>\n",
       "  </tbody>\n",
       "</table>\n",
       "</div>"
      ],
      "text/plain": [
       "         count       mean        std    min        25%        50%         75%  \\\n",
       "Age     2111.0  24.312600   6.345968  14.00  19.947192  22.777890   26.000000   \n",
       "Height  2111.0   1.701677   0.093305   1.45   1.630000   1.700499    1.768464   \n",
       "Weight  2111.0  86.586058  26.191172  39.00  65.473343  83.000000  107.430682   \n",
       "FCVC    2111.0   2.419043   0.533927   1.00   2.000000   2.385502    3.000000   \n",
       "NCP     2111.0   2.685628   0.778039   1.00   2.658738   3.000000    3.000000   \n",
       "CH2O    2111.0   2.008011   0.612953   1.00   1.584812   2.000000    2.477420   \n",
       "FAF     2111.0   1.010298   0.850592   0.00   0.124505   1.000000    1.666678   \n",
       "TUE     2111.0   0.657866   0.608927   0.00   0.000000   0.625350    1.000000   \n",
       "Gender  2111.0   0.505921   0.500083   0.00   0.000000   1.000000    1.000000   \n",
       "\n",
       "           max  \n",
       "Age      61.00  \n",
       "Height    1.98  \n",
       "Weight  173.00  \n",
       "FCVC      3.00  \n",
       "NCP       4.00  \n",
       "CH2O      3.00  \n",
       "FAF       3.00  \n",
       "TUE       2.00  \n",
       "Gender    1.00  "
      ]
     },
     "execution_count": 14,
     "metadata": {},
     "output_type": "execute_result"
    }
   ],
   "source": [
    "# Statistics for the data\n",
    "data_encoded.describe().T"
   ]
  },
  {
   "cell_type": "code",
   "execution_count": 15,
   "metadata": {},
   "outputs": [
    {
     "data": {
      "text/plain": [
       "Age       0\n",
       "Height    0\n",
       "Weight    0\n",
       "FCVC      0\n",
       "NCP       0\n",
       "CH2O      0\n",
       "FAF       0\n",
       "TUE       0\n",
       "Gender    0\n",
       "dtype: int64"
      ]
     },
     "execution_count": 15,
     "metadata": {},
     "output_type": "execute_result"
    }
   ],
   "source": [
    "# there are no null values\n",
    "data_encoded.isnull().sum()"
   ]
  },
  {
   "cell_type": "code",
   "execution_count": 16,
   "metadata": {},
   "outputs": [
    {
     "data": {
      "application/vnd.microsoft.datawrangler.viewer.v0+json": {
       "columns": [
        {
         "name": "index",
         "rawType": "int64",
         "type": "integer"
        },
        {
         "name": "Age",
         "rawType": "float64",
         "type": "float"
        },
        {
         "name": "Height",
         "rawType": "float64",
         "type": "float"
        },
        {
         "name": "Weight",
         "rawType": "float64",
         "type": "float"
        },
        {
         "name": "FCVC",
         "rawType": "float64",
         "type": "float"
        },
        {
         "name": "NCP",
         "rawType": "float64",
         "type": "float"
        },
        {
         "name": "CH2O",
         "rawType": "float64",
         "type": "float"
        },
        {
         "name": "FAF",
         "rawType": "float64",
         "type": "float"
        },
        {
         "name": "TUE",
         "rawType": "float64",
         "type": "float"
        },
        {
         "name": "Gender",
         "rawType": "int64",
         "type": "integer"
        }
       ],
       "conversionMethod": "pd.DataFrame",
       "ref": "f3953cce-4da8-4a63-bfe2-d32030d81758",
       "rows": [
        [
         "0",
         "21.0",
         "1.62",
         "64.0",
         "2.0",
         "3.0",
         "2.0",
         "0.0",
         "1.0",
         "0"
        ],
        [
         "1",
         "21.0",
         "1.52",
         "56.0",
         "3.0",
         "3.0",
         "3.0",
         "3.0",
         "0.0",
         "0"
        ],
        [
         "2",
         "23.0",
         "1.8",
         "77.0",
         "2.0",
         "3.0",
         "2.0",
         "2.0",
         "1.0",
         "1"
        ],
        [
         "3",
         "27.0",
         "1.8",
         "87.0",
         "3.0",
         "3.0",
         "2.0",
         "2.0",
         "0.0",
         "1"
        ],
        [
         "4",
         "22.0",
         "1.78",
         "89.8",
         "2.0",
         "1.0",
         "2.0",
         "0.0",
         "0.0",
         "1"
        ]
       ],
       "shape": {
        "columns": 9,
        "rows": 5
       }
      },
      "text/html": [
       "<div>\n",
       "<style scoped>\n",
       "    .dataframe tbody tr th:only-of-type {\n",
       "        vertical-align: middle;\n",
       "    }\n",
       "\n",
       "    .dataframe tbody tr th {\n",
       "        vertical-align: top;\n",
       "    }\n",
       "\n",
       "    .dataframe thead th {\n",
       "        text-align: right;\n",
       "    }\n",
       "</style>\n",
       "<table border=\"1\" class=\"dataframe\">\n",
       "  <thead>\n",
       "    <tr style=\"text-align: right;\">\n",
       "      <th></th>\n",
       "      <th>Age</th>\n",
       "      <th>Height</th>\n",
       "      <th>Weight</th>\n",
       "      <th>FCVC</th>\n",
       "      <th>NCP</th>\n",
       "      <th>CH2O</th>\n",
       "      <th>FAF</th>\n",
       "      <th>TUE</th>\n",
       "      <th>Gender</th>\n",
       "    </tr>\n",
       "  </thead>\n",
       "  <tbody>\n",
       "    <tr>\n",
       "      <th>0</th>\n",
       "      <td>21.0</td>\n",
       "      <td>1.62</td>\n",
       "      <td>64.0</td>\n",
       "      <td>2.0</td>\n",
       "      <td>3.0</td>\n",
       "      <td>2.0</td>\n",
       "      <td>0.0</td>\n",
       "      <td>1.0</td>\n",
       "      <td>0</td>\n",
       "    </tr>\n",
       "    <tr>\n",
       "      <th>1</th>\n",
       "      <td>21.0</td>\n",
       "      <td>1.52</td>\n",
       "      <td>56.0</td>\n",
       "      <td>3.0</td>\n",
       "      <td>3.0</td>\n",
       "      <td>3.0</td>\n",
       "      <td>3.0</td>\n",
       "      <td>0.0</td>\n",
       "      <td>0</td>\n",
       "    </tr>\n",
       "    <tr>\n",
       "      <th>2</th>\n",
       "      <td>23.0</td>\n",
       "      <td>1.80</td>\n",
       "      <td>77.0</td>\n",
       "      <td>2.0</td>\n",
       "      <td>3.0</td>\n",
       "      <td>2.0</td>\n",
       "      <td>2.0</td>\n",
       "      <td>1.0</td>\n",
       "      <td>1</td>\n",
       "    </tr>\n",
       "    <tr>\n",
       "      <th>3</th>\n",
       "      <td>27.0</td>\n",
       "      <td>1.80</td>\n",
       "      <td>87.0</td>\n",
       "      <td>3.0</td>\n",
       "      <td>3.0</td>\n",
       "      <td>2.0</td>\n",
       "      <td>2.0</td>\n",
       "      <td>0.0</td>\n",
       "      <td>1</td>\n",
       "    </tr>\n",
       "    <tr>\n",
       "      <th>4</th>\n",
       "      <td>22.0</td>\n",
       "      <td>1.78</td>\n",
       "      <td>89.8</td>\n",
       "      <td>2.0</td>\n",
       "      <td>1.0</td>\n",
       "      <td>2.0</td>\n",
       "      <td>0.0</td>\n",
       "      <td>0.0</td>\n",
       "      <td>1</td>\n",
       "    </tr>\n",
       "  </tbody>\n",
       "</table>\n",
       "</div>"
      ],
      "text/plain": [
       "    Age  Height  Weight  FCVC  NCP  CH2O  FAF  TUE  Gender\n",
       "0  21.0    1.62    64.0   2.0  3.0   2.0  0.0  1.0       0\n",
       "1  21.0    1.52    56.0   3.0  3.0   3.0  3.0  0.0       0\n",
       "2  23.0    1.80    77.0   2.0  3.0   2.0  2.0  1.0       1\n",
       "3  27.0    1.80    87.0   3.0  3.0   2.0  2.0  0.0       1\n",
       "4  22.0    1.78    89.8   2.0  1.0   2.0  0.0  0.0       1"
      ]
     },
     "execution_count": 16,
     "metadata": {},
     "output_type": "execute_result"
    }
   ],
   "source": [
    "data_encoded.duplicated()\n",
    "data_encoded.head()"
   ]
  },
  {
   "cell_type": "code",
   "execution_count": 17,
   "metadata": {},
   "outputs": [],
   "source": [
    "\n",
    "#FAF : Physical activity frequency\n",
    "#TUE : Time using technology devices\n",
    "#FCVC : Frequency of consumption of vegetables\n",
    "#NCP : Number of main meals\n",
    "#CH2O : Consumption of water daily"
   ]
  },
  {
   "cell_type": "markdown",
   "metadata": {},
   "source": [
    "## MODEL SELECTION"
   ]
  },
  {
   "cell_type": "code",
   "execution_count": 18,
   "metadata": {},
   "outputs": [
    {
     "data": {
      "application/vnd.microsoft.datawrangler.viewer.v0+json": {
       "columns": [
        {
         "name": "index",
         "rawType": "int64",
         "type": "integer"
        },
        {
         "name": "Age",
         "rawType": "float64",
         "type": "float"
        },
        {
         "name": "Height",
         "rawType": "float64",
         "type": "float"
        },
        {
         "name": "Weight",
         "rawType": "float64",
         "type": "float"
        },
        {
         "name": "FCVC",
         "rawType": "float64",
         "type": "float"
        },
        {
         "name": "NCP",
         "rawType": "float64",
         "type": "float"
        },
        {
         "name": "CH2O",
         "rawType": "float64",
         "type": "float"
        },
        {
         "name": "FAF",
         "rawType": "float64",
         "type": "float"
        },
        {
         "name": "TUE",
         "rawType": "float64",
         "type": "float"
        }
       ],
       "conversionMethod": "pd.DataFrame",
       "ref": "dba4beaa-eea0-47db-8d1a-679ab72f695d",
       "rows": [
        [
         "0",
         "-0.5221243865315548",
         "-0.8755893428985058",
         "-0.8625581878787723",
         "-0.7850187010698834",
         "0.4041527212394904",
         "-0.013073263985237213",
         "-1.1880391100619079",
         "0.5619967502703084"
        ],
        [
         "1",
         "-0.5221243865315548",
         "-1.9475992778306654",
         "-1.1680769935237438",
         "1.088341755265735",
         "0.4041527212394904",
         "1.6187585428550124",
         "2.3397501195133885",
         "-1.0806246348952138"
        ],
        [
         "2",
         "-0.20688898174867157",
         "1.0540285399793792",
         "-0.36609012870569374",
         "-0.7850187010698834",
         "0.4041527212394904",
         "-0.013073263985237213",
         "1.163820376321623",
         "0.5619967502703084"
        ],
        [
         "3",
         "0.4235818278170949",
         "1.0540285399793792",
         "0.015808378350520555",
         "1.088341755265735",
         "0.4041527212394904",
         "-0.013073263985237213",
         "1.163820376321623",
         "-1.0806246348952138"
        ],
        [
         "4",
         "-0.36450668414011317",
         "0.8396265529929473",
         "0.12273996032626044",
         "-0.7850187010698834",
         "-2.1670227344876687",
         "-0.013073263985237213",
         "-1.1880391100619079",
         "-1.0806246348952138"
        ]
       ],
       "shape": {
        "columns": 8,
        "rows": 5
       }
      },
      "text/html": [
       "<div>\n",
       "<style scoped>\n",
       "    .dataframe tbody tr th:only-of-type {\n",
       "        vertical-align: middle;\n",
       "    }\n",
       "\n",
       "    .dataframe tbody tr th {\n",
       "        vertical-align: top;\n",
       "    }\n",
       "\n",
       "    .dataframe thead th {\n",
       "        text-align: right;\n",
       "    }\n",
       "</style>\n",
       "<table border=\"1\" class=\"dataframe\">\n",
       "  <thead>\n",
       "    <tr style=\"text-align: right;\">\n",
       "      <th></th>\n",
       "      <th>Age</th>\n",
       "      <th>Height</th>\n",
       "      <th>Weight</th>\n",
       "      <th>FCVC</th>\n",
       "      <th>NCP</th>\n",
       "      <th>CH2O</th>\n",
       "      <th>FAF</th>\n",
       "      <th>TUE</th>\n",
       "    </tr>\n",
       "  </thead>\n",
       "  <tbody>\n",
       "    <tr>\n",
       "      <th>0</th>\n",
       "      <td>-0.522124</td>\n",
       "      <td>-0.875589</td>\n",
       "      <td>-0.862558</td>\n",
       "      <td>-0.785019</td>\n",
       "      <td>0.404153</td>\n",
       "      <td>-0.013073</td>\n",
       "      <td>-1.188039</td>\n",
       "      <td>0.561997</td>\n",
       "    </tr>\n",
       "    <tr>\n",
       "      <th>1</th>\n",
       "      <td>-0.522124</td>\n",
       "      <td>-1.947599</td>\n",
       "      <td>-1.168077</td>\n",
       "      <td>1.088342</td>\n",
       "      <td>0.404153</td>\n",
       "      <td>1.618759</td>\n",
       "      <td>2.339750</td>\n",
       "      <td>-1.080625</td>\n",
       "    </tr>\n",
       "    <tr>\n",
       "      <th>2</th>\n",
       "      <td>-0.206889</td>\n",
       "      <td>1.054029</td>\n",
       "      <td>-0.366090</td>\n",
       "      <td>-0.785019</td>\n",
       "      <td>0.404153</td>\n",
       "      <td>-0.013073</td>\n",
       "      <td>1.163820</td>\n",
       "      <td>0.561997</td>\n",
       "    </tr>\n",
       "    <tr>\n",
       "      <th>3</th>\n",
       "      <td>0.423582</td>\n",
       "      <td>1.054029</td>\n",
       "      <td>0.015808</td>\n",
       "      <td>1.088342</td>\n",
       "      <td>0.404153</td>\n",
       "      <td>-0.013073</td>\n",
       "      <td>1.163820</td>\n",
       "      <td>-1.080625</td>\n",
       "    </tr>\n",
       "    <tr>\n",
       "      <th>4</th>\n",
       "      <td>-0.364507</td>\n",
       "      <td>0.839627</td>\n",
       "      <td>0.122740</td>\n",
       "      <td>-0.785019</td>\n",
       "      <td>-2.167023</td>\n",
       "      <td>-0.013073</td>\n",
       "      <td>-1.188039</td>\n",
       "      <td>-1.080625</td>\n",
       "    </tr>\n",
       "  </tbody>\n",
       "</table>\n",
       "</div>"
      ],
      "text/plain": [
       "        Age    Height    Weight      FCVC       NCP      CH2O       FAF  \\\n",
       "0 -0.522124 -0.875589 -0.862558 -0.785019  0.404153 -0.013073 -1.188039   \n",
       "1 -0.522124 -1.947599 -1.168077  1.088342  0.404153  1.618759  2.339750   \n",
       "2 -0.206889  1.054029 -0.366090 -0.785019  0.404153 -0.013073  1.163820   \n",
       "3  0.423582  1.054029  0.015808  1.088342  0.404153 -0.013073  1.163820   \n",
       "4 -0.364507  0.839627  0.122740 -0.785019 -2.167023 -0.013073 -1.188039   \n",
       "\n",
       "        TUE  \n",
       "0  0.561997  \n",
       "1 -1.080625  \n",
       "2  0.561997  \n",
       "3 -1.080625  \n",
       "4 -1.080625  "
      ]
     },
     "execution_count": 18,
     "metadata": {},
     "output_type": "execute_result"
    }
   ],
   "source": [
    "# Splitting the dataset into the Training set and Test set \n",
    "\n",
    "\n",
    "from sklearn.model_selection import train_test_split\n",
    "X = data_encoded.drop(columns = ['Gender'], axis=1).values\n",
    "y = data_encoded[\"Gender\"]\n",
    "'''\n",
    "#why scaling is important?\n",
    "# because the range of values of raw data varies widely\n",
    "# so, the range of all features should be standardized so that each feature contributes approximately proportionately \n",
    "to the final distance\n",
    "\n",
    "'''\n",
    "\n",
    "from sklearn.preprocessing import StandardScaler\n",
    "scaler = StandardScaler()\n",
    "data_encoded_scaled = pd.DataFrame(scaler.fit_transform(X), columns = data_encoded.columns[:-1])\n",
    "\n",
    "X_train, X_test, y_train, y_test = train_test_split(data_encoded_scaled, y, test_size = 0.2, random_state = 0)\n",
    "data_encoded_scaled.head()"
   ]
  },
  {
   "cell_type": "code",
   "execution_count": 19,
   "metadata": {},
   "outputs": [
    {
     "data": {
      "text/plain": [
       "((2111, 8), (2111,), (1688, 8), (423, 8), (1688,), (423,))"
      ]
     },
     "execution_count": 19,
     "metadata": {},
     "output_type": "execute_result"
    }
   ],
   "source": [
    "X.shape, y.shape, X_train.shape, X_test.shape, y_train.shape, y_test.shape\n",
    "# what is X_train ?  X-train is the training data\n",
    "# what is X_test ? X-test is the test data \n",
    "# what is y_train ? y-train is the training data and it is the target variable\n",
    "# what is y_test ? y-test is the test data and it is the target variable\n"
   ]
  },
  {
   "cell_type": "code",
   "execution_count": 20,
   "metadata": {},
   "outputs": [
    {
     "data": {
      "text/html": [
       "<style>#sk-container-id-1 {\n",
       "  /* Definition of color scheme common for light and dark mode */\n",
       "  --sklearn-color-text: #000;\n",
       "  --sklearn-color-text-muted: #666;\n",
       "  --sklearn-color-line: gray;\n",
       "  /* Definition of color scheme for unfitted estimators */\n",
       "  --sklearn-color-unfitted-level-0: #fff5e6;\n",
       "  --sklearn-color-unfitted-level-1: #f6e4d2;\n",
       "  --sklearn-color-unfitted-level-2: #ffe0b3;\n",
       "  --sklearn-color-unfitted-level-3: chocolate;\n",
       "  /* Definition of color scheme for fitted estimators */\n",
       "  --sklearn-color-fitted-level-0: #f0f8ff;\n",
       "  --sklearn-color-fitted-level-1: #d4ebff;\n",
       "  --sklearn-color-fitted-level-2: #b3dbfd;\n",
       "  --sklearn-color-fitted-level-3: cornflowerblue;\n",
       "\n",
       "  /* Specific color for light theme */\n",
       "  --sklearn-color-text-on-default-background: var(--sg-text-color, var(--theme-code-foreground, var(--jp-content-font-color1, black)));\n",
       "  --sklearn-color-background: var(--sg-background-color, var(--theme-background, var(--jp-layout-color0, white)));\n",
       "  --sklearn-color-border-box: var(--sg-text-color, var(--theme-code-foreground, var(--jp-content-font-color1, black)));\n",
       "  --sklearn-color-icon: #696969;\n",
       "\n",
       "  @media (prefers-color-scheme: dark) {\n",
       "    /* Redefinition of color scheme for dark theme */\n",
       "    --sklearn-color-text-on-default-background: var(--sg-text-color, var(--theme-code-foreground, var(--jp-content-font-color1, white)));\n",
       "    --sklearn-color-background: var(--sg-background-color, var(--theme-background, var(--jp-layout-color0, #111)));\n",
       "    --sklearn-color-border-box: var(--sg-text-color, var(--theme-code-foreground, var(--jp-content-font-color1, white)));\n",
       "    --sklearn-color-icon: #878787;\n",
       "  }\n",
       "}\n",
       "\n",
       "#sk-container-id-1 {\n",
       "  color: var(--sklearn-color-text);\n",
       "}\n",
       "\n",
       "#sk-container-id-1 pre {\n",
       "  padding: 0;\n",
       "}\n",
       "\n",
       "#sk-container-id-1 input.sk-hidden--visually {\n",
       "  border: 0;\n",
       "  clip: rect(1px 1px 1px 1px);\n",
       "  clip: rect(1px, 1px, 1px, 1px);\n",
       "  height: 1px;\n",
       "  margin: -1px;\n",
       "  overflow: hidden;\n",
       "  padding: 0;\n",
       "  position: absolute;\n",
       "  width: 1px;\n",
       "}\n",
       "\n",
       "#sk-container-id-1 div.sk-dashed-wrapped {\n",
       "  border: 1px dashed var(--sklearn-color-line);\n",
       "  margin: 0 0.4em 0.5em 0.4em;\n",
       "  box-sizing: border-box;\n",
       "  padding-bottom: 0.4em;\n",
       "  background-color: var(--sklearn-color-background);\n",
       "}\n",
       "\n",
       "#sk-container-id-1 div.sk-container {\n",
       "  /* jupyter's `normalize.less` sets `[hidden] { display: none; }`\n",
       "     but bootstrap.min.css set `[hidden] { display: none !important; }`\n",
       "     so we also need the `!important` here to be able to override the\n",
       "     default hidden behavior on the sphinx rendered scikit-learn.org.\n",
       "     See: https://github.com/scikit-learn/scikit-learn/issues/21755 */\n",
       "  display: inline-block !important;\n",
       "  position: relative;\n",
       "}\n",
       "\n",
       "#sk-container-id-1 div.sk-text-repr-fallback {\n",
       "  display: none;\n",
       "}\n",
       "\n",
       "div.sk-parallel-item,\n",
       "div.sk-serial,\n",
       "div.sk-item {\n",
       "  /* draw centered vertical line to link estimators */\n",
       "  background-image: linear-gradient(var(--sklearn-color-text-on-default-background), var(--sklearn-color-text-on-default-background));\n",
       "  background-size: 2px 100%;\n",
       "  background-repeat: no-repeat;\n",
       "  background-position: center center;\n",
       "}\n",
       "\n",
       "/* Parallel-specific style estimator block */\n",
       "\n",
       "#sk-container-id-1 div.sk-parallel-item::after {\n",
       "  content: \"\";\n",
       "  width: 100%;\n",
       "  border-bottom: 2px solid var(--sklearn-color-text-on-default-background);\n",
       "  flex-grow: 1;\n",
       "}\n",
       "\n",
       "#sk-container-id-1 div.sk-parallel {\n",
       "  display: flex;\n",
       "  align-items: stretch;\n",
       "  justify-content: center;\n",
       "  background-color: var(--sklearn-color-background);\n",
       "  position: relative;\n",
       "}\n",
       "\n",
       "#sk-container-id-1 div.sk-parallel-item {\n",
       "  display: flex;\n",
       "  flex-direction: column;\n",
       "}\n",
       "\n",
       "#sk-container-id-1 div.sk-parallel-item:first-child::after {\n",
       "  align-self: flex-end;\n",
       "  width: 50%;\n",
       "}\n",
       "\n",
       "#sk-container-id-1 div.sk-parallel-item:last-child::after {\n",
       "  align-self: flex-start;\n",
       "  width: 50%;\n",
       "}\n",
       "\n",
       "#sk-container-id-1 div.sk-parallel-item:only-child::after {\n",
       "  width: 0;\n",
       "}\n",
       "\n",
       "/* Serial-specific style estimator block */\n",
       "\n",
       "#sk-container-id-1 div.sk-serial {\n",
       "  display: flex;\n",
       "  flex-direction: column;\n",
       "  align-items: center;\n",
       "  background-color: var(--sklearn-color-background);\n",
       "  padding-right: 1em;\n",
       "  padding-left: 1em;\n",
       "}\n",
       "\n",
       "\n",
       "/* Toggleable style: style used for estimator/Pipeline/ColumnTransformer box that is\n",
       "clickable and can be expanded/collapsed.\n",
       "- Pipeline and ColumnTransformer use this feature and define the default style\n",
       "- Estimators will overwrite some part of the style using the `sk-estimator` class\n",
       "*/\n",
       "\n",
       "/* Pipeline and ColumnTransformer style (default) */\n",
       "\n",
       "#sk-container-id-1 div.sk-toggleable {\n",
       "  /* Default theme specific background. It is overwritten whether we have a\n",
       "  specific estimator or a Pipeline/ColumnTransformer */\n",
       "  background-color: var(--sklearn-color-background);\n",
       "}\n",
       "\n",
       "/* Toggleable label */\n",
       "#sk-container-id-1 label.sk-toggleable__label {\n",
       "  cursor: pointer;\n",
       "  display: flex;\n",
       "  width: 100%;\n",
       "  margin-bottom: 0;\n",
       "  padding: 0.5em;\n",
       "  box-sizing: border-box;\n",
       "  text-align: center;\n",
       "  align-items: start;\n",
       "  justify-content: space-between;\n",
       "  gap: 0.5em;\n",
       "}\n",
       "\n",
       "#sk-container-id-1 label.sk-toggleable__label .caption {\n",
       "  font-size: 0.6rem;\n",
       "  font-weight: lighter;\n",
       "  color: var(--sklearn-color-text-muted);\n",
       "}\n",
       "\n",
       "#sk-container-id-1 label.sk-toggleable__label-arrow:before {\n",
       "  /* Arrow on the left of the label */\n",
       "  content: \"▸\";\n",
       "  float: left;\n",
       "  margin-right: 0.25em;\n",
       "  color: var(--sklearn-color-icon);\n",
       "}\n",
       "\n",
       "#sk-container-id-1 label.sk-toggleable__label-arrow:hover:before {\n",
       "  color: var(--sklearn-color-text);\n",
       "}\n",
       "\n",
       "/* Toggleable content - dropdown */\n",
       "\n",
       "#sk-container-id-1 div.sk-toggleable__content {\n",
       "  max-height: 0;\n",
       "  max-width: 0;\n",
       "  overflow: hidden;\n",
       "  text-align: left;\n",
       "  /* unfitted */\n",
       "  background-color: var(--sklearn-color-unfitted-level-0);\n",
       "}\n",
       "\n",
       "#sk-container-id-1 div.sk-toggleable__content.fitted {\n",
       "  /* fitted */\n",
       "  background-color: var(--sklearn-color-fitted-level-0);\n",
       "}\n",
       "\n",
       "#sk-container-id-1 div.sk-toggleable__content pre {\n",
       "  margin: 0.2em;\n",
       "  border-radius: 0.25em;\n",
       "  color: var(--sklearn-color-text);\n",
       "  /* unfitted */\n",
       "  background-color: var(--sklearn-color-unfitted-level-0);\n",
       "}\n",
       "\n",
       "#sk-container-id-1 div.sk-toggleable__content.fitted pre {\n",
       "  /* unfitted */\n",
       "  background-color: var(--sklearn-color-fitted-level-0);\n",
       "}\n",
       "\n",
       "#sk-container-id-1 input.sk-toggleable__control:checked~div.sk-toggleable__content {\n",
       "  /* Expand drop-down */\n",
       "  max-height: 200px;\n",
       "  max-width: 100%;\n",
       "  overflow: auto;\n",
       "}\n",
       "\n",
       "#sk-container-id-1 input.sk-toggleable__control:checked~label.sk-toggleable__label-arrow:before {\n",
       "  content: \"▾\";\n",
       "}\n",
       "\n",
       "/* Pipeline/ColumnTransformer-specific style */\n",
       "\n",
       "#sk-container-id-1 div.sk-label input.sk-toggleable__control:checked~label.sk-toggleable__label {\n",
       "  color: var(--sklearn-color-text);\n",
       "  background-color: var(--sklearn-color-unfitted-level-2);\n",
       "}\n",
       "\n",
       "#sk-container-id-1 div.sk-label.fitted input.sk-toggleable__control:checked~label.sk-toggleable__label {\n",
       "  background-color: var(--sklearn-color-fitted-level-2);\n",
       "}\n",
       "\n",
       "/* Estimator-specific style */\n",
       "\n",
       "/* Colorize estimator box */\n",
       "#sk-container-id-1 div.sk-estimator input.sk-toggleable__control:checked~label.sk-toggleable__label {\n",
       "  /* unfitted */\n",
       "  background-color: var(--sklearn-color-unfitted-level-2);\n",
       "}\n",
       "\n",
       "#sk-container-id-1 div.sk-estimator.fitted input.sk-toggleable__control:checked~label.sk-toggleable__label {\n",
       "  /* fitted */\n",
       "  background-color: var(--sklearn-color-fitted-level-2);\n",
       "}\n",
       "\n",
       "#sk-container-id-1 div.sk-label label.sk-toggleable__label,\n",
       "#sk-container-id-1 div.sk-label label {\n",
       "  /* The background is the default theme color */\n",
       "  color: var(--sklearn-color-text-on-default-background);\n",
       "}\n",
       "\n",
       "/* On hover, darken the color of the background */\n",
       "#sk-container-id-1 div.sk-label:hover label.sk-toggleable__label {\n",
       "  color: var(--sklearn-color-text);\n",
       "  background-color: var(--sklearn-color-unfitted-level-2);\n",
       "}\n",
       "\n",
       "/* Label box, darken color on hover, fitted */\n",
       "#sk-container-id-1 div.sk-label.fitted:hover label.sk-toggleable__label.fitted {\n",
       "  color: var(--sklearn-color-text);\n",
       "  background-color: var(--sklearn-color-fitted-level-2);\n",
       "}\n",
       "\n",
       "/* Estimator label */\n",
       "\n",
       "#sk-container-id-1 div.sk-label label {\n",
       "  font-family: monospace;\n",
       "  font-weight: bold;\n",
       "  display: inline-block;\n",
       "  line-height: 1.2em;\n",
       "}\n",
       "\n",
       "#sk-container-id-1 div.sk-label-container {\n",
       "  text-align: center;\n",
       "}\n",
       "\n",
       "/* Estimator-specific */\n",
       "#sk-container-id-1 div.sk-estimator {\n",
       "  font-family: monospace;\n",
       "  border: 1px dotted var(--sklearn-color-border-box);\n",
       "  border-radius: 0.25em;\n",
       "  box-sizing: border-box;\n",
       "  margin-bottom: 0.5em;\n",
       "  /* unfitted */\n",
       "  background-color: var(--sklearn-color-unfitted-level-0);\n",
       "}\n",
       "\n",
       "#sk-container-id-1 div.sk-estimator.fitted {\n",
       "  /* fitted */\n",
       "  background-color: var(--sklearn-color-fitted-level-0);\n",
       "}\n",
       "\n",
       "/* on hover */\n",
       "#sk-container-id-1 div.sk-estimator:hover {\n",
       "  /* unfitted */\n",
       "  background-color: var(--sklearn-color-unfitted-level-2);\n",
       "}\n",
       "\n",
       "#sk-container-id-1 div.sk-estimator.fitted:hover {\n",
       "  /* fitted */\n",
       "  background-color: var(--sklearn-color-fitted-level-2);\n",
       "}\n",
       "\n",
       "/* Specification for estimator info (e.g. \"i\" and \"?\") */\n",
       "\n",
       "/* Common style for \"i\" and \"?\" */\n",
       "\n",
       ".sk-estimator-doc-link,\n",
       "a:link.sk-estimator-doc-link,\n",
       "a:visited.sk-estimator-doc-link {\n",
       "  float: right;\n",
       "  font-size: smaller;\n",
       "  line-height: 1em;\n",
       "  font-family: monospace;\n",
       "  background-color: var(--sklearn-color-background);\n",
       "  border-radius: 1em;\n",
       "  height: 1em;\n",
       "  width: 1em;\n",
       "  text-decoration: none !important;\n",
       "  margin-left: 0.5em;\n",
       "  text-align: center;\n",
       "  /* unfitted */\n",
       "  border: var(--sklearn-color-unfitted-level-1) 1pt solid;\n",
       "  color: var(--sklearn-color-unfitted-level-1);\n",
       "}\n",
       "\n",
       ".sk-estimator-doc-link.fitted,\n",
       "a:link.sk-estimator-doc-link.fitted,\n",
       "a:visited.sk-estimator-doc-link.fitted {\n",
       "  /* fitted */\n",
       "  border: var(--sklearn-color-fitted-level-1) 1pt solid;\n",
       "  color: var(--sklearn-color-fitted-level-1);\n",
       "}\n",
       "\n",
       "/* On hover */\n",
       "div.sk-estimator:hover .sk-estimator-doc-link:hover,\n",
       ".sk-estimator-doc-link:hover,\n",
       "div.sk-label-container:hover .sk-estimator-doc-link:hover,\n",
       ".sk-estimator-doc-link:hover {\n",
       "  /* unfitted */\n",
       "  background-color: var(--sklearn-color-unfitted-level-3);\n",
       "  color: var(--sklearn-color-background);\n",
       "  text-decoration: none;\n",
       "}\n",
       "\n",
       "div.sk-estimator.fitted:hover .sk-estimator-doc-link.fitted:hover,\n",
       ".sk-estimator-doc-link.fitted:hover,\n",
       "div.sk-label-container:hover .sk-estimator-doc-link.fitted:hover,\n",
       ".sk-estimator-doc-link.fitted:hover {\n",
       "  /* fitted */\n",
       "  background-color: var(--sklearn-color-fitted-level-3);\n",
       "  color: var(--sklearn-color-background);\n",
       "  text-decoration: none;\n",
       "}\n",
       "\n",
       "/* Span, style for the box shown on hovering the info icon */\n",
       ".sk-estimator-doc-link span {\n",
       "  display: none;\n",
       "  z-index: 9999;\n",
       "  position: relative;\n",
       "  font-weight: normal;\n",
       "  right: .2ex;\n",
       "  padding: .5ex;\n",
       "  margin: .5ex;\n",
       "  width: min-content;\n",
       "  min-width: 20ex;\n",
       "  max-width: 50ex;\n",
       "  color: var(--sklearn-color-text);\n",
       "  box-shadow: 2pt 2pt 4pt #999;\n",
       "  /* unfitted */\n",
       "  background: var(--sklearn-color-unfitted-level-0);\n",
       "  border: .5pt solid var(--sklearn-color-unfitted-level-3);\n",
       "}\n",
       "\n",
       ".sk-estimator-doc-link.fitted span {\n",
       "  /* fitted */\n",
       "  background: var(--sklearn-color-fitted-level-0);\n",
       "  border: var(--sklearn-color-fitted-level-3);\n",
       "}\n",
       "\n",
       ".sk-estimator-doc-link:hover span {\n",
       "  display: block;\n",
       "}\n",
       "\n",
       "/* \"?\"-specific style due to the `<a>` HTML tag */\n",
       "\n",
       "#sk-container-id-1 a.estimator_doc_link {\n",
       "  float: right;\n",
       "  font-size: 1rem;\n",
       "  line-height: 1em;\n",
       "  font-family: monospace;\n",
       "  background-color: var(--sklearn-color-background);\n",
       "  border-radius: 1rem;\n",
       "  height: 1rem;\n",
       "  width: 1rem;\n",
       "  text-decoration: none;\n",
       "  /* unfitted */\n",
       "  color: var(--sklearn-color-unfitted-level-1);\n",
       "  border: var(--sklearn-color-unfitted-level-1) 1pt solid;\n",
       "}\n",
       "\n",
       "#sk-container-id-1 a.estimator_doc_link.fitted {\n",
       "  /* fitted */\n",
       "  border: var(--sklearn-color-fitted-level-1) 1pt solid;\n",
       "  color: var(--sklearn-color-fitted-level-1);\n",
       "}\n",
       "\n",
       "/* On hover */\n",
       "#sk-container-id-1 a.estimator_doc_link:hover {\n",
       "  /* unfitted */\n",
       "  background-color: var(--sklearn-color-unfitted-level-3);\n",
       "  color: var(--sklearn-color-background);\n",
       "  text-decoration: none;\n",
       "}\n",
       "\n",
       "#sk-container-id-1 a.estimator_doc_link.fitted:hover {\n",
       "  /* fitted */\n",
       "  background-color: var(--sklearn-color-fitted-level-3);\n",
       "}\n",
       "</style><div id=\"sk-container-id-1\" class=\"sk-top-container\"><div class=\"sk-text-repr-fallback\"><pre>LogisticRegression(max_iter=500, solver=&#x27;liblinear&#x27;)</pre><b>In a Jupyter environment, please rerun this cell to show the HTML representation or trust the notebook. <br />On GitHub, the HTML representation is unable to render, please try loading this page with nbviewer.org.</b></div><div class=\"sk-container\" hidden><div class=\"sk-item\"><div class=\"sk-estimator fitted sk-toggleable\"><input class=\"sk-toggleable__control sk-hidden--visually\" id=\"sk-estimator-id-1\" type=\"checkbox\" checked><label for=\"sk-estimator-id-1\" class=\"sk-toggleable__label fitted sk-toggleable__label-arrow\"><div><div>LogisticRegression</div></div><div><a class=\"sk-estimator-doc-link fitted\" rel=\"noreferrer\" target=\"_blank\" href=\"https://scikit-learn.org/1.6/modules/generated/sklearn.linear_model.LogisticRegression.html\">?<span>Documentation for LogisticRegression</span></a><span class=\"sk-estimator-doc-link fitted\">i<span>Fitted</span></span></div></label><div class=\"sk-toggleable__content fitted\"><pre>LogisticRegression(max_iter=500, solver=&#x27;liblinear&#x27;)</pre></div> </div></div></div></div>"
      ],
      "text/plain": [
       "LogisticRegression(max_iter=500, solver='liblinear')"
      ]
     },
     "execution_count": 20,
     "metadata": {},
     "output_type": "execute_result"
    }
   ],
   "source": [
    "from sklearn.linear_model import LogisticRegression\n",
    "from sklearn.metrics import accuracy_score\n",
    "\n",
    "# Create a Logistic Regression model\n",
    "# why solver and max_iterations? solver is the algorithm to use in the optimization problem and max_iterations is the maximum number of iterations taken for the solvers to converge\n",
    "log_reg = LogisticRegression(solver='liblinear',max_iter=500)\n",
    "\n",
    "# Train the model\n",
    "log_reg.fit(X_train, y_train)"
   ]
  },
  {
   "cell_type": "code",
   "execution_count": 21,
   "metadata": {},
   "outputs": [],
   "source": [
    "# Make predictions on the test set\n",
    "y_pred = log_reg.predict(X_test)"
   ]
  },
  {
   "cell_type": "code",
   "execution_count": 22,
   "metadata": {},
   "outputs": [
    {
     "data": {
      "text/plain": [
       "np.int64(1)"
      ]
     },
     "execution_count": 22,
     "metadata": {},
     "output_type": "execute_result"
    }
   ],
   "source": [
    "\n",
    "y_pred[0]"
   ]
  },
  {
   "cell_type": "markdown",
   "metadata": {},
   "source": [
    "## MODEL EVALUATION"
   ]
  },
  {
   "cell_type": "code",
   "execution_count": 23,
   "metadata": {},
   "outputs": [
    {
     "name": "stdout",
     "output_type": "stream",
     "text": [
      "              precision    recall  f1-score   support\n",
      "\n",
      "           0       0.82      0.81      0.82       231\n",
      "           1       0.78      0.79      0.79       192\n",
      "\n",
      "    accuracy                           0.80       423\n",
      "   macro avg       0.80      0.80      0.80       423\n",
      "weighted avg       0.80      0.80      0.80       423\n",
      "\n"
     ]
    }
   ],
   "source": [
    "#Evaluate the model\n",
    "from sklearn.metrics import accuracy_score, confusion_matrix, classification_report\n",
    "from sklearn.metrics import classification_report\n",
    "\n",
    "\n",
    "print(classification_report(y_test, y_pred))\n",
    "\n",
    "confusion_matrix = confusion_matrix(y_test, y_pred)"
   ]
  },
  {
   "cell_type": "code",
   "execution_count": 24,
   "metadata": {},
   "outputs": [
    {
     "data": {
      "text/plain": [
       "0.8037825059101655"
      ]
     },
     "execution_count": 24,
     "metadata": {},
     "output_type": "execute_result"
    }
   ],
   "source": [
    "# 80% of accuracy ,which is good\n",
    "accuracy_score = accuracy_score(y_test, y_pred)\n",
    "accuracy_score\n"
   ]
  },
  {
   "cell_type": "code",
   "execution_count": 25,
   "metadata": {},
   "outputs": [
    {
     "data": {
      "text/plain": [
       "array([[188,  43],\n",
       "       [ 40, 152]])"
      ]
     },
     "execution_count": 25,
     "metadata": {},
     "output_type": "execute_result"
    }
   ],
   "source": [
    "from sklearn.metrics import accuracy_score, confusion_matrix, classification_report\n",
    "confusion_matrix(y_test, y_pred)"
   ]
  },
  {
   "cell_type": "markdown",
   "metadata": {},
   "source": [
    "### TEST THE MODEL ON UNSEEN DATA"
   ]
  },
  {
   "cell_type": "code",
   "execution_count": 26,
   "metadata": {},
   "outputs": [
    {
     "data": {
      "text/plain": [
       "['logistic_regression_model.pkl']"
      ]
     },
     "execution_count": 26,
     "metadata": {},
     "output_type": "execute_result"
    }
   ],
   "source": [
    "# Save the model\n",
    "import joblib\n",
    "joblib.dump(log_reg, \"logistic_regression_model.pkl\")"
   ]
  },
  {
   "cell_type": "code",
   "execution_count": 27,
   "metadata": {},
   "outputs": [
    {
     "data": {
      "text/plain": [
       "sklearn.linear_model._logistic.LogisticRegression"
      ]
     },
     "execution_count": 27,
     "metadata": {},
     "output_type": "execute_result"
    }
   ],
   "source": [
    "# Load the model\n",
    "log_reg_model = joblib.load(\"logistic_regression_model.pkl\")   \n",
    "#we can see the type of the model\n",
    "type(log_reg_model)"
   ]
  },
  {
   "cell_type": "code",
   "execution_count": 28,
   "metadata": {},
   "outputs": [],
   "source": [
    "#let's predict the new data \n",
    "new_data1 = [[35,1.7,70,3,5,0,3,4]]\n",
    "# let's scale the new data\n",
    "new = pd.DataFrame(scaler.transform(new_data1), columns = data_encoded.columns[:-1])"
   ]
  },
  {
   "cell_type": "code",
   "execution_count": 29,
   "metadata": {},
   "outputs": [
    {
     "data": {
      "application/vnd.microsoft.datawrangler.viewer.v0+json": {
       "columns": [
        {
         "name": "index",
         "rawType": "int64",
         "type": "integer"
        },
        {
         "name": "Age",
         "rawType": "float64",
         "type": "float"
        },
        {
         "name": "Height",
         "rawType": "float64",
         "type": "float"
        },
        {
         "name": "Weight",
         "rawType": "float64",
         "type": "float"
        },
        {
         "name": "FCVC",
         "rawType": "float64",
         "type": "float"
        },
        {
         "name": "NCP",
         "rawType": "float64",
         "type": "float"
        },
        {
         "name": "CH2O",
         "rawType": "float64",
         "type": "float"
        },
        {
         "name": "FAF",
         "rawType": "float64",
         "type": "float"
        },
        {
         "name": "TUE",
         "rawType": "float64",
         "type": "float"
        }
       ],
       "conversionMethod": "pd.DataFrame",
       "ref": "dc3e61d5-bef9-4a38-8296-75ef973cb4b2",
       "rows": [
        [
         "0",
         "1.6845234469486279",
         "-0.017981394952780436",
         "-0.6334190836450437",
         "1.088341755265735",
         "2.9753281769666495",
         "-3.2767368776657366",
         "2.3397501195133885",
         "5.489860905766875"
        ]
       ],
       "shape": {
        "columns": 8,
        "rows": 1
       }
      },
      "text/html": [
       "<div>\n",
       "<style scoped>\n",
       "    .dataframe tbody tr th:only-of-type {\n",
       "        vertical-align: middle;\n",
       "    }\n",
       "\n",
       "    .dataframe tbody tr th {\n",
       "        vertical-align: top;\n",
       "    }\n",
       "\n",
       "    .dataframe thead th {\n",
       "        text-align: right;\n",
       "    }\n",
       "</style>\n",
       "<table border=\"1\" class=\"dataframe\">\n",
       "  <thead>\n",
       "    <tr style=\"text-align: right;\">\n",
       "      <th></th>\n",
       "      <th>Age</th>\n",
       "      <th>Height</th>\n",
       "      <th>Weight</th>\n",
       "      <th>FCVC</th>\n",
       "      <th>NCP</th>\n",
       "      <th>CH2O</th>\n",
       "      <th>FAF</th>\n",
       "      <th>TUE</th>\n",
       "    </tr>\n",
       "  </thead>\n",
       "  <tbody>\n",
       "    <tr>\n",
       "      <th>0</th>\n",
       "      <td>1.684523</td>\n",
       "      <td>-0.017981</td>\n",
       "      <td>-0.633419</td>\n",
       "      <td>1.088342</td>\n",
       "      <td>2.975328</td>\n",
       "      <td>-3.276737</td>\n",
       "      <td>2.33975</td>\n",
       "      <td>5.489861</td>\n",
       "    </tr>\n",
       "  </tbody>\n",
       "</table>\n",
       "</div>"
      ],
      "text/plain": [
       "        Age    Height    Weight      FCVC       NCP      CH2O      FAF  \\\n",
       "0  1.684523 -0.017981 -0.633419  1.088342  2.975328 -3.276737  2.33975   \n",
       "\n",
       "        TUE  \n",
       "0  5.489861  "
      ]
     },
     "execution_count": 29,
     "metadata": {},
     "output_type": "execute_result"
    }
   ],
   "source": [
    "#here the new data is scaled\n",
    "new"
   ]
  },
  {
   "cell_type": "code",
   "execution_count": 30,
   "metadata": {},
   "outputs": [
    {
     "name": "stdout",
     "output_type": "stream",
     "text": [
      "The gender is female!\n"
     ]
    }
   ],
   "source": [
    "#let's predict the new data\n",
    "prediction1 = log_reg_model.predict(new)\n",
    "if prediction1 == 0:\n",
    "     print(\"The gender is female!\")\n",
    "else:\n",
    "     print(\"The gender is male !\")"
   ]
  },
  {
   "cell_type": "code",
   "execution_count": 31,
   "metadata": {},
   "outputs": [
    {
     "data": {
      "application/vnd.microsoft.datawrangler.viewer.v0+json": {
       "columns": [
        {
         "name": "index",
         "rawType": "int64",
         "type": "integer"
        },
        {
         "name": "Age",
         "rawType": "float64",
         "type": "float"
        },
        {
         "name": "Height",
         "rawType": "float64",
         "type": "float"
        },
        {
         "name": "Weight",
         "rawType": "float64",
         "type": "float"
        },
        {
         "name": "FCVC",
         "rawType": "float64",
         "type": "float"
        },
        {
         "name": "NCP",
         "rawType": "float64",
         "type": "float"
        },
        {
         "name": "CH2O",
         "rawType": "float64",
         "type": "float"
        },
        {
         "name": "FAF",
         "rawType": "float64",
         "type": "float"
        },
        {
         "name": "TUE",
         "rawType": "float64",
         "type": "float"
        }
       ],
       "conversionMethod": "pd.DataFrame",
       "ref": "5e4f6b9b-ee82-472b-a599-961f09b78825",
       "rows": [
        [
         "0",
         "9.56540856652071",
         "12.846137824233123",
         "-0.2515205765888294",
         "1.088341755265735",
         "2.9753281769666495",
         "-3.2767368776657366",
         "2.3397501195133885",
         "127.0438434080155"
        ]
       ],
       "shape": {
        "columns": 8,
        "rows": 1
       }
      },
      "text/html": [
       "<div>\n",
       "<style scoped>\n",
       "    .dataframe tbody tr th:only-of-type {\n",
       "        vertical-align: middle;\n",
       "    }\n",
       "\n",
       "    .dataframe tbody tr th {\n",
       "        vertical-align: top;\n",
       "    }\n",
       "\n",
       "    .dataframe thead th {\n",
       "        text-align: right;\n",
       "    }\n",
       "</style>\n",
       "<table border=\"1\" class=\"dataframe\">\n",
       "  <thead>\n",
       "    <tr style=\"text-align: right;\">\n",
       "      <th></th>\n",
       "      <th>Age</th>\n",
       "      <th>Height</th>\n",
       "      <th>Weight</th>\n",
       "      <th>FCVC</th>\n",
       "      <th>NCP</th>\n",
       "      <th>CH2O</th>\n",
       "      <th>FAF</th>\n",
       "      <th>TUE</th>\n",
       "    </tr>\n",
       "  </thead>\n",
       "  <tbody>\n",
       "    <tr>\n",
       "      <th>0</th>\n",
       "      <td>9.565409</td>\n",
       "      <td>12.846138</td>\n",
       "      <td>-0.251521</td>\n",
       "      <td>1.088342</td>\n",
       "      <td>2.975328</td>\n",
       "      <td>-3.276737</td>\n",
       "      <td>2.33975</td>\n",
       "      <td>127.043843</td>\n",
       "    </tr>\n",
       "  </tbody>\n",
       "</table>\n",
       "</div>"
      ],
      "text/plain": [
       "        Age     Height    Weight      FCVC       NCP      CH2O      FAF  \\\n",
       "0  9.565409  12.846138 -0.251521  1.088342  2.975328 -3.276737  2.33975   \n",
       "\n",
       "          TUE  \n",
       "0  127.043843  "
      ]
     },
     "execution_count": 31,
     "metadata": {},
     "output_type": "execute_result"
    }
   ],
   "source": [
    "#let's predict the new data2 \n",
    "new_data2 = [[85,2.9,80,3,5,0,3,78]]\n",
    "# let's scale the new data2\n",
    "new2 = pd.DataFrame(scaler.transform(new_data2), columns = data_encoded.columns[:-1])\n",
    "new2"
   ]
  },
  {
   "cell_type": "code",
   "execution_count": 32,
   "metadata": {},
   "outputs": [
    {
     "name": "stdout",
     "output_type": "stream",
     "text": [
      "The gender is male !\n"
     ]
    }
   ],
   "source": [
    "#let's predict the new data2\n",
    "prediction2 = log_reg_model.predict(new2)\n",
    "if prediction2 == 0:\n",
    "     print(\"The gender is female !\")\n",
    "else:\n",
    "     print(\"The gender is male !\")"
   ]
  },
  {
   "cell_type": "markdown",
   "metadata": {},
   "source": [
    "## *CONCLUSIONS*"
   ]
  },
  {
   "cell_type": "markdown",
   "metadata": {},
   "source": [
    "### The model is good , it has an accuracy of about 80% ."
   ]
  },
  {
   "cell_type": "markdown",
   "metadata": {},
   "source": [
    "# 2 LINEAR REGRESSION"
   ]
  },
  {
   "cell_type": "code",
   "execution_count": 33,
   "metadata": {},
   "outputs": [
    {
     "data": {
      "text/plain": [
       "'\\n\\n     #Dataset Information\\n\\nThe market historical data set of real estate valuation are collected from Sindian Dist., New Taipei City, Taiwan. \\nThe â€œreal estate valuationâ€\\x9d is a regression problem.\\nThe data set was randomly split into the training data set (2/3 samples) and the testing data set (1/3 samples).\\n\\n'"
      ]
     },
     "execution_count": 33,
     "metadata": {},
     "output_type": "execute_result"
    }
   ],
   "source": [
    "#link to the dataset : https://archive.ics.uci.edu/dataset/477/real+estate+valuation+data+set\n",
    "from ucimlrepo import fetch_ucirepo \n",
    "  \n",
    "# fetch dataset \n",
    "real_estate_valuation = fetch_ucirepo(id=477) \n",
    "  \n",
    "# data (as pandas dataframes) \n",
    "data2 = real_estate_valuation.data.features \n",
    "target2 = real_estate_valuation.data.targets \n",
    "'''\n",
    "\n",
    "     #Dataset Information\n",
    "\n",
    "The market historical data set of real estate valuation are collected from Sindian Dist., New Taipei City, Taiwan. \n",
    "The â€œreal estate valuationâ€ is a regression problem.\n",
    "The data set was randomly split into the training data set (2/3 samples) and the testing data set (1/3 samples).\n",
    "\n",
    "'''"
   ]
  },
  {
   "cell_type": "markdown",
   "metadata": {},
   "source": [
    "## Linear Regression is a supervised learning algorithm used for predicting continuous values. \n",
    "## It models the relationship between one or more independent variables (X) \n",
    "## and a dependent variable (y) by fitting a linear equation"
   ]
  },
  {
   "cell_type": "markdown",
   "metadata": {},
   "source": [
    "### DATA PREPARATION AND EDA"
   ]
  },
  {
   "cell_type": "code",
   "execution_count": 34,
   "metadata": {},
   "outputs": [
    {
     "data": {
      "application/vnd.microsoft.datawrangler.viewer.v0+json": {
       "columns": [
        {
         "name": "index",
         "rawType": "int64",
         "type": "integer"
        },
        {
         "name": "X1 transaction date",
         "rawType": "float64",
         "type": "float"
        },
        {
         "name": "X2 house age",
         "rawType": "float64",
         "type": "float"
        },
        {
         "name": "X3 distance to the nearest MRT station",
         "rawType": "float64",
         "type": "float"
        },
        {
         "name": "X4 number of convenience stores",
         "rawType": "int64",
         "type": "integer"
        },
        {
         "name": "X5 latitude",
         "rawType": "float64",
         "type": "float"
        },
        {
         "name": "X6 longitude",
         "rawType": "float64",
         "type": "float"
        }
       ],
       "conversionMethod": "pd.DataFrame",
       "ref": "f33d29f0-93c8-4c0d-a363-4034442dedf7",
       "rows": [
        [
         "0",
         "2012.917",
         "32.0",
         "84.87882",
         "10",
         "24.98298",
         "121.54024"
        ],
        [
         "1",
         "2012.917",
         "19.5",
         "306.5947",
         "9",
         "24.98034",
         "121.53951"
        ],
        [
         "2",
         "2013.583",
         "13.3",
         "561.9845",
         "5",
         "24.98746",
         "121.54391"
        ],
        [
         "3",
         "2013.5",
         "13.3",
         "561.9845",
         "5",
         "24.98746",
         "121.54391"
        ],
        [
         "4",
         "2012.833",
         "5.0",
         "390.5684",
         "5",
         "24.97937",
         "121.54245"
        ]
       ],
       "shape": {
        "columns": 6,
        "rows": 5
       }
      },
      "text/html": [
       "<div>\n",
       "<style scoped>\n",
       "    .dataframe tbody tr th:only-of-type {\n",
       "        vertical-align: middle;\n",
       "    }\n",
       "\n",
       "    .dataframe tbody tr th {\n",
       "        vertical-align: top;\n",
       "    }\n",
       "\n",
       "    .dataframe thead th {\n",
       "        text-align: right;\n",
       "    }\n",
       "</style>\n",
       "<table border=\"1\" class=\"dataframe\">\n",
       "  <thead>\n",
       "    <tr style=\"text-align: right;\">\n",
       "      <th></th>\n",
       "      <th>X1 transaction date</th>\n",
       "      <th>X2 house age</th>\n",
       "      <th>X3 distance to the nearest MRT station</th>\n",
       "      <th>X4 number of convenience stores</th>\n",
       "      <th>X5 latitude</th>\n",
       "      <th>X6 longitude</th>\n",
       "    </tr>\n",
       "  </thead>\n",
       "  <tbody>\n",
       "    <tr>\n",
       "      <th>0</th>\n",
       "      <td>2012.917</td>\n",
       "      <td>32.0</td>\n",
       "      <td>84.87882</td>\n",
       "      <td>10</td>\n",
       "      <td>24.98298</td>\n",
       "      <td>121.54024</td>\n",
       "    </tr>\n",
       "    <tr>\n",
       "      <th>1</th>\n",
       "      <td>2012.917</td>\n",
       "      <td>19.5</td>\n",
       "      <td>306.59470</td>\n",
       "      <td>9</td>\n",
       "      <td>24.98034</td>\n",
       "      <td>121.53951</td>\n",
       "    </tr>\n",
       "    <tr>\n",
       "      <th>2</th>\n",
       "      <td>2013.583</td>\n",
       "      <td>13.3</td>\n",
       "      <td>561.98450</td>\n",
       "      <td>5</td>\n",
       "      <td>24.98746</td>\n",
       "      <td>121.54391</td>\n",
       "    </tr>\n",
       "    <tr>\n",
       "      <th>3</th>\n",
       "      <td>2013.500</td>\n",
       "      <td>13.3</td>\n",
       "      <td>561.98450</td>\n",
       "      <td>5</td>\n",
       "      <td>24.98746</td>\n",
       "      <td>121.54391</td>\n",
       "    </tr>\n",
       "    <tr>\n",
       "      <th>4</th>\n",
       "      <td>2012.833</td>\n",
       "      <td>5.0</td>\n",
       "      <td>390.56840</td>\n",
       "      <td>5</td>\n",
       "      <td>24.97937</td>\n",
       "      <td>121.54245</td>\n",
       "    </tr>\n",
       "  </tbody>\n",
       "</table>\n",
       "</div>"
      ],
      "text/plain": [
       "   X1 transaction date  X2 house age  X3 distance to the nearest MRT station  \\\n",
       "0             2012.917          32.0                                84.87882   \n",
       "1             2012.917          19.5                               306.59470   \n",
       "2             2013.583          13.3                               561.98450   \n",
       "3             2013.500          13.3                               561.98450   \n",
       "4             2012.833           5.0                               390.56840   \n",
       "\n",
       "   X4 number of convenience stores  X5 latitude  X6 longitude  \n",
       "0                               10     24.98298     121.54024  \n",
       "1                                9     24.98034     121.53951  \n",
       "2                                5     24.98746     121.54391  \n",
       "3                                5     24.98746     121.54391  \n",
       "4                                5     24.97937     121.54245  "
      ]
     },
     "execution_count": 34,
     "metadata": {},
     "output_type": "execute_result"
    }
   ],
   "source": [
    "#load the 5 rows of the dataset (input)\n",
    "data2.head()"
   ]
  },
  {
   "cell_type": "code",
   "execution_count": 35,
   "metadata": {},
   "outputs": [
    {
     "data": {
      "text/plain": [
       "X1 transaction date                       0\n",
       "X2 house age                              0\n",
       "X3 distance to the nearest MRT station    0\n",
       "X4 number of convenience stores           0\n",
       "X5 latitude                               0\n",
       "X6 longitude                              0\n",
       "dtype: int64"
      ]
     },
     "execution_count": 35,
     "metadata": {},
     "output_type": "execute_result"
    }
   ],
   "source": [
    "# check for null values\n",
    "data2.isnull().sum()"
   ]
  },
  {
   "cell_type": "code",
   "execution_count": 36,
   "metadata": {},
   "outputs": [
    {
     "name": "stderr",
     "output_type": "stream",
     "text": [
      "C:\\Users\\KOVVO\\AppData\\Local\\Temp\\ipykernel_25660\\840542019.py:1: SettingWithCopyWarning:\n",
      "\n",
      "\n",
      "A value is trying to be set on a copy of a slice from a DataFrame\n",
      "\n",
      "See the caveats in the documentation: https://pandas.pydata.org/pandas-docs/stable/user_guide/indexing.html#returning-a-view-versus-a-copy\n",
      "\n"
     ]
    },
    {
     "data": {
      "application/vnd.microsoft.datawrangler.viewer.v0+json": {
       "columns": [
        {
         "name": "index",
         "rawType": "int64",
         "type": "integer"
        },
        {
         "name": "X1",
         "rawType": "float64",
         "type": "float"
        },
        {
         "name": "X2",
         "rawType": "float64",
         "type": "float"
        },
        {
         "name": "X3",
         "rawType": "float64",
         "type": "float"
        },
        {
         "name": "X4",
         "rawType": "int64",
         "type": "integer"
        },
        {
         "name": "X5",
         "rawType": "float64",
         "type": "float"
        },
        {
         "name": "X6",
         "rawType": "float64",
         "type": "float"
        }
       ],
       "conversionMethod": "pd.DataFrame",
       "ref": "68809ac4-02bd-49b9-bb0c-2ddee9dbc42c",
       "rows": [
        [
         "0",
         "2012.917",
         "32.0",
         "84.87882",
         "10",
         "24.98298",
         "121.54024"
        ],
        [
         "1",
         "2012.917",
         "19.5",
         "306.5947",
         "9",
         "24.98034",
         "121.53951"
        ],
        [
         "2",
         "2013.583",
         "13.3",
         "561.9845",
         "5",
         "24.98746",
         "121.54391"
        ],
        [
         "3",
         "2013.5",
         "13.3",
         "561.9845",
         "5",
         "24.98746",
         "121.54391"
        ],
        [
         "4",
         "2012.833",
         "5.0",
         "390.5684",
         "5",
         "24.97937",
         "121.54245"
        ]
       ],
       "shape": {
        "columns": 6,
        "rows": 5
       }
      },
      "text/html": [
       "<div>\n",
       "<style scoped>\n",
       "    .dataframe tbody tr th:only-of-type {\n",
       "        vertical-align: middle;\n",
       "    }\n",
       "\n",
       "    .dataframe tbody tr th {\n",
       "        vertical-align: top;\n",
       "    }\n",
       "\n",
       "    .dataframe thead th {\n",
       "        text-align: right;\n",
       "    }\n",
       "</style>\n",
       "<table border=\"1\" class=\"dataframe\">\n",
       "  <thead>\n",
       "    <tr style=\"text-align: right;\">\n",
       "      <th></th>\n",
       "      <th>X1</th>\n",
       "      <th>X2</th>\n",
       "      <th>X3</th>\n",
       "      <th>X4</th>\n",
       "      <th>X5</th>\n",
       "      <th>X6</th>\n",
       "    </tr>\n",
       "  </thead>\n",
       "  <tbody>\n",
       "    <tr>\n",
       "      <th>0</th>\n",
       "      <td>2012.917</td>\n",
       "      <td>32.0</td>\n",
       "      <td>84.87882</td>\n",
       "      <td>10</td>\n",
       "      <td>24.98298</td>\n",
       "      <td>121.54024</td>\n",
       "    </tr>\n",
       "    <tr>\n",
       "      <th>1</th>\n",
       "      <td>2012.917</td>\n",
       "      <td>19.5</td>\n",
       "      <td>306.59470</td>\n",
       "      <td>9</td>\n",
       "      <td>24.98034</td>\n",
       "      <td>121.53951</td>\n",
       "    </tr>\n",
       "    <tr>\n",
       "      <th>2</th>\n",
       "      <td>2013.583</td>\n",
       "      <td>13.3</td>\n",
       "      <td>561.98450</td>\n",
       "      <td>5</td>\n",
       "      <td>24.98746</td>\n",
       "      <td>121.54391</td>\n",
       "    </tr>\n",
       "    <tr>\n",
       "      <th>3</th>\n",
       "      <td>2013.500</td>\n",
       "      <td>13.3</td>\n",
       "      <td>561.98450</td>\n",
       "      <td>5</td>\n",
       "      <td>24.98746</td>\n",
       "      <td>121.54391</td>\n",
       "    </tr>\n",
       "    <tr>\n",
       "      <th>4</th>\n",
       "      <td>2012.833</td>\n",
       "      <td>5.0</td>\n",
       "      <td>390.56840</td>\n",
       "      <td>5</td>\n",
       "      <td>24.97937</td>\n",
       "      <td>121.54245</td>\n",
       "    </tr>\n",
       "  </tbody>\n",
       "</table>\n",
       "</div>"
      ],
      "text/plain": [
       "         X1    X2         X3  X4        X5         X6\n",
       "0  2012.917  32.0   84.87882  10  24.98298  121.54024\n",
       "1  2012.917  19.5  306.59470   9  24.98034  121.53951\n",
       "2  2013.583  13.3  561.98450   5  24.98746  121.54391\n",
       "3  2013.500  13.3  561.98450   5  24.98746  121.54391\n",
       "4  2012.833   5.0  390.56840   5  24.97937  121.54245"
      ]
     },
     "execution_count": 36,
     "metadata": {},
     "output_type": "execute_result"
    }
   ],
   "source": [
    "data2.rename(columns={\n",
    "    'X1 transaction date': 'X1',\n",
    "    'X2 house age': 'X2',\n",
    "    'X3 distance to the nearest MRT station': 'X3',\n",
    "    'X4 number of convenience stores': 'X4',\n",
    "    'X5 latitude': 'X5',\n",
    "    'X6 longitude': 'X6'\n",
    "}, inplace=True)\n",
    "data2.head()"
   ]
  },
  {
   "cell_type": "code",
   "execution_count": 37,
   "metadata": {},
   "outputs": [
    {
     "data": {
      "text/plain": [
       "0      2012.917\n",
       "1      2012.917\n",
       "2      2013.583\n",
       "3      2013.500\n",
       "4      2012.833\n",
       "         ...   \n",
       "409    2013.000\n",
       "410    2012.667\n",
       "411    2013.250\n",
       "412    2013.000\n",
       "413    2013.500\n",
       "Name: X1, Length: 414, dtype: float64"
      ]
     },
     "execution_count": 37,
     "metadata": {},
     "output_type": "execute_result"
    }
   ],
   "source": [
    "data2[\"X1\"]"
   ]
  },
  {
   "cell_type": "code",
   "execution_count": 38,
   "metadata": {},
   "outputs": [
    {
     "data": {
      "image/png": "[encoded data removed]",
      "text/plain": [
       "<Figure size 640x480 with 1 Axes>"
      ]
     },
     "metadata": {},
     "output_type": "display_data"
    },
    {
     "data": {
      "image/png": "[encoded data removed]",
      "text/plain": [
       "<Figure size 640x480 with 1 Axes>"
      ]
     },
     "metadata": {},
     "output_type": "display_data"
    },
    {
     "data": {
      "image/png": "[encoded data removed]",
      "text/plain": [
       "<Figure size 640x480 with 1 Axes>"
      ]
     },
     "metadata": {},
     "output_type": "display_data"
    },
    {
     "data": {
      "image/png": "[encoded data removed]",
      "text/plain": [
       "<Figure size 640x480 with 1 Axes>"
      ]
     },
     "metadata": {},
     "output_type": "display_data"
    },
    {
     "data": {
      "image/png": "[encoded data removed]",
      "text/plain": [
       "<Figure size 640x480 with 1 Axes>"
      ]
     },
     "metadata": {},
     "output_type": "display_data"
    },
    {
     "data": {
      "image/png": "[encoded data removed]",
      "text/plain": [
       "<Figure size 640x480 with 1 Axes>"
      ]
     },
     "metadata": {},
     "output_type": "display_data"
    }
   ],
   "source": [
    "for i in range(len(data2.columns)):\n",
    "        sns.boxplot(data2[data2.columns[i]])\n",
    "        plt.title(data2.columns[i])\n",
    "        plt.show()"
   ]
  },
  {
   "cell_type": "code",
   "execution_count": 39,
   "metadata": {},
   "outputs": [
    {
     "name": "stdout",
     "output_type": "stream",
     "text": [
      "<class 'pandas.core.frame.DataFrame'>\n",
      "RangeIndex: 414 entries, 0 to 413\n",
      "Data columns (total 6 columns):\n",
      " #   Column  Non-Null Count  Dtype  \n",
      "---  ------  --------------  -----  \n",
      " 0   X1      414 non-null    float64\n",
      " 1   X2      414 non-null    float64\n",
      " 2   X3      414 non-null    float64\n",
      " 3   X4      414 non-null    int64  \n",
      " 4   X5      414 non-null    float64\n",
      " 5   X6      414 non-null    float64\n",
      "dtypes: float64(5), int64(1)\n",
      "memory usage: 19.5 KB\n",
      "None\n"
     ]
    }
   ],
   "source": [
    "\n",
    "print(data2.info())\n",
    "      "
   ]
  },
  {
   "cell_type": "code",
   "execution_count": 40,
   "metadata": {},
   "outputs": [
    {
     "name": "stdout",
     "output_type": "stream",
     "text": [
      "                X1          X2           X3          X4          X5  \\\n",
      "count   414.000000  414.000000   414.000000  414.000000  414.000000   \n",
      "mean   2013.148971   17.712560  1083.885689    4.094203   24.969030   \n",
      "std       0.281967   11.392485  1262.109595    2.945562    0.012410   \n",
      "min    2012.667000    0.000000    23.382840    0.000000   24.932070   \n",
      "25%    2012.917000    9.025000   289.324800    1.000000   24.963000   \n",
      "50%    2013.167000   16.100000   492.231300    4.000000   24.971100   \n",
      "75%    2013.417000   28.150000  1454.279000    6.000000   24.977455   \n",
      "max    2013.583000   43.800000  6488.021000   10.000000   25.014590   \n",
      "\n",
      "               X6  \n",
      "count  414.000000  \n",
      "mean   121.533361  \n",
      "std      0.015347  \n",
      "min    121.473530  \n",
      "25%    121.528085  \n",
      "50%    121.538630  \n",
      "75%    121.543305  \n",
      "max    121.566270  \n"
     ]
    }
   ],
   "source": [
    "#some statistics analysis\n",
    "print(data2.describe())"
   ]
  },
  {
   "cell_type": "code",
   "execution_count": 41,
   "metadata": {},
   "outputs": [
    {
     "data": {
      "application/vnd.microsoft.datawrangler.viewer.v0+json": {
       "columns": [
        {
         "name": "index",
         "rawType": "int64",
         "type": "integer"
        },
        {
         "name": "Y house price of unit area",
         "rawType": "float64",
         "type": "float"
        }
       ],
       "conversionMethod": "pd.DataFrame",
       "ref": "6de66766-f2e7-40ea-bd6f-a64cd97d1415",
       "rows": [
        [
         "0",
         "37.9"
        ],
        [
         "1",
         "42.2"
        ],
        [
         "2",
         "47.3"
        ],
        [
         "3",
         "54.8"
        ],
        [
         "4",
         "43.1"
        ]
       ],
       "shape": {
        "columns": 1,
        "rows": 5
       }
      },
      "text/html": [
       "<div>\n",
       "<style scoped>\n",
       "    .dataframe tbody tr th:only-of-type {\n",
       "        vertical-align: middle;\n",
       "    }\n",
       "\n",
       "    .dataframe tbody tr th {\n",
       "        vertical-align: top;\n",
       "    }\n",
       "\n",
       "    .dataframe thead th {\n",
       "        text-align: right;\n",
       "    }\n",
       "</style>\n",
       "<table border=\"1\" class=\"dataframe\">\n",
       "  <thead>\n",
       "    <tr style=\"text-align: right;\">\n",
       "      <th></th>\n",
       "      <th>Y house price of unit area</th>\n",
       "    </tr>\n",
       "  </thead>\n",
       "  <tbody>\n",
       "    <tr>\n",
       "      <th>0</th>\n",
       "      <td>37.9</td>\n",
       "    </tr>\n",
       "    <tr>\n",
       "      <th>1</th>\n",
       "      <td>42.2</td>\n",
       "    </tr>\n",
       "    <tr>\n",
       "      <th>2</th>\n",
       "      <td>47.3</td>\n",
       "    </tr>\n",
       "    <tr>\n",
       "      <th>3</th>\n",
       "      <td>54.8</td>\n",
       "    </tr>\n",
       "    <tr>\n",
       "      <th>4</th>\n",
       "      <td>43.1</td>\n",
       "    </tr>\n",
       "  </tbody>\n",
       "</table>\n",
       "</div>"
      ],
      "text/plain": [
       "   Y house price of unit area\n",
       "0                        37.9\n",
       "1                        42.2\n",
       "2                        47.3\n",
       "3                        54.8\n",
       "4                        43.1"
      ]
     },
     "execution_count": 41,
     "metadata": {},
     "output_type": "execute_result"
    }
   ],
   "source": [
    "#load th 5 rows of the dataset (target)\n",
    "target2.head()"
   ]
  },
  {
   "cell_type": "code",
   "execution_count": 42,
   "metadata": {},
   "outputs": [],
   "source": [
    "#The inputs are as follows: \n",
    "\n",
    "          #X1=the transaction date (for example, 2013.250=2013 March, 2013.500=2013 June, etc.)\n",
    "          #X2=the house age (unit: year)\n",
    "          #X3=the distance to the nearest MRT station (unit: meter)\n",
    "          #X4=the number of convenience stores in the living circle on foot (integer)\n",
    "          #X5=the geographic coordinate, latitude. (unit: degree)\n",
    "          #X6=the geographic coordinate, longitude. (unit: degree)\n",
    "\n",
    "#The output is as follow: \n",
    "\n",
    "     #Y= house price of unit area \n",
    "     # (10000 New Taiwan Dollar/Ping, where Ping is a local unit, 1 Ping = 3.3 meter squared)"
   ]
  },
  {
   "cell_type": "markdown",
   "metadata": {},
   "source": [
    "### DATA PREPROCESSING  & MODEL SELECTION"
   ]
  },
  {
   "cell_type": "code",
   "execution_count": 43,
   "metadata": {},
   "outputs": [],
   "source": [
    "# Importing the libraries\n",
    "import numpy as np\n",
    "import pandas as pd\n",
    "import matplotlib.pyplot as plt\n",
    "import seaborn as sns"
   ]
  },
  {
   "cell_type": "code",
   "execution_count": 44,
   "metadata": {},
   "outputs": [
    {
     "name": "stdout",
     "output_type": "stream",
     "text": [
      "         X1        X2        X3        X4        X5        X6\n",
      "0 -0.823683  1.255628 -0.792495  2.007407  1.125430  0.448762\n",
      "1 -0.823683  0.157086 -0.616612  1.667503  0.912444  0.401139\n",
      "2  1.541151 -0.387791 -0.414015  0.307885  1.486860  0.688183\n",
      "3  1.246435 -0.387791 -0.414015  0.307885  1.486860  0.688183\n",
      "4 -1.121951 -1.117223 -0.549997  0.307885  0.834188  0.592937\n"
     ]
    }
   ],
   "source": [
    "\n",
    "# Splitting the dataset into the Training set and Test set \n",
    "\n",
    "from sklearn.preprocessing import StandardScaler\n",
    "from sklearn.model_selection import train_test_split\n",
    "X =data2.values\n",
    "y = target2.values\n",
    "\n",
    "'''\n",
    "# why scaling is important?\n",
    "# because the range of values of raw data varies widely\n",
    "# so, the range of all features should be standardized so \n",
    "that each feature contributes approximately proportionately to the final distance\n",
    "\n",
    "'''\n",
    "\n",
    "scaler_X = StandardScaler()\n",
    "\n",
    "\n",
    "\n",
    "X_scaled = scaler_X.fit_transform(X)\n",
    "\n",
    "\n",
    "data_scaled = pd.DataFrame(scaler.fit_transform(X), columns = data2.columns)\n",
    "\n",
    "X_train, X_test, y_train, y_test = train_test_split(data_scaled, y, test_size=0.2, random_state=0)\n",
    "print(data_scaled.head())"
   ]
  },
  {
   "cell_type": "code",
   "execution_count": 45,
   "metadata": {},
   "outputs": [
    {
     "data": {
      "text/plain": [
       "array([37.9])"
      ]
     },
     "execution_count": 45,
     "metadata": {},
     "output_type": "execute_result"
    }
   ],
   "source": [
    "y[0]"
   ]
  },
  {
   "cell_type": "code",
   "execution_count": 46,
   "metadata": {},
   "outputs": [
    {
     "data": {
      "text/plain": [
       "array([40.09548022])"
      ]
     },
     "execution_count": 46,
     "metadata": {},
     "output_type": "execute_result"
    }
   ],
   "source": [
    "from sklearn.linear_model import LinearRegression\n",
    "\n",
    "# Create a Linear Regression model\n",
    "lin_reg = LinearRegression()\n",
    "\n",
    "# Train the model\n",
    "\n",
    "lin_reg.fit(X_train, y_train)\n",
    "\n",
    "# Make predictions on the test set\n",
    "\n",
    "y_pred = lin_reg.predict(X_test)\n",
    "\n",
    "y_pred[0]\n",
    "\n"
   ]
  },
  {
   "cell_type": "markdown",
   "metadata": {},
   "source": [
    "### MODEL EVALUATION"
   ]
  },
  {
   "cell_type": "code",
   "execution_count": 47,
   "metadata": {},
   "outputs": [
    {
     "name": "stdout",
     "output_type": "stream",
     "text": [
      "Mean Absolute Error: 5.760226029972716\n",
      "Mean Squared Error: 59.522435319028915\n",
      "Root Mean Squared Error: 7.715078438942077\n"
     ]
    }
   ],
   "source": [
    "#evaluation of the regression\n",
    "\n",
    "from sklearn import metrics\n",
    "\n",
    "\n",
    "print('Mean Absolute Error:', metrics.mean_absolute_error(y_test, y_pred))\n",
    "\n",
    "\n",
    "print('Mean Squared Error:', metrics.mean_squared_error(y_test, y_pred))\n",
    "\n",
    "print('Root Mean Squared Error:', np.sqrt(metrics.mean_squared_error(y_test,y_pred)))"
   ]
  },
  {
   "cell_type": "markdown",
   "metadata": {},
   "source": [
    "#### Let's see the coefficients"
   ]
  },
  {
   "cell_type": "code",
   "execution_count": 48,
   "metadata": {},
   "outputs": [
    {
     "data": {
      "application/vnd.microsoft.datawrangler.viewer.v0+json": {
       "columns": [
        {
         "name": "index",
         "rawType": "int64",
         "type": "integer"
        },
        {
         "name": "0",
         "rawType": "float64",
         "type": "float"
        },
        {
         "name": "1",
         "rawType": "float64",
         "type": "float"
        },
        {
         "name": "2",
         "rawType": "float64",
         "type": "float"
        },
        {
         "name": "3",
         "rawType": "float64",
         "type": "float"
        },
        {
         "name": "4",
         "rawType": "float64",
         "type": "float"
        },
        {
         "name": "5",
         "rawType": "float64",
         "type": "float"
        }
       ],
       "conversionMethod": "pd.DataFrame",
       "ref": "afb703ca-447f-4243-9981-c62053903d75",
       "rows": [
        [
         "0",
         "1.4138700545393723",
         "-2.994111559362859",
         "-5.626561552253607",
         "3.214374361678816",
         "2.794979913122722",
         "-0.10433411820816829"
        ]
       ],
       "shape": {
        "columns": 6,
        "rows": 1
       }
      },
      "text/html": [
       "<div>\n",
       "<style scoped>\n",
       "    .dataframe tbody tr th:only-of-type {\n",
       "        vertical-align: middle;\n",
       "    }\n",
       "\n",
       "    .dataframe tbody tr th {\n",
       "        vertical-align: top;\n",
       "    }\n",
       "\n",
       "    .dataframe thead th {\n",
       "        text-align: right;\n",
       "    }\n",
       "</style>\n",
       "<table border=\"1\" class=\"dataframe\">\n",
       "  <thead>\n",
       "    <tr style=\"text-align: right;\">\n",
       "      <th></th>\n",
       "      <th>0</th>\n",
       "      <th>1</th>\n",
       "      <th>2</th>\n",
       "      <th>3</th>\n",
       "      <th>4</th>\n",
       "      <th>5</th>\n",
       "    </tr>\n",
       "  </thead>\n",
       "  <tbody>\n",
       "    <tr>\n",
       "      <th>0</th>\n",
       "      <td>1.41387</td>\n",
       "      <td>-2.994112</td>\n",
       "      <td>-5.626562</td>\n",
       "      <td>3.214374</td>\n",
       "      <td>2.79498</td>\n",
       "      <td>-0.104334</td>\n",
       "    </tr>\n",
       "  </tbody>\n",
       "</table>\n",
       "</div>"
      ],
      "text/plain": [
       "         0         1         2         3        4         5\n",
       "0  1.41387 -2.994112 -5.626562  3.214374  2.79498 -0.104334"
      ]
     },
     "execution_count": 48,
     "metadata": {},
     "output_type": "execute_result"
    }
   ],
   "source": [
    "coeffecients = pd.DataFrame(lin_reg.coef_)\n",
    "coeffecients"
   ]
  },
  {
   "cell_type": "markdown",
   "metadata": {},
   "source": [
    "### Here the intercept"
   ]
  },
  {
   "cell_type": "code",
   "execution_count": 49,
   "metadata": {},
   "outputs": [
    {
     "data": {
      "text/plain": [
       "array([38.0359208])"
      ]
     },
     "execution_count": 49,
     "metadata": {},
     "output_type": "execute_result"
    }
   ],
   "source": [
    "lin_reg.intercept_ "
   ]
  },
  {
   "cell_type": "code",
   "execution_count": 50,
   "metadata": {},
   "outputs": [
    {
     "data": {
      "text/plain": [
       "['model,my_lineair_model.pk1']"
      ]
     },
     "execution_count": 50,
     "metadata": {},
     "output_type": "execute_result"
    }
   ],
   "source": [
    "import joblib\n",
    "#save the model\n",
    "joblib.dump(lin_reg,\"model,my_lineair_model.pk1\")\n"
   ]
  },
  {
   "cell_type": "markdown",
   "metadata": {},
   "source": [
    "## *CONCLUSION*"
   ]
  },
  {
   "cell_type": "markdown",
   "metadata": {},
   "source": [
    "### I choose this model because of the size of the dataset which is small.\n",
    "### The linear regression model is good with the \n",
    "### Mean Absolute Error: 5.760226029972716\n",
    "### Mean Squared Error: 59.522435319028915\n",
    "### Root Mean Squared Error: 7.715078438942077"
   ]
  },
  {
   "cell_type": "markdown",
   "metadata": {},
   "source": [
    "# 3 K Nearest neighbors"
   ]
  },
  {
   "cell_type": "markdown",
   "metadata": {},
   "source": [
    "## K-Nearest Neighbors (KNN) is a supervised learning algorithm used for both classification and regression. It is simple and effective, based on the proximity of data points in feature space."
   ]
  },
  {
   "cell_type": "code",
   "execution_count": 51,
   "metadata": {},
   "outputs": [
    {
     "data": {
      "text/plain": [
       "'\\n               #Dataset Information\\n\\nPredicting the age of abalone from physical measurements.  The age of abalone is determined by cutting the shell through the cone,\\nstaining it, and counting the number of rings through a microscope -- a boring and time-consuming task.  \\nOther measurements, which are easier to obtain, are used to predict the age.  F\\n\\n'"
      ]
     },
     "execution_count": 51,
     "metadata": {},
     "output_type": "execute_result"
    }
   ],
   "source": [
    "# Link to the dataset :https://archive.ics.uci.edu/dataset/1/abalone\n",
    "\n",
    "from ucimlrepo import fetch_ucirepo \n",
    "  \n",
    "# fetch dataset \n",
    "abalone = fetch_ucirepo(id=1) \n",
    "  \n",
    "# data (as pandas dataframes) \n",
    "data3 = abalone.data.features \n",
    "'''\n",
    "               #Dataset Information\n",
    "               \n",
    "Predicting the age of abalone from physical measurements.  The age of abalone is determined by cutting the shell through the cone,\n",
    "staining it, and counting the number of rings through a microscope -- a boring and time-consuming task.  \n",
    "Other measurements, which are easier to obtain, are used to predict the age.  F\n",
    "\n",
    "'''\n"
   ]
  },
  {
   "cell_type": "markdown",
   "metadata": {},
   "source": [
    "### DATA PREPARATION AND EDA"
   ]
  },
  {
   "cell_type": "code",
   "execution_count": 52,
   "metadata": {},
   "outputs": [
    {
     "data": {
      "application/vnd.microsoft.datawrangler.viewer.v0+json": {
       "columns": [
        {
         "name": "index",
         "rawType": "int64",
         "type": "integer"
        },
        {
         "name": "Sex",
         "rawType": "object",
         "type": "string"
        },
        {
         "name": "Length",
         "rawType": "float64",
         "type": "float"
        },
        {
         "name": "Diameter",
         "rawType": "float64",
         "type": "float"
        },
        {
         "name": "Height",
         "rawType": "float64",
         "type": "float"
        },
        {
         "name": "Whole_weight",
         "rawType": "float64",
         "type": "float"
        },
        {
         "name": "Shucked_weight",
         "rawType": "float64",
         "type": "float"
        },
        {
         "name": "Viscera_weight",
         "rawType": "float64",
         "type": "float"
        },
        {
         "name": "Shell_weight",
         "rawType": "float64",
         "type": "float"
        }
       ],
       "conversionMethod": "pd.DataFrame",
       "ref": "1c11ce86-bcd1-4b66-95e0-fde39d8812f6",
       "rows": [
        [
         "0",
         "M",
         "0.455",
         "0.365",
         "0.095",
         "0.514",
         "0.2245",
         "0.101",
         "0.15"
        ],
        [
         "1",
         "M",
         "0.35",
         "0.265",
         "0.09",
         "0.2255",
         "0.0995",
         "0.0485",
         "0.07"
        ],
        [
         "2",
         "F",
         "0.53",
         "0.42",
         "0.135",
         "0.677",
         "0.2565",
         "0.1415",
         "0.21"
        ],
        [
         "3",
         "M",
         "0.44",
         "0.365",
         "0.125",
         "0.516",
         "0.2155",
         "0.114",
         "0.155"
        ],
        [
         "4",
         "I",
         "0.33",
         "0.255",
         "0.08",
         "0.205",
         "0.0895",
         "0.0395",
         "0.055"
        ]
       ],
       "shape": {
        "columns": 8,
        "rows": 5
       }
      },
      "text/html": [
       "<div>\n",
       "<style scoped>\n",
       "    .dataframe tbody tr th:only-of-type {\n",
       "        vertical-align: middle;\n",
       "    }\n",
       "\n",
       "    .dataframe tbody tr th {\n",
       "        vertical-align: top;\n",
       "    }\n",
       "\n",
       "    .dataframe thead th {\n",
       "        text-align: right;\n",
       "    }\n",
       "</style>\n",
       "<table border=\"1\" class=\"dataframe\">\n",
       "  <thead>\n",
       "    <tr style=\"text-align: right;\">\n",
       "      <th></th>\n",
       "      <th>Sex</th>\n",
       "      <th>Length</th>\n",
       "      <th>Diameter</th>\n",
       "      <th>Height</th>\n",
       "      <th>Whole_weight</th>\n",
       "      <th>Shucked_weight</th>\n",
       "      <th>Viscera_weight</th>\n",
       "      <th>Shell_weight</th>\n",
       "    </tr>\n",
       "  </thead>\n",
       "  <tbody>\n",
       "    <tr>\n",
       "      <th>0</th>\n",
       "      <td>M</td>\n",
       "      <td>0.455</td>\n",
       "      <td>0.365</td>\n",
       "      <td>0.095</td>\n",
       "      <td>0.5140</td>\n",
       "      <td>0.2245</td>\n",
       "      <td>0.1010</td>\n",
       "      <td>0.150</td>\n",
       "    </tr>\n",
       "    <tr>\n",
       "      <th>1</th>\n",
       "      <td>M</td>\n",
       "      <td>0.350</td>\n",
       "      <td>0.265</td>\n",
       "      <td>0.090</td>\n",
       "      <td>0.2255</td>\n",
       "      <td>0.0995</td>\n",
       "      <td>0.0485</td>\n",
       "      <td>0.070</td>\n",
       "    </tr>\n",
       "    <tr>\n",
       "      <th>2</th>\n",
       "      <td>F</td>\n",
       "      <td>0.530</td>\n",
       "      <td>0.420</td>\n",
       "      <td>0.135</td>\n",
       "      <td>0.6770</td>\n",
       "      <td>0.2565</td>\n",
       "      <td>0.1415</td>\n",
       "      <td>0.210</td>\n",
       "    </tr>\n",
       "    <tr>\n",
       "      <th>3</th>\n",
       "      <td>M</td>\n",
       "      <td>0.440</td>\n",
       "      <td>0.365</td>\n",
       "      <td>0.125</td>\n",
       "      <td>0.5160</td>\n",
       "      <td>0.2155</td>\n",
       "      <td>0.1140</td>\n",
       "      <td>0.155</td>\n",
       "    </tr>\n",
       "    <tr>\n",
       "      <th>4</th>\n",
       "      <td>I</td>\n",
       "      <td>0.330</td>\n",
       "      <td>0.255</td>\n",
       "      <td>0.080</td>\n",
       "      <td>0.2050</td>\n",
       "      <td>0.0895</td>\n",
       "      <td>0.0395</td>\n",
       "      <td>0.055</td>\n",
       "    </tr>\n",
       "  </tbody>\n",
       "</table>\n",
       "</div>"
      ],
      "text/plain": [
       "  Sex  Length  Diameter  Height  Whole_weight  Shucked_weight  Viscera_weight  \\\n",
       "0   M   0.455     0.365   0.095        0.5140          0.2245          0.1010   \n",
       "1   M   0.350     0.265   0.090        0.2255          0.0995          0.0485   \n",
       "2   F   0.530     0.420   0.135        0.6770          0.2565          0.1415   \n",
       "3   M   0.440     0.365   0.125        0.5160          0.2155          0.1140   \n",
       "4   I   0.330     0.255   0.080        0.2050          0.0895          0.0395   \n",
       "\n",
       "   Shell_weight  \n",
       "0         0.150  \n",
       "1         0.070  \n",
       "2         0.210  \n",
       "3         0.155  \n",
       "4         0.055  "
      ]
     },
     "execution_count": 52,
     "metadata": {},
     "output_type": "execute_result"
    }
   ],
   "source": [
    "data3.head()"
   ]
  },
  {
   "cell_type": "code",
   "execution_count": 53,
   "metadata": {},
   "outputs": [
    {
     "data": {
      "text/plain": [
       "Sex\n",
       "M    1528\n",
       "I    1342\n",
       "F    1307\n",
       "Name: count, dtype: int64"
      ]
     },
     "execution_count": 53,
     "metadata": {},
     "output_type": "execute_result"
    }
   ],
   "source": [
    "data3[\"Sex\"].value_counts()"
   ]
  },
  {
   "cell_type": "code",
   "execution_count": 54,
   "metadata": {},
   "outputs": [
    {
     "data": {
      "application/vnd.microsoft.datawrangler.viewer.v0+json": {
       "columns": [
        {
         "name": "index",
         "rawType": "int64",
         "type": "integer"
        },
        {
         "name": "Sex",
         "rawType": "object",
         "type": "string"
        },
        {
         "name": "Length",
         "rawType": "float64",
         "type": "float"
        },
        {
         "name": "Diameter",
         "rawType": "float64",
         "type": "float"
        },
        {
         "name": "Height",
         "rawType": "float64",
         "type": "float"
        },
        {
         "name": "Whole_weight",
         "rawType": "float64",
         "type": "float"
        },
        {
         "name": "Shucked_weight",
         "rawType": "float64",
         "type": "float"
        },
        {
         "name": "Viscera_weight",
         "rawType": "float64",
         "type": "float"
        },
        {
         "name": "Shell_weight",
         "rawType": "float64",
         "type": "float"
        }
       ],
       "conversionMethod": "pd.DataFrame",
       "ref": "904b3c8f-a46c-49db-9a49-83477ca812f4",
       "rows": [
        [
         "0",
         "M",
         "0.455",
         "0.365",
         "0.095",
         "0.514",
         "0.2245",
         "0.101",
         "0.15"
        ],
        [
         "1",
         "M",
         "0.35",
         "0.265",
         "0.09",
         "0.2255",
         "0.0995",
         "0.0485",
         "0.07"
        ],
        [
         "2",
         "F",
         "0.53",
         "0.42",
         "0.135",
         "0.677",
         "0.2565",
         "0.1415",
         "0.21"
        ],
        [
         "3",
         "M",
         "0.44",
         "0.365",
         "0.125",
         "0.516",
         "0.2155",
         "0.114",
         "0.155"
        ],
        [
         "6",
         "F",
         "0.53",
         "0.415",
         "0.15",
         "0.7775",
         "0.237",
         "0.1415",
         "0.33"
        ]
       ],
       "shape": {
        "columns": 8,
        "rows": 5
       }
      },
      "text/html": [
       "<div>\n",
       "<style scoped>\n",
       "    .dataframe tbody tr th:only-of-type {\n",
       "        vertical-align: middle;\n",
       "    }\n",
       "\n",
       "    .dataframe tbody tr th {\n",
       "        vertical-align: top;\n",
       "    }\n",
       "\n",
       "    .dataframe thead th {\n",
       "        text-align: right;\n",
       "    }\n",
       "</style>\n",
       "<table border=\"1\" class=\"dataframe\">\n",
       "  <thead>\n",
       "    <tr style=\"text-align: right;\">\n",
       "      <th></th>\n",
       "      <th>Sex</th>\n",
       "      <th>Length</th>\n",
       "      <th>Diameter</th>\n",
       "      <th>Height</th>\n",
       "      <th>Whole_weight</th>\n",
       "      <th>Shucked_weight</th>\n",
       "      <th>Viscera_weight</th>\n",
       "      <th>Shell_weight</th>\n",
       "    </tr>\n",
       "  </thead>\n",
       "  <tbody>\n",
       "    <tr>\n",
       "      <th>0</th>\n",
       "      <td>M</td>\n",
       "      <td>0.455</td>\n",
       "      <td>0.365</td>\n",
       "      <td>0.095</td>\n",
       "      <td>0.5140</td>\n",
       "      <td>0.2245</td>\n",
       "      <td>0.1010</td>\n",
       "      <td>0.150</td>\n",
       "    </tr>\n",
       "    <tr>\n",
       "      <th>1</th>\n",
       "      <td>M</td>\n",
       "      <td>0.350</td>\n",
       "      <td>0.265</td>\n",
       "      <td>0.090</td>\n",
       "      <td>0.2255</td>\n",
       "      <td>0.0995</td>\n",
       "      <td>0.0485</td>\n",
       "      <td>0.070</td>\n",
       "    </tr>\n",
       "    <tr>\n",
       "      <th>2</th>\n",
       "      <td>F</td>\n",
       "      <td>0.530</td>\n",
       "      <td>0.420</td>\n",
       "      <td>0.135</td>\n",
       "      <td>0.6770</td>\n",
       "      <td>0.2565</td>\n",
       "      <td>0.1415</td>\n",
       "      <td>0.210</td>\n",
       "    </tr>\n",
       "    <tr>\n",
       "      <th>3</th>\n",
       "      <td>M</td>\n",
       "      <td>0.440</td>\n",
       "      <td>0.365</td>\n",
       "      <td>0.125</td>\n",
       "      <td>0.5160</td>\n",
       "      <td>0.2155</td>\n",
       "      <td>0.1140</td>\n",
       "      <td>0.155</td>\n",
       "    </tr>\n",
       "    <tr>\n",
       "      <th>6</th>\n",
       "      <td>F</td>\n",
       "      <td>0.530</td>\n",
       "      <td>0.415</td>\n",
       "      <td>0.150</td>\n",
       "      <td>0.7775</td>\n",
       "      <td>0.2370</td>\n",
       "      <td>0.1415</td>\n",
       "      <td>0.330</td>\n",
       "    </tr>\n",
       "  </tbody>\n",
       "</table>\n",
       "</div>"
      ],
      "text/plain": [
       "  Sex  Length  Diameter  Height  Whole_weight  Shucked_weight  Viscera_weight  \\\n",
       "0   M   0.455     0.365   0.095        0.5140          0.2245          0.1010   \n",
       "1   M   0.350     0.265   0.090        0.2255          0.0995          0.0485   \n",
       "2   F   0.530     0.420   0.135        0.6770          0.2565          0.1415   \n",
       "3   M   0.440     0.365   0.125        0.5160          0.2155          0.1140   \n",
       "6   F   0.530     0.415   0.150        0.7775          0.2370          0.1415   \n",
       "\n",
       "   Shell_weight  \n",
       "0         0.150  \n",
       "1         0.070  \n",
       "2         0.210  \n",
       "3         0.155  \n",
       "6         0.330  "
      ]
     },
     "execution_count": 54,
     "metadata": {},
     "output_type": "execute_result"
    }
   ],
   "source": [
    "data3_cleaned = data3[~data3.isin(['I']).any(axis=1)]\n",
    "data3_cleaned.head()"
   ]
  },
  {
   "cell_type": "code",
   "execution_count": 55,
   "metadata": {},
   "outputs": [
    {
     "data": {
      "text/plain": [
       "Sex\n",
       "M    1528\n",
       "F    1307\n",
       "Name: count, dtype: int64"
      ]
     },
     "execution_count": 55,
     "metadata": {},
     "output_type": "execute_result"
    }
   ],
   "source": [
    "data3_cleaned[\"Sex\"].value_counts()"
   ]
  },
  {
   "cell_type": "code",
   "execution_count": 56,
   "metadata": {},
   "outputs": [
    {
     "data": {
      "image/png": "[encoded data removed]",
      "text/plain": [
       "<Figure size 800x500 with 1 Axes>"
      ]
     },
     "metadata": {},
     "output_type": "display_data"
    },
    {
     "data": {
      "image/png": "[encoded data removed]",
      "text/plain": [
       "<Figure size 800x500 with 1 Axes>"
      ]
     },
     "metadata": {},
     "output_type": "display_data"
    },
    {
     "data": {
      "image/png": "[encoded data removed]",
      "text/plain": [
       "<Figure size 800x500 with 1 Axes>"
      ]
     },
     "metadata": {},
     "output_type": "display_data"
    },
    {
     "data": {
      "image/png": "[encoded data removed]",
      "text/plain": [
       "<Figure size 800x500 with 1 Axes>"
      ]
     },
     "metadata": {},
     "output_type": "display_data"
    },
    {
     "data": {
      "image/png": "[encoded data removed]",
      "text/plain": [
       "<Figure size 800x500 with 1 Axes>"
      ]
     },
     "metadata": {},
     "output_type": "display_data"
    },
    {
     "data": {
      "image/png": "[encoded data removed]",
      "text/plain": [
       "<Figure size 800x500 with 1 Axes>"
      ]
     },
     "metadata": {},
     "output_type": "display_data"
    },
    {
     "data": {
      "image/png": "[encoded data removed]",
      "text/plain": [
       "<Figure size 800x500 with 1 Axes>"
      ]
     },
     "metadata": {},
     "output_type": "display_data"
    },
    {
     "data": {
      "image/png": "[encoded data removed]",
      "text/plain": [
       "<Figure size 800x500 with 1 Axes>"
      ]
     },
     "metadata": {},
     "output_type": "display_data"
    }
   ],
   "source": [
    "numeric_cols = data3.select_dtypes(exclude=\"string\").columns\n",
    "\n",
    "for col in numeric_cols:\n",
    "    plt.figure(figsize=(8, 5))\n",
    "    sns.boxplot(data=data3[col])\n",
    "    plt.title(col)  # \n",
    "    plt.show()  # "
   ]
  },
  {
   "cell_type": "code",
   "execution_count": 57,
   "metadata": {},
   "outputs": [
    {
     "data": {
      "text/plain": [
       "Sex\n",
       "M    1528\n",
       "F    1307\n",
       "Name: count, dtype: int64"
      ]
     },
     "execution_count": 57,
     "metadata": {},
     "output_type": "execute_result"
    }
   ],
   "source": [
    "data3_cleaned[\"Sex\"].value_counts()"
   ]
  },
  {
   "cell_type": "code",
   "execution_count": null,
   "metadata": {},
   "outputs": [
    {
     "data": {
      "text/plain": [
       "<seaborn.axisgrid.PairGrid at 0x28cb0098ec0>"
      ]
     },
     "execution_count": 58,
     "metadata": {},
     "output_type": "execute_result"
    }
   ],
   "source": [
    "sns.pairplot(data3_cleaned,hue=\"Sex\",)"
   ]
  },
  {
   "cell_type": "code",
   "execution_count": null,
   "metadata": {},
   "outputs": [
    {
     "data": {
      "text/plain": [
       "Index(['Sex', 'Length', 'Diameter', 'Height', 'Whole_weight', 'Shucked_weight',\n",
       "       'Viscera_weight', 'Shell_weight'],\n",
       "      dtype='object')"
      ]
     },
     "execution_count": 424,
     "metadata": {},
     "output_type": "execute_result"
    }
   ],
   "source": [
    "data3_cleaned.columns"
   ]
  },
  {
   "cell_type": "code",
   "execution_count": null,
   "metadata": {},
   "outputs": [
    {
     "name": "stdout",
     "output_type": "stream",
     "text": [
      "            Length     Diameter       Height  Whole_weight  Shucked_weight  \\\n",
      "count  2835.000000  2835.000000  2835.000000   2835.000000     2835.000000   \n",
      "mean      0.569552     0.446407     0.154437      1.016849        0.439051   \n",
      "std       0.095821     0.078850     0.037421      0.453217        0.212193   \n",
      "min       0.155000     0.110000     0.015000      0.015500        0.006500   \n",
      "25%       0.515000     0.400000     0.135000      0.701250        0.287000   \n",
      "50%       0.585000     0.460000     0.155000      1.003000        0.431500   \n",
      "75%       0.635000     0.500000     0.175000      1.289500        0.568750   \n",
      "max       0.815000     0.650000     1.130000      2.825500        1.488000   \n",
      "\n",
      "       Viscera_weight  Shell_weight  \n",
      "count     2835.000000   2835.000000  \n",
      "mean         0.222526      0.291208  \n",
      "std          0.101880      0.128835  \n",
      "min          0.003000      0.005000  \n",
      "25%          0.152000      0.202500  \n",
      "50%          0.217000      0.285000  \n",
      "75%          0.287500      0.365000  \n",
      "max          0.760000      1.005000  \n"
     ]
    }
   ],
   "source": [
    "print(data3_cleaned.describe())\n"
   ]
  },
  {
   "cell_type": "code",
   "execution_count": null,
   "metadata": {},
   "outputs": [
    {
     "name": "stdout",
     "output_type": "stream",
     "text": [
      "<class 'pandas.core.frame.DataFrame'>\n",
      "Index: 2835 entries, 0 to 4176\n",
      "Data columns (total 8 columns):\n",
      " #   Column          Non-Null Count  Dtype  \n",
      "---  ------          --------------  -----  \n",
      " 0   Sex             2835 non-null   object \n",
      " 1   Length          2835 non-null   float64\n",
      " 2   Diameter        2835 non-null   float64\n",
      " 3   Height          2835 non-null   float64\n",
      " 4   Whole_weight    2835 non-null   float64\n",
      " 5   Shucked_weight  2835 non-null   float64\n",
      " 6   Viscera_weight  2835 non-null   float64\n",
      " 7   Shell_weight    2835 non-null   float64\n",
      "dtypes: float64(7), object(1)\n",
      "memory usage: 199.3+ KB\n",
      "None\n"
     ]
    }
   ],
   "source": [
    "print(data3_cleaned.info())"
   ]
  },
  {
   "cell_type": "markdown",
   "metadata": {},
   "source": [
    "## DATA PREPROCESSING"
   ]
  },
  {
   "cell_type": "code",
   "execution_count": null,
   "metadata": {},
   "outputs": [
    {
     "data": {
      "application/vnd.microsoft.datawrangler.viewer.v0+json": {
       "columns": [
        {
         "name": "index",
         "rawType": "int64",
         "type": "integer"
        },
        {
         "name": "Length",
         "rawType": "float64",
         "type": "float"
        },
        {
         "name": "Diameter",
         "rawType": "float64",
         "type": "float"
        },
        {
         "name": "Height",
         "rawType": "float64",
         "type": "float"
        },
        {
         "name": "Whole_weight",
         "rawType": "float64",
         "type": "float"
        },
        {
         "name": "Shucked_weight",
         "rawType": "float64",
         "type": "float"
        },
        {
         "name": "Viscera_weight",
         "rawType": "float64",
         "type": "float"
        },
        {
         "name": "Shell_weight",
         "rawType": "float64",
         "type": "float"
        }
       ],
       "conversionMethod": "pd.DataFrame",
       "ref": "7fe37271-5c8b-42a7-a1a9-aeb8bae5cc01",
       "rows": [
        [
         "0",
         "0.455",
         "0.365",
         "0.095",
         "0.514",
         "0.2245",
         "0.101",
         "0.15"
        ],
        [
         "1",
         "0.35",
         "0.265",
         "0.09",
         "0.2255",
         "0.0995",
         "0.0485",
         "0.07"
        ],
        [
         "2",
         "0.53",
         "0.42",
         "0.135",
         "0.677",
         "0.2565",
         "0.1415",
         "0.21"
        ],
        [
         "3",
         "0.44",
         "0.365",
         "0.125",
         "0.516",
         "0.2155",
         "0.114",
         "0.155"
        ],
        [
         "6",
         "0.53",
         "0.415",
         "0.15",
         "0.7775",
         "0.237",
         "0.1415",
         "0.33"
        ]
       ],
       "shape": {
        "columns": 7,
        "rows": 5
       }
      },
      "text/html": [
       "<table id=\"itables_a92963fe_fa9f_4d35_b395_5d55371e6003\" class=\"display nowrap\" data-quarto-disable-processing=\"true\" style=\"table-layout:auto;width:auto;margin:auto;caption-side:bottom\">\n",
       "<thead>\n",
       "    <tr style=\"text-align: right;\">\n",
       "      <th></th>\n",
       "      <th>Length</th>\n",
       "      <th>Diameter</th>\n",
       "      <th>Height</th>\n",
       "      <th>Whole_weight</th>\n",
       "      <th>Shucked_weight</th>\n",
       "      <th>Viscera_weight</th>\n",
       "      <th>Shell_weight</th>\n",
       "    </tr>\n",
       "  </thead><tbody><tr>\n",
       "<td style=\"vertical-align:middle; text-align:left\">\n",
       "<a href=https://mwouts.github.io/itables/><svg class=\"main-svg\" xmlns=\"http://www.w3.org/2000/svg\" xmlns:xlink=\"http://www.w3.org/1999/xlink\"\n",
       "width=\"64\" viewBox=\"0 0 500 400\" style=\"font-family: 'Droid Sans', sans-serif;\">\n",
       "    <g style=\"fill:#d9d7fc\">\n",
       "        <path d=\"M100,400H500V357H100Z\" />\n",
       "        <path d=\"M100,300H400V257H100Z\" />\n",
       "        <path d=\"M0,200H400V157H0Z\" />\n",
       "        <path d=\"M100,100H500V57H100Z\" />\n",
       "        <path d=\"M100,350H500V307H100Z\" />\n",
       "        <path d=\"M100,250H400V207H100Z\" />\n",
       "        <path d=\"M0,150H400V107H0Z\" />\n",
       "        <path d=\"M100,50H500V7H100Z\" />\n",
       "    </g>\n",
       "    <g style=\"fill:#1a1366;stroke:#1a1366;\">\n",
       "   <rect x=\"100\" y=\"7\" width=\"400\" height=\"43\">\n",
       "    <animate\n",
       "      attributeName=\"width\"\n",
       "      values=\"0;400;0\"\n",
       "      dur=\"5s\"\n",
       "      repeatCount=\"indefinite\" />\n",
       "      <animate\n",
       "      attributeName=\"x\"\n",
       "      values=\"100;100;500\"\n",
       "      dur=\"5s\"\n",
       "      repeatCount=\"indefinite\" />\n",
       "  </rect>\n",
       "        <rect x=\"0\" y=\"107\" width=\"400\" height=\"43\">\n",
       "    <animate\n",
       "      attributeName=\"width\"\n",
       "      values=\"0;400;0\"\n",
       "      dur=\"3.5s\"\n",
       "      repeatCount=\"indefinite\" />\n",
       "    <animate\n",
       "      attributeName=\"x\"\n",
       "      values=\"0;0;400\"\n",
       "      dur=\"3.5s\"\n",
       "      repeatCount=\"indefinite\" />\n",
       "  </rect>\n",
       "        <rect x=\"100\" y=\"207\" width=\"300\" height=\"43\">\n",
       "    <animate\n",
       "      attributeName=\"width\"\n",
       "      values=\"0;300;0\"\n",
       "      dur=\"3s\"\n",
       "      repeatCount=\"indefinite\" />\n",
       "    <animate\n",
       "      attributeName=\"x\"\n",
       "      values=\"100;100;400\"\n",
       "      dur=\"3s\"\n",
       "      repeatCount=\"indefinite\" />\n",
       "  </rect>\n",
       "        <rect x=\"100\" y=\"307\" width=\"400\" height=\"43\">\n",
       "    <animate\n",
       "      attributeName=\"width\"\n",
       "      values=\"0;400;0\"\n",
       "      dur=\"4s\"\n",
       "      repeatCount=\"indefinite\" />\n",
       "      <animate\n",
       "      attributeName=\"x\"\n",
       "      values=\"100;100;500\"\n",
       "      dur=\"4s\"\n",
       "      repeatCount=\"indefinite\" />\n",
       "  </rect>\n",
       "        <g style=\"fill:transparent;stroke-width:8; stroke-linejoin:round\" rx=\"5\">\n",
       "            <g transform=\"translate(45 50) rotate(-45)\">\n",
       "                <circle r=\"33\" cx=\"0\" cy=\"0\" />\n",
       "                <rect x=\"-8\" y=\"32\" width=\"16\" height=\"30\" />\n",
       "            </g>\n",
       "\n",
       "            <g transform=\"translate(450 152)\">\n",
       "                <polyline points=\"-15,-20 -35,-20 -35,40 25,40 25,20\" />\n",
       "                <rect x=\"-15\" y=\"-40\" width=\"60\" height=\"60\" />\n",
       "            </g>\n",
       "\n",
       "            <g transform=\"translate(50 352)\">\n",
       "                <polygon points=\"-35,-5 0,-40 35,-5\" />\n",
       "                <polygon points=\"-35,10 0,45 35,10\" />\n",
       "            </g>\n",
       "\n",
       "            <g transform=\"translate(75 250)\">\n",
       "                <polyline points=\"-30,30 -60,0 -30,-30\" />\n",
       "                <polyline points=\"0,30 -30,0 0,-30\" />\n",
       "            </g>\n",
       "\n",
       "            <g transform=\"translate(425 250) rotate(180)\">\n",
       "                <polyline points=\"-30,30 -60,0 -30,-30\" />\n",
       "                <polyline points=\"0,30 -30,0 0,-30\" />\n",
       "            </g>\n",
       "        </g>\n",
       "    </g>\n",
       "</svg>\n",
       "</a>\n",
       "Loading ITables v2.3.0 from the internet...\n",
       "(need <a href=https://mwouts.github.io/itables/troubleshooting.html>help</a>?)</td>\n",
       "</tr></tbody>\n",
       "</table>\n",
       "<link href=\"https://www.unpkg.com/dt_for_itables@2.2.0/dt_bundle.css\" rel=\"stylesheet\">\n",
       "<script type=\"module\">\n",
       "    import {DataTable, jQuery as $} from 'https://www.unpkg.com/dt_for_itables@2.2.0/dt_bundle.js';\n",
       "\n",
       "    document.querySelectorAll(\"#itables_a92963fe_fa9f_4d35_b395_5d55371e6003:not(.dataTable)\").forEach(table => {\n",
       "        if (!(table instanceof HTMLTableElement))\n",
       "            return;\n",
       "\n",
       "        // Define the table data\n",
       "        const data = [[0, 0.455, 0.365, 0.095, 0.514, 0.2245, 0.101, 0.15], [1, 0.35, 0.265, 0.09, 0.2255, 0.0995, 0.0485, 0.07], [2, 0.53, 0.42, 0.135, 0.677, 0.2565, 0.1415, 0.21], [3, 0.44, 0.365, 0.125, 0.516, 0.2155, 0.114, 0.155], [6, 0.53, 0.415, 0.15, 0.7775, 0.237, 0.1415, 0.33]];\n",
       "\n",
       "        // Define the dt_args\n",
       "        let dt_args = {\"layout\": {\"topStart\": null, \"topEnd\": null, \"bottomStart\": null, \"bottomEnd\": null}, \"order\": [], \"warn_on_selected_rows_not_rendered\": true};\n",
       "        dt_args[\"data\"] = data;\n",
       "\n",
       "        \n",
       "        new DataTable(table, dt_args);\n",
       "    });\n",
       "</script>\n"
      ],
      "text/plain": [
       "   Length  Diameter  Height  Whole_weight  Shucked_weight  Viscera_weight  \\\n",
       "0   0.455     0.365   0.095        0.5140          0.2245          0.1010   \n",
       "1   0.350     0.265   0.090        0.2255          0.0995          0.0485   \n",
       "2   0.530     0.420   0.135        0.6770          0.2565          0.1415   \n",
       "3   0.440     0.365   0.125        0.5160          0.2155          0.1140   \n",
       "6   0.530     0.415   0.150        0.7775          0.2370          0.1415   \n",
       "\n",
       "   Shell_weight  \n",
       "0         0.150  \n",
       "1         0.070  \n",
       "2         0.210  \n",
       "3         0.155  \n",
       "6         0.330  "
      ]
     },
     "execution_count": 427,
     "metadata": {},
     "output_type": "execute_result"
    }
   ],
   "source": [
    "#convert the sex columns into a boolean array\n",
    "new_data = pd.get_dummies(data3_cleaned, columns=[\"Sex\"], drop_first=True,dtype=int)\n",
    "new_data.rename(columns={\"Sex_M\":\"Sex\"},inplace=True)\n",
    "output = new_data[\"Sex\"]\n",
    "new_data.drop(\"Sex\",axis=1,inplace=True)\n",
    "new_data.head()"
   ]
  },
  {
   "cell_type": "code",
   "execution_count": null,
   "metadata": {},
   "outputs": [
    {
     "data": {
      "text/plain": [
       "(2835, 7)"
      ]
     },
     "execution_count": 428,
     "metadata": {},
     "output_type": "execute_result"
    }
   ],
   "source": [
    "new_data.shape"
   ]
  },
  {
   "cell_type": "code",
   "execution_count": null,
   "metadata": {},
   "outputs": [
    {
     "data": {
      "text/html": [
       "<table id=\"itables_91b2e42a_8cc7_47f2_b63c_fd2a6d8124fc\" class=\"display nowrap\" data-quarto-disable-processing=\"true\" style=\"table-layout:auto;width:auto;margin:auto;caption-side:bottom\">\n",
       "<thead>\n",
       "    <tr style=\"text-align: right;\">\n",
       "      <th></th>\n",
       "      <th>count</th>\n",
       "    </tr>\n",
       "    <tr>\n",
       "      <th>Sex</th>\n",
       "      <th></th>\n",
       "    </tr>\n",
       "  </thead><tbody><tr>\n",
       "<td style=\"vertical-align:middle; text-align:left\">\n",
       "<a href=https://mwouts.github.io/itables/><svg class=\"main-svg\" xmlns=\"http://www.w3.org/2000/svg\" xmlns:xlink=\"http://www.w3.org/1999/xlink\"\n",
       "width=\"64\" viewBox=\"0 0 500 400\" style=\"font-family: 'Droid Sans', sans-serif;\">\n",
       "    <g style=\"fill:#d9d7fc\">\n",
       "        <path d=\"M100,400H500V357H100Z\" />\n",
       "        <path d=\"M100,300H400V257H100Z\" />\n",
       "        <path d=\"M0,200H400V157H0Z\" />\n",
       "        <path d=\"M100,100H500V57H100Z\" />\n",
       "        <path d=\"M100,350H500V307H100Z\" />\n",
       "        <path d=\"M100,250H400V207H100Z\" />\n",
       "        <path d=\"M0,150H400V107H0Z\" />\n",
       "        <path d=\"M100,50H500V7H100Z\" />\n",
       "    </g>\n",
       "    <g style=\"fill:#1a1366;stroke:#1a1366;\">\n",
       "   <rect x=\"100\" y=\"7\" width=\"400\" height=\"43\">\n",
       "    <animate\n",
       "      attributeName=\"width\"\n",
       "      values=\"0;400;0\"\n",
       "      dur=\"5s\"\n",
       "      repeatCount=\"indefinite\" />\n",
       "      <animate\n",
       "      attributeName=\"x\"\n",
       "      values=\"100;100;500\"\n",
       "      dur=\"5s\"\n",
       "      repeatCount=\"indefinite\" />\n",
       "  </rect>\n",
       "        <rect x=\"0\" y=\"107\" width=\"400\" height=\"43\">\n",
       "    <animate\n",
       "      attributeName=\"width\"\n",
       "      values=\"0;400;0\"\n",
       "      dur=\"3.5s\"\n",
       "      repeatCount=\"indefinite\" />\n",
       "    <animate\n",
       "      attributeName=\"x\"\n",
       "      values=\"0;0;400\"\n",
       "      dur=\"3.5s\"\n",
       "      repeatCount=\"indefinite\" />\n",
       "  </rect>\n",
       "        <rect x=\"100\" y=\"207\" width=\"300\" height=\"43\">\n",
       "    <animate\n",
       "      attributeName=\"width\"\n",
       "      values=\"0;300;0\"\n",
       "      dur=\"3s\"\n",
       "      repeatCount=\"indefinite\" />\n",
       "    <animate\n",
       "      attributeName=\"x\"\n",
       "      values=\"100;100;400\"\n",
       "      dur=\"3s\"\n",
       "      repeatCount=\"indefinite\" />\n",
       "  </rect>\n",
       "        <rect x=\"100\" y=\"307\" width=\"400\" height=\"43\">\n",
       "    <animate\n",
       "      attributeName=\"width\"\n",
       "      values=\"0;400;0\"\n",
       "      dur=\"4s\"\n",
       "      repeatCount=\"indefinite\" />\n",
       "      <animate\n",
       "      attributeName=\"x\"\n",
       "      values=\"100;100;500\"\n",
       "      dur=\"4s\"\n",
       "      repeatCount=\"indefinite\" />\n",
       "  </rect>\n",
       "        <g style=\"fill:transparent;stroke-width:8; stroke-linejoin:round\" rx=\"5\">\n",
       "            <g transform=\"translate(45 50) rotate(-45)\">\n",
       "                <circle r=\"33\" cx=\"0\" cy=\"0\" />\n",
       "                <rect x=\"-8\" y=\"32\" width=\"16\" height=\"30\" />\n",
       "            </g>\n",
       "\n",
       "            <g transform=\"translate(450 152)\">\n",
       "                <polyline points=\"-15,-20 -35,-20 -35,40 25,40 25,20\" />\n",
       "                <rect x=\"-15\" y=\"-40\" width=\"60\" height=\"60\" />\n",
       "            </g>\n",
       "\n",
       "            <g transform=\"translate(50 352)\">\n",
       "                <polygon points=\"-35,-5 0,-40 35,-5\" />\n",
       "                <polygon points=\"-35,10 0,45 35,10\" />\n",
       "            </g>\n",
       "\n",
       "            <g transform=\"translate(75 250)\">\n",
       "                <polyline points=\"-30,30 -60,0 -30,-30\" />\n",
       "                <polyline points=\"0,30 -30,0 0,-30\" />\n",
       "            </g>\n",
       "\n",
       "            <g transform=\"translate(425 250) rotate(180)\">\n",
       "                <polyline points=\"-30,30 -60,0 -30,-30\" />\n",
       "                <polyline points=\"0,30 -30,0 0,-30\" />\n",
       "            </g>\n",
       "        </g>\n",
       "    </g>\n",
       "</svg>\n",
       "</a>\n",
       "Loading ITables v2.3.0 from the internet...\n",
       "(need <a href=https://mwouts.github.io/itables/troubleshooting.html>help</a>?)</td>\n",
       "</tr></tbody>\n",
       "</table>\n",
       "<link href=\"https://www.unpkg.com/dt_for_itables@2.2.0/dt_bundle.css\" rel=\"stylesheet\">\n",
       "<script type=\"module\">\n",
       "    import {DataTable, jQuery as $} from 'https://www.unpkg.com/dt_for_itables@2.2.0/dt_bundle.js';\n",
       "\n",
       "    document.querySelectorAll(\"#itables_91b2e42a_8cc7_47f2_b63c_fd2a6d8124fc:not(.dataTable)\").forEach(table => {\n",
       "        if (!(table instanceof HTMLTableElement))\n",
       "            return;\n",
       "\n",
       "        // Define the table data\n",
       "        const data = [[1, 1528], [0, 1307]];\n",
       "\n",
       "        // Define the dt_args\n",
       "        let dt_args = {\"layout\": {\"topStart\": null, \"topEnd\": null, \"bottomStart\": null, \"bottomEnd\": null}, \"order\": [], \"warn_on_selected_rows_not_rendered\": true};\n",
       "        dt_args[\"data\"] = data;\n",
       "\n",
       "        \n",
       "        new DataTable(table, dt_args);\n",
       "    });\n",
       "</script>\n"
      ],
      "text/plain": [
       "Sex\n",
       "1    1528\n",
       "0    1307\n",
       "Name: count, dtype: int64"
      ]
     },
     "execution_count": 429,
     "metadata": {},
     "output_type": "execute_result"
    }
   ],
   "source": [
    "output.value_counts()"
   ]
  },
  {
   "cell_type": "code",
   "execution_count": null,
   "metadata": {},
   "outputs": [
    {
     "data": {
      "application/vnd.microsoft.datawrangler.viewer.v0+json": {
       "columns": [
        {
         "name": "index",
         "rawType": "int64",
         "type": "integer"
        },
        {
         "name": "Length",
         "rawType": "float64",
         "type": "float"
        },
        {
         "name": "Diameter",
         "rawType": "float64",
         "type": "float"
        },
        {
         "name": "Height",
         "rawType": "float64",
         "type": "float"
        },
        {
         "name": "Whole_weight",
         "rawType": "float64",
         "type": "float"
        },
        {
         "name": "Shucked_weight",
         "rawType": "float64",
         "type": "float"
        },
        {
         "name": "Viscera_weight",
         "rawType": "float64",
         "type": "float"
        },
        {
         "name": "Shell_weight",
         "rawType": "float64",
         "type": "float"
        }
       ],
       "conversionMethod": "pd.DataFrame",
       "ref": "d2b47281-b0c5-4853-a0cb-0d45820bfbea",
       "rows": [
        [
         "0",
         "-1.1956938205796048",
         "-1.0326132542891617",
         "-1.588605582197488",
         "-1.1097056164674999",
         "-1.011288467028179",
         "-1.193043022490417",
         "-1.0962351086075786"
        ],
        [
         "1",
         "-2.2916835914562164",
         "-2.3010644765733907",
         "-1.7222424720681115",
         "-1.746377736674733",
         "-1.6004778903228374",
         "-1.708443965986623",
         "-1.7172942519862218"
        ],
        [
         "2",
         "-0.412843984239168",
         "-0.33496508203283576",
         "-0.5195104632325008",
         "-0.7499913856398429",
         "-0.8604559746647463",
         "-0.795448008936201",
         "-0.6304407510735961"
        ],
        [
         "3",
         "-1.3522637878476922",
         "-1.0326132542891617",
         "-0.7867842429737478",
         "-1.1052919449236023",
         "-1.0537101055053943",
         "-1.065419931719928",
         "-1.0574189121464133"
        ],
        [
         "4",
         "-0.412843984239168",
         "-0.3983876431470473",
         "-0.11859979362063101",
         "-0.528204390558987",
         "-0.952369524698713",
         "-0.795448008936201",
         "0.301147963994369"
        ]
       ],
       "shape": {
        "columns": 7,
        "rows": 5
       }
      },
      "text/html": [
       "<table id=\"itables_d10ceb57_81c4_43d6_a791_dc9860d7ee2b\" class=\"display nowrap\" data-quarto-disable-processing=\"true\" style=\"table-layout:auto;width:auto;margin:auto;caption-side:bottom\">\n",
       "<thead>\n",
       "    <tr style=\"text-align: right;\">\n",
       "      \n",
       "      <th>Length</th>\n",
       "      <th>Diameter</th>\n",
       "      <th>Height</th>\n",
       "      <th>Whole_weight</th>\n",
       "      <th>Shucked_weight</th>\n",
       "      <th>Viscera_weight</th>\n",
       "      <th>Shell_weight</th>\n",
       "    </tr>\n",
       "  </thead><tbody><tr>\n",
       "<td style=\"vertical-align:middle; text-align:left\">\n",
       "<a href=https://mwouts.github.io/itables/><svg class=\"main-svg\" xmlns=\"http://www.w3.org/2000/svg\" xmlns:xlink=\"http://www.w3.org/1999/xlink\"\n",
       "width=\"64\" viewBox=\"0 0 500 400\" style=\"font-family: 'Droid Sans', sans-serif;\">\n",
       "    <g style=\"fill:#d9d7fc\">\n",
       "        <path d=\"M100,400H500V357H100Z\" />\n",
       "        <path d=\"M100,300H400V257H100Z\" />\n",
       "        <path d=\"M0,200H400V157H0Z\" />\n",
       "        <path d=\"M100,100H500V57H100Z\" />\n",
       "        <path d=\"M100,350H500V307H100Z\" />\n",
       "        <path d=\"M100,250H400V207H100Z\" />\n",
       "        <path d=\"M0,150H400V107H0Z\" />\n",
       "        <path d=\"M100,50H500V7H100Z\" />\n",
       "    </g>\n",
       "    <g style=\"fill:#1a1366;stroke:#1a1366;\">\n",
       "   <rect x=\"100\" y=\"7\" width=\"400\" height=\"43\">\n",
       "    <animate\n",
       "      attributeName=\"width\"\n",
       "      values=\"0;400;0\"\n",
       "      dur=\"5s\"\n",
       "      repeatCount=\"indefinite\" />\n",
       "      <animate\n",
       "      attributeName=\"x\"\n",
       "      values=\"100;100;500\"\n",
       "      dur=\"5s\"\n",
       "      repeatCount=\"indefinite\" />\n",
       "  </rect>\n",
       "        <rect x=\"0\" y=\"107\" width=\"400\" height=\"43\">\n",
       "    <animate\n",
       "      attributeName=\"width\"\n",
       "      values=\"0;400;0\"\n",
       "      dur=\"3.5s\"\n",
       "      repeatCount=\"indefinite\" />\n",
       "    <animate\n",
       "      attributeName=\"x\"\n",
       "      values=\"0;0;400\"\n",
       "      dur=\"3.5s\"\n",
       "      repeatCount=\"indefinite\" />\n",
       "  </rect>\n",
       "        <rect x=\"100\" y=\"207\" width=\"300\" height=\"43\">\n",
       "    <animate\n",
       "      attributeName=\"width\"\n",
       "      values=\"0;300;0\"\n",
       "      dur=\"3s\"\n",
       "      repeatCount=\"indefinite\" />\n",
       "    <animate\n",
       "      attributeName=\"x\"\n",
       "      values=\"100;100;400\"\n",
       "      dur=\"3s\"\n",
       "      repeatCount=\"indefinite\" />\n",
       "  </rect>\n",
       "        <rect x=\"100\" y=\"307\" width=\"400\" height=\"43\">\n",
       "    <animate\n",
       "      attributeName=\"width\"\n",
       "      values=\"0;400;0\"\n",
       "      dur=\"4s\"\n",
       "      repeatCount=\"indefinite\" />\n",
       "      <animate\n",
       "      attributeName=\"x\"\n",
       "      values=\"100;100;500\"\n",
       "      dur=\"4s\"\n",
       "      repeatCount=\"indefinite\" />\n",
       "  </rect>\n",
       "        <g style=\"fill:transparent;stroke-width:8; stroke-linejoin:round\" rx=\"5\">\n",
       "            <g transform=\"translate(45 50) rotate(-45)\">\n",
       "                <circle r=\"33\" cx=\"0\" cy=\"0\" />\n",
       "                <rect x=\"-8\" y=\"32\" width=\"16\" height=\"30\" />\n",
       "            </g>\n",
       "\n",
       "            <g transform=\"translate(450 152)\">\n",
       "                <polyline points=\"-15,-20 -35,-20 -35,40 25,40 25,20\" />\n",
       "                <rect x=\"-15\" y=\"-40\" width=\"60\" height=\"60\" />\n",
       "            </g>\n",
       "\n",
       "            <g transform=\"translate(50 352)\">\n",
       "                <polygon points=\"-35,-5 0,-40 35,-5\" />\n",
       "                <polygon points=\"-35,10 0,45 35,10\" />\n",
       "            </g>\n",
       "\n",
       "            <g transform=\"translate(75 250)\">\n",
       "                <polyline points=\"-30,30 -60,0 -30,-30\" />\n",
       "                <polyline points=\"0,30 -30,0 0,-30\" />\n",
       "            </g>\n",
       "\n",
       "            <g transform=\"translate(425 250) rotate(180)\">\n",
       "                <polyline points=\"-30,30 -60,0 -30,-30\" />\n",
       "                <polyline points=\"0,30 -30,0 0,-30\" />\n",
       "            </g>\n",
       "        </g>\n",
       "    </g>\n",
       "</svg>\n",
       "</a>\n",
       "Loading ITables v2.3.0 from the internet...\n",
       "(need <a href=https://mwouts.github.io/itables/troubleshooting.html>help</a>?)</td>\n",
       "</tr></tbody>\n",
       "</table>\n",
       "<link href=\"https://www.unpkg.com/dt_for_itables@2.2.0/dt_bundle.css\" rel=\"stylesheet\">\n",
       "<script type=\"module\">\n",
       "    import {DataTable, jQuery as $} from 'https://www.unpkg.com/dt_for_itables@2.2.0/dt_bundle.js';\n",
       "\n",
       "    document.querySelectorAll(\"#itables_d10ceb57_81c4_43d6_a791_dc9860d7ee2b:not(.dataTable)\").forEach(table => {\n",
       "        if (!(table instanceof HTMLTableElement))\n",
       "            return;\n",
       "\n",
       "        // Define the table data\n",
       "        const data = [[-1.195694, -1.032613, -1.588606, -1.109706, -1.011288, -1.193043, -1.096235], [-2.291684, -2.301064, -1.722242, -1.746378, -1.600478, -1.708444, -1.717294], [-0.412844, -0.334965, -0.51951, -0.749991, -0.860456, -0.795448, -0.630441], [-1.352264, -1.032613, -0.786784, -1.105292, -1.05371, -1.06542, -1.057419], [-0.412844, -0.398388, -0.1186, -0.528204, -0.95237, -0.795448, 0.301148]];\n",
       "\n",
       "        // Define the dt_args\n",
       "        let dt_args = {\"layout\": {\"topStart\": null, \"topEnd\": null, \"bottomStart\": null, \"bottomEnd\": null}, \"order\": [], \"warn_on_selected_rows_not_rendered\": true};\n",
       "        dt_args[\"data\"] = data;\n",
       "\n",
       "        \n",
       "        new DataTable(table, dt_args);\n",
       "    });\n",
       "</script>\n"
      ],
      "text/plain": [
       "     Length  Diameter    Height  Whole_weight  Shucked_weight  Viscera_weight  \\\n",
       "0 -1.195694 -1.032613 -1.588606     -1.109706       -1.011288       -1.193043   \n",
       "1 -2.291684 -2.301064 -1.722242     -1.746378       -1.600478       -1.708444   \n",
       "2 -0.412844 -0.334965 -0.519510     -0.749991       -0.860456       -0.795448   \n",
       "3 -1.352264 -1.032613 -0.786784     -1.105292       -1.053710       -1.065420   \n",
       "4 -0.412844 -0.398388 -0.118600     -0.528204       -0.952370       -0.795448   \n",
       "\n",
       "   Shell_weight  \n",
       "0     -1.096235  \n",
       "1     -1.717294  \n",
       "2     -0.630441  \n",
       "3     -1.057419  \n",
       "4      0.301148  "
      ]
     },
     "execution_count": 430,
     "metadata": {},
     "output_type": "execute_result"
    }
   ],
   "source": [
    "from sklearn.preprocessing import StandardScaler\n",
    "scaler = StandardScaler()\n",
    "data_scaled = pd.DataFrame(scaler.fit_transform(new_data), columns=new_data.columns)\n",
    "data_scaled.head()\n"
   ]
  },
  {
   "cell_type": "markdown",
   "metadata": {},
   "source": [
    "## MODEL SELECTION"
   ]
  },
  {
   "cell_type": "code",
   "execution_count": null,
   "metadata": {},
   "outputs": [],
   "source": [
    "\n",
    "# Splitting the dataset into the Training set and Test set\n",
    "\n",
    "from sklearn.model_selection import train_test_split\n",
    "\n",
    "X = data_scaled.values\n",
    "y =output.values\n",
    "\n",
    "# Splitting the dataset into the Training set and Test set\n",
    "\n",
    "X_train, X_test, y_train, y_test = train_test_split(X,y,test_size=0.30)\n"
   ]
  },
  {
   "cell_type": "code",
   "execution_count": null,
   "metadata": {},
   "outputs": [
    {
     "data": {
      "text/html": [
       "<style>#sk-container-id-16 {\n",
       "  /* Definition of color scheme common for light and dark mode */\n",
       "  --sklearn-color-text: #000;\n",
       "  --sklearn-color-text-muted: #666;\n",
       "  --sklearn-color-line: gray;\n",
       "  /* Definition of color scheme for unfitted estimators */\n",
       "  --sklearn-color-unfitted-level-0: #fff5e6;\n",
       "  --sklearn-color-unfitted-level-1: #f6e4d2;\n",
       "  --sklearn-color-unfitted-level-2: #ffe0b3;\n",
       "  --sklearn-color-unfitted-level-3: chocolate;\n",
       "  /* Definition of color scheme for fitted estimators */\n",
       "  --sklearn-color-fitted-level-0: #f0f8ff;\n",
       "  --sklearn-color-fitted-level-1: #d4ebff;\n",
       "  --sklearn-color-fitted-level-2: #b3dbfd;\n",
       "  --sklearn-color-fitted-level-3: cornflowerblue;\n",
       "\n",
       "  /* Specific color for light theme */\n",
       "  --sklearn-color-text-on-default-background: var(--sg-text-color, var(--theme-code-foreground, var(--jp-content-font-color1, black)));\n",
       "  --sklearn-color-background: var(--sg-background-color, var(--theme-background, var(--jp-layout-color0, white)));\n",
       "  --sklearn-color-border-box: var(--sg-text-color, var(--theme-code-foreground, var(--jp-content-font-color1, black)));\n",
       "  --sklearn-color-icon: #696969;\n",
       "\n",
       "  @media (prefers-color-scheme: dark) {\n",
       "    /* Redefinition of color scheme for dark theme */\n",
       "    --sklearn-color-text-on-default-background: var(--sg-text-color, var(--theme-code-foreground, var(--jp-content-font-color1, white)));\n",
       "    --sklearn-color-background: var(--sg-background-color, var(--theme-background, var(--jp-layout-color0, #111)));\n",
       "    --sklearn-color-border-box: var(--sg-text-color, var(--theme-code-foreground, var(--jp-content-font-color1, white)));\n",
       "    --sklearn-color-icon: #878787;\n",
       "  }\n",
       "}\n",
       "\n",
       "#sk-container-id-16 {\n",
       "  color: var(--sklearn-color-text);\n",
       "}\n",
       "\n",
       "#sk-container-id-16 pre {\n",
       "  padding: 0;\n",
       "}\n",
       "\n",
       "#sk-container-id-16 input.sk-hidden--visually {\n",
       "  border: 0;\n",
       "  clip: rect(1px 1px 1px 1px);\n",
       "  clip: rect(1px, 1px, 1px, 1px);\n",
       "  height: 1px;\n",
       "  margin: -1px;\n",
       "  overflow: hidden;\n",
       "  padding: 0;\n",
       "  position: absolute;\n",
       "  width: 1px;\n",
       "}\n",
       "\n",
       "#sk-container-id-16 div.sk-dashed-wrapped {\n",
       "  border: 1px dashed var(--sklearn-color-line);\n",
       "  margin: 0 0.4em 0.5em 0.4em;\n",
       "  box-sizing: border-box;\n",
       "  padding-bottom: 0.4em;\n",
       "  background-color: var(--sklearn-color-background);\n",
       "}\n",
       "\n",
       "#sk-container-id-16 div.sk-container {\n",
       "  /* jupyter's `normalize.less` sets `[hidden] { display: none; }`\n",
       "     but bootstrap.min.css set `[hidden] { display: none !important; }`\n",
       "     so we also need the `!important` here to be able to override the\n",
       "     default hidden behavior on the sphinx rendered scikit-learn.org.\n",
       "     See: https://github.com/scikit-learn/scikit-learn/issues/21755 */\n",
       "  display: inline-block !important;\n",
       "  position: relative;\n",
       "}\n",
       "\n",
       "#sk-container-id-16 div.sk-text-repr-fallback {\n",
       "  display: none;\n",
       "}\n",
       "\n",
       "div.sk-parallel-item,\n",
       "div.sk-serial,\n",
       "div.sk-item {\n",
       "  /* draw centered vertical line to link estimators */\n",
       "  background-image: linear-gradient(var(--sklearn-color-text-on-default-background), var(--sklearn-color-text-on-default-background));\n",
       "  background-size: 2px 100%;\n",
       "  background-repeat: no-repeat;\n",
       "  background-position: center center;\n",
       "}\n",
       "\n",
       "/* Parallel-specific style estimator block */\n",
       "\n",
       "#sk-container-id-16 div.sk-parallel-item::after {\n",
       "  content: \"\";\n",
       "  width: 100%;\n",
       "  border-bottom: 2px solid var(--sklearn-color-text-on-default-background);\n",
       "  flex-grow: 1;\n",
       "}\n",
       "\n",
       "#sk-container-id-16 div.sk-parallel {\n",
       "  display: flex;\n",
       "  align-items: stretch;\n",
       "  justify-content: center;\n",
       "  background-color: var(--sklearn-color-background);\n",
       "  position: relative;\n",
       "}\n",
       "\n",
       "#sk-container-id-16 div.sk-parallel-item {\n",
       "  display: flex;\n",
       "  flex-direction: column;\n",
       "}\n",
       "\n",
       "#sk-container-id-16 div.sk-parallel-item:first-child::after {\n",
       "  align-self: flex-end;\n",
       "  width: 50%;\n",
       "}\n",
       "\n",
       "#sk-container-id-16 div.sk-parallel-item:last-child::after {\n",
       "  align-self: flex-start;\n",
       "  width: 50%;\n",
       "}\n",
       "\n",
       "#sk-container-id-16 div.sk-parallel-item:only-child::after {\n",
       "  width: 0;\n",
       "}\n",
       "\n",
       "/* Serial-specific style estimator block */\n",
       "\n",
       "#sk-container-id-16 div.sk-serial {\n",
       "  display: flex;\n",
       "  flex-direction: column;\n",
       "  align-items: center;\n",
       "  background-color: var(--sklearn-color-background);\n",
       "  padding-right: 1em;\n",
       "  padding-left: 1em;\n",
       "}\n",
       "\n",
       "\n",
       "/* Toggleable style: style used for estimator/Pipeline/ColumnTransformer box that is\n",
       "clickable and can be expanded/collapsed.\n",
       "- Pipeline and ColumnTransformer use this feature and define the default style\n",
       "- Estimators will overwrite some part of the style using the `sk-estimator` class\n",
       "*/\n",
       "\n",
       "/* Pipeline and ColumnTransformer style (default) */\n",
       "\n",
       "#sk-container-id-16 div.sk-toggleable {\n",
       "  /* Default theme specific background. It is overwritten whether we have a\n",
       "  specific estimator or a Pipeline/ColumnTransformer */\n",
       "  background-color: var(--sklearn-color-background);\n",
       "}\n",
       "\n",
       "/* Toggleable label */\n",
       "#sk-container-id-16 label.sk-toggleable__label {\n",
       "  cursor: pointer;\n",
       "  display: flex;\n",
       "  width: 100%;\n",
       "  margin-bottom: 0;\n",
       "  padding: 0.5em;\n",
       "  box-sizing: border-box;\n",
       "  text-align: center;\n",
       "  align-items: start;\n",
       "  justify-content: space-between;\n",
       "  gap: 0.5em;\n",
       "}\n",
       "\n",
       "#sk-container-id-16 label.sk-toggleable__label .caption {\n",
       "  font-size: 0.6rem;\n",
       "  font-weight: lighter;\n",
       "  color: var(--sklearn-color-text-muted);\n",
       "}\n",
       "\n",
       "#sk-container-id-16 label.sk-toggleable__label-arrow:before {\n",
       "  /* Arrow on the left of the label */\n",
       "  content: \"▸\";\n",
       "  float: left;\n",
       "  margin-right: 0.25em;\n",
       "  color: var(--sklearn-color-icon);\n",
       "}\n",
       "\n",
       "#sk-container-id-16 label.sk-toggleable__label-arrow:hover:before {\n",
       "  color: var(--sklearn-color-text);\n",
       "}\n",
       "\n",
       "/* Toggleable content - dropdown */\n",
       "\n",
       "#sk-container-id-16 div.sk-toggleable__content {\n",
       "  max-height: 0;\n",
       "  max-width: 0;\n",
       "  overflow: hidden;\n",
       "  text-align: left;\n",
       "  /* unfitted */\n",
       "  background-color: var(--sklearn-color-unfitted-level-0);\n",
       "}\n",
       "\n",
       "#sk-container-id-16 div.sk-toggleable__content.fitted {\n",
       "  /* fitted */\n",
       "  background-color: var(--sklearn-color-fitted-level-0);\n",
       "}\n",
       "\n",
       "#sk-container-id-16 div.sk-toggleable__content pre {\n",
       "  margin: 0.2em;\n",
       "  border-radius: 0.25em;\n",
       "  color: var(--sklearn-color-text);\n",
       "  /* unfitted */\n",
       "  background-color: var(--sklearn-color-unfitted-level-0);\n",
       "}\n",
       "\n",
       "#sk-container-id-16 div.sk-toggleable__content.fitted pre {\n",
       "  /* unfitted */\n",
       "  background-color: var(--sklearn-color-fitted-level-0);\n",
       "}\n",
       "\n",
       "#sk-container-id-16 input.sk-toggleable__control:checked~div.sk-toggleable__content {\n",
       "  /* Expand drop-down */\n",
       "  max-height: 200px;\n",
       "  max-width: 100%;\n",
       "  overflow: auto;\n",
       "}\n",
       "\n",
       "#sk-container-id-16 input.sk-toggleable__control:checked~label.sk-toggleable__label-arrow:before {\n",
       "  content: \"▾\";\n",
       "}\n",
       "\n",
       "/* Pipeline/ColumnTransformer-specific style */\n",
       "\n",
       "#sk-container-id-16 div.sk-label input.sk-toggleable__control:checked~label.sk-toggleable__label {\n",
       "  color: var(--sklearn-color-text);\n",
       "  background-color: var(--sklearn-color-unfitted-level-2);\n",
       "}\n",
       "\n",
       "#sk-container-id-16 div.sk-label.fitted input.sk-toggleable__control:checked~label.sk-toggleable__label {\n",
       "  background-color: var(--sklearn-color-fitted-level-2);\n",
       "}\n",
       "\n",
       "/* Estimator-specific style */\n",
       "\n",
       "/* Colorize estimator box */\n",
       "#sk-container-id-16 div.sk-estimator input.sk-toggleable__control:checked~label.sk-toggleable__label {\n",
       "  /* unfitted */\n",
       "  background-color: var(--sklearn-color-unfitted-level-2);\n",
       "}\n",
       "\n",
       "#sk-container-id-16 div.sk-estimator.fitted input.sk-toggleable__control:checked~label.sk-toggleable__label {\n",
       "  /* fitted */\n",
       "  background-color: var(--sklearn-color-fitted-level-2);\n",
       "}\n",
       "\n",
       "#sk-container-id-16 div.sk-label label.sk-toggleable__label,\n",
       "#sk-container-id-16 div.sk-label label {\n",
       "  /* The background is the default theme color */\n",
       "  color: var(--sklearn-color-text-on-default-background);\n",
       "}\n",
       "\n",
       "/* On hover, darken the color of the background */\n",
       "#sk-container-id-16 div.sk-label:hover label.sk-toggleable__label {\n",
       "  color: var(--sklearn-color-text);\n",
       "  background-color: var(--sklearn-color-unfitted-level-2);\n",
       "}\n",
       "\n",
       "/* Label box, darken color on hover, fitted */\n",
       "#sk-container-id-16 div.sk-label.fitted:hover label.sk-toggleable__label.fitted {\n",
       "  color: var(--sklearn-color-text);\n",
       "  background-color: var(--sklearn-color-fitted-level-2);\n",
       "}\n",
       "\n",
       "/* Estimator label */\n",
       "\n",
       "#sk-container-id-16 div.sk-label label {\n",
       "  font-family: monospace;\n",
       "  font-weight: bold;\n",
       "  display: inline-block;\n",
       "  line-height: 1.2em;\n",
       "}\n",
       "\n",
       "#sk-container-id-16 div.sk-label-container {\n",
       "  text-align: center;\n",
       "}\n",
       "\n",
       "/* Estimator-specific */\n",
       "#sk-container-id-16 div.sk-estimator {\n",
       "  font-family: monospace;\n",
       "  border: 1px dotted var(--sklearn-color-border-box);\n",
       "  border-radius: 0.25em;\n",
       "  box-sizing: border-box;\n",
       "  margin-bottom: 0.5em;\n",
       "  /* unfitted */\n",
       "  background-color: var(--sklearn-color-unfitted-level-0);\n",
       "}\n",
       "\n",
       "#sk-container-id-16 div.sk-estimator.fitted {\n",
       "  /* fitted */\n",
       "  background-color: var(--sklearn-color-fitted-level-0);\n",
       "}\n",
       "\n",
       "/* on hover */\n",
       "#sk-container-id-16 div.sk-estimator:hover {\n",
       "  /* unfitted */\n",
       "  background-color: var(--sklearn-color-unfitted-level-2);\n",
       "}\n",
       "\n",
       "#sk-container-id-16 div.sk-estimator.fitted:hover {\n",
       "  /* fitted */\n",
       "  background-color: var(--sklearn-color-fitted-level-2);\n",
       "}\n",
       "\n",
       "/* Specification for estimator info (e.g. \"i\" and \"?\") */\n",
       "\n",
       "/* Common style for \"i\" and \"?\" */\n",
       "\n",
       ".sk-estimator-doc-link,\n",
       "a:link.sk-estimator-doc-link,\n",
       "a:visited.sk-estimator-doc-link {\n",
       "  float: right;\n",
       "  font-size: smaller;\n",
       "  line-height: 1em;\n",
       "  font-family: monospace;\n",
       "  background-color: var(--sklearn-color-background);\n",
       "  border-radius: 1em;\n",
       "  height: 1em;\n",
       "  width: 1em;\n",
       "  text-decoration: none !important;\n",
       "  margin-left: 0.5em;\n",
       "  text-align: center;\n",
       "  /* unfitted */\n",
       "  border: var(--sklearn-color-unfitted-level-1) 1pt solid;\n",
       "  color: var(--sklearn-color-unfitted-level-1);\n",
       "}\n",
       "\n",
       ".sk-estimator-doc-link.fitted,\n",
       "a:link.sk-estimator-doc-link.fitted,\n",
       "a:visited.sk-estimator-doc-link.fitted {\n",
       "  /* fitted */\n",
       "  border: var(--sklearn-color-fitted-level-1) 1pt solid;\n",
       "  color: var(--sklearn-color-fitted-level-1);\n",
       "}\n",
       "\n",
       "/* On hover */\n",
       "div.sk-estimator:hover .sk-estimator-doc-link:hover,\n",
       ".sk-estimator-doc-link:hover,\n",
       "div.sk-label-container:hover .sk-estimator-doc-link:hover,\n",
       ".sk-estimator-doc-link:hover {\n",
       "  /* unfitted */\n",
       "  background-color: var(--sklearn-color-unfitted-level-3);\n",
       "  color: var(--sklearn-color-background);\n",
       "  text-decoration: none;\n",
       "}\n",
       "\n",
       "div.sk-estimator.fitted:hover .sk-estimator-doc-link.fitted:hover,\n",
       ".sk-estimator-doc-link.fitted:hover,\n",
       "div.sk-label-container:hover .sk-estimator-doc-link.fitted:hover,\n",
       ".sk-estimator-doc-link.fitted:hover {\n",
       "  /* fitted */\n",
       "  background-color: var(--sklearn-color-fitted-level-3);\n",
       "  color: var(--sklearn-color-background);\n",
       "  text-decoration: none;\n",
       "}\n",
       "\n",
       "/* Span, style for the box shown on hovering the info icon */\n",
       ".sk-estimator-doc-link span {\n",
       "  display: none;\n",
       "  z-index: 9999;\n",
       "  position: relative;\n",
       "  font-weight: normal;\n",
       "  right: .2ex;\n",
       "  padding: .5ex;\n",
       "  margin: .5ex;\n",
       "  width: min-content;\n",
       "  min-width: 20ex;\n",
       "  max-width: 50ex;\n",
       "  color: var(--sklearn-color-text);\n",
       "  box-shadow: 2pt 2pt 4pt #999;\n",
       "  /* unfitted */\n",
       "  background: var(--sklearn-color-unfitted-level-0);\n",
       "  border: .5pt solid var(--sklearn-color-unfitted-level-3);\n",
       "}\n",
       "\n",
       ".sk-estimator-doc-link.fitted span {\n",
       "  /* fitted */\n",
       "  background: var(--sklearn-color-fitted-level-0);\n",
       "  border: var(--sklearn-color-fitted-level-3);\n",
       "}\n",
       "\n",
       ".sk-estimator-doc-link:hover span {\n",
       "  display: block;\n",
       "}\n",
       "\n",
       "/* \"?\"-specific style due to the `<a>` HTML tag */\n",
       "\n",
       "#sk-container-id-16 a.estimator_doc_link {\n",
       "  float: right;\n",
       "  font-size: 1rem;\n",
       "  line-height: 1em;\n",
       "  font-family: monospace;\n",
       "  background-color: var(--sklearn-color-background);\n",
       "  border-radius: 1rem;\n",
       "  height: 1rem;\n",
       "  width: 1rem;\n",
       "  text-decoration: none;\n",
       "  /* unfitted */\n",
       "  color: var(--sklearn-color-unfitted-level-1);\n",
       "  border: var(--sklearn-color-unfitted-level-1) 1pt solid;\n",
       "}\n",
       "\n",
       "#sk-container-id-16 a.estimator_doc_link.fitted {\n",
       "  /* fitted */\n",
       "  border: var(--sklearn-color-fitted-level-1) 1pt solid;\n",
       "  color: var(--sklearn-color-fitted-level-1);\n",
       "}\n",
       "\n",
       "/* On hover */\n",
       "#sk-container-id-16 a.estimator_doc_link:hover {\n",
       "  /* unfitted */\n",
       "  background-color: var(--sklearn-color-unfitted-level-3);\n",
       "  color: var(--sklearn-color-background);\n",
       "  text-decoration: none;\n",
       "}\n",
       "\n",
       "#sk-container-id-16 a.estimator_doc_link.fitted:hover {\n",
       "  /* fitted */\n",
       "  background-color: var(--sklearn-color-fitted-level-3);\n",
       "}\n",
       "</style><div id=\"sk-container-id-16\" class=\"sk-top-container\"><div class=\"sk-text-repr-fallback\"><pre>KNeighborsClassifier()</pre><b>In a Jupyter environment, please rerun this cell to show the HTML representation or trust the notebook. <br />On GitHub, the HTML representation is unable to render, please try loading this page with nbviewer.org.</b></div><div class=\"sk-container\" hidden><div class=\"sk-item\"><div class=\"sk-estimator fitted sk-toggleable\"><input class=\"sk-toggleable__control sk-hidden--visually\" id=\"sk-estimator-id-16\" type=\"checkbox\" checked><label for=\"sk-estimator-id-16\" class=\"sk-toggleable__label fitted sk-toggleable__label-arrow\"><div><div>KNeighborsClassifier</div></div><div><a class=\"sk-estimator-doc-link fitted\" rel=\"noreferrer\" target=\"_blank\" href=\"https://scikit-learn.org/1.6/modules/generated/sklearn.neighbors.KNeighborsClassifier.html\">?<span>Documentation for KNeighborsClassifier</span></a><span class=\"sk-estimator-doc-link fitted\">i<span>Fitted</span></span></div></label><div class=\"sk-toggleable__content fitted\"><pre>KNeighborsClassifier()</pre></div> </div></div></div></div>"
      ],
      "text/plain": [
       "KNeighborsClassifier()"
      ]
     },
     "execution_count": 432,
     "metadata": {},
     "output_type": "execute_result"
    }
   ],
   "source": [
    "\n",
    "from sklearn.neighbors import KNeighborsClassifier\n",
    "knn = KNeighborsClassifier(n_neighbors=5)\n",
    "knn.fit(X_train,y_train)"
   ]
  },
  {
   "cell_type": "code",
   "execution_count": null,
   "metadata": {},
   "outputs": [
    {
     "data": {
      "text/plain": [
       "np.int64(1)"
      ]
     },
     "execution_count": 433,
     "metadata": {},
     "output_type": "execute_result"
    }
   ],
   "source": [
    "y[0]"
   ]
  },
  {
   "cell_type": "code",
   "execution_count": null,
   "metadata": {},
   "outputs": [
    {
     "data": {
      "text/plain": [
       "np.int64(1)"
      ]
     },
     "execution_count": 434,
     "metadata": {},
     "output_type": "execute_result"
    }
   ],
   "source": [
    "pred = knn.predict(X_test)\n",
    "pred[0]"
   ]
  },
  {
   "cell_type": "code",
   "execution_count": null,
   "metadata": {},
   "outputs": [
    {
     "name": "stdout",
     "output_type": "stream",
     "text": [
      "[[179 219]\n",
      " [173 280]]\n"
     ]
    }
   ],
   "source": [
    "from sklearn.metrics import classification_report,confusion_matrix\n",
    "print(confusion_matrix(y_test,pred))\n"
   ]
  },
  {
   "cell_type": "code",
   "execution_count": null,
   "metadata": {},
   "outputs": [
    {
     "name": "stdout",
     "output_type": "stream",
     "text": [
      "              precision    recall  f1-score   support\n",
      "\n",
      "           0       0.51      0.45      0.48       398\n",
      "           1       0.56      0.62      0.59       453\n",
      "\n",
      "    accuracy                           0.54       851\n",
      "   macro avg       0.53      0.53      0.53       851\n",
      "weighted avg       0.54      0.54      0.54       851\n",
      "\n"
     ]
    }
   ],
   "source": [
    "print(classification_report(y_test,pred))"
   ]
  },
  {
   "cell_type": "code",
   "execution_count": null,
   "metadata": {},
   "outputs": [
    {
     "data": {
      "image/png": "[encoded data removed]",
      "text/plain": [
       "<Figure size 640x480 with 1 Axes>"
      ]
     },
     "metadata": {},
     "output_type": "display_data"
    }
   ],
   "source": [
    "\n",
    "from sklearn.model_selection import cross_val_score\n",
    "import matplotlib.pyplot as plt\n",
    "\n",
    "k_values = range(1, 100)\n",
    "scores = []\n",
    "\n",
    "for k in k_values:\n",
    "    knn = KNeighborsClassifier(n_neighbors=k)\n",
    "    score = cross_val_score(knn, X, y, cv=5).mean()\n",
    "    scores.append(score)\n",
    "\n",
    "plt.plot(k_values, scores, 'bo-')\n",
    "plt.xlabel('k (nombers of neigbors)')\n",
    "plt.ylabel('Score of cross validation ')\n",
    "plt.title('choose the right k for KNN')\n",
    "plt.show()\n"
   ]
  },
  {
   "cell_type": "code",
   "execution_count": null,
   "metadata": {},
   "outputs": [
    {
     "name": "stdout",
     "output_type": "stream",
     "text": [
      "[[179 219]\n",
      " [173 280]]\n"
     ]
    }
   ],
   "source": [
    "from sklearn.neighbors import KNeighborsClassifier\n",
    "knn = KNeighborsClassifier(n_neighbors=59)\n",
    "knn.fit(X_train,y_train)\n",
    "from sklearn.metrics import classification_report,confusion_matrix\n",
    "print(confusion_matrix(y_test,pred))"
   ]
  },
  {
   "cell_type": "code",
   "execution_count": null,
   "metadata": {},
   "outputs": [
    {
     "name": "stdout",
     "output_type": "stream",
     "text": [
      "              precision    recall  f1-score   support\n",
      "\n",
      "           0       0.51      0.45      0.48       398\n",
      "           1       0.56      0.62      0.59       453\n",
      "\n",
      "    accuracy                           0.54       851\n",
      "   macro avg       0.53      0.53      0.53       851\n",
      "weighted avg       0.54      0.54      0.54       851\n",
      "\n"
     ]
    }
   ],
   "source": [
    "print(classification_report(y_test,pred))"
   ]
  },
  {
   "cell_type": "markdown",
   "metadata": {},
   "source": [
    "### CHOOSE THE RIGHT K WITH THE ELBOWS METHOD"
   ]
  },
  {
   "cell_type": "markdown",
   "metadata": {},
   "source": [
    "## SAVING THE MODEL"
   ]
  },
  {
   "cell_type": "code",
   "execution_count": null,
   "metadata": {},
   "outputs": [
    {
     "data": {
      "text/plain": [
       "['model,my_knn_model.pk1']"
      ]
     },
     "execution_count": 440,
     "metadata": {},
     "output_type": "execute_result"
    }
   ],
   "source": [
    "import joblib\n",
    "\n",
    "# save the model\n",
    "\n",
    "joblib.dump(knn,\"model,my_knn_model.pk1\")"
   ]
  },
  {
   "cell_type": "markdown",
   "metadata": {},
   "source": [
    "## *CONCLUSION*"
   ]
  },
  {
   "cell_type": "markdown",
   "metadata": {},
   "source": [
    "### The model was pretty simple good with the k = 5 in the first traine with the accuracy of 52% but the accuracy increased by 56 whene i choose k =43 which mean that the k value has an influence when we traine the model and the choise of k will determine the performance of the model"
   ]
  },
  {
   "cell_type": "markdown",
   "metadata": {},
   "source": [
    "### Github : TIMOTHEE NKWAR\n",
    "### **Link to the code in github** <https://github.com/TimotheeNkwar/School_Project/tree/main/Machine%20Learning>"
   ]
  }
 ],
 "metadata": {
  "kernelspec": {
   "display_name": "Timo",
   "language": "python",
   "name": "python3"
  },
  "language_info": {
   "codemirror_mode": {
    "name": "ipython",
    "version": 3
   },
   "file_extension": ".py",
   "mimetype": "text/x-python",
   "name": "python",
   "nbconvert_exporter": "python",
   "pygments_lexer": "ipython3",
   "version": "3.13.2"
  }
 },
 "nbformat": 4,
 "nbformat_minor": 2
}
