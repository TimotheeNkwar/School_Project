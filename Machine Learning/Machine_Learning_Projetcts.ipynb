{
 "cells": [
  {
   "cell_type": "markdown",
   "metadata": {},
   "source": [
    "<center>\n",
    "    <h1>CYPRUS INTERNATIONAL UNIVERSITY</h1>\n",
    "    <h2><b>School of Applied Science</b></h2>\n",
    "    <h3>Department of <span style=\"color:black;\">Data Science</span></h3>\n",
    "    <br>\n",
    "    <img src=\"https://moodle.ciu.edu.tr/pluginfile.php/1/core_admin/logocompact/300x300/1728932360/ciulogo.png\", width=\"150\",height=\"150\">\n",
    "    <br><br>\n",
    "    <h3><b>Name & Surname :</b></h3><span style=\"color:blue;\"> TIMOTHEE KABONGO NKWAR</span></h3>\n",
    "    <h3><b>INSTRUCTOR :</b> <span style=\"color:blue;\">Dr. Yasemin Bay</span></h3>\n",
    "    <h3><b>COURSE NAME :</b> <span style=\"color:blue;\">DASC311 Statistical Machine Learning</span></h3>\n",
    "    <br>\n",
    "    <h3><b>Student ID:</b><span style=\"color:blue;\">22205731</span> <span style=\"color:red;\"></span></h3>\n",
    "</center>\n"
   ]
  },
  {
   "cell_type": "code",
   "execution_count": 60,
   "metadata": {},
   "outputs": [],
   "source": [
    "from ucimlrepo import fetch_ucirepo \n",
    "# fetch dataset \n",
    "Male_or_female_based_on_eating_habits_and_physical_condition = fetch_ucirepo(id=544) \n",
    "# data (as pandas dataframes) \n",
    "data = Male_or_female_based_on_eating_habits_and_physical_condition.data.features "
   ]
  },
  {
   "cell_type": "markdown",
   "metadata": {},
   "source": [
    "### Additional Information\n",
    "\n",
    "This dataset includes data for the estimation of obesity levels in individuals from the countries of **Mexico**, **Peru**, and **Colombia**, based on their eating habits and physical condition.\n",
    "\n",
    "The data contains **17 attributes** and **2111 records**, and the records are labeled with the class variable **NObesity** (Obesity Level), which allows classification of the data using the following categories:\n",
    "- **Insufficient Weight**\n",
    "- **Normal Weight**\n",
    "- **Overweight Level I**\n",
    "- **Overweight Level II**\n",
    "- **Obesity Type I**\n",
    "- **Obesity Type II**\n",
    "- **Obesity Type III**\n",
    "\n",
    "**77%** of the data was generated synthetically using the **Weka tool** and the **SMOTE filter**, while **23%** of the data was collected directly from users through a web platform.\n",
    "\n",
    "### Link to the dataset:\n",
    "[Estimation of Obesity Levels Dataset](https://archive.ics.uci.edu/dataset/544/estimation+of+obesity+levels+based+on+eating+habits+and+physical+condition-)\n"
   ]
  },
  {
   "cell_type": "code",
   "execution_count": 61,
   "metadata": {},
   "outputs": [
    {
     "data": {
      "text/plain": [
       "(2111, 16)"
      ]
     },
     "execution_count": 61,
     "metadata": {},
     "output_type": "execute_result"
    }
   ],
   "source": [
    "# check the size of the dataset\n",
    "data.shape"
   ]
  },
  {
   "cell_type": "markdown",
   "metadata": {},
   "source": [
    "### Importing the libraries"
   ]
  },
  {
   "cell_type": "code",
   "execution_count": null,
   "metadata": {},
   "outputs": [],
   "source": [
    "# alll the necessary libraries\n",
    "import numpy as np\n",
    "import pandas as pd\n",
    "import matplotlib.pyplot as plt\n",
    "import seaborn as sns\n",
    "import plotly.express as px\n",
    "import warnings\n",
    "warnings.filterwarnings(\"ignore\")"
   ]
  },
  {
   "cell_type": "code",
   "execution_count": 63,
   "metadata": {},
   "outputs": [
    {
     "data": {
      "application/vnd.microsoft.datawrangler.viewer.v0+json": {
       "columns": [
        {
         "name": "index",
         "rawType": "int64",
         "type": "integer"
        },
        {
         "name": "Gender",
         "rawType": "object",
         "type": "string"
        },
        {
         "name": "Age",
         "rawType": "float64",
         "type": "float"
        },
        {
         "name": "Height",
         "rawType": "float64",
         "type": "float"
        },
        {
         "name": "Weight",
         "rawType": "float64",
         "type": "float"
        },
        {
         "name": "family_history_with_overweight",
         "rawType": "object",
         "type": "string"
        },
        {
         "name": "FAVC",
         "rawType": "object",
         "type": "string"
        },
        {
         "name": "FCVC",
         "rawType": "float64",
         "type": "float"
        },
        {
         "name": "NCP",
         "rawType": "float64",
         "type": "float"
        },
        {
         "name": "CAEC",
         "rawType": "object",
         "type": "string"
        },
        {
         "name": "SMOKE",
         "rawType": "object",
         "type": "string"
        },
        {
         "name": "CH2O",
         "rawType": "float64",
         "type": "float"
        },
        {
         "name": "SCC",
         "rawType": "object",
         "type": "string"
        },
        {
         "name": "FAF",
         "rawType": "float64",
         "type": "float"
        },
        {
         "name": "TUE",
         "rawType": "float64",
         "type": "float"
        },
        {
         "name": "CALC",
         "rawType": "object",
         "type": "string"
        },
        {
         "name": "MTRANS",
         "rawType": "object",
         "type": "string"
        }
       ],
       "conversionMethod": "pd.DataFrame",
       "ref": "3739b95f-6c18-4cc7-81be-80aa3a47cf16",
       "rows": [
        [
         "0",
         "Female",
         "21.0",
         "1.62",
         "64.0",
         "yes",
         "no",
         "2.0",
         "3.0",
         "Sometimes",
         "no",
         "2.0",
         "no",
         "0.0",
         "1.0",
         "no",
         "Public_Transportation"
        ],
        [
         "1",
         "Female",
         "21.0",
         "1.52",
         "56.0",
         "yes",
         "no",
         "3.0",
         "3.0",
         "Sometimes",
         "yes",
         "3.0",
         "yes",
         "3.0",
         "0.0",
         "Sometimes",
         "Public_Transportation"
        ],
        [
         "2",
         "Male",
         "23.0",
         "1.8",
         "77.0",
         "yes",
         "no",
         "2.0",
         "3.0",
         "Sometimes",
         "no",
         "2.0",
         "no",
         "2.0",
         "1.0",
         "Frequently",
         "Public_Transportation"
        ],
        [
         "3",
         "Male",
         "27.0",
         "1.8",
         "87.0",
         "no",
         "no",
         "3.0",
         "3.0",
         "Sometimes",
         "no",
         "2.0",
         "no",
         "2.0",
         "0.0",
         "Frequently",
         "Walking"
        ],
        [
         "4",
         "Male",
         "22.0",
         "1.78",
         "89.8",
         "no",
         "no",
         "2.0",
         "1.0",
         "Sometimes",
         "no",
         "2.0",
         "no",
         "0.0",
         "0.0",
         "Sometimes",
         "Public_Transportation"
        ]
       ],
       "shape": {
        "columns": 16,
        "rows": 5
       }
      },
      "text/html": [
       "<div>\n",
       "<style scoped>\n",
       "    .dataframe tbody tr th:only-of-type {\n",
       "        vertical-align: middle;\n",
       "    }\n",
       "\n",
       "    .dataframe tbody tr th {\n",
       "        vertical-align: top;\n",
       "    }\n",
       "\n",
       "    .dataframe thead th {\n",
       "        text-align: right;\n",
       "    }\n",
       "</style>\n",
       "<table border=\"1\" class=\"dataframe\">\n",
       "  <thead>\n",
       "    <tr style=\"text-align: right;\">\n",
       "      <th></th>\n",
       "      <th>Gender</th>\n",
       "      <th>Age</th>\n",
       "      <th>Height</th>\n",
       "      <th>Weight</th>\n",
       "      <th>family_history_with_overweight</th>\n",
       "      <th>FAVC</th>\n",
       "      <th>FCVC</th>\n",
       "      <th>NCP</th>\n",
       "      <th>CAEC</th>\n",
       "      <th>SMOKE</th>\n",
       "      <th>CH2O</th>\n",
       "      <th>SCC</th>\n",
       "      <th>FAF</th>\n",
       "      <th>TUE</th>\n",
       "      <th>CALC</th>\n",
       "      <th>MTRANS</th>\n",
       "    </tr>\n",
       "  </thead>\n",
       "  <tbody>\n",
       "    <tr>\n",
       "      <th>0</th>\n",
       "      <td>Female</td>\n",
       "      <td>21.0</td>\n",
       "      <td>1.62</td>\n",
       "      <td>64.0</td>\n",
       "      <td>yes</td>\n",
       "      <td>no</td>\n",
       "      <td>2.0</td>\n",
       "      <td>3.0</td>\n",
       "      <td>Sometimes</td>\n",
       "      <td>no</td>\n",
       "      <td>2.0</td>\n",
       "      <td>no</td>\n",
       "      <td>0.0</td>\n",
       "      <td>1.0</td>\n",
       "      <td>no</td>\n",
       "      <td>Public_Transportation</td>\n",
       "    </tr>\n",
       "    <tr>\n",
       "      <th>1</th>\n",
       "      <td>Female</td>\n",
       "      <td>21.0</td>\n",
       "      <td>1.52</td>\n",
       "      <td>56.0</td>\n",
       "      <td>yes</td>\n",
       "      <td>no</td>\n",
       "      <td>3.0</td>\n",
       "      <td>3.0</td>\n",
       "      <td>Sometimes</td>\n",
       "      <td>yes</td>\n",
       "      <td>3.0</td>\n",
       "      <td>yes</td>\n",
       "      <td>3.0</td>\n",
       "      <td>0.0</td>\n",
       "      <td>Sometimes</td>\n",
       "      <td>Public_Transportation</td>\n",
       "    </tr>\n",
       "    <tr>\n",
       "      <th>2</th>\n",
       "      <td>Male</td>\n",
       "      <td>23.0</td>\n",
       "      <td>1.80</td>\n",
       "      <td>77.0</td>\n",
       "      <td>yes</td>\n",
       "      <td>no</td>\n",
       "      <td>2.0</td>\n",
       "      <td>3.0</td>\n",
       "      <td>Sometimes</td>\n",
       "      <td>no</td>\n",
       "      <td>2.0</td>\n",
       "      <td>no</td>\n",
       "      <td>2.0</td>\n",
       "      <td>1.0</td>\n",
       "      <td>Frequently</td>\n",
       "      <td>Public_Transportation</td>\n",
       "    </tr>\n",
       "    <tr>\n",
       "      <th>3</th>\n",
       "      <td>Male</td>\n",
       "      <td>27.0</td>\n",
       "      <td>1.80</td>\n",
       "      <td>87.0</td>\n",
       "      <td>no</td>\n",
       "      <td>no</td>\n",
       "      <td>3.0</td>\n",
       "      <td>3.0</td>\n",
       "      <td>Sometimes</td>\n",
       "      <td>no</td>\n",
       "      <td>2.0</td>\n",
       "      <td>no</td>\n",
       "      <td>2.0</td>\n",
       "      <td>0.0</td>\n",
       "      <td>Frequently</td>\n",
       "      <td>Walking</td>\n",
       "    </tr>\n",
       "    <tr>\n",
       "      <th>4</th>\n",
       "      <td>Male</td>\n",
       "      <td>22.0</td>\n",
       "      <td>1.78</td>\n",
       "      <td>89.8</td>\n",
       "      <td>no</td>\n",
       "      <td>no</td>\n",
       "      <td>2.0</td>\n",
       "      <td>1.0</td>\n",
       "      <td>Sometimes</td>\n",
       "      <td>no</td>\n",
       "      <td>2.0</td>\n",
       "      <td>no</td>\n",
       "      <td>0.0</td>\n",
       "      <td>0.0</td>\n",
       "      <td>Sometimes</td>\n",
       "      <td>Public_Transportation</td>\n",
       "    </tr>\n",
       "  </tbody>\n",
       "</table>\n",
       "</div>"
      ],
      "text/plain": [
       "   Gender   Age  Height  Weight family_history_with_overweight FAVC  FCVC  \\\n",
       "0  Female  21.0    1.62    64.0                            yes   no   2.0   \n",
       "1  Female  21.0    1.52    56.0                            yes   no   3.0   \n",
       "2    Male  23.0    1.80    77.0                            yes   no   2.0   \n",
       "3    Male  27.0    1.80    87.0                             no   no   3.0   \n",
       "4    Male  22.0    1.78    89.8                             no   no   2.0   \n",
       "\n",
       "   NCP       CAEC SMOKE  CH2O  SCC  FAF  TUE        CALC  \\\n",
       "0  3.0  Sometimes    no   2.0   no  0.0  1.0          no   \n",
       "1  3.0  Sometimes   yes   3.0  yes  3.0  0.0   Sometimes   \n",
       "2  3.0  Sometimes    no   2.0   no  2.0  1.0  Frequently   \n",
       "3  3.0  Sometimes    no   2.0   no  2.0  0.0  Frequently   \n",
       "4  1.0  Sometimes    no   2.0   no  0.0  0.0   Sometimes   \n",
       "\n",
       "                  MTRANS  \n",
       "0  Public_Transportation  \n",
       "1  Public_Transportation  \n",
       "2  Public_Transportation  \n",
       "3                Walking  \n",
       "4  Public_Transportation  "
      ]
     },
     "execution_count": 63,
     "metadata": {},
     "output_type": "execute_result"
    }
   ],
   "source": [
    "# load the data\n",
    "data \n",
    "data.head()"
   ]
  },
  {
   "cell_type": "markdown",
   "metadata": {},
   "source": [
    "## DATA PREPROCESSING AND EDA"
   ]
  },
  {
   "cell_type": "code",
   "execution_count": 64,
   "metadata": {},
   "outputs": [
    {
     "data": {
      "application/vnd.microsoft.datawrangler.viewer.v0+json": {
       "columns": [
        {
         "name": "index",
         "rawType": "int64",
         "type": "integer"
        },
        {
         "name": "Age",
         "rawType": "float64",
         "type": "float"
        },
        {
         "name": "Height",
         "rawType": "float64",
         "type": "float"
        },
        {
         "name": "Weight",
         "rawType": "float64",
         "type": "float"
        },
        {
         "name": "FCVC",
         "rawType": "float64",
         "type": "float"
        },
        {
         "name": "NCP",
         "rawType": "float64",
         "type": "float"
        },
        {
         "name": "CH2O",
         "rawType": "float64",
         "type": "float"
        },
        {
         "name": "FAF",
         "rawType": "float64",
         "type": "float"
        },
        {
         "name": "TUE",
         "rawType": "float64",
         "type": "float"
        },
        {
         "name": "Gender",
         "rawType": "int64",
         "type": "integer"
        }
       ],
       "conversionMethod": "pd.DataFrame",
       "ref": "ded7448b-042f-424c-b1a1-35dab4f5a167",
       "rows": [
        [
         "0",
         "21.0",
         "1.62",
         "64.0",
         "2.0",
         "3.0",
         "2.0",
         "0.0",
         "1.0",
         "0"
        ],
        [
         "1",
         "21.0",
         "1.52",
         "56.0",
         "3.0",
         "3.0",
         "3.0",
         "3.0",
         "0.0",
         "0"
        ],
        [
         "2",
         "23.0",
         "1.8",
         "77.0",
         "2.0",
         "3.0",
         "2.0",
         "2.0",
         "1.0",
         "1"
        ],
        [
         "3",
         "27.0",
         "1.8",
         "87.0",
         "3.0",
         "3.0",
         "2.0",
         "2.0",
         "0.0",
         "1"
        ],
        [
         "4",
         "22.0",
         "1.78",
         "89.8",
         "2.0",
         "1.0",
         "2.0",
         "0.0",
         "0.0",
         "1"
        ]
       ],
       "shape": {
        "columns": 9,
        "rows": 5
       }
      },
      "text/html": [
       "<div>\n",
       "<style scoped>\n",
       "    .dataframe tbody tr th:only-of-type {\n",
       "        vertical-align: middle;\n",
       "    }\n",
       "\n",
       "    .dataframe tbody tr th {\n",
       "        vertical-align: top;\n",
       "    }\n",
       "\n",
       "    .dataframe thead th {\n",
       "        text-align: right;\n",
       "    }\n",
       "</style>\n",
       "<table border=\"1\" class=\"dataframe\">\n",
       "  <thead>\n",
       "    <tr style=\"text-align: right;\">\n",
       "      <th></th>\n",
       "      <th>Age</th>\n",
       "      <th>Height</th>\n",
       "      <th>Weight</th>\n",
       "      <th>FCVC</th>\n",
       "      <th>NCP</th>\n",
       "      <th>CH2O</th>\n",
       "      <th>FAF</th>\n",
       "      <th>TUE</th>\n",
       "      <th>Gender</th>\n",
       "    </tr>\n",
       "  </thead>\n",
       "  <tbody>\n",
       "    <tr>\n",
       "      <th>0</th>\n",
       "      <td>21.0</td>\n",
       "      <td>1.62</td>\n",
       "      <td>64.0</td>\n",
       "      <td>2.0</td>\n",
       "      <td>3.0</td>\n",
       "      <td>2.0</td>\n",
       "      <td>0.0</td>\n",
       "      <td>1.0</td>\n",
       "      <td>0</td>\n",
       "    </tr>\n",
       "    <tr>\n",
       "      <th>1</th>\n",
       "      <td>21.0</td>\n",
       "      <td>1.52</td>\n",
       "      <td>56.0</td>\n",
       "      <td>3.0</td>\n",
       "      <td>3.0</td>\n",
       "      <td>3.0</td>\n",
       "      <td>3.0</td>\n",
       "      <td>0.0</td>\n",
       "      <td>0</td>\n",
       "    </tr>\n",
       "    <tr>\n",
       "      <th>2</th>\n",
       "      <td>23.0</td>\n",
       "      <td>1.80</td>\n",
       "      <td>77.0</td>\n",
       "      <td>2.0</td>\n",
       "      <td>3.0</td>\n",
       "      <td>2.0</td>\n",
       "      <td>2.0</td>\n",
       "      <td>1.0</td>\n",
       "      <td>1</td>\n",
       "    </tr>\n",
       "    <tr>\n",
       "      <th>3</th>\n",
       "      <td>27.0</td>\n",
       "      <td>1.80</td>\n",
       "      <td>87.0</td>\n",
       "      <td>3.0</td>\n",
       "      <td>3.0</td>\n",
       "      <td>2.0</td>\n",
       "      <td>2.0</td>\n",
       "      <td>0.0</td>\n",
       "      <td>1</td>\n",
       "    </tr>\n",
       "    <tr>\n",
       "      <th>4</th>\n",
       "      <td>22.0</td>\n",
       "      <td>1.78</td>\n",
       "      <td>89.8</td>\n",
       "      <td>2.0</td>\n",
       "      <td>1.0</td>\n",
       "      <td>2.0</td>\n",
       "      <td>0.0</td>\n",
       "      <td>0.0</td>\n",
       "      <td>1</td>\n",
       "    </tr>\n",
       "  </tbody>\n",
       "</table>\n",
       "</div>"
      ],
      "text/plain": [
       "    Age  Height  Weight  FCVC  NCP  CH2O  FAF  TUE  Gender\n",
       "0  21.0    1.62    64.0   2.0  3.0   2.0  0.0  1.0       0\n",
       "1  21.0    1.52    56.0   3.0  3.0   3.0  3.0  0.0       0\n",
       "2  23.0    1.80    77.0   2.0  3.0   2.0  2.0  1.0       1\n",
       "3  27.0    1.80    87.0   3.0  3.0   2.0  2.0  0.0       1\n",
       "4  22.0    1.78    89.8   2.0  1.0   2.0  0.0  0.0       1"
      ]
     },
     "execution_count": 64,
     "metadata": {},
     "output_type": "execute_result"
    }
   ],
   "source": [
    "# Convert the gender into a boolean\n",
    "data_encoded = pd.get_dummies(data, columns=[\"Gender\", \"CAEC\", \"CALC\", \"MTRANS\",\n",
    "                                             \"family_history_with_overweight\",\"SMOKE\"],\n",
    "                              drop_first=True,dtype=int)\n",
    "\n",
    "# delete some useless columns\n",
    "data_encoded.drop( columns =['family_history_with_overweight_yes','FAVC','SCC','SMOKE_yes',\n",
    "                             'CALC_no','CAEC_Sometimes', 'CAEC_no', 'CALC_Frequently', 'MTRANS_Motorbike',\n",
    "                             'MTRANS_Public_Transportation', 'MTRANS_Walking','CAEC_Frequently','CALC_Sometimes',  \n",
    "                             'MTRANS_Bike'], axis=1, inplace=True)\n",
    "\n",
    "# rename the colonne Gender_male tu Gender\n",
    "data_encoded.rename(columns={'Gender_Male':\"Gender\"}, inplace=True)\n",
    "data_encoded.head()\n"
   ]
  },
  {
   "cell_type": "code",
   "execution_count": 65,
   "metadata": {},
   "outputs": [
    {
     "data": {
      "application/vnd.plotly.v1+json": {
       "config": {
        "plotlyServerURL": "https://plot.ly"
       },
       "data": [
        {
         "hovertemplate": "Age=%{x}<br>Weight=%{y}<br>Gender=%{marker.color}<extra></extra>",
         "legendgroup": "",
         "marker": {
          "color": {
           "bdata": "AAABAQEBAAEBAQEAAQEBAAEAAAABAAAAAQEBAAEBAQAAAQEAAAABAAABAAEBAAEBAAAAAAAAAAEBAQABAAEBAQAAAQEBAQAAAAEBAAAAAAEAAQEAAQEBAQAAAAABAAABAAAAAQABAAAAAAABAQABAAAAAAAAAAEAAAEBAQEBAQABAQABAAABAQEBAQEBAQEAAQEAAAAAAQAAAQEAAAEAAQEBAAEBAQABAAABAQABAQAAAQEBAAAAAAEAAQEBAAEBAQEAAQEBAAAAAAABAQABAQAAAQAAAQEBAAEAAAABAAAAAQAAAAEBAAAAAAAAAAAAAAEAAQAAAAABAQABAQAAAQEBAQABAAEBAQEAAQEBAQABAQAAAQEAAQEBAAEBAQAAAAEBAQEBAQAAAQEBAQEBAAEBAAABAAEBAAEAAQEBAAABAQABAAABAQEAAAEBAAABAQEAAAEBAQEBAQABAQEBAAAAAAABAAEAAQAAAQEBAQAAAQEBAAABAQABAQEBAQABAAAAAAEAAQABAQAAAAEBAQEBAQABAQEAAQABAAEBAQEBAQEBAQEBAQEAAQABAQEAAQABAAAAAAAAAAEBAQABAQAAAQEBAAABAAABAQABAQEBAAEBAAAAAAAAAQAAAAEAAAEAAAABAQEBAAEBAQEAAQEBAAAAAAAAAAAAAQEBAAAAAAAAAAAAAAAAAAAAAAAAAAAAAQEBAQEBAAAAAAAAAAAAAAAAAAAAAQEBAQEBAQEBAAAAAQEBAAAAAAAAAAAAAAAAAQEBAAAAAAAAAAAAAQEBAQEBAQEBAAAAAAAAAQEBAQAAAAAAAAABAAAAAAAAAQEBAAEAAAAAAQAAAAEBAQAAAQEBAAAAAAAAAAAAAAAAAAAAAAAAAAAAAAEBAQEAAQAAAAAAAAABAAAAAAAAAAEAAQEBAQEBAQAAAAEBAQABAAAAAAAAAAAAAAEBAQAAAAAAAAAAAAEBAQEBAQEBAQAAAAAAAAEBAQEBAQEBAQABAQABAAABAAAAAQEBAAEBAQEBAAEAAAEBAAEBAQAAAQAAAAABAAEAAAAAAQABAQAAAAABAQEBAQEAAAEBAAEBAQEBAQAAAAABAAAAAAABAQEBAQAAAQEBAQEBAQAAAAABAQEAAAABAQABAQEBAAAAAQAAAAAAAAEBAAAAAAAAAAAAAQAAAAEBAAAAAAABAQEBAQEBAAEAAAEBAQABAQAAAAEBAAAAAAABAQEBAAAAAQEBAAABAQEAAAAAAQEBAAEBAQEAAAEBAAAAAAABAAEAAAEAAAAAAQAAAQEBAAAAAAABAQEBAQEBAQEAAQEAAAEAAAEBAAABAQABAQABAAEBAQEAAQABAQEBAAEAAAAAAQEAAAAAAQEAAAEBAQEBAAEBAQAAAAEBAQEBAQEBAQEBAQEAAAABAAABAQEBAQABAAEAAQABAAEBAAEAAQEAAQABAQEAAQAAAQAAAQABAQEBAAEBAAABAQEBAQEBAQEAAAEAAQEBAQEBAQEAAAEBAAABAAABAQABAQEAAQAAAQEBAQEBAAEAAQEBAQABAAAAAAEBAAAAAAEBAAABAQEBAQABAQEBAAABAQEBAQEBAQEBAQEBAAAAAQEAAQEBAQAAAAAAAAEBAAAAAQEAAAEAAQABAQEBAQEAAAAAAAEAAQEAAQEAAAEBAQEBAQAAAQEBAAABAAABAQEAAQEAAQEAAQEBAQEAAAAAAAABAQEBAAAAAAEBAAAAAAEBAAABAQAAAQEBAQEBAQEBAQAAAAAAAAEBAAABAQAAAQEAAAEBAQEBAQAAAQEBAQAAAQEAAAEBAQEAAAEBAAABAQAAAQEBAQEBAQEBAQAAAAAAAAAAAAAAAAEBAAAAAAAAAAABAQEBAAAAAAEBAAABAQAAAQEBAQEBAQEBAQEBAAAAAAAAAAAAAAEBAAABAQEBAAABAQEBAAAAAAEBAQEBAQEBAQEBAQAAAAABAQEBAQEAAAAAAQEAAAAAAQEBAQEBAAABAQEBAAABAQEBAAABAQEBAQEBAQEBAQEBAQEBAQEBAQEBAQEBAQEBAQEBAQEBAQEBAQEBAQEBAQEBAQEBAQEBAQEBAQEBAQEBAQEBAQEBAQEBAQEBAQEBAQEBAQEBAQEBAQEBAQEBAQEBAQEBAQEBAQEBAQEBAQEBAQEBAQEBAQEBAQEBAQEBAQEBAQEBAQEBAQEBAQEBAQEBAQEBAQEBAQEBAQEBAQEBAQEBAQEBAQEBAQEBAQEBAQEBAQEBAQEBAQEBAQEBAQEBAQEBAQEBAQEBAQEBAQEBAQEBAQEBAQEBAQEBAQEBAQEBAQEBAQEBAQEBAQEBAQEBAQEBAQEBAQEBAQEBAQEBAQEBAQEBAQEBAQEBAQEBAQEBAQEBAQEBAQEBAQEBAQEBAQEAAAAAAAAAAAAAAAAAAAAAAAAAAAAAAAAAAAAAAAAAAAAAAAAAAAAAAAAAAAAAAAAAAAAAAAAAAAAAAAAAAAAAAAAAAAAAAAAAAAAAAAAAAAAAAAAAAAAAAAAAAAAAAAAAAAAAAAAAAAAAAAAAAAAAAAAAAAAAAAAAAAAAAAAAAAAAAAAAAAAAAAAAAAAAAAAAAAAAAAAAAAAAAAAAAAAAAAAAAAAAAAAAAAAAAAAAAAAAAAAAAAAAAAAAAAAAAAAAAAAAAAAAAAAAAAAAAAAAAAAAAAAAAAAAAAAAAAAAAAAAAAAAAAAAAAAAAAAAAAAAAAAAAAAAAAAAAAAAAAAAAAAAAAAAAAAAAAAAAAAAAAAAAAAAAAAAAAAAAAAAAAAAAAAAAAAAAAAAAAAAAAAAAAAAAAAAAAA=",
           "dtype": "i1"
          },
          "coloraxis": "coloraxis",
          "symbol": "circle"
         },
         "mode": "markers",
         "name": "",
         "showlegend": false,
         "type": "scattergl",
         "x": {
          "bdata": "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",
          "dtype": "f8"
         },
         "xaxis": "x",
         "y": {
          "bdata": "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",
          "dtype": "f8"
         },
         "yaxis": "y"
        }
       ],
       "layout": {
        "coloraxis": {
         "colorbar": {
          "title": {
           "text": "Gender"
          }
         },
         "colorscale": [
          [
           0,
           "#0d0887"
          ],
          [
           0.1111111111111111,
           "#46039f"
          ],
          [
           0.2222222222222222,
           "#7201a8"
          ],
          [
           0.3333333333333333,
           "#9c179e"
          ],
          [
           0.4444444444444444,
           "#bd3786"
          ],
          [
           0.5555555555555556,
           "#d8576b"
          ],
          [
           0.6666666666666666,
           "#ed7953"
          ],
          [
           0.7777777777777778,
           "#fb9f3a"
          ],
          [
           0.8888888888888888,
           "#fdca26"
          ],
          [
           1,
           "#f0f921"
          ]
         ]
        },
        "height": 400,
        "legend": {
         "tracegroupgap": 0
        },
        "margin": {
         "t": 60
        },
        "template": {
         "data": {
          "bar": [
           {
            "error_x": {
             "color": "#f2f5fa"
            },
            "error_y": {
             "color": "#f2f5fa"
            },
            "marker": {
             "line": {
              "color": "rgb(17,17,17)",
              "width": 0.5
             },
             "pattern": {
              "fillmode": "overlay",
              "size": 10,
              "solidity": 0.2
             }
            },
            "type": "bar"
           }
          ],
          "barpolar": [
           {
            "marker": {
             "line": {
              "color": "rgb(17,17,17)",
              "width": 0.5
             },
             "pattern": {
              "fillmode": "overlay",
              "size": 10,
              "solidity": 0.2
             }
            },
            "type": "barpolar"
           }
          ],
          "carpet": [
           {
            "aaxis": {
             "endlinecolor": "#A2B1C6",
             "gridcolor": "#506784",
             "linecolor": "#506784",
             "minorgridcolor": "#506784",
             "startlinecolor": "#A2B1C6"
            },
            "baxis": {
             "endlinecolor": "#A2B1C6",
             "gridcolor": "#506784",
             "linecolor": "#506784",
             "minorgridcolor": "#506784",
             "startlinecolor": "#A2B1C6"
            },
            "type": "carpet"
           }
          ],
          "choropleth": [
           {
            "colorbar": {
             "outlinewidth": 0,
             "ticks": ""
            },
            "type": "choropleth"
           }
          ],
          "contour": [
           {
            "colorbar": {
             "outlinewidth": 0,
             "ticks": ""
            },
            "colorscale": [
             [
              0,
              "#0d0887"
             ],
             [
              0.1111111111111111,
              "#46039f"
             ],
             [
              0.2222222222222222,
              "#7201a8"
             ],
             [
              0.3333333333333333,
              "#9c179e"
             ],
             [
              0.4444444444444444,
              "#bd3786"
             ],
             [
              0.5555555555555556,
              "#d8576b"
             ],
             [
              0.6666666666666666,
              "#ed7953"
             ],
             [
              0.7777777777777778,
              "#fb9f3a"
             ],
             [
              0.8888888888888888,
              "#fdca26"
             ],
             [
              1,
              "#f0f921"
             ]
            ],
            "type": "contour"
           }
          ],
          "contourcarpet": [
           {
            "colorbar": {
             "outlinewidth": 0,
             "ticks": ""
            },
            "type": "contourcarpet"
           }
          ],
          "heatmap": [
           {
            "colorbar": {
             "outlinewidth": 0,
             "ticks": ""
            },
            "colorscale": [
             [
              0,
              "#0d0887"
             ],
             [
              0.1111111111111111,
              "#46039f"
             ],
             [
              0.2222222222222222,
              "#7201a8"
             ],
             [
              0.3333333333333333,
              "#9c179e"
             ],
             [
              0.4444444444444444,
              "#bd3786"
             ],
             [
              0.5555555555555556,
              "#d8576b"
             ],
             [
              0.6666666666666666,
              "#ed7953"
             ],
             [
              0.7777777777777778,
              "#fb9f3a"
             ],
             [
              0.8888888888888888,
              "#fdca26"
             ],
             [
              1,
              "#f0f921"
             ]
            ],
            "type": "heatmap"
           }
          ],
          "histogram": [
           {
            "marker": {
             "pattern": {
              "fillmode": "overlay",
              "size": 10,
              "solidity": 0.2
             }
            },
            "type": "histogram"
           }
          ],
          "histogram2d": [
           {
            "colorbar": {
             "outlinewidth": 0,
             "ticks": ""
            },
            "colorscale": [
             [
              0,
              "#0d0887"
             ],
             [
              0.1111111111111111,
              "#46039f"
             ],
             [
              0.2222222222222222,
              "#7201a8"
             ],
             [
              0.3333333333333333,
              "#9c179e"
             ],
             [
              0.4444444444444444,
              "#bd3786"
             ],
             [
              0.5555555555555556,
              "#d8576b"
             ],
             [
              0.6666666666666666,
              "#ed7953"
             ],
             [
              0.7777777777777778,
              "#fb9f3a"
             ],
             [
              0.8888888888888888,
              "#fdca26"
             ],
             [
              1,
              "#f0f921"
             ]
            ],
            "type": "histogram2d"
           }
          ],
          "histogram2dcontour": [
           {
            "colorbar": {
             "outlinewidth": 0,
             "ticks": ""
            },
            "colorscale": [
             [
              0,
              "#0d0887"
             ],
             [
              0.1111111111111111,
              "#46039f"
             ],
             [
              0.2222222222222222,
              "#7201a8"
             ],
             [
              0.3333333333333333,
              "#9c179e"
             ],
             [
              0.4444444444444444,
              "#bd3786"
             ],
             [
              0.5555555555555556,
              "#d8576b"
             ],
             [
              0.6666666666666666,
              "#ed7953"
             ],
             [
              0.7777777777777778,
              "#fb9f3a"
             ],
             [
              0.8888888888888888,
              "#fdca26"
             ],
             [
              1,
              "#f0f921"
             ]
            ],
            "type": "histogram2dcontour"
           }
          ],
          "mesh3d": [
           {
            "colorbar": {
             "outlinewidth": 0,
             "ticks": ""
            },
            "type": "mesh3d"
           }
          ],
          "parcoords": [
           {
            "line": {
             "colorbar": {
              "outlinewidth": 0,
              "ticks": ""
             }
            },
            "type": "parcoords"
           }
          ],
          "pie": [
           {
            "automargin": true,
            "type": "pie"
           }
          ],
          "scatter": [
           {
            "marker": {
             "line": {
              "color": "#283442"
             }
            },
            "type": "scatter"
           }
          ],
          "scatter3d": [
           {
            "line": {
             "colorbar": {
              "outlinewidth": 0,
              "ticks": ""
             }
            },
            "marker": {
             "colorbar": {
              "outlinewidth": 0,
              "ticks": ""
             }
            },
            "type": "scatter3d"
           }
          ],
          "scattercarpet": [
           {
            "marker": {
             "colorbar": {
              "outlinewidth": 0,
              "ticks": ""
             }
            },
            "type": "scattercarpet"
           }
          ],
          "scattergeo": [
           {
            "marker": {
             "colorbar": {
              "outlinewidth": 0,
              "ticks": ""
             }
            },
            "type": "scattergeo"
           }
          ],
          "scattergl": [
           {
            "marker": {
             "line": {
              "color": "#283442"
             }
            },
            "type": "scattergl"
           }
          ],
          "scattermap": [
           {
            "marker": {
             "colorbar": {
              "outlinewidth": 0,
              "ticks": ""
             }
            },
            "type": "scattermap"
           }
          ],
          "scattermapbox": [
           {
            "marker": {
             "colorbar": {
              "outlinewidth": 0,
              "ticks": ""
             }
            },
            "type": "scattermapbox"
           }
          ],
          "scatterpolar": [
           {
            "marker": {
             "colorbar": {
              "outlinewidth": 0,
              "ticks": ""
             }
            },
            "type": "scatterpolar"
           }
          ],
          "scatterpolargl": [
           {
            "marker": {
             "colorbar": {
              "outlinewidth": 0,
              "ticks": ""
             }
            },
            "type": "scatterpolargl"
           }
          ],
          "scatterternary": [
           {
            "marker": {
             "colorbar": {
              "outlinewidth": 0,
              "ticks": ""
             }
            },
            "type": "scatterternary"
           }
          ],
          "surface": [
           {
            "colorbar": {
             "outlinewidth": 0,
             "ticks": ""
            },
            "colorscale": [
             [
              0,
              "#0d0887"
             ],
             [
              0.1111111111111111,
              "#46039f"
             ],
             [
              0.2222222222222222,
              "#7201a8"
             ],
             [
              0.3333333333333333,
              "#9c179e"
             ],
             [
              0.4444444444444444,
              "#bd3786"
             ],
             [
              0.5555555555555556,
              "#d8576b"
             ],
             [
              0.6666666666666666,
              "#ed7953"
             ],
             [
              0.7777777777777778,
              "#fb9f3a"
             ],
             [
              0.8888888888888888,
              "#fdca26"
             ],
             [
              1,
              "#f0f921"
             ]
            ],
            "type": "surface"
           }
          ],
          "table": [
           {
            "cells": {
             "fill": {
              "color": "#506784"
             },
             "line": {
              "color": "rgb(17,17,17)"
             }
            },
            "header": {
             "fill": {
              "color": "#2a3f5f"
             },
             "line": {
              "color": "rgb(17,17,17)"
             }
            },
            "type": "table"
           }
          ]
         },
         "layout": {
          "annotationdefaults": {
           "arrowcolor": "#f2f5fa",
           "arrowhead": 0,
           "arrowwidth": 1
          },
          "autotypenumbers": "strict",
          "coloraxis": {
           "colorbar": {
            "outlinewidth": 0,
            "ticks": ""
           }
          },
          "colorscale": {
           "diverging": [
            [
             0,
             "#8e0152"
            ],
            [
             0.1,
             "#c51b7d"
            ],
            [
             0.2,
             "#de77ae"
            ],
            [
             0.3,
             "#f1b6da"
            ],
            [
             0.4,
             "#fde0ef"
            ],
            [
             0.5,
             "#f7f7f7"
            ],
            [
             0.6,
             "#e6f5d0"
            ],
            [
             0.7,
             "#b8e186"
            ],
            [
             0.8,
             "#7fbc41"
            ],
            [
             0.9,
             "#4d9221"
            ],
            [
             1,
             "#276419"
            ]
           ],
           "sequential": [
            [
             0,
             "#0d0887"
            ],
            [
             0.1111111111111111,
             "#46039f"
            ],
            [
             0.2222222222222222,
             "#7201a8"
            ],
            [
             0.3333333333333333,
             "#9c179e"
            ],
            [
             0.4444444444444444,
             "#bd3786"
            ],
            [
             0.5555555555555556,
             "#d8576b"
            ],
            [
             0.6666666666666666,
             "#ed7953"
            ],
            [
             0.7777777777777778,
             "#fb9f3a"
            ],
            [
             0.8888888888888888,
             "#fdca26"
            ],
            [
             1,
             "#f0f921"
            ]
           ],
           "sequentialminus": [
            [
             0,
             "#0d0887"
            ],
            [
             0.1111111111111111,
             "#46039f"
            ],
            [
             0.2222222222222222,
             "#7201a8"
            ],
            [
             0.3333333333333333,
             "#9c179e"
            ],
            [
             0.4444444444444444,
             "#bd3786"
            ],
            [
             0.5555555555555556,
             "#d8576b"
            ],
            [
             0.6666666666666666,
             "#ed7953"
            ],
            [
             0.7777777777777778,
             "#fb9f3a"
            ],
            [
             0.8888888888888888,
             "#fdca26"
            ],
            [
             1,
             "#f0f921"
            ]
           ]
          },
          "colorway": [
           "#636efa",
           "#EF553B",
           "#00cc96",
           "#ab63fa",
           "#FFA15A",
           "#19d3f3",
           "#FF6692",
           "#B6E880",
           "#FF97FF",
           "#FECB52"
          ],
          "font": {
           "color": "#f2f5fa"
          },
          "geo": {
           "bgcolor": "rgb(17,17,17)",
           "lakecolor": "rgb(17,17,17)",
           "landcolor": "rgb(17,17,17)",
           "showlakes": true,
           "showland": true,
           "subunitcolor": "#506784"
          },
          "hoverlabel": {
           "align": "left"
          },
          "hovermode": "closest",
          "mapbox": {
           "style": "dark"
          },
          "paper_bgcolor": "rgb(17,17,17)",
          "plot_bgcolor": "rgb(17,17,17)",
          "polar": {
           "angularaxis": {
            "gridcolor": "#506784",
            "linecolor": "#506784",
            "ticks": ""
           },
           "bgcolor": "rgb(17,17,17)",
           "radialaxis": {
            "gridcolor": "#506784",
            "linecolor": "#506784",
            "ticks": ""
           }
          },
          "scene": {
           "xaxis": {
            "backgroundcolor": "rgb(17,17,17)",
            "gridcolor": "#506784",
            "gridwidth": 2,
            "linecolor": "#506784",
            "showbackground": true,
            "ticks": "",
            "zerolinecolor": "#C8D4E3"
           },
           "yaxis": {
            "backgroundcolor": "rgb(17,17,17)",
            "gridcolor": "#506784",
            "gridwidth": 2,
            "linecolor": "#506784",
            "showbackground": true,
            "ticks": "",
            "zerolinecolor": "#C8D4E3"
           },
           "zaxis": {
            "backgroundcolor": "rgb(17,17,17)",
            "gridcolor": "#506784",
            "gridwidth": 2,
            "linecolor": "#506784",
            "showbackground": true,
            "ticks": "",
            "zerolinecolor": "#C8D4E3"
           }
          },
          "shapedefaults": {
           "line": {
            "color": "#f2f5fa"
           }
          },
          "sliderdefaults": {
           "bgcolor": "#C8D4E3",
           "bordercolor": "rgb(17,17,17)",
           "borderwidth": 1,
           "tickwidth": 0
          },
          "ternary": {
           "aaxis": {
            "gridcolor": "#506784",
            "linecolor": "#506784",
            "ticks": ""
           },
           "baxis": {
            "gridcolor": "#506784",
            "linecolor": "#506784",
            "ticks": ""
           },
           "bgcolor": "rgb(17,17,17)",
           "caxis": {
            "gridcolor": "#506784",
            "linecolor": "#506784",
            "ticks": ""
           }
          },
          "title": {
           "x": 0.05
          },
          "updatemenudefaults": {
           "bgcolor": "#506784",
           "borderwidth": 0
          },
          "xaxis": {
           "automargin": true,
           "gridcolor": "#283442",
           "linecolor": "#506784",
           "ticks": "",
           "title": {
            "standoff": 15
           },
           "zerolinecolor": "#283442",
           "zerolinewidth": 2
          },
          "yaxis": {
           "automargin": true,
           "gridcolor": "#283442",
           "linecolor": "#506784",
           "ticks": "",
           "title": {
            "standoff": 15
           },
           "zerolinecolor": "#283442",
           "zerolinewidth": 2
          }
         }
        },
        "title": {
         "text": "Distribution of gender over Age and Weight"
        },
        "width": 800,
        "xaxis": {
         "anchor": "y",
         "domain": [
          0,
          1
         ],
         "title": {
          "text": "Age"
         }
        },
        "yaxis": {
         "anchor": "x",
         "domain": [
          0,
          1
         ],
         "title": {
          "text": "Weight"
         }
        }
       }
      }
     },
     "metadata": {},
     "output_type": "display_data"
    }
   ],
   "source": [
    "\n",
    "fig = px.scatter(data_encoded,x=\"Age\",y=\"Weight\",color=\"Gender\")\n",
    "fig.update_layout(\n",
    "    title=\"Distribution of gender over Age and Weight\",\n",
    "    xaxis_title=\"Age\",\n",
    "    yaxis_title=\"Weight\",\n",
    "    template=\"plotly_dark\",\n",
    "    height=400,\n",
    "    width=800\n",
    ")\n",
    "fig.show()\n",
    "\n"
   ]
  },
  {
   "cell_type": "code",
   "execution_count": 66,
   "metadata": {},
   "outputs": [
    {
     "data": {
      "application/vnd.plotly.v1+json": {
       "config": {
        "plotlyServerURL": "https://plot.ly"
       },
       "data": [
        {
         "hovertemplate": "Count=%{x}<br>Gender=%{y}<extra></extra>",
         "legendgroup": "",
         "marker": {
          "color": "#636efa",
          "pattern": {
           "shape": ""
          }
         },
         "name": "",
         "orientation": "h",
         "showlegend": false,
         "textposition": "auto",
         "type": "bar",
         "x": {
          "bdata": "LAQTBA==",
          "dtype": "i2"
         },
         "xaxis": "x",
         "y": {
          "bdata": "AQA=",
          "dtype": "i1"
         },
         "yaxis": "y"
        }
       ],
       "layout": {
        "bargap": 0.5,
        "barmode": "relative",
        "height": 300,
        "legend": {
         "tracegroupgap": 0
        },
        "margin": {
         "t": 60
        },
        "template": {
         "data": {
          "bar": [
           {
            "error_x": {
             "color": "#f2f5fa"
            },
            "error_y": {
             "color": "#f2f5fa"
            },
            "marker": {
             "line": {
              "color": "rgb(17,17,17)",
              "width": 0.5
             },
             "pattern": {
              "fillmode": "overlay",
              "size": 10,
              "solidity": 0.2
             }
            },
            "type": "bar"
           }
          ],
          "barpolar": [
           {
            "marker": {
             "line": {
              "color": "rgb(17,17,17)",
              "width": 0.5
             },
             "pattern": {
              "fillmode": "overlay",
              "size": 10,
              "solidity": 0.2
             }
            },
            "type": "barpolar"
           }
          ],
          "carpet": [
           {
            "aaxis": {
             "endlinecolor": "#A2B1C6",
             "gridcolor": "#506784",
             "linecolor": "#506784",
             "minorgridcolor": "#506784",
             "startlinecolor": "#A2B1C6"
            },
            "baxis": {
             "endlinecolor": "#A2B1C6",
             "gridcolor": "#506784",
             "linecolor": "#506784",
             "minorgridcolor": "#506784",
             "startlinecolor": "#A2B1C6"
            },
            "type": "carpet"
           }
          ],
          "choropleth": [
           {
            "colorbar": {
             "outlinewidth": 0,
             "ticks": ""
            },
            "type": "choropleth"
           }
          ],
          "contour": [
           {
            "colorbar": {
             "outlinewidth": 0,
             "ticks": ""
            },
            "colorscale": [
             [
              0,
              "#0d0887"
             ],
             [
              0.1111111111111111,
              "#46039f"
             ],
             [
              0.2222222222222222,
              "#7201a8"
             ],
             [
              0.3333333333333333,
              "#9c179e"
             ],
             [
              0.4444444444444444,
              "#bd3786"
             ],
             [
              0.5555555555555556,
              "#d8576b"
             ],
             [
              0.6666666666666666,
              "#ed7953"
             ],
             [
              0.7777777777777778,
              "#fb9f3a"
             ],
             [
              0.8888888888888888,
              "#fdca26"
             ],
             [
              1,
              "#f0f921"
             ]
            ],
            "type": "contour"
           }
          ],
          "contourcarpet": [
           {
            "colorbar": {
             "outlinewidth": 0,
             "ticks": ""
            },
            "type": "contourcarpet"
           }
          ],
          "heatmap": [
           {
            "colorbar": {
             "outlinewidth": 0,
             "ticks": ""
            },
            "colorscale": [
             [
              0,
              "#0d0887"
             ],
             [
              0.1111111111111111,
              "#46039f"
             ],
             [
              0.2222222222222222,
              "#7201a8"
             ],
             [
              0.3333333333333333,
              "#9c179e"
             ],
             [
              0.4444444444444444,
              "#bd3786"
             ],
             [
              0.5555555555555556,
              "#d8576b"
             ],
             [
              0.6666666666666666,
              "#ed7953"
             ],
             [
              0.7777777777777778,
              "#fb9f3a"
             ],
             [
              0.8888888888888888,
              "#fdca26"
             ],
             [
              1,
              "#f0f921"
             ]
            ],
            "type": "heatmap"
           }
          ],
          "histogram": [
           {
            "marker": {
             "pattern": {
              "fillmode": "overlay",
              "size": 10,
              "solidity": 0.2
             }
            },
            "type": "histogram"
           }
          ],
          "histogram2d": [
           {
            "colorbar": {
             "outlinewidth": 0,
             "ticks": ""
            },
            "colorscale": [
             [
              0,
              "#0d0887"
             ],
             [
              0.1111111111111111,
              "#46039f"
             ],
             [
              0.2222222222222222,
              "#7201a8"
             ],
             [
              0.3333333333333333,
              "#9c179e"
             ],
             [
              0.4444444444444444,
              "#bd3786"
             ],
             [
              0.5555555555555556,
              "#d8576b"
             ],
             [
              0.6666666666666666,
              "#ed7953"
             ],
             [
              0.7777777777777778,
              "#fb9f3a"
             ],
             [
              0.8888888888888888,
              "#fdca26"
             ],
             [
              1,
              "#f0f921"
             ]
            ],
            "type": "histogram2d"
           }
          ],
          "histogram2dcontour": [
           {
            "colorbar": {
             "outlinewidth": 0,
             "ticks": ""
            },
            "colorscale": [
             [
              0,
              "#0d0887"
             ],
             [
              0.1111111111111111,
              "#46039f"
             ],
             [
              0.2222222222222222,
              "#7201a8"
             ],
             [
              0.3333333333333333,
              "#9c179e"
             ],
             [
              0.4444444444444444,
              "#bd3786"
             ],
             [
              0.5555555555555556,
              "#d8576b"
             ],
             [
              0.6666666666666666,
              "#ed7953"
             ],
             [
              0.7777777777777778,
              "#fb9f3a"
             ],
             [
              0.8888888888888888,
              "#fdca26"
             ],
             [
              1,
              "#f0f921"
             ]
            ],
            "type": "histogram2dcontour"
           }
          ],
          "mesh3d": [
           {
            "colorbar": {
             "outlinewidth": 0,
             "ticks": ""
            },
            "type": "mesh3d"
           }
          ],
          "parcoords": [
           {
            "line": {
             "colorbar": {
              "outlinewidth": 0,
              "ticks": ""
             }
            },
            "type": "parcoords"
           }
          ],
          "pie": [
           {
            "automargin": true,
            "type": "pie"
           }
          ],
          "scatter": [
           {
            "marker": {
             "line": {
              "color": "#283442"
             }
            },
            "type": "scatter"
           }
          ],
          "scatter3d": [
           {
            "line": {
             "colorbar": {
              "outlinewidth": 0,
              "ticks": ""
             }
            },
            "marker": {
             "colorbar": {
              "outlinewidth": 0,
              "ticks": ""
             }
            },
            "type": "scatter3d"
           }
          ],
          "scattercarpet": [
           {
            "marker": {
             "colorbar": {
              "outlinewidth": 0,
              "ticks": ""
             }
            },
            "type": "scattercarpet"
           }
          ],
          "scattergeo": [
           {
            "marker": {
             "colorbar": {
              "outlinewidth": 0,
              "ticks": ""
             }
            },
            "type": "scattergeo"
           }
          ],
          "scattergl": [
           {
            "marker": {
             "line": {
              "color": "#283442"
             }
            },
            "type": "scattergl"
           }
          ],
          "scattermap": [
           {
            "marker": {
             "colorbar": {
              "outlinewidth": 0,
              "ticks": ""
             }
            },
            "type": "scattermap"
           }
          ],
          "scattermapbox": [
           {
            "marker": {
             "colorbar": {
              "outlinewidth": 0,
              "ticks": ""
             }
            },
            "type": "scattermapbox"
           }
          ],
          "scatterpolar": [
           {
            "marker": {
             "colorbar": {
              "outlinewidth": 0,
              "ticks": ""
             }
            },
            "type": "scatterpolar"
           }
          ],
          "scatterpolargl": [
           {
            "marker": {
             "colorbar": {
              "outlinewidth": 0,
              "ticks": ""
             }
            },
            "type": "scatterpolargl"
           }
          ],
          "scatterternary": [
           {
            "marker": {
             "colorbar": {
              "outlinewidth": 0,
              "ticks": ""
             }
            },
            "type": "scatterternary"
           }
          ],
          "surface": [
           {
            "colorbar": {
             "outlinewidth": 0,
             "ticks": ""
            },
            "colorscale": [
             [
              0,
              "#0d0887"
             ],
             [
              0.1111111111111111,
              "#46039f"
             ],
             [
              0.2222222222222222,
              "#7201a8"
             ],
             [
              0.3333333333333333,
              "#9c179e"
             ],
             [
              0.4444444444444444,
              "#bd3786"
             ],
             [
              0.5555555555555556,
              "#d8576b"
             ],
             [
              0.6666666666666666,
              "#ed7953"
             ],
             [
              0.7777777777777778,
              "#fb9f3a"
             ],
             [
              0.8888888888888888,
              "#fdca26"
             ],
             [
              1,
              "#f0f921"
             ]
            ],
            "type": "surface"
           }
          ],
          "table": [
           {
            "cells": {
             "fill": {
              "color": "#506784"
             },
             "line": {
              "color": "rgb(17,17,17)"
             }
            },
            "header": {
             "fill": {
              "color": "#2a3f5f"
             },
             "line": {
              "color": "rgb(17,17,17)"
             }
            },
            "type": "table"
           }
          ]
         },
         "layout": {
          "annotationdefaults": {
           "arrowcolor": "#f2f5fa",
           "arrowhead": 0,
           "arrowwidth": 1
          },
          "autotypenumbers": "strict",
          "coloraxis": {
           "colorbar": {
            "outlinewidth": 0,
            "ticks": ""
           }
          },
          "colorscale": {
           "diverging": [
            [
             0,
             "#8e0152"
            ],
            [
             0.1,
             "#c51b7d"
            ],
            [
             0.2,
             "#de77ae"
            ],
            [
             0.3,
             "#f1b6da"
            ],
            [
             0.4,
             "#fde0ef"
            ],
            [
             0.5,
             "#f7f7f7"
            ],
            [
             0.6,
             "#e6f5d0"
            ],
            [
             0.7,
             "#b8e186"
            ],
            [
             0.8,
             "#7fbc41"
            ],
            [
             0.9,
             "#4d9221"
            ],
            [
             1,
             "#276419"
            ]
           ],
           "sequential": [
            [
             0,
             "#0d0887"
            ],
            [
             0.1111111111111111,
             "#46039f"
            ],
            [
             0.2222222222222222,
             "#7201a8"
            ],
            [
             0.3333333333333333,
             "#9c179e"
            ],
            [
             0.4444444444444444,
             "#bd3786"
            ],
            [
             0.5555555555555556,
             "#d8576b"
            ],
            [
             0.6666666666666666,
             "#ed7953"
            ],
            [
             0.7777777777777778,
             "#fb9f3a"
            ],
            [
             0.8888888888888888,
             "#fdca26"
            ],
            [
             1,
             "#f0f921"
            ]
           ],
           "sequentialminus": [
            [
             0,
             "#0d0887"
            ],
            [
             0.1111111111111111,
             "#46039f"
            ],
            [
             0.2222222222222222,
             "#7201a8"
            ],
            [
             0.3333333333333333,
             "#9c179e"
            ],
            [
             0.4444444444444444,
             "#bd3786"
            ],
            [
             0.5555555555555556,
             "#d8576b"
            ],
            [
             0.6666666666666666,
             "#ed7953"
            ],
            [
             0.7777777777777778,
             "#fb9f3a"
            ],
            [
             0.8888888888888888,
             "#fdca26"
            ],
            [
             1,
             "#f0f921"
            ]
           ]
          },
          "colorway": [
           "#636efa",
           "#EF553B",
           "#00cc96",
           "#ab63fa",
           "#FFA15A",
           "#19d3f3",
           "#FF6692",
           "#B6E880",
           "#FF97FF",
           "#FECB52"
          ],
          "font": {
           "color": "#f2f5fa"
          },
          "geo": {
           "bgcolor": "rgb(17,17,17)",
           "lakecolor": "rgb(17,17,17)",
           "landcolor": "rgb(17,17,17)",
           "showlakes": true,
           "showland": true,
           "subunitcolor": "#506784"
          },
          "hoverlabel": {
           "align": "left"
          },
          "hovermode": "closest",
          "mapbox": {
           "style": "dark"
          },
          "paper_bgcolor": "rgb(17,17,17)",
          "plot_bgcolor": "rgb(17,17,17)",
          "polar": {
           "angularaxis": {
            "gridcolor": "#506784",
            "linecolor": "#506784",
            "ticks": ""
           },
           "bgcolor": "rgb(17,17,17)",
           "radialaxis": {
            "gridcolor": "#506784",
            "linecolor": "#506784",
            "ticks": ""
           }
          },
          "scene": {
           "xaxis": {
            "backgroundcolor": "rgb(17,17,17)",
            "gridcolor": "#506784",
            "gridwidth": 2,
            "linecolor": "#506784",
            "showbackground": true,
            "ticks": "",
            "zerolinecolor": "#C8D4E3"
           },
           "yaxis": {
            "backgroundcolor": "rgb(17,17,17)",
            "gridcolor": "#506784",
            "gridwidth": 2,
            "linecolor": "#506784",
            "showbackground": true,
            "ticks": "",
            "zerolinecolor": "#C8D4E3"
           },
           "zaxis": {
            "backgroundcolor": "rgb(17,17,17)",
            "gridcolor": "#506784",
            "gridwidth": 2,
            "linecolor": "#506784",
            "showbackground": true,
            "ticks": "",
            "zerolinecolor": "#C8D4E3"
           }
          },
          "shapedefaults": {
           "line": {
            "color": "#f2f5fa"
           }
          },
          "sliderdefaults": {
           "bgcolor": "#C8D4E3",
           "bordercolor": "rgb(17,17,17)",
           "borderwidth": 1,
           "tickwidth": 0
          },
          "ternary": {
           "aaxis": {
            "gridcolor": "#506784",
            "linecolor": "#506784",
            "ticks": ""
           },
           "baxis": {
            "gridcolor": "#506784",
            "linecolor": "#506784",
            "ticks": ""
           },
           "bgcolor": "rgb(17,17,17)",
           "caxis": {
            "gridcolor": "#506784",
            "linecolor": "#506784",
            "ticks": ""
           }
          },
          "title": {
           "x": 0.05
          },
          "updatemenudefaults": {
           "bgcolor": "#506784",
           "borderwidth": 0
          },
          "xaxis": {
           "automargin": true,
           "gridcolor": "#283442",
           "linecolor": "#506784",
           "ticks": "",
           "title": {
            "standoff": 15
           },
           "zerolinecolor": "#283442",
           "zerolinewidth": 2
          },
          "yaxis": {
           "automargin": true,
           "gridcolor": "#283442",
           "linecolor": "#506784",
           "ticks": "",
           "title": {
            "standoff": 15
           },
           "zerolinecolor": "#283442",
           "zerolinewidth": 2
          }
         }
        },
        "width": 800,
        "xaxis": {
         "anchor": "y",
         "domain": [
          0,
          1
         ],
         "title": {
          "text": "Count"
         }
        },
        "yaxis": {
         "anchor": "x",
         "domain": [
          0,
          1
         ],
         "title": {
          "text": "Gender"
         }
        }
       }
      }
     },
     "metadata": {},
     "output_type": "display_data"
    }
   ],
   "source": [
    "\n",
    "\n",
    "\n",
    "gender_counts = data_encoded[\"Gender\"].value_counts().reset_index()\n",
    "gender_counts.columns = [\"Gender\", \"Count\"]\n",
    "\n",
    "\n",
    "fig = px.bar(\n",
    "    gender_counts,\n",
    "    x=\"Count\",\n",
    "    y=\"Gender\",\n",
    "    orientation=\"h\",\n",
    "    template=\"plotly_dark\",\n",
    "    width=800,\n",
    ")\n",
    "fig.update_layout(\n",
    "    height=300,     \n",
    "    bargap=0.5    \n",
    ")\n",
    "fig.show()\n"
   ]
  },
  {
   "cell_type": "code",
   "execution_count": 67,
   "metadata": {},
   "outputs": [
    {
     "data": {
      "text/plain": [
       "<Axes: ylabel='Height'>"
      ]
     },
     "execution_count": 67,
     "metadata": {},
     "output_type": "execute_result"
    },
    {
     "data": {
      "image/png": "[encoded data removed]",
      "text/plain": [
       "<Figure size 640x480 with 1 Axes>"
      ]
     },
     "metadata": {},
     "output_type": "display_data"
    }
   ],
   "source": [
    "sns.boxplot(data_encoded[\"Height\"])"
   ]
  },
  {
   "cell_type": "code",
   "execution_count": 68,
   "metadata": {},
   "outputs": [
    {
     "data": {
      "text/plain": [
       "<Axes: ylabel='Weight'>"
      ]
     },
     "execution_count": 68,
     "metadata": {},
     "output_type": "execute_result"
    },
    {
     "data": {
      "image/png": "[encoded data removed]",
      "text/plain": [
       "<Figure size 640x480 with 1 Axes>"
      ]
     },
     "metadata": {},
     "output_type": "display_data"
    }
   ],
   "source": [
    "sns.boxplot(data_encoded[\"Weight\"])"
   ]
  },
  {
   "cell_type": "code",
   "execution_count": 69,
   "metadata": {},
   "outputs": [
    {
     "data": {
      "text/plain": [
       "<seaborn.axisgrid.FacetGrid at 0x2821b6d4cd0>"
      ]
     },
     "execution_count": 69,
     "metadata": {},
     "output_type": "execute_result"
    },
    {
     "data": {
      "image/png": "[encoded data removed]",
      "text/plain": [
       "<Figure size 500x500 with 1 Axes>"
      ]
     },
     "metadata": {},
     "output_type": "display_data"
    }
   ],
   "source": [
    "sns.displot(data_encoded[\"Age\"],kde=True)"
   ]
  },
  {
   "cell_type": "code",
   "execution_count": 70,
   "metadata": {},
   "outputs": [
    {
     "data": {
      "text/plain": [
       "<seaborn.axisgrid.FacetGrid at 0x2821b805450>"
      ]
     },
     "execution_count": 70,
     "metadata": {},
     "output_type": "execute_result"
    },
    {
     "data": {
      "image/png": "[encoded data removed]",
      "text/plain": [
       "<Figure size 500x500 with 1 Axes>"
      ]
     },
     "metadata": {},
     "output_type": "display_data"
    }
   ],
   "source": [
    "\n",
    "sns.displot(data_encoded[\"Weight\"],kde=True)"
   ]
  },
  {
   "cell_type": "code",
   "execution_count": 71,
   "metadata": {},
   "outputs": [
    {
     "data": {
      "application/vnd.microsoft.datawrangler.viewer.v0+json": {
       "columns": [
        {
         "name": "index",
         "rawType": "int64",
         "type": "integer"
        },
        {
         "name": "Age",
         "rawType": "float64",
         "type": "float"
        },
        {
         "name": "Height",
         "rawType": "float64",
         "type": "float"
        },
        {
         "name": "Weight",
         "rawType": "float64",
         "type": "float"
        },
        {
         "name": "FCVC",
         "rawType": "float64",
         "type": "float"
        },
        {
         "name": "NCP",
         "rawType": "float64",
         "type": "float"
        },
        {
         "name": "CH2O",
         "rawType": "float64",
         "type": "float"
        },
        {
         "name": "FAF",
         "rawType": "float64",
         "type": "float"
        },
        {
         "name": "TUE",
         "rawType": "float64",
         "type": "float"
        },
        {
         "name": "Gender",
         "rawType": "int64",
         "type": "integer"
        }
       ],
       "conversionMethod": "pd.DataFrame",
       "ref": "2e904d3e-8aa1-40ef-8b4a-c882489f4aae",
       "rows": [
        [
         "0",
         "21.0",
         "1.62",
         "64.0",
         "2.0",
         "3.0",
         "2.0",
         "0.0",
         "1.0",
         "0"
        ],
        [
         "1",
         "21.0",
         "1.52",
         "56.0",
         "3.0",
         "3.0",
         "3.0",
         "3.0",
         "0.0",
         "0"
        ],
        [
         "2",
         "23.0",
         "1.8",
         "77.0",
         "2.0",
         "3.0",
         "2.0",
         "2.0",
         "1.0",
         "1"
        ],
        [
         "3",
         "27.0",
         "1.8",
         "87.0",
         "3.0",
         "3.0",
         "2.0",
         "2.0",
         "0.0",
         "1"
        ],
        [
         "4",
         "22.0",
         "1.78",
         "89.8",
         "2.0",
         "1.0",
         "2.0",
         "0.0",
         "0.0",
         "1"
        ]
       ],
       "shape": {
        "columns": 9,
        "rows": 5
       }
      },
      "text/html": [
       "<div>\n",
       "<style scoped>\n",
       "    .dataframe tbody tr th:only-of-type {\n",
       "        vertical-align: middle;\n",
       "    }\n",
       "\n",
       "    .dataframe tbody tr th {\n",
       "        vertical-align: top;\n",
       "    }\n",
       "\n",
       "    .dataframe thead th {\n",
       "        text-align: right;\n",
       "    }\n",
       "</style>\n",
       "<table border=\"1\" class=\"dataframe\">\n",
       "  <thead>\n",
       "    <tr style=\"text-align: right;\">\n",
       "      <th></th>\n",
       "      <th>Age</th>\n",
       "      <th>Height</th>\n",
       "      <th>Weight</th>\n",
       "      <th>FCVC</th>\n",
       "      <th>NCP</th>\n",
       "      <th>CH2O</th>\n",
       "      <th>FAF</th>\n",
       "      <th>TUE</th>\n",
       "      <th>Gender</th>\n",
       "    </tr>\n",
       "  </thead>\n",
       "  <tbody>\n",
       "    <tr>\n",
       "      <th>0</th>\n",
       "      <td>21.0</td>\n",
       "      <td>1.62</td>\n",
       "      <td>64.0</td>\n",
       "      <td>2.0</td>\n",
       "      <td>3.0</td>\n",
       "      <td>2.0</td>\n",
       "      <td>0.0</td>\n",
       "      <td>1.0</td>\n",
       "      <td>0</td>\n",
       "    </tr>\n",
       "    <tr>\n",
       "      <th>1</th>\n",
       "      <td>21.0</td>\n",
       "      <td>1.52</td>\n",
       "      <td>56.0</td>\n",
       "      <td>3.0</td>\n",
       "      <td>3.0</td>\n",
       "      <td>3.0</td>\n",
       "      <td>3.0</td>\n",
       "      <td>0.0</td>\n",
       "      <td>0</td>\n",
       "    </tr>\n",
       "    <tr>\n",
       "      <th>2</th>\n",
       "      <td>23.0</td>\n",
       "      <td>1.80</td>\n",
       "      <td>77.0</td>\n",
       "      <td>2.0</td>\n",
       "      <td>3.0</td>\n",
       "      <td>2.0</td>\n",
       "      <td>2.0</td>\n",
       "      <td>1.0</td>\n",
       "      <td>1</td>\n",
       "    </tr>\n",
       "    <tr>\n",
       "      <th>3</th>\n",
       "      <td>27.0</td>\n",
       "      <td>1.80</td>\n",
       "      <td>87.0</td>\n",
       "      <td>3.0</td>\n",
       "      <td>3.0</td>\n",
       "      <td>2.0</td>\n",
       "      <td>2.0</td>\n",
       "      <td>0.0</td>\n",
       "      <td>1</td>\n",
       "    </tr>\n",
       "    <tr>\n",
       "      <th>4</th>\n",
       "      <td>22.0</td>\n",
       "      <td>1.78</td>\n",
       "      <td>89.8</td>\n",
       "      <td>2.0</td>\n",
       "      <td>1.0</td>\n",
       "      <td>2.0</td>\n",
       "      <td>0.0</td>\n",
       "      <td>0.0</td>\n",
       "      <td>1</td>\n",
       "    </tr>\n",
       "  </tbody>\n",
       "</table>\n",
       "</div>"
      ],
      "text/plain": [
       "    Age  Height  Weight  FCVC  NCP  CH2O  FAF  TUE  Gender\n",
       "0  21.0    1.62    64.0   2.0  3.0   2.0  0.0  1.0       0\n",
       "1  21.0    1.52    56.0   3.0  3.0   3.0  3.0  0.0       0\n",
       "2  23.0    1.80    77.0   2.0  3.0   2.0  2.0  1.0       1\n",
       "3  27.0    1.80    87.0   3.0  3.0   2.0  2.0  0.0       1\n",
       "4  22.0    1.78    89.8   2.0  1.0   2.0  0.0  0.0       1"
      ]
     },
     "execution_count": 71,
     "metadata": {},
     "output_type": "execute_result"
    }
   ],
   "source": [
    "\n",
    "data_encoded.head()"
   ]
  },
  {
   "cell_type": "code",
   "execution_count": 72,
   "metadata": {},
   "outputs": [
    {
     "name": "stdout",
     "output_type": "stream",
     "text": [
      "<class 'pandas.core.frame.DataFrame'>\n",
      "RangeIndex: 2111 entries, 0 to 2110\n",
      "Data columns (total 9 columns):\n",
      " #   Column  Non-Null Count  Dtype  \n",
      "---  ------  --------------  -----  \n",
      " 0   Age     2111 non-null   float64\n",
      " 1   Height  2111 non-null   float64\n",
      " 2   Weight  2111 non-null   float64\n",
      " 3   FCVC    2111 non-null   float64\n",
      " 4   NCP     2111 non-null   float64\n",
      " 5   CH2O    2111 non-null   float64\n",
      " 6   FAF     2111 non-null   float64\n",
      " 7   TUE     2111 non-null   float64\n",
      " 8   Gender  2111 non-null   int64  \n",
      "dtypes: float64(8), int64(1)\n",
      "memory usage: 148.6 KB\n"
     ]
    }
   ],
   "source": [
    "data_encoded.info()"
   ]
  },
  {
   "cell_type": "code",
   "execution_count": 73,
   "metadata": {},
   "outputs": [
    {
     "data": {
      "application/vnd.microsoft.datawrangler.viewer.v0+json": {
       "columns": [
        {
         "name": "index",
         "rawType": "object",
         "type": "string"
        },
        {
         "name": "count",
         "rawType": "float64",
         "type": "float"
        },
        {
         "name": "mean",
         "rawType": "float64",
         "type": "float"
        },
        {
         "name": "std",
         "rawType": "float64",
         "type": "float"
        },
        {
         "name": "min",
         "rawType": "float64",
         "type": "float"
        },
        {
         "name": "25%",
         "rawType": "float64",
         "type": "float"
        },
        {
         "name": "50%",
         "rawType": "float64",
         "type": "float"
        },
        {
         "name": "75%",
         "rawType": "float64",
         "type": "float"
        },
        {
         "name": "max",
         "rawType": "float64",
         "type": "float"
        }
       ],
       "conversionMethod": "pd.DataFrame",
       "ref": "eaf40b49-b7db-4b39-83df-10f3ed1b5e15",
       "rows": [
        [
         "Age",
         "2111.0",
         "24.312599908574136",
         "6.345968273732234",
         "14.0",
         "19.947192",
         "22.77789",
         "26.0",
         "61.0"
        ],
        [
         "Height",
         "2111.0",
         "1.7016773533870204",
         "0.09330481986792007",
         "1.45",
         "1.63",
         "1.700499",
         "1.768464",
         "1.98"
        ],
        [
         "Weight",
         "2111.0",
         "86.58605812648035",
         "26.1911717452047",
         "39.0",
         "65.473343",
         "83.0",
         "107.430682",
         "173.0"
        ],
        [
         "FCVC",
         "2111.0",
         "2.4190430615821885",
         "0.5339265785033002",
         "1.0",
         "2.0",
         "2.385502",
         "3.0",
         "3.0"
        ],
        [
         "NCP",
         "2111.0",
         "2.6856280497394596",
         "0.7780386488418612",
         "1.0",
         "2.658738",
         "3.0",
         "3.0",
         "4.0"
        ],
        [
         "CH2O",
         "2111.0",
         "2.0080114040738986",
         "0.6129534517968722",
         "1.0",
         "1.5848125",
         "2.0",
         "2.47742",
         "3.0"
        ],
        [
         "FAF",
         "2111.0",
         "1.0102976958787304",
         "0.850592430836698",
         "0.0",
         "0.124505",
         "1.0",
         "1.6666775",
         "3.0"
        ],
        [
         "TUE",
         "2111.0",
         "0.657865923732828",
         "0.6089272596763782",
         "0.0",
         "0.0",
         "0.62535",
         "1.0",
         "2.0"
        ],
        [
         "Gender",
         "2111.0",
         "0.5059213642823307",
         "0.5000833972849265",
         "0.0",
         "0.0",
         "1.0",
         "1.0",
         "1.0"
        ]
       ],
       "shape": {
        "columns": 8,
        "rows": 9
       }
      },
      "text/html": [
       "<div>\n",
       "<style scoped>\n",
       "    .dataframe tbody tr th:only-of-type {\n",
       "        vertical-align: middle;\n",
       "    }\n",
       "\n",
       "    .dataframe tbody tr th {\n",
       "        vertical-align: top;\n",
       "    }\n",
       "\n",
       "    .dataframe thead th {\n",
       "        text-align: right;\n",
       "    }\n",
       "</style>\n",
       "<table border=\"1\" class=\"dataframe\">\n",
       "  <thead>\n",
       "    <tr style=\"text-align: right;\">\n",
       "      <th></th>\n",
       "      <th>count</th>\n",
       "      <th>mean</th>\n",
       "      <th>std</th>\n",
       "      <th>min</th>\n",
       "      <th>25%</th>\n",
       "      <th>50%</th>\n",
       "      <th>75%</th>\n",
       "      <th>max</th>\n",
       "    </tr>\n",
       "  </thead>\n",
       "  <tbody>\n",
       "    <tr>\n",
       "      <th>Age</th>\n",
       "      <td>2111.0</td>\n",
       "      <td>24.312600</td>\n",
       "      <td>6.345968</td>\n",
       "      <td>14.00</td>\n",
       "      <td>19.947192</td>\n",
       "      <td>22.777890</td>\n",
       "      <td>26.000000</td>\n",
       "      <td>61.00</td>\n",
       "    </tr>\n",
       "    <tr>\n",
       "      <th>Height</th>\n",
       "      <td>2111.0</td>\n",
       "      <td>1.701677</td>\n",
       "      <td>0.093305</td>\n",
       "      <td>1.45</td>\n",
       "      <td>1.630000</td>\n",
       "      <td>1.700499</td>\n",
       "      <td>1.768464</td>\n",
       "      <td>1.98</td>\n",
       "    </tr>\n",
       "    <tr>\n",
       "      <th>Weight</th>\n",
       "      <td>2111.0</td>\n",
       "      <td>86.586058</td>\n",
       "      <td>26.191172</td>\n",
       "      <td>39.00</td>\n",
       "      <td>65.473343</td>\n",
       "      <td>83.000000</td>\n",
       "      <td>107.430682</td>\n",
       "      <td>173.00</td>\n",
       "    </tr>\n",
       "    <tr>\n",
       "      <th>FCVC</th>\n",
       "      <td>2111.0</td>\n",
       "      <td>2.419043</td>\n",
       "      <td>0.533927</td>\n",
       "      <td>1.00</td>\n",
       "      <td>2.000000</td>\n",
       "      <td>2.385502</td>\n",
       "      <td>3.000000</td>\n",
       "      <td>3.00</td>\n",
       "    </tr>\n",
       "    <tr>\n",
       "      <th>NCP</th>\n",
       "      <td>2111.0</td>\n",
       "      <td>2.685628</td>\n",
       "      <td>0.778039</td>\n",
       "      <td>1.00</td>\n",
       "      <td>2.658738</td>\n",
       "      <td>3.000000</td>\n",
       "      <td>3.000000</td>\n",
       "      <td>4.00</td>\n",
       "    </tr>\n",
       "    <tr>\n",
       "      <th>CH2O</th>\n",
       "      <td>2111.0</td>\n",
       "      <td>2.008011</td>\n",
       "      <td>0.612953</td>\n",
       "      <td>1.00</td>\n",
       "      <td>1.584812</td>\n",
       "      <td>2.000000</td>\n",
       "      <td>2.477420</td>\n",
       "      <td>3.00</td>\n",
       "    </tr>\n",
       "    <tr>\n",
       "      <th>FAF</th>\n",
       "      <td>2111.0</td>\n",
       "      <td>1.010298</td>\n",
       "      <td>0.850592</td>\n",
       "      <td>0.00</td>\n",
       "      <td>0.124505</td>\n",
       "      <td>1.000000</td>\n",
       "      <td>1.666678</td>\n",
       "      <td>3.00</td>\n",
       "    </tr>\n",
       "    <tr>\n",
       "      <th>TUE</th>\n",
       "      <td>2111.0</td>\n",
       "      <td>0.657866</td>\n",
       "      <td>0.608927</td>\n",
       "      <td>0.00</td>\n",
       "      <td>0.000000</td>\n",
       "      <td>0.625350</td>\n",
       "      <td>1.000000</td>\n",
       "      <td>2.00</td>\n",
       "    </tr>\n",
       "    <tr>\n",
       "      <th>Gender</th>\n",
       "      <td>2111.0</td>\n",
       "      <td>0.505921</td>\n",
       "      <td>0.500083</td>\n",
       "      <td>0.00</td>\n",
       "      <td>0.000000</td>\n",
       "      <td>1.000000</td>\n",
       "      <td>1.000000</td>\n",
       "      <td>1.00</td>\n",
       "    </tr>\n",
       "  </tbody>\n",
       "</table>\n",
       "</div>"
      ],
      "text/plain": [
       "         count       mean        std    min        25%        50%         75%  \\\n",
       "Age     2111.0  24.312600   6.345968  14.00  19.947192  22.777890   26.000000   \n",
       "Height  2111.0   1.701677   0.093305   1.45   1.630000   1.700499    1.768464   \n",
       "Weight  2111.0  86.586058  26.191172  39.00  65.473343  83.000000  107.430682   \n",
       "FCVC    2111.0   2.419043   0.533927   1.00   2.000000   2.385502    3.000000   \n",
       "NCP     2111.0   2.685628   0.778039   1.00   2.658738   3.000000    3.000000   \n",
       "CH2O    2111.0   2.008011   0.612953   1.00   1.584812   2.000000    2.477420   \n",
       "FAF     2111.0   1.010298   0.850592   0.00   0.124505   1.000000    1.666678   \n",
       "TUE     2111.0   0.657866   0.608927   0.00   0.000000   0.625350    1.000000   \n",
       "Gender  2111.0   0.505921   0.500083   0.00   0.000000   1.000000    1.000000   \n",
       "\n",
       "           max  \n",
       "Age      61.00  \n",
       "Height    1.98  \n",
       "Weight  173.00  \n",
       "FCVC      3.00  \n",
       "NCP       4.00  \n",
       "CH2O      3.00  \n",
       "FAF       3.00  \n",
       "TUE       2.00  \n",
       "Gender    1.00  "
      ]
     },
     "execution_count": 73,
     "metadata": {},
     "output_type": "execute_result"
    }
   ],
   "source": [
    "# Statistics for the data\n",
    "data_encoded.describe().T"
   ]
  },
  {
   "cell_type": "code",
   "execution_count": 74,
   "metadata": {},
   "outputs": [
    {
     "data": {
      "text/plain": [
       "Age       0\n",
       "Height    0\n",
       "Weight    0\n",
       "FCVC      0\n",
       "NCP       0\n",
       "CH2O      0\n",
       "FAF       0\n",
       "TUE       0\n",
       "Gender    0\n",
       "dtype: int64"
      ]
     },
     "execution_count": 74,
     "metadata": {},
     "output_type": "execute_result"
    }
   ],
   "source": [
    "# there are no null values\n",
    "data_encoded.isnull().sum()"
   ]
  },
  {
   "cell_type": "code",
   "execution_count": 75,
   "metadata": {},
   "outputs": [
    {
     "data": {
      "application/vnd.microsoft.datawrangler.viewer.v0+json": {
       "columns": [
        {
         "name": "index",
         "rawType": "int64",
         "type": "integer"
        },
        {
         "name": "Age",
         "rawType": "float64",
         "type": "float"
        },
        {
         "name": "Height",
         "rawType": "float64",
         "type": "float"
        },
        {
         "name": "Weight",
         "rawType": "float64",
         "type": "float"
        },
        {
         "name": "FCVC",
         "rawType": "float64",
         "type": "float"
        },
        {
         "name": "NCP",
         "rawType": "float64",
         "type": "float"
        },
        {
         "name": "CH2O",
         "rawType": "float64",
         "type": "float"
        },
        {
         "name": "FAF",
         "rawType": "float64",
         "type": "float"
        },
        {
         "name": "TUE",
         "rawType": "float64",
         "type": "float"
        },
        {
         "name": "Gender",
         "rawType": "int64",
         "type": "integer"
        }
       ],
       "conversionMethod": "pd.DataFrame",
       "ref": "1a1842c2-010c-4fbc-8465-7b4c5d75dad1",
       "rows": [
        [
         "0",
         "21.0",
         "1.62",
         "64.0",
         "2.0",
         "3.0",
         "2.0",
         "0.0",
         "1.0",
         "0"
        ],
        [
         "1",
         "21.0",
         "1.52",
         "56.0",
         "3.0",
         "3.0",
         "3.0",
         "3.0",
         "0.0",
         "0"
        ],
        [
         "2",
         "23.0",
         "1.8",
         "77.0",
         "2.0",
         "3.0",
         "2.0",
         "2.0",
         "1.0",
         "1"
        ],
        [
         "3",
         "27.0",
         "1.8",
         "87.0",
         "3.0",
         "3.0",
         "2.0",
         "2.0",
         "0.0",
         "1"
        ],
        [
         "4",
         "22.0",
         "1.78",
         "89.8",
         "2.0",
         "1.0",
         "2.0",
         "0.0",
         "0.0",
         "1"
        ]
       ],
       "shape": {
        "columns": 9,
        "rows": 5
       }
      },
      "text/html": [
       "<div>\n",
       "<style scoped>\n",
       "    .dataframe tbody tr th:only-of-type {\n",
       "        vertical-align: middle;\n",
       "    }\n",
       "\n",
       "    .dataframe tbody tr th {\n",
       "        vertical-align: top;\n",
       "    }\n",
       "\n",
       "    .dataframe thead th {\n",
       "        text-align: right;\n",
       "    }\n",
       "</style>\n",
       "<table border=\"1\" class=\"dataframe\">\n",
       "  <thead>\n",
       "    <tr style=\"text-align: right;\">\n",
       "      <th></th>\n",
       "      <th>Age</th>\n",
       "      <th>Height</th>\n",
       "      <th>Weight</th>\n",
       "      <th>FCVC</th>\n",
       "      <th>NCP</th>\n",
       "      <th>CH2O</th>\n",
       "      <th>FAF</th>\n",
       "      <th>TUE</th>\n",
       "      <th>Gender</th>\n",
       "    </tr>\n",
       "  </thead>\n",
       "  <tbody>\n",
       "    <tr>\n",
       "      <th>0</th>\n",
       "      <td>21.0</td>\n",
       "      <td>1.62</td>\n",
       "      <td>64.0</td>\n",
       "      <td>2.0</td>\n",
       "      <td>3.0</td>\n",
       "      <td>2.0</td>\n",
       "      <td>0.0</td>\n",
       "      <td>1.0</td>\n",
       "      <td>0</td>\n",
       "    </tr>\n",
       "    <tr>\n",
       "      <th>1</th>\n",
       "      <td>21.0</td>\n",
       "      <td>1.52</td>\n",
       "      <td>56.0</td>\n",
       "      <td>3.0</td>\n",
       "      <td>3.0</td>\n",
       "      <td>3.0</td>\n",
       "      <td>3.0</td>\n",
       "      <td>0.0</td>\n",
       "      <td>0</td>\n",
       "    </tr>\n",
       "    <tr>\n",
       "      <th>2</th>\n",
       "      <td>23.0</td>\n",
       "      <td>1.80</td>\n",
       "      <td>77.0</td>\n",
       "      <td>2.0</td>\n",
       "      <td>3.0</td>\n",
       "      <td>2.0</td>\n",
       "      <td>2.0</td>\n",
       "      <td>1.0</td>\n",
       "      <td>1</td>\n",
       "    </tr>\n",
       "    <tr>\n",
       "      <th>3</th>\n",
       "      <td>27.0</td>\n",
       "      <td>1.80</td>\n",
       "      <td>87.0</td>\n",
       "      <td>3.0</td>\n",
       "      <td>3.0</td>\n",
       "      <td>2.0</td>\n",
       "      <td>2.0</td>\n",
       "      <td>0.0</td>\n",
       "      <td>1</td>\n",
       "    </tr>\n",
       "    <tr>\n",
       "      <th>4</th>\n",
       "      <td>22.0</td>\n",
       "      <td>1.78</td>\n",
       "      <td>89.8</td>\n",
       "      <td>2.0</td>\n",
       "      <td>1.0</td>\n",
       "      <td>2.0</td>\n",
       "      <td>0.0</td>\n",
       "      <td>0.0</td>\n",
       "      <td>1</td>\n",
       "    </tr>\n",
       "  </tbody>\n",
       "</table>\n",
       "</div>"
      ],
      "text/plain": [
       "    Age  Height  Weight  FCVC  NCP  CH2O  FAF  TUE  Gender\n",
       "0  21.0    1.62    64.0   2.0  3.0   2.0  0.0  1.0       0\n",
       "1  21.0    1.52    56.0   3.0  3.0   3.0  3.0  0.0       0\n",
       "2  23.0    1.80    77.0   2.0  3.0   2.0  2.0  1.0       1\n",
       "3  27.0    1.80    87.0   3.0  3.0   2.0  2.0  0.0       1\n",
       "4  22.0    1.78    89.8   2.0  1.0   2.0  0.0  0.0       1"
      ]
     },
     "execution_count": 75,
     "metadata": {},
     "output_type": "execute_result"
    }
   ],
   "source": [
    "data_encoded.duplicated()\n",
    "data_encoded.head()"
   ]
  },
  {
   "cell_type": "code",
   "execution_count": 76,
   "metadata": {},
   "outputs": [],
   "source": [
    "\n",
    "#FAF : Physical activity frequency\n",
    "#TUE : Time using technology devices\n",
    "#FCVC : Frequency of consumption of vegetables\n",
    "#NCP : Number of main meals\n",
    "#CH2O : Consumption of water daily"
   ]
  },
  {
   "cell_type": "markdown",
   "metadata": {},
   "source": [
    "# 1 LOGISTIC REGRESSION"
   ]
  },
  {
   "cell_type": "markdown",
   "metadata": {},
   "source": [
    "\n",
    "\n",
    "**Logistic Regression** is a supervised learning algorithm used for binary classification (and extended to multiclass with variations). Unlike linear regression, which predicts continuous values, logistic regression predicts probabilities and classifies data into discrete categories.\n",
    "\n",
    "It works by estimating the probability of an event occurring based on the input features, using the **logistic (sigmoid)** function to output a value between 0 and 1. The threshold (usually 0.5) is then used to classify data into one of two classes.\n",
    "\n",
    "### Key Characteristics:\n",
    "- **Supervised learning**: It requires labeled data for training.\n",
    "- **Binary classification**: Often used for problems where the output is binary (e.g., spam vs. not spam).\n",
    "- **Multiclass extension**: Can be extended to handle multiclass classification using methods like One-vs-Rest (OvR) or Softmax regression.\n",
    "- **Output**: Predicts probabilities that are mapped to class labels using a threshold (e.g., 0.5 for binary classification).\n"
   ]
  },
  {
   "cell_type": "markdown",
   "metadata": {},
   "source": [
    "### Data Preprocessing"
   ]
  },
  {
   "cell_type": "code",
   "execution_count": 77,
   "metadata": {},
   "outputs": [
    {
     "data": {
      "application/vnd.microsoft.datawrangler.viewer.v0+json": {
       "columns": [
        {
         "name": "index",
         "rawType": "int64",
         "type": "integer"
        },
        {
         "name": "Age",
         "rawType": "float64",
         "type": "float"
        },
        {
         "name": "Height",
         "rawType": "float64",
         "type": "float"
        },
        {
         "name": "Weight",
         "rawType": "float64",
         "type": "float"
        },
        {
         "name": "FCVC",
         "rawType": "float64",
         "type": "float"
        },
        {
         "name": "NCP",
         "rawType": "float64",
         "type": "float"
        },
        {
         "name": "CH2O",
         "rawType": "float64",
         "type": "float"
        },
        {
         "name": "FAF",
         "rawType": "float64",
         "type": "float"
        },
        {
         "name": "TUE",
         "rawType": "float64",
         "type": "float"
        }
       ],
       "conversionMethod": "pd.DataFrame",
       "ref": "767867ac-f9cc-4a41-a3c2-c73f1218ff13",
       "rows": [
        [
         "0",
         "-0.5221243865315548",
         "-0.8755893428985058",
         "-0.8625581878787723",
         "-0.7850187010698834",
         "0.4041527212394904",
         "-0.013073263985237213",
         "-1.1880391100619079",
         "0.5619967502703084"
        ],
        [
         "1",
         "-0.5221243865315548",
         "-1.9475992778306654",
         "-1.1680769935237438",
         "1.088341755265735",
         "0.4041527212394904",
         "1.6187585428550124",
         "2.3397501195133885",
         "-1.0806246348952138"
        ],
        [
         "2",
         "-0.20688898174867157",
         "1.0540285399793792",
         "-0.36609012870569374",
         "-0.7850187010698834",
         "0.4041527212394904",
         "-0.013073263985237213",
         "1.163820376321623",
         "0.5619967502703084"
        ],
        [
         "3",
         "0.4235818278170949",
         "1.0540285399793792",
         "0.015808378350520555",
         "1.088341755265735",
         "0.4041527212394904",
         "-0.013073263985237213",
         "1.163820376321623",
         "-1.0806246348952138"
        ],
        [
         "4",
         "-0.36450668414011317",
         "0.8396265529929473",
         "0.12273996032626044",
         "-0.7850187010698834",
         "-2.1670227344876687",
         "-0.013073263985237213",
         "-1.1880391100619079",
         "-1.0806246348952138"
        ]
       ],
       "shape": {
        "columns": 8,
        "rows": 5
       }
      },
      "text/html": [
       "<div>\n",
       "<style scoped>\n",
       "    .dataframe tbody tr th:only-of-type {\n",
       "        vertical-align: middle;\n",
       "    }\n",
       "\n",
       "    .dataframe tbody tr th {\n",
       "        vertical-align: top;\n",
       "    }\n",
       "\n",
       "    .dataframe thead th {\n",
       "        text-align: right;\n",
       "    }\n",
       "</style>\n",
       "<table border=\"1\" class=\"dataframe\">\n",
       "  <thead>\n",
       "    <tr style=\"text-align: right;\">\n",
       "      <th></th>\n",
       "      <th>Age</th>\n",
       "      <th>Height</th>\n",
       "      <th>Weight</th>\n",
       "      <th>FCVC</th>\n",
       "      <th>NCP</th>\n",
       "      <th>CH2O</th>\n",
       "      <th>FAF</th>\n",
       "      <th>TUE</th>\n",
       "    </tr>\n",
       "  </thead>\n",
       "  <tbody>\n",
       "    <tr>\n",
       "      <th>0</th>\n",
       "      <td>-0.522124</td>\n",
       "      <td>-0.875589</td>\n",
       "      <td>-0.862558</td>\n",
       "      <td>-0.785019</td>\n",
       "      <td>0.404153</td>\n",
       "      <td>-0.013073</td>\n",
       "      <td>-1.188039</td>\n",
       "      <td>0.561997</td>\n",
       "    </tr>\n",
       "    <tr>\n",
       "      <th>1</th>\n",
       "      <td>-0.522124</td>\n",
       "      <td>-1.947599</td>\n",
       "      <td>-1.168077</td>\n",
       "      <td>1.088342</td>\n",
       "      <td>0.404153</td>\n",
       "      <td>1.618759</td>\n",
       "      <td>2.339750</td>\n",
       "      <td>-1.080625</td>\n",
       "    </tr>\n",
       "    <tr>\n",
       "      <th>2</th>\n",
       "      <td>-0.206889</td>\n",
       "      <td>1.054029</td>\n",
       "      <td>-0.366090</td>\n",
       "      <td>-0.785019</td>\n",
       "      <td>0.404153</td>\n",
       "      <td>-0.013073</td>\n",
       "      <td>1.163820</td>\n",
       "      <td>0.561997</td>\n",
       "    </tr>\n",
       "    <tr>\n",
       "      <th>3</th>\n",
       "      <td>0.423582</td>\n",
       "      <td>1.054029</td>\n",
       "      <td>0.015808</td>\n",
       "      <td>1.088342</td>\n",
       "      <td>0.404153</td>\n",
       "      <td>-0.013073</td>\n",
       "      <td>1.163820</td>\n",
       "      <td>-1.080625</td>\n",
       "    </tr>\n",
       "    <tr>\n",
       "      <th>4</th>\n",
       "      <td>-0.364507</td>\n",
       "      <td>0.839627</td>\n",
       "      <td>0.122740</td>\n",
       "      <td>-0.785019</td>\n",
       "      <td>-2.167023</td>\n",
       "      <td>-0.013073</td>\n",
       "      <td>-1.188039</td>\n",
       "      <td>-1.080625</td>\n",
       "    </tr>\n",
       "  </tbody>\n",
       "</table>\n",
       "</div>"
      ],
      "text/plain": [
       "        Age    Height    Weight      FCVC       NCP      CH2O       FAF  \\\n",
       "0 -0.522124 -0.875589 -0.862558 -0.785019  0.404153 -0.013073 -1.188039   \n",
       "1 -0.522124 -1.947599 -1.168077  1.088342  0.404153  1.618759  2.339750   \n",
       "2 -0.206889  1.054029 -0.366090 -0.785019  0.404153 -0.013073  1.163820   \n",
       "3  0.423582  1.054029  0.015808  1.088342  0.404153 -0.013073  1.163820   \n",
       "4 -0.364507  0.839627  0.122740 -0.785019 -2.167023 -0.013073 -1.188039   \n",
       "\n",
       "        TUE  \n",
       "0  0.561997  \n",
       "1 -1.080625  \n",
       "2  0.561997  \n",
       "3 -1.080625  \n",
       "4 -1.080625  "
      ]
     },
     "execution_count": 77,
     "metadata": {},
     "output_type": "execute_result"
    }
   ],
   "source": [
    "# Splitting the dataset into the Training set and Test set \n",
    "from sklearn.model_selection import train_test_split\n",
    "X = data_encoded.drop(columns = ['Gender'], axis=1).values\n",
    "y = data_encoded[\"Gender\"]\n",
    "'''\n",
    "#why scaling is important?\n",
    "# because the range of values of raw data varies widely\n",
    "# so, the range of all features should be standardized so that each feature contributes approximately proportionately \n",
    "to the final distance\n",
    "\n",
    "'''\n",
    "from sklearn.preprocessing import StandardScaler\n",
    "scaler = StandardScaler()\n",
    "data_encoded_scaled = pd.DataFrame(scaler.fit_transform(X), columns = data_encoded.columns[:-1])\n",
    "\n",
    "X_train, X_test, y_train, y_test = train_test_split(data_encoded_scaled, y, test_size = 0.2, random_state = 0)\n",
    "data_encoded_scaled.head()"
   ]
  },
  {
   "cell_type": "code",
   "execution_count": 78,
   "metadata": {},
   "outputs": [
    {
     "data": {
      "text/plain": [
       "((2111, 8), (2111,), (1688, 8), (423, 8), (1688,), (423,))"
      ]
     },
     "execution_count": 78,
     "metadata": {},
     "output_type": "execute_result"
    }
   ],
   "source": [
    "X.shape, y.shape, X_train.shape, X_test.shape, y_train.shape, y_test.shape\n",
    "# what is X_train ?  X-train is the training data\n",
    "# what is X_test ? X-test is the test data \n",
    "# what is y_train ? y-train is the training data and it is the target variable\n",
    "# what is y_test ? y-test is the test data and it is the target variable\n"
   ]
  },
  {
   "cell_type": "markdown",
   "metadata": {},
   "source": [
    "### MODEL SELECTION"
   ]
  },
  {
   "cell_type": "code",
   "execution_count": 79,
   "metadata": {},
   "outputs": [
    {
     "data": {
      "text/html": [
       "<style>#sk-container-id-3 {\n",
       "  /* Definition of color scheme common for light and dark mode */\n",
       "  --sklearn-color-text: #000;\n",
       "  --sklearn-color-text-muted: #666;\n",
       "  --sklearn-color-line: gray;\n",
       "  /* Definition of color scheme for unfitted estimators */\n",
       "  --sklearn-color-unfitted-level-0: #fff5e6;\n",
       "  --sklearn-color-unfitted-level-1: #f6e4d2;\n",
       "  --sklearn-color-unfitted-level-2: #ffe0b3;\n",
       "  --sklearn-color-unfitted-level-3: chocolate;\n",
       "  /* Definition of color scheme for fitted estimators */\n",
       "  --sklearn-color-fitted-level-0: #f0f8ff;\n",
       "  --sklearn-color-fitted-level-1: #d4ebff;\n",
       "  --sklearn-color-fitted-level-2: #b3dbfd;\n",
       "  --sklearn-color-fitted-level-3: cornflowerblue;\n",
       "\n",
       "  /* Specific color for light theme */\n",
       "  --sklearn-color-text-on-default-background: var(--sg-text-color, var(--theme-code-foreground, var(--jp-content-font-color1, black)));\n",
       "  --sklearn-color-background: var(--sg-background-color, var(--theme-background, var(--jp-layout-color0, white)));\n",
       "  --sklearn-color-border-box: var(--sg-text-color, var(--theme-code-foreground, var(--jp-content-font-color1, black)));\n",
       "  --sklearn-color-icon: #696969;\n",
       "\n",
       "  @media (prefers-color-scheme: dark) {\n",
       "    /* Redefinition of color scheme for dark theme */\n",
       "    --sklearn-color-text-on-default-background: var(--sg-text-color, var(--theme-code-foreground, var(--jp-content-font-color1, white)));\n",
       "    --sklearn-color-background: var(--sg-background-color, var(--theme-background, var(--jp-layout-color0, #111)));\n",
       "    --sklearn-color-border-box: var(--sg-text-color, var(--theme-code-foreground, var(--jp-content-font-color1, white)));\n",
       "    --sklearn-color-icon: #878787;\n",
       "  }\n",
       "}\n",
       "\n",
       "#sk-container-id-3 {\n",
       "  color: var(--sklearn-color-text);\n",
       "}\n",
       "\n",
       "#sk-container-id-3 pre {\n",
       "  padding: 0;\n",
       "}\n",
       "\n",
       "#sk-container-id-3 input.sk-hidden--visually {\n",
       "  border: 0;\n",
       "  clip: rect(1px 1px 1px 1px);\n",
       "  clip: rect(1px, 1px, 1px, 1px);\n",
       "  height: 1px;\n",
       "  margin: -1px;\n",
       "  overflow: hidden;\n",
       "  padding: 0;\n",
       "  position: absolute;\n",
       "  width: 1px;\n",
       "}\n",
       "\n",
       "#sk-container-id-3 div.sk-dashed-wrapped {\n",
       "  border: 1px dashed var(--sklearn-color-line);\n",
       "  margin: 0 0.4em 0.5em 0.4em;\n",
       "  box-sizing: border-box;\n",
       "  padding-bottom: 0.4em;\n",
       "  background-color: var(--sklearn-color-background);\n",
       "}\n",
       "\n",
       "#sk-container-id-3 div.sk-container {\n",
       "  /* jupyter's `normalize.less` sets `[hidden] { display: none; }`\n",
       "     but bootstrap.min.css set `[hidden] { display: none !important; }`\n",
       "     so we also need the `!important` here to be able to override the\n",
       "     default hidden behavior on the sphinx rendered scikit-learn.org.\n",
       "     See: https://github.com/scikit-learn/scikit-learn/issues/21755 */\n",
       "  display: inline-block !important;\n",
       "  position: relative;\n",
       "}\n",
       "\n",
       "#sk-container-id-3 div.sk-text-repr-fallback {\n",
       "  display: none;\n",
       "}\n",
       "\n",
       "div.sk-parallel-item,\n",
       "div.sk-serial,\n",
       "div.sk-item {\n",
       "  /* draw centered vertical line to link estimators */\n",
       "  background-image: linear-gradient(var(--sklearn-color-text-on-default-background), var(--sklearn-color-text-on-default-background));\n",
       "  background-size: 2px 100%;\n",
       "  background-repeat: no-repeat;\n",
       "  background-position: center center;\n",
       "}\n",
       "\n",
       "/* Parallel-specific style estimator block */\n",
       "\n",
       "#sk-container-id-3 div.sk-parallel-item::after {\n",
       "  content: \"\";\n",
       "  width: 100%;\n",
       "  border-bottom: 2px solid var(--sklearn-color-text-on-default-background);\n",
       "  flex-grow: 1;\n",
       "}\n",
       "\n",
       "#sk-container-id-3 div.sk-parallel {\n",
       "  display: flex;\n",
       "  align-items: stretch;\n",
       "  justify-content: center;\n",
       "  background-color: var(--sklearn-color-background);\n",
       "  position: relative;\n",
       "}\n",
       "\n",
       "#sk-container-id-3 div.sk-parallel-item {\n",
       "  display: flex;\n",
       "  flex-direction: column;\n",
       "}\n",
       "\n",
       "#sk-container-id-3 div.sk-parallel-item:first-child::after {\n",
       "  align-self: flex-end;\n",
       "  width: 50%;\n",
       "}\n",
       "\n",
       "#sk-container-id-3 div.sk-parallel-item:last-child::after {\n",
       "  align-self: flex-start;\n",
       "  width: 50%;\n",
       "}\n",
       "\n",
       "#sk-container-id-3 div.sk-parallel-item:only-child::after {\n",
       "  width: 0;\n",
       "}\n",
       "\n",
       "/* Serial-specific style estimator block */\n",
       "\n",
       "#sk-container-id-3 div.sk-serial {\n",
       "  display: flex;\n",
       "  flex-direction: column;\n",
       "  align-items: center;\n",
       "  background-color: var(--sklearn-color-background);\n",
       "  padding-right: 1em;\n",
       "  padding-left: 1em;\n",
       "}\n",
       "\n",
       "\n",
       "/* Toggleable style: style used for estimator/Pipeline/ColumnTransformer box that is\n",
       "clickable and can be expanded/collapsed.\n",
       "- Pipeline and ColumnTransformer use this feature and define the default style\n",
       "- Estimators will overwrite some part of the style using the `sk-estimator` class\n",
       "*/\n",
       "\n",
       "/* Pipeline and ColumnTransformer style (default) */\n",
       "\n",
       "#sk-container-id-3 div.sk-toggleable {\n",
       "  /* Default theme specific background. It is overwritten whether we have a\n",
       "  specific estimator or a Pipeline/ColumnTransformer */\n",
       "  background-color: var(--sklearn-color-background);\n",
       "}\n",
       "\n",
       "/* Toggleable label */\n",
       "#sk-container-id-3 label.sk-toggleable__label {\n",
       "  cursor: pointer;\n",
       "  display: flex;\n",
       "  width: 100%;\n",
       "  margin-bottom: 0;\n",
       "  padding: 0.5em;\n",
       "  box-sizing: border-box;\n",
       "  text-align: center;\n",
       "  align-items: start;\n",
       "  justify-content: space-between;\n",
       "  gap: 0.5em;\n",
       "}\n",
       "\n",
       "#sk-container-id-3 label.sk-toggleable__label .caption {\n",
       "  font-size: 0.6rem;\n",
       "  font-weight: lighter;\n",
       "  color: var(--sklearn-color-text-muted);\n",
       "}\n",
       "\n",
       "#sk-container-id-3 label.sk-toggleable__label-arrow:before {\n",
       "  /* Arrow on the left of the label */\n",
       "  content: \"▸\";\n",
       "  float: left;\n",
       "  margin-right: 0.25em;\n",
       "  color: var(--sklearn-color-icon);\n",
       "}\n",
       "\n",
       "#sk-container-id-3 label.sk-toggleable__label-arrow:hover:before {\n",
       "  color: var(--sklearn-color-text);\n",
       "}\n",
       "\n",
       "/* Toggleable content - dropdown */\n",
       "\n",
       "#sk-container-id-3 div.sk-toggleable__content {\n",
       "  max-height: 0;\n",
       "  max-width: 0;\n",
       "  overflow: hidden;\n",
       "  text-align: left;\n",
       "  /* unfitted */\n",
       "  background-color: var(--sklearn-color-unfitted-level-0);\n",
       "}\n",
       "\n",
       "#sk-container-id-3 div.sk-toggleable__content.fitted {\n",
       "  /* fitted */\n",
       "  background-color: var(--sklearn-color-fitted-level-0);\n",
       "}\n",
       "\n",
       "#sk-container-id-3 div.sk-toggleable__content pre {\n",
       "  margin: 0.2em;\n",
       "  border-radius: 0.25em;\n",
       "  color: var(--sklearn-color-text);\n",
       "  /* unfitted */\n",
       "  background-color: var(--sklearn-color-unfitted-level-0);\n",
       "}\n",
       "\n",
       "#sk-container-id-3 div.sk-toggleable__content.fitted pre {\n",
       "  /* unfitted */\n",
       "  background-color: var(--sklearn-color-fitted-level-0);\n",
       "}\n",
       "\n",
       "#sk-container-id-3 input.sk-toggleable__control:checked~div.sk-toggleable__content {\n",
       "  /* Expand drop-down */\n",
       "  max-height: 200px;\n",
       "  max-width: 100%;\n",
       "  overflow: auto;\n",
       "}\n",
       "\n",
       "#sk-container-id-3 input.sk-toggleable__control:checked~label.sk-toggleable__label-arrow:before {\n",
       "  content: \"▾\";\n",
       "}\n",
       "\n",
       "/* Pipeline/ColumnTransformer-specific style */\n",
       "\n",
       "#sk-container-id-3 div.sk-label input.sk-toggleable__control:checked~label.sk-toggleable__label {\n",
       "  color: var(--sklearn-color-text);\n",
       "  background-color: var(--sklearn-color-unfitted-level-2);\n",
       "}\n",
       "\n",
       "#sk-container-id-3 div.sk-label.fitted input.sk-toggleable__control:checked~label.sk-toggleable__label {\n",
       "  background-color: var(--sklearn-color-fitted-level-2);\n",
       "}\n",
       "\n",
       "/* Estimator-specific style */\n",
       "\n",
       "/* Colorize estimator box */\n",
       "#sk-container-id-3 div.sk-estimator input.sk-toggleable__control:checked~label.sk-toggleable__label {\n",
       "  /* unfitted */\n",
       "  background-color: var(--sklearn-color-unfitted-level-2);\n",
       "}\n",
       "\n",
       "#sk-container-id-3 div.sk-estimator.fitted input.sk-toggleable__control:checked~label.sk-toggleable__label {\n",
       "  /* fitted */\n",
       "  background-color: var(--sklearn-color-fitted-level-2);\n",
       "}\n",
       "\n",
       "#sk-container-id-3 div.sk-label label.sk-toggleable__label,\n",
       "#sk-container-id-3 div.sk-label label {\n",
       "  /* The background is the default theme color */\n",
       "  color: var(--sklearn-color-text-on-default-background);\n",
       "}\n",
       "\n",
       "/* On hover, darken the color of the background */\n",
       "#sk-container-id-3 div.sk-label:hover label.sk-toggleable__label {\n",
       "  color: var(--sklearn-color-text);\n",
       "  background-color: var(--sklearn-color-unfitted-level-2);\n",
       "}\n",
       "\n",
       "/* Label box, darken color on hover, fitted */\n",
       "#sk-container-id-3 div.sk-label.fitted:hover label.sk-toggleable__label.fitted {\n",
       "  color: var(--sklearn-color-text);\n",
       "  background-color: var(--sklearn-color-fitted-level-2);\n",
       "}\n",
       "\n",
       "/* Estimator label */\n",
       "\n",
       "#sk-container-id-3 div.sk-label label {\n",
       "  font-family: monospace;\n",
       "  font-weight: bold;\n",
       "  display: inline-block;\n",
       "  line-height: 1.2em;\n",
       "}\n",
       "\n",
       "#sk-container-id-3 div.sk-label-container {\n",
       "  text-align: center;\n",
       "}\n",
       "\n",
       "/* Estimator-specific */\n",
       "#sk-container-id-3 div.sk-estimator {\n",
       "  font-family: monospace;\n",
       "  border: 1px dotted var(--sklearn-color-border-box);\n",
       "  border-radius: 0.25em;\n",
       "  box-sizing: border-box;\n",
       "  margin-bottom: 0.5em;\n",
       "  /* unfitted */\n",
       "  background-color: var(--sklearn-color-unfitted-level-0);\n",
       "}\n",
       "\n",
       "#sk-container-id-3 div.sk-estimator.fitted {\n",
       "  /* fitted */\n",
       "  background-color: var(--sklearn-color-fitted-level-0);\n",
       "}\n",
       "\n",
       "/* on hover */\n",
       "#sk-container-id-3 div.sk-estimator:hover {\n",
       "  /* unfitted */\n",
       "  background-color: var(--sklearn-color-unfitted-level-2);\n",
       "}\n",
       "\n",
       "#sk-container-id-3 div.sk-estimator.fitted:hover {\n",
       "  /* fitted */\n",
       "  background-color: var(--sklearn-color-fitted-level-2);\n",
       "}\n",
       "\n",
       "/* Specification for estimator info (e.g. \"i\" and \"?\") */\n",
       "\n",
       "/* Common style for \"i\" and \"?\" */\n",
       "\n",
       ".sk-estimator-doc-link,\n",
       "a:link.sk-estimator-doc-link,\n",
       "a:visited.sk-estimator-doc-link {\n",
       "  float: right;\n",
       "  font-size: smaller;\n",
       "  line-height: 1em;\n",
       "  font-family: monospace;\n",
       "  background-color: var(--sklearn-color-background);\n",
       "  border-radius: 1em;\n",
       "  height: 1em;\n",
       "  width: 1em;\n",
       "  text-decoration: none !important;\n",
       "  margin-left: 0.5em;\n",
       "  text-align: center;\n",
       "  /* unfitted */\n",
       "  border: var(--sklearn-color-unfitted-level-1) 1pt solid;\n",
       "  color: var(--sklearn-color-unfitted-level-1);\n",
       "}\n",
       "\n",
       ".sk-estimator-doc-link.fitted,\n",
       "a:link.sk-estimator-doc-link.fitted,\n",
       "a:visited.sk-estimator-doc-link.fitted {\n",
       "  /* fitted */\n",
       "  border: var(--sklearn-color-fitted-level-1) 1pt solid;\n",
       "  color: var(--sklearn-color-fitted-level-1);\n",
       "}\n",
       "\n",
       "/* On hover */\n",
       "div.sk-estimator:hover .sk-estimator-doc-link:hover,\n",
       ".sk-estimator-doc-link:hover,\n",
       "div.sk-label-container:hover .sk-estimator-doc-link:hover,\n",
       ".sk-estimator-doc-link:hover {\n",
       "  /* unfitted */\n",
       "  background-color: var(--sklearn-color-unfitted-level-3);\n",
       "  color: var(--sklearn-color-background);\n",
       "  text-decoration: none;\n",
       "}\n",
       "\n",
       "div.sk-estimator.fitted:hover .sk-estimator-doc-link.fitted:hover,\n",
       ".sk-estimator-doc-link.fitted:hover,\n",
       "div.sk-label-container:hover .sk-estimator-doc-link.fitted:hover,\n",
       ".sk-estimator-doc-link.fitted:hover {\n",
       "  /* fitted */\n",
       "  background-color: var(--sklearn-color-fitted-level-3);\n",
       "  color: var(--sklearn-color-background);\n",
       "  text-decoration: none;\n",
       "}\n",
       "\n",
       "/* Span, style for the box shown on hovering the info icon */\n",
       ".sk-estimator-doc-link span {\n",
       "  display: none;\n",
       "  z-index: 9999;\n",
       "  position: relative;\n",
       "  font-weight: normal;\n",
       "  right: .2ex;\n",
       "  padding: .5ex;\n",
       "  margin: .5ex;\n",
       "  width: min-content;\n",
       "  min-width: 20ex;\n",
       "  max-width: 50ex;\n",
       "  color: var(--sklearn-color-text);\n",
       "  box-shadow: 2pt 2pt 4pt #999;\n",
       "  /* unfitted */\n",
       "  background: var(--sklearn-color-unfitted-level-0);\n",
       "  border: .5pt solid var(--sklearn-color-unfitted-level-3);\n",
       "}\n",
       "\n",
       ".sk-estimator-doc-link.fitted span {\n",
       "  /* fitted */\n",
       "  background: var(--sklearn-color-fitted-level-0);\n",
       "  border: var(--sklearn-color-fitted-level-3);\n",
       "}\n",
       "\n",
       ".sk-estimator-doc-link:hover span {\n",
       "  display: block;\n",
       "}\n",
       "\n",
       "/* \"?\"-specific style due to the `<a>` HTML tag */\n",
       "\n",
       "#sk-container-id-3 a.estimator_doc_link {\n",
       "  float: right;\n",
       "  font-size: 1rem;\n",
       "  line-height: 1em;\n",
       "  font-family: monospace;\n",
       "  background-color: var(--sklearn-color-background);\n",
       "  border-radius: 1rem;\n",
       "  height: 1rem;\n",
       "  width: 1rem;\n",
       "  text-decoration: none;\n",
       "  /* unfitted */\n",
       "  color: var(--sklearn-color-unfitted-level-1);\n",
       "  border: var(--sklearn-color-unfitted-level-1) 1pt solid;\n",
       "}\n",
       "\n",
       "#sk-container-id-3 a.estimator_doc_link.fitted {\n",
       "  /* fitted */\n",
       "  border: var(--sklearn-color-fitted-level-1) 1pt solid;\n",
       "  color: var(--sklearn-color-fitted-level-1);\n",
       "}\n",
       "\n",
       "/* On hover */\n",
       "#sk-container-id-3 a.estimator_doc_link:hover {\n",
       "  /* unfitted */\n",
       "  background-color: var(--sklearn-color-unfitted-level-3);\n",
       "  color: var(--sklearn-color-background);\n",
       "  text-decoration: none;\n",
       "}\n",
       "\n",
       "#sk-container-id-3 a.estimator_doc_link.fitted:hover {\n",
       "  /* fitted */\n",
       "  background-color: var(--sklearn-color-fitted-level-3);\n",
       "}\n",
       "</style><div id=\"sk-container-id-3\" class=\"sk-top-container\"><div class=\"sk-text-repr-fallback\"><pre>LogisticRegression(max_iter=500, solver=&#x27;liblinear&#x27;)</pre><b>In a Jupyter environment, please rerun this cell to show the HTML representation or trust the notebook. <br />On GitHub, the HTML representation is unable to render, please try loading this page with nbviewer.org.</b></div><div class=\"sk-container\" hidden><div class=\"sk-item\"><div class=\"sk-estimator fitted sk-toggleable\"><input class=\"sk-toggleable__control sk-hidden--visually\" id=\"sk-estimator-id-3\" type=\"checkbox\" checked><label for=\"sk-estimator-id-3\" class=\"sk-toggleable__label fitted sk-toggleable__label-arrow\"><div><div>LogisticRegression</div></div><div><a class=\"sk-estimator-doc-link fitted\" rel=\"noreferrer\" target=\"_blank\" href=\"https://scikit-learn.org/1.6/modules/generated/sklearn.linear_model.LogisticRegression.html\">?<span>Documentation for LogisticRegression</span></a><span class=\"sk-estimator-doc-link fitted\">i<span>Fitted</span></span></div></label><div class=\"sk-toggleable__content fitted\"><pre>LogisticRegression(max_iter=500, solver=&#x27;liblinear&#x27;)</pre></div> </div></div></div></div>"
      ],
      "text/plain": [
       "LogisticRegression(max_iter=500, solver='liblinear')"
      ]
     },
     "execution_count": 79,
     "metadata": {},
     "output_type": "execute_result"
    }
   ],
   "source": [
    "from sklearn.linear_model import LogisticRegression\n",
    "from sklearn.metrics import accuracy_score\n",
    "\n",
    "# Create a Logistic Regression model\n",
    "# why solver and max_iterations? solver is the algorithm to use in the optimization problem and max_iterations is the maximum number of iterations taken for the solvers to converge\n",
    "log_reg = LogisticRegression(solver='liblinear',max_iter=500)\n",
    "\n",
    "# Train the model\n",
    "log_reg.fit(X_train, y_train)"
   ]
  },
  {
   "cell_type": "code",
   "execution_count": 80,
   "metadata": {},
   "outputs": [],
   "source": [
    "# Make predictions on the test set\n",
    "y_pred_log = log_reg.predict(X_test)"
   ]
  },
  {
   "cell_type": "code",
   "execution_count": 81,
   "metadata": {},
   "outputs": [
    {
     "data": {
      "text/plain": [
       "np.int64(1)"
      ]
     },
     "execution_count": 81,
     "metadata": {},
     "output_type": "execute_result"
    }
   ],
   "source": [
    "\n",
    "y_pred_log[0]"
   ]
  },
  {
   "cell_type": "markdown",
   "metadata": {},
   "source": [
    "## MODEL EVALUATION"
   ]
  },
  {
   "cell_type": "code",
   "execution_count": 82,
   "metadata": {},
   "outputs": [
    {
     "name": "stdout",
     "output_type": "stream",
     "text": [
      "              precision    recall  f1-score   support\n",
      "\n",
      "           0       0.82      0.81      0.82       231\n",
      "           1       0.78      0.79      0.79       192\n",
      "\n",
      "    accuracy                           0.80       423\n",
      "   macro avg       0.80      0.80      0.80       423\n",
      "weighted avg       0.80      0.80      0.80       423\n",
      "\n"
     ]
    }
   ],
   "source": [
    "#Evaluate the model\n",
    "from sklearn.metrics import accuracy_score, confusion_matrix, classification_report\n",
    "from sklearn.metrics import classification_report\n",
    "\n",
    "\n",
    "print(classification_report(y_test, y_pred_log))\n",
    "\n",
    "confusion_matrix = confusion_matrix(y_test, y_pred_log)"
   ]
  },
  {
   "cell_type": "code",
   "execution_count": 83,
   "metadata": {},
   "outputs": [
    {
     "name": "stdout",
     "output_type": "stream",
     "text": [
      "accuracy_score :  0.8037825059101655\n"
     ]
    }
   ],
   "source": [
    "# 80% of accuracy ,which is good\n",
    "accuracy_score = accuracy_score(y_test, y_pred_log)\n",
    "print(\"accuracy_score : \",accuracy_score)"
   ]
  },
  {
   "cell_type": "code",
   "execution_count": 84,
   "metadata": {},
   "outputs": [
    {
     "data": {
      "text/plain": [
       "array([[188,  43],\n",
       "       [ 40, 152]])"
      ]
     },
     "execution_count": 84,
     "metadata": {},
     "output_type": "execute_result"
    }
   ],
   "source": [
    "from sklearn.metrics import accuracy_score, confusion_matrix, classification_report\n",
    "\n",
    "logcm =confusion_matrix(y_test, y_pred_log)\n",
    "logcm"
   ]
  },
  {
   "cell_type": "code",
   "execution_count": 121,
   "metadata": {},
   "outputs": [
    {
     "data": {
      "image/png": "[encoded data removed]",
      "text/plain": [
       "<Figure size 640x480 with 2 Axes>"
      ]
     },
     "metadata": {},
     "output_type": "display_data"
    }
   ],
   "source": [
    "import seaborn as sns\n",
    "import matplotlib.pyplot as plt\n",
    "\n",
    "sns.heatmap(cm, annot=True, fmt='d', cmap='Reds', xticklabels=['Female', 'Male'], yticklabels=['Female', 'Male'])\n",
    "plt.xlabel('Predicted')\n",
    "plt.ylabel('Actual')\n",
    "plt.title('Confusion Matrix - Logistic Regression')\n",
    "plt.show()"
   ]
  },
  {
   "cell_type": "code",
   "execution_count": 86,
   "metadata": {},
   "outputs": [
    {
     "data": {
      "text/plain": [
       "['logistic_regression_model.pkl']"
      ]
     },
     "execution_count": 86,
     "metadata": {},
     "output_type": "execute_result"
    }
   ],
   "source": [
    "# Save the model\n",
    "import joblib\n",
    "joblib.dump(log_reg, \"logistic_regression_model.pkl\")"
   ]
  },
  {
   "cell_type": "markdown",
   "metadata": {},
   "source": [
    "### TEST THE MODEL ON UNSEEN DATA"
   ]
  },
  {
   "cell_type": "code",
   "execution_count": 87,
   "metadata": {},
   "outputs": [
    {
     "data": {
      "text/plain": [
       "sklearn.linear_model._logistic.LogisticRegression"
      ]
     },
     "execution_count": 87,
     "metadata": {},
     "output_type": "execute_result"
    }
   ],
   "source": [
    "# Load the model\n",
    "log_reg_model = joblib.load(\"logistic_regression_model.pkl\")   \n",
    "#we can see the type of the model\n",
    "type(log_reg_model)"
   ]
  },
  {
   "cell_type": "code",
   "execution_count": 88,
   "metadata": {},
   "outputs": [],
   "source": [
    "#let's predict the new data \n",
    "new_data1 = [[35,1.7,70,3,5,0,3,4]]\n",
    "# let's scale the new data\n",
    "new = pd.DataFrame(scaler.transform(new_data1), columns = data_encoded.columns[:-1])"
   ]
  },
  {
   "cell_type": "code",
   "execution_count": 89,
   "metadata": {},
   "outputs": [
    {
     "data": {
      "application/vnd.microsoft.datawrangler.viewer.v0+json": {
       "columns": [
        {
         "name": "index",
         "rawType": "int64",
         "type": "integer"
        },
        {
         "name": "Age",
         "rawType": "float64",
         "type": "float"
        },
        {
         "name": "Height",
         "rawType": "float64",
         "type": "float"
        },
        {
         "name": "Weight",
         "rawType": "float64",
         "type": "float"
        },
        {
         "name": "FCVC",
         "rawType": "float64",
         "type": "float"
        },
        {
         "name": "NCP",
         "rawType": "float64",
         "type": "float"
        },
        {
         "name": "CH2O",
         "rawType": "float64",
         "type": "float"
        },
        {
         "name": "FAF",
         "rawType": "float64",
         "type": "float"
        },
        {
         "name": "TUE",
         "rawType": "float64",
         "type": "float"
        }
       ],
       "conversionMethod": "pd.DataFrame",
       "ref": "8d2e954d-cc22-47ea-bf5c-eb7411220931",
       "rows": [
        [
         "0",
         "1.6845234469486279",
         "-0.017981394952780436",
         "-0.6334190836450437",
         "1.088341755265735",
         "2.9753281769666495",
         "-3.2767368776657366",
         "2.3397501195133885",
         "5.489860905766875"
        ]
       ],
       "shape": {
        "columns": 8,
        "rows": 1
       }
      },
      "text/html": [
       "<div>\n",
       "<style scoped>\n",
       "    .dataframe tbody tr th:only-of-type {\n",
       "        vertical-align: middle;\n",
       "    }\n",
       "\n",
       "    .dataframe tbody tr th {\n",
       "        vertical-align: top;\n",
       "    }\n",
       "\n",
       "    .dataframe thead th {\n",
       "        text-align: right;\n",
       "    }\n",
       "</style>\n",
       "<table border=\"1\" class=\"dataframe\">\n",
       "  <thead>\n",
       "    <tr style=\"text-align: right;\">\n",
       "      <th></th>\n",
       "      <th>Age</th>\n",
       "      <th>Height</th>\n",
       "      <th>Weight</th>\n",
       "      <th>FCVC</th>\n",
       "      <th>NCP</th>\n",
       "      <th>CH2O</th>\n",
       "      <th>FAF</th>\n",
       "      <th>TUE</th>\n",
       "    </tr>\n",
       "  </thead>\n",
       "  <tbody>\n",
       "    <tr>\n",
       "      <th>0</th>\n",
       "      <td>1.684523</td>\n",
       "      <td>-0.017981</td>\n",
       "      <td>-0.633419</td>\n",
       "      <td>1.088342</td>\n",
       "      <td>2.975328</td>\n",
       "      <td>-3.276737</td>\n",
       "      <td>2.33975</td>\n",
       "      <td>5.489861</td>\n",
       "    </tr>\n",
       "  </tbody>\n",
       "</table>\n",
       "</div>"
      ],
      "text/plain": [
       "        Age    Height    Weight      FCVC       NCP      CH2O      FAF  \\\n",
       "0  1.684523 -0.017981 -0.633419  1.088342  2.975328 -3.276737  2.33975   \n",
       "\n",
       "        TUE  \n",
       "0  5.489861  "
      ]
     },
     "execution_count": 89,
     "metadata": {},
     "output_type": "execute_result"
    }
   ],
   "source": [
    "#here the new data is scaled\n",
    "new"
   ]
  },
  {
   "cell_type": "code",
   "execution_count": 90,
   "metadata": {},
   "outputs": [
    {
     "name": "stdout",
     "output_type": "stream",
     "text": [
      "The gender is female!\n"
     ]
    }
   ],
   "source": [
    "#let's predict the new data\n",
    "prediction1 = log_reg_model.predict(new)\n",
    "if prediction1 == 0:\n",
    "     print(\"The gender is female!\")\n",
    "else:\n",
    "     print(\"The gender is male !\")"
   ]
  },
  {
   "cell_type": "code",
   "execution_count": 91,
   "metadata": {},
   "outputs": [
    {
     "data": {
      "application/vnd.microsoft.datawrangler.viewer.v0+json": {
       "columns": [
        {
         "name": "index",
         "rawType": "int64",
         "type": "integer"
        },
        {
         "name": "Age",
         "rawType": "float64",
         "type": "float"
        },
        {
         "name": "Height",
         "rawType": "float64",
         "type": "float"
        },
        {
         "name": "Weight",
         "rawType": "float64",
         "type": "float"
        },
        {
         "name": "FCVC",
         "rawType": "float64",
         "type": "float"
        },
        {
         "name": "NCP",
         "rawType": "float64",
         "type": "float"
        },
        {
         "name": "CH2O",
         "rawType": "float64",
         "type": "float"
        },
        {
         "name": "FAF",
         "rawType": "float64",
         "type": "float"
        },
        {
         "name": "TUE",
         "rawType": "float64",
         "type": "float"
        }
       ],
       "conversionMethod": "pd.DataFrame",
       "ref": "a2709453-aa43-4667-8618-40590d51976f",
       "rows": [
        [
         "0",
         "9.56540856652071",
         "12.846137824233123",
         "-0.2515205765888294",
         "1.088341755265735",
         "2.9753281769666495",
         "-3.2767368776657366",
         "2.3397501195133885",
         "127.0438434080155"
        ]
       ],
       "shape": {
        "columns": 8,
        "rows": 1
       }
      },
      "text/html": [
       "<div>\n",
       "<style scoped>\n",
       "    .dataframe tbody tr th:only-of-type {\n",
       "        vertical-align: middle;\n",
       "    }\n",
       "\n",
       "    .dataframe tbody tr th {\n",
       "        vertical-align: top;\n",
       "    }\n",
       "\n",
       "    .dataframe thead th {\n",
       "        text-align: right;\n",
       "    }\n",
       "</style>\n",
       "<table border=\"1\" class=\"dataframe\">\n",
       "  <thead>\n",
       "    <tr style=\"text-align: right;\">\n",
       "      <th></th>\n",
       "      <th>Age</th>\n",
       "      <th>Height</th>\n",
       "      <th>Weight</th>\n",
       "      <th>FCVC</th>\n",
       "      <th>NCP</th>\n",
       "      <th>CH2O</th>\n",
       "      <th>FAF</th>\n",
       "      <th>TUE</th>\n",
       "    </tr>\n",
       "  </thead>\n",
       "  <tbody>\n",
       "    <tr>\n",
       "      <th>0</th>\n",
       "      <td>9.565409</td>\n",
       "      <td>12.846138</td>\n",
       "      <td>-0.251521</td>\n",
       "      <td>1.088342</td>\n",
       "      <td>2.975328</td>\n",
       "      <td>-3.276737</td>\n",
       "      <td>2.33975</td>\n",
       "      <td>127.043843</td>\n",
       "    </tr>\n",
       "  </tbody>\n",
       "</table>\n",
       "</div>"
      ],
      "text/plain": [
       "        Age     Height    Weight      FCVC       NCP      CH2O      FAF  \\\n",
       "0  9.565409  12.846138 -0.251521  1.088342  2.975328 -3.276737  2.33975   \n",
       "\n",
       "          TUE  \n",
       "0  127.043843  "
      ]
     },
     "execution_count": 91,
     "metadata": {},
     "output_type": "execute_result"
    }
   ],
   "source": [
    "#let's predict the new data2 \n",
    "new_data2 = [[85,2.9,80,3,5,0,3,78]]\n",
    "# let's scale the new data2\n",
    "new2 = pd.DataFrame(scaler.transform(new_data2), columns = data_encoded.columns[:-1])\n",
    "new2"
   ]
  },
  {
   "cell_type": "code",
   "execution_count": 92,
   "metadata": {},
   "outputs": [
    {
     "name": "stdout",
     "output_type": "stream",
     "text": [
      "The gender is male !\n"
     ]
    }
   ],
   "source": [
    "#let's predict the new data2\n",
    "prediction2 = log_reg_model.predict(new2)\n",
    "if prediction2 == 0:\n",
    "     print(\"The gender is female !\")\n",
    "else:\n",
    "     print(\"The gender is male !\")"
   ]
  },
  {
   "cell_type": "markdown",
   "metadata": {},
   "source": [
    "# 2 Random Forest"
   ]
  },
  {
   "cell_type": "markdown",
   "metadata": {},
   "source": [
    "### Random Forest\n",
    "\n",
    "**Random Forest** is an ensemble learning method that combines multiple decision trees to create a more robust and accurate model. It builds a collection of decision trees during training and outputs the majority vote (for classification) or average (for regression) of the individual trees' predictions.\n",
    "\n",
    "Random Forest overcomes the limitation of individual decision trees, which can easily overfit the data, by averaging multiple trees to reduce variance and improve generalization.\n",
    "\n",
    "### Key Characteristics:\n",
    "- **Ensemble learning**: Combines multiple decision trees to create a stronger model.\n",
    "- **Bootstrapping**: Uses random sampling with replacement (bootstrap) to build different training subsets for each tree.\n",
    "- **Feature randomness**: During tree construction, each tree is trained on a random subset of features, further promoting diversity among trees.\n",
    "- **Robustness**: Handles overfitting better than a single decision tree by averaging multiple trees' results.\n",
    "- **Versatility**: Works well for both classification and regression tasks.\n",
    "\n",
    "### Strengths:\n",
    "- **High accuracy**: Due to the averaging of many decision trees, Random Forest generally provides better accuracy than a single decision tree.\n",
    "- **Robust to overfitting**: While individual trees may over\n"
   ]
  },
  {
   "cell_type": "code",
   "execution_count": 93,
   "metadata": {},
   "outputs": [],
   "source": [
    "# Import necessary libraries\n",
    "from sklearn.ensemble import RandomForestClassifier\n",
    "from sklearn.metrics import accuracy_score, confusion_matrix, classification_report\n",
    "from sklearn.metrics import classification_report"
   ]
  },
  {
   "cell_type": "markdown",
   "metadata": {},
   "source": [
    "### Splitting Steps"
   ]
  },
  {
   "cell_type": "code",
   "execution_count": 94,
   "metadata": {},
   "outputs": [],
   "source": [
    "X = data_encoded.drop(columns=['Gender'], axis=1).values\n",
    "y = data_encoded['Gender']\n",
    "\n",
    "# Split the dataset into training and test sets\n",
    "X_train, X_test, y_train, y_test = train_test_split(X, y, test_size=0.2, random_state=0)\n",
    "\n",
    "# Initialize the scaler\n",
    "scaler = StandardScaler()\n",
    "\n",
    "# Fit the scaler on the training data only and transform\n",
    "X_train_scaled = scaler.fit_transform(X_train)\n",
    "\n",
    "# Transform the test data using the same scaler\n",
    "X_test_scaled = scaler.transform(X_test)"
   ]
  },
  {
   "cell_type": "code",
   "execution_count": 95,
   "metadata": {},
   "outputs": [
    {
     "data": {
      "application/vnd.microsoft.datawrangler.viewer.v0+json": {
       "columns": [
        {
         "name": "index",
         "rawType": "int64",
         "type": "integer"
        },
        {
         "name": "Age",
         "rawType": "float64",
         "type": "float"
        },
        {
         "name": "Height",
         "rawType": "float64",
         "type": "float"
        },
        {
         "name": "Weight",
         "rawType": "float64",
         "type": "float"
        },
        {
         "name": "FCVC",
         "rawType": "float64",
         "type": "float"
        },
        {
         "name": "NCP",
         "rawType": "float64",
         "type": "float"
        },
        {
         "name": "CH2O",
         "rawType": "float64",
         "type": "float"
        },
        {
         "name": "FAF",
         "rawType": "float64",
         "type": "float"
        },
        {
         "name": "TUE",
         "rawType": "float64",
         "type": "float"
        }
       ],
       "conversionMethod": "pd.DataFrame",
       "ref": "bbbaaacb-f7b6-4ba7-bf97-33eef096bb9a",
       "rows": [
        [
         "0",
         "0.9902126007111046",
         "2.199156149922001",
         "1.6185936537840997",
         "0.15619724515425076",
         "0.4017606918288451",
         "-1.0662926677483582",
         "0.14854044137540362",
         "-0.8033936243172078"
        ],
        [
         "1",
         "-1.0019415487777652",
         "-0.36329703203737945",
         "0.15282902301401588",
         "-2.6537121925580123",
         "0.4017606918288451",
         "-1.659271777234231",
         "-1.1925929060148044",
         "0.562369059656609"
        ],
        [
         "2",
         "0.7621860561779016",
         "0.7403363238543796",
         "0.0021697495457899197",
         "-1.535890054049377",
         "1.1930281282210864",
         "-1.2105277796592782",
         "0.570461801779883",
         "-0.47823602520840564"
        ],
        [
         "3",
         "-0.9521847957740136",
         "0.44164324129102395",
         "1.7842895413829178",
         "1.0989681057860312",
         "0.4017606918288451",
         "1.4869553404079257",
         "0.6086206065483127",
         "-0.05652643406205278"
        ],
        [
         "4",
         "-0.879998255943387",
         "0.45282267155735045",
         "1.7936993291559966",
         "1.0989681057860312",
         "0.4017606918288451",
         "1.3977295514014627",
         "0.5258322240229509",
         "-0.05233714012886024"
        ]
       ],
       "shape": {
        "columns": 8,
        "rows": 5
       }
      },
      "text/html": [
       "<div>\n",
       "<style scoped>\n",
       "    .dataframe tbody tr th:only-of-type {\n",
       "        vertical-align: middle;\n",
       "    }\n",
       "\n",
       "    .dataframe tbody tr th {\n",
       "        vertical-align: top;\n",
       "    }\n",
       "\n",
       "    .dataframe thead th {\n",
       "        text-align: right;\n",
       "    }\n",
       "</style>\n",
       "<table border=\"1\" class=\"dataframe\">\n",
       "  <thead>\n",
       "    <tr style=\"text-align: right;\">\n",
       "      <th></th>\n",
       "      <th>Age</th>\n",
       "      <th>Height</th>\n",
       "      <th>Weight</th>\n",
       "      <th>FCVC</th>\n",
       "      <th>NCP</th>\n",
       "      <th>CH2O</th>\n",
       "      <th>FAF</th>\n",
       "      <th>TUE</th>\n",
       "    </tr>\n",
       "  </thead>\n",
       "  <tbody>\n",
       "    <tr>\n",
       "      <th>0</th>\n",
       "      <td>0.990213</td>\n",
       "      <td>2.199156</td>\n",
       "      <td>1.618594</td>\n",
       "      <td>0.156197</td>\n",
       "      <td>0.401761</td>\n",
       "      <td>-1.066293</td>\n",
       "      <td>0.148540</td>\n",
       "      <td>-0.803394</td>\n",
       "    </tr>\n",
       "    <tr>\n",
       "      <th>1</th>\n",
       "      <td>-1.001942</td>\n",
       "      <td>-0.363297</td>\n",
       "      <td>0.152829</td>\n",
       "      <td>-2.653712</td>\n",
       "      <td>0.401761</td>\n",
       "      <td>-1.659272</td>\n",
       "      <td>-1.192593</td>\n",
       "      <td>0.562369</td>\n",
       "    </tr>\n",
       "    <tr>\n",
       "      <th>2</th>\n",
       "      <td>0.762186</td>\n",
       "      <td>0.740336</td>\n",
       "      <td>0.002170</td>\n",
       "      <td>-1.535890</td>\n",
       "      <td>1.193028</td>\n",
       "      <td>-1.210528</td>\n",
       "      <td>0.570462</td>\n",
       "      <td>-0.478236</td>\n",
       "    </tr>\n",
       "    <tr>\n",
       "      <th>3</th>\n",
       "      <td>-0.952185</td>\n",
       "      <td>0.441643</td>\n",
       "      <td>1.784290</td>\n",
       "      <td>1.098968</td>\n",
       "      <td>0.401761</td>\n",
       "      <td>1.486955</td>\n",
       "      <td>0.608621</td>\n",
       "      <td>-0.056526</td>\n",
       "    </tr>\n",
       "    <tr>\n",
       "      <th>4</th>\n",
       "      <td>-0.879998</td>\n",
       "      <td>0.452823</td>\n",
       "      <td>1.793699</td>\n",
       "      <td>1.098968</td>\n",
       "      <td>0.401761</td>\n",
       "      <td>1.397730</td>\n",
       "      <td>0.525832</td>\n",
       "      <td>-0.052337</td>\n",
       "    </tr>\n",
       "  </tbody>\n",
       "</table>\n",
       "</div>"
      ],
      "text/plain": [
       "        Age    Height    Weight      FCVC       NCP      CH2O       FAF  \\\n",
       "0  0.990213  2.199156  1.618594  0.156197  0.401761 -1.066293  0.148540   \n",
       "1 -1.001942 -0.363297  0.152829 -2.653712  0.401761 -1.659272 -1.192593   \n",
       "2  0.762186  0.740336  0.002170 -1.535890  1.193028 -1.210528  0.570462   \n",
       "3 -0.952185  0.441643  1.784290  1.098968  0.401761  1.486955  0.608621   \n",
       "4 -0.879998  0.452823  1.793699  1.098968  0.401761  1.397730  0.525832   \n",
       "\n",
       "        TUE  \n",
       "0 -0.803394  \n",
       "1  0.562369  \n",
       "2 -0.478236  \n",
       "3 -0.056526  \n",
       "4 -0.052337  "
      ]
     },
     "execution_count": 95,
     "metadata": {},
     "output_type": "execute_result"
    }
   ],
   "source": [
    "# Convert scaled data back to DataFrame (optional, for inspection)\n",
    "columns = data_encoded.columns[:-1]  # Exclude 'Gender'\n",
    "X_train_scaled_df = pd.DataFrame(X_train_scaled, columns=columns)\n",
    "X_test_scaled_df = pd.DataFrame(X_test_scaled, columns=columns)\n",
    "X_test_scaled_df.head()"
   ]
  },
  {
   "cell_type": "code",
   "execution_count": 96,
   "metadata": {},
   "outputs": [
    {
     "data": {
      "application/vnd.microsoft.datawrangler.viewer.v0+json": {
       "columns": [
        {
         "name": "index",
         "rawType": "int64",
         "type": "integer"
        },
        {
         "name": "Age",
         "rawType": "float64",
         "type": "float"
        },
        {
         "name": "Height",
         "rawType": "float64",
         "type": "float"
        },
        {
         "name": "Weight",
         "rawType": "float64",
         "type": "float"
        },
        {
         "name": "FCVC",
         "rawType": "float64",
         "type": "float"
        },
        {
         "name": "NCP",
         "rawType": "float64",
         "type": "float"
        },
        {
         "name": "CH2O",
         "rawType": "float64",
         "type": "float"
        },
        {
         "name": "FAF",
         "rawType": "float64",
         "type": "float"
        },
        {
         "name": "TUE",
         "rawType": "float64",
         "type": "float"
        }
       ],
       "conversionMethod": "pd.DataFrame",
       "ref": "d4833c31-32be-40db-bf64-b9d7ae44ab2c",
       "rows": [
        [
         "0",
         "2.184846154622753",
         "-1.5578138324561503",
         "-0.28185871538559887",
         "-0.7773720433859905",
         "0.4017606918288451",
         "-1.2098981391158656",
         "-1.1925929060148044",
         "-1.0895607247252452"
        ],
        [
         "1",
         "2.5355541354527404",
         "0.19456718532876188",
         "0.8562934978326981",
         "-0.2483135459049994",
         "1.3869783119884944",
         "-1.659271777234231",
         "0.36709666026949145",
         "-1.0895607247252452"
        ],
        [
         "2",
         "2.422105581684643",
         "-1.3982886860938926",
         "-0.2655715548252043",
         "-0.6429848092219919",
         "0.37350908781712244",
         "-0.8934048225372218",
         "-1.1925929060148044",
         "-1.0895607247252452"
        ],
        [
         "3",
         "-0.17359780934282792",
         "0.605672100989143",
         "0.41465224742600093",
         "-0.7773720433859905",
         "0.4017606918288451",
         "1.5932239452660748",
         "1.6558636361121664",
         "2.1780274217627906"
        ],
        [
         "4",
         "-0.28273043021996336",
         "0.19525924529762953",
         "-1.3469041660396348",
         "0.4674314147178614",
         "0.4017606918288451",
         "-1.5920392506376606",
         "-0.26136192709952605",
         "1.2098396347855078"
        ]
       ],
       "shape": {
        "columns": 8,
        "rows": 5
       }
      },
      "text/html": [
       "<div>\n",
       "<style scoped>\n",
       "    .dataframe tbody tr th:only-of-type {\n",
       "        vertical-align: middle;\n",
       "    }\n",
       "\n",
       "    .dataframe tbody tr th {\n",
       "        vertical-align: top;\n",
       "    }\n",
       "\n",
       "    .dataframe thead th {\n",
       "        text-align: right;\n",
       "    }\n",
       "</style>\n",
       "<table border=\"1\" class=\"dataframe\">\n",
       "  <thead>\n",
       "    <tr style=\"text-align: right;\">\n",
       "      <th></th>\n",
       "      <th>Age</th>\n",
       "      <th>Height</th>\n",
       "      <th>Weight</th>\n",
       "      <th>FCVC</th>\n",
       "      <th>NCP</th>\n",
       "      <th>CH2O</th>\n",
       "      <th>FAF</th>\n",
       "      <th>TUE</th>\n",
       "    </tr>\n",
       "  </thead>\n",
       "  <tbody>\n",
       "    <tr>\n",
       "      <th>0</th>\n",
       "      <td>2.184846</td>\n",
       "      <td>-1.557814</td>\n",
       "      <td>-0.281859</td>\n",
       "      <td>-0.777372</td>\n",
       "      <td>0.401761</td>\n",
       "      <td>-1.209898</td>\n",
       "      <td>-1.192593</td>\n",
       "      <td>-1.089561</td>\n",
       "    </tr>\n",
       "    <tr>\n",
       "      <th>1</th>\n",
       "      <td>2.535554</td>\n",
       "      <td>0.194567</td>\n",
       "      <td>0.856293</td>\n",
       "      <td>-0.248314</td>\n",
       "      <td>1.386978</td>\n",
       "      <td>-1.659272</td>\n",
       "      <td>0.367097</td>\n",
       "      <td>-1.089561</td>\n",
       "    </tr>\n",
       "    <tr>\n",
       "      <th>2</th>\n",
       "      <td>2.422106</td>\n",
       "      <td>-1.398289</td>\n",
       "      <td>-0.265572</td>\n",
       "      <td>-0.642985</td>\n",
       "      <td>0.373509</td>\n",
       "      <td>-0.893405</td>\n",
       "      <td>-1.192593</td>\n",
       "      <td>-1.089561</td>\n",
       "    </tr>\n",
       "    <tr>\n",
       "      <th>3</th>\n",
       "      <td>-0.173598</td>\n",
       "      <td>0.605672</td>\n",
       "      <td>0.414652</td>\n",
       "      <td>-0.777372</td>\n",
       "      <td>0.401761</td>\n",
       "      <td>1.593224</td>\n",
       "      <td>1.655864</td>\n",
       "      <td>2.178027</td>\n",
       "    </tr>\n",
       "    <tr>\n",
       "      <th>4</th>\n",
       "      <td>-0.282730</td>\n",
       "      <td>0.195259</td>\n",
       "      <td>-1.346904</td>\n",
       "      <td>0.467431</td>\n",
       "      <td>0.401761</td>\n",
       "      <td>-1.592039</td>\n",
       "      <td>-0.261362</td>\n",
       "      <td>1.209840</td>\n",
       "    </tr>\n",
       "  </tbody>\n",
       "</table>\n",
       "</div>"
      ],
      "text/plain": [
       "        Age    Height    Weight      FCVC       NCP      CH2O       FAF  \\\n",
       "0  2.184846 -1.557814 -0.281859 -0.777372  0.401761 -1.209898 -1.192593   \n",
       "1  2.535554  0.194567  0.856293 -0.248314  1.386978 -1.659272  0.367097   \n",
       "2  2.422106 -1.398289 -0.265572 -0.642985  0.373509 -0.893405 -1.192593   \n",
       "3 -0.173598  0.605672  0.414652 -0.777372  0.401761  1.593224  1.655864   \n",
       "4 -0.282730  0.195259 -1.346904  0.467431  0.401761 -1.592039 -0.261362   \n",
       "\n",
       "        TUE  \n",
       "0 -1.089561  \n",
       "1 -1.089561  \n",
       "2 -1.089561  \n",
       "3  2.178027  \n",
       "4  1.209840  "
      ]
     },
     "execution_count": 96,
     "metadata": {},
     "output_type": "execute_result"
    }
   ],
   "source": [
    "X_train_scaled_df.head()"
   ]
  },
  {
   "cell_type": "markdown",
   "metadata": {},
   "source": [
    "## Training the model"
   ]
  },
  {
   "cell_type": "code",
   "execution_count": 97,
   "metadata": {},
   "outputs": [
    {
     "data": {
      "text/html": [
       "<style>#sk-container-id-4 {\n",
       "  /* Definition of color scheme common for light and dark mode */\n",
       "  --sklearn-color-text: #000;\n",
       "  --sklearn-color-text-muted: #666;\n",
       "  --sklearn-color-line: gray;\n",
       "  /* Definition of color scheme for unfitted estimators */\n",
       "  --sklearn-color-unfitted-level-0: #fff5e6;\n",
       "  --sklearn-color-unfitted-level-1: #f6e4d2;\n",
       "  --sklearn-color-unfitted-level-2: #ffe0b3;\n",
       "  --sklearn-color-unfitted-level-3: chocolate;\n",
       "  /* Definition of color scheme for fitted estimators */\n",
       "  --sklearn-color-fitted-level-0: #f0f8ff;\n",
       "  --sklearn-color-fitted-level-1: #d4ebff;\n",
       "  --sklearn-color-fitted-level-2: #b3dbfd;\n",
       "  --sklearn-color-fitted-level-3: cornflowerblue;\n",
       "\n",
       "  /* Specific color for light theme */\n",
       "  --sklearn-color-text-on-default-background: var(--sg-text-color, var(--theme-code-foreground, var(--jp-content-font-color1, black)));\n",
       "  --sklearn-color-background: var(--sg-background-color, var(--theme-background, var(--jp-layout-color0, white)));\n",
       "  --sklearn-color-border-box: var(--sg-text-color, var(--theme-code-foreground, var(--jp-content-font-color1, black)));\n",
       "  --sklearn-color-icon: #696969;\n",
       "\n",
       "  @media (prefers-color-scheme: dark) {\n",
       "    /* Redefinition of color scheme for dark theme */\n",
       "    --sklearn-color-text-on-default-background: var(--sg-text-color, var(--theme-code-foreground, var(--jp-content-font-color1, white)));\n",
       "    --sklearn-color-background: var(--sg-background-color, var(--theme-background, var(--jp-layout-color0, #111)));\n",
       "    --sklearn-color-border-box: var(--sg-text-color, var(--theme-code-foreground, var(--jp-content-font-color1, white)));\n",
       "    --sklearn-color-icon: #878787;\n",
       "  }\n",
       "}\n",
       "\n",
       "#sk-container-id-4 {\n",
       "  color: var(--sklearn-color-text);\n",
       "}\n",
       "\n",
       "#sk-container-id-4 pre {\n",
       "  padding: 0;\n",
       "}\n",
       "\n",
       "#sk-container-id-4 input.sk-hidden--visually {\n",
       "  border: 0;\n",
       "  clip: rect(1px 1px 1px 1px);\n",
       "  clip: rect(1px, 1px, 1px, 1px);\n",
       "  height: 1px;\n",
       "  margin: -1px;\n",
       "  overflow: hidden;\n",
       "  padding: 0;\n",
       "  position: absolute;\n",
       "  width: 1px;\n",
       "}\n",
       "\n",
       "#sk-container-id-4 div.sk-dashed-wrapped {\n",
       "  border: 1px dashed var(--sklearn-color-line);\n",
       "  margin: 0 0.4em 0.5em 0.4em;\n",
       "  box-sizing: border-box;\n",
       "  padding-bottom: 0.4em;\n",
       "  background-color: var(--sklearn-color-background);\n",
       "}\n",
       "\n",
       "#sk-container-id-4 div.sk-container {\n",
       "  /* jupyter's `normalize.less` sets `[hidden] { display: none; }`\n",
       "     but bootstrap.min.css set `[hidden] { display: none !important; }`\n",
       "     so we also need the `!important` here to be able to override the\n",
       "     default hidden behavior on the sphinx rendered scikit-learn.org.\n",
       "     See: https://github.com/scikit-learn/scikit-learn/issues/21755 */\n",
       "  display: inline-block !important;\n",
       "  position: relative;\n",
       "}\n",
       "\n",
       "#sk-container-id-4 div.sk-text-repr-fallback {\n",
       "  display: none;\n",
       "}\n",
       "\n",
       "div.sk-parallel-item,\n",
       "div.sk-serial,\n",
       "div.sk-item {\n",
       "  /* draw centered vertical line to link estimators */\n",
       "  background-image: linear-gradient(var(--sklearn-color-text-on-default-background), var(--sklearn-color-text-on-default-background));\n",
       "  background-size: 2px 100%;\n",
       "  background-repeat: no-repeat;\n",
       "  background-position: center center;\n",
       "}\n",
       "\n",
       "/* Parallel-specific style estimator block */\n",
       "\n",
       "#sk-container-id-4 div.sk-parallel-item::after {\n",
       "  content: \"\";\n",
       "  width: 100%;\n",
       "  border-bottom: 2px solid var(--sklearn-color-text-on-default-background);\n",
       "  flex-grow: 1;\n",
       "}\n",
       "\n",
       "#sk-container-id-4 div.sk-parallel {\n",
       "  display: flex;\n",
       "  align-items: stretch;\n",
       "  justify-content: center;\n",
       "  background-color: var(--sklearn-color-background);\n",
       "  position: relative;\n",
       "}\n",
       "\n",
       "#sk-container-id-4 div.sk-parallel-item {\n",
       "  display: flex;\n",
       "  flex-direction: column;\n",
       "}\n",
       "\n",
       "#sk-container-id-4 div.sk-parallel-item:first-child::after {\n",
       "  align-self: flex-end;\n",
       "  width: 50%;\n",
       "}\n",
       "\n",
       "#sk-container-id-4 div.sk-parallel-item:last-child::after {\n",
       "  align-self: flex-start;\n",
       "  width: 50%;\n",
       "}\n",
       "\n",
       "#sk-container-id-4 div.sk-parallel-item:only-child::after {\n",
       "  width: 0;\n",
       "}\n",
       "\n",
       "/* Serial-specific style estimator block */\n",
       "\n",
       "#sk-container-id-4 div.sk-serial {\n",
       "  display: flex;\n",
       "  flex-direction: column;\n",
       "  align-items: center;\n",
       "  background-color: var(--sklearn-color-background);\n",
       "  padding-right: 1em;\n",
       "  padding-left: 1em;\n",
       "}\n",
       "\n",
       "\n",
       "/* Toggleable style: style used for estimator/Pipeline/ColumnTransformer box that is\n",
       "clickable and can be expanded/collapsed.\n",
       "- Pipeline and ColumnTransformer use this feature and define the default style\n",
       "- Estimators will overwrite some part of the style using the `sk-estimator` class\n",
       "*/\n",
       "\n",
       "/* Pipeline and ColumnTransformer style (default) */\n",
       "\n",
       "#sk-container-id-4 div.sk-toggleable {\n",
       "  /* Default theme specific background. It is overwritten whether we have a\n",
       "  specific estimator or a Pipeline/ColumnTransformer */\n",
       "  background-color: var(--sklearn-color-background);\n",
       "}\n",
       "\n",
       "/* Toggleable label */\n",
       "#sk-container-id-4 label.sk-toggleable__label {\n",
       "  cursor: pointer;\n",
       "  display: flex;\n",
       "  width: 100%;\n",
       "  margin-bottom: 0;\n",
       "  padding: 0.5em;\n",
       "  box-sizing: border-box;\n",
       "  text-align: center;\n",
       "  align-items: start;\n",
       "  justify-content: space-between;\n",
       "  gap: 0.5em;\n",
       "}\n",
       "\n",
       "#sk-container-id-4 label.sk-toggleable__label .caption {\n",
       "  font-size: 0.6rem;\n",
       "  font-weight: lighter;\n",
       "  color: var(--sklearn-color-text-muted);\n",
       "}\n",
       "\n",
       "#sk-container-id-4 label.sk-toggleable__label-arrow:before {\n",
       "  /* Arrow on the left of the label */\n",
       "  content: \"▸\";\n",
       "  float: left;\n",
       "  margin-right: 0.25em;\n",
       "  color: var(--sklearn-color-icon);\n",
       "}\n",
       "\n",
       "#sk-container-id-4 label.sk-toggleable__label-arrow:hover:before {\n",
       "  color: var(--sklearn-color-text);\n",
       "}\n",
       "\n",
       "/* Toggleable content - dropdown */\n",
       "\n",
       "#sk-container-id-4 div.sk-toggleable__content {\n",
       "  max-height: 0;\n",
       "  max-width: 0;\n",
       "  overflow: hidden;\n",
       "  text-align: left;\n",
       "  /* unfitted */\n",
       "  background-color: var(--sklearn-color-unfitted-level-0);\n",
       "}\n",
       "\n",
       "#sk-container-id-4 div.sk-toggleable__content.fitted {\n",
       "  /* fitted */\n",
       "  background-color: var(--sklearn-color-fitted-level-0);\n",
       "}\n",
       "\n",
       "#sk-container-id-4 div.sk-toggleable__content pre {\n",
       "  margin: 0.2em;\n",
       "  border-radius: 0.25em;\n",
       "  color: var(--sklearn-color-text);\n",
       "  /* unfitted */\n",
       "  background-color: var(--sklearn-color-unfitted-level-0);\n",
       "}\n",
       "\n",
       "#sk-container-id-4 div.sk-toggleable__content.fitted pre {\n",
       "  /* unfitted */\n",
       "  background-color: var(--sklearn-color-fitted-level-0);\n",
       "}\n",
       "\n",
       "#sk-container-id-4 input.sk-toggleable__control:checked~div.sk-toggleable__content {\n",
       "  /* Expand drop-down */\n",
       "  max-height: 200px;\n",
       "  max-width: 100%;\n",
       "  overflow: auto;\n",
       "}\n",
       "\n",
       "#sk-container-id-4 input.sk-toggleable__control:checked~label.sk-toggleable__label-arrow:before {\n",
       "  content: \"▾\";\n",
       "}\n",
       "\n",
       "/* Pipeline/ColumnTransformer-specific style */\n",
       "\n",
       "#sk-container-id-4 div.sk-label input.sk-toggleable__control:checked~label.sk-toggleable__label {\n",
       "  color: var(--sklearn-color-text);\n",
       "  background-color: var(--sklearn-color-unfitted-level-2);\n",
       "}\n",
       "\n",
       "#sk-container-id-4 div.sk-label.fitted input.sk-toggleable__control:checked~label.sk-toggleable__label {\n",
       "  background-color: var(--sklearn-color-fitted-level-2);\n",
       "}\n",
       "\n",
       "/* Estimator-specific style */\n",
       "\n",
       "/* Colorize estimator box */\n",
       "#sk-container-id-4 div.sk-estimator input.sk-toggleable__control:checked~label.sk-toggleable__label {\n",
       "  /* unfitted */\n",
       "  background-color: var(--sklearn-color-unfitted-level-2);\n",
       "}\n",
       "\n",
       "#sk-container-id-4 div.sk-estimator.fitted input.sk-toggleable__control:checked~label.sk-toggleable__label {\n",
       "  /* fitted */\n",
       "  background-color: var(--sklearn-color-fitted-level-2);\n",
       "}\n",
       "\n",
       "#sk-container-id-4 div.sk-label label.sk-toggleable__label,\n",
       "#sk-container-id-4 div.sk-label label {\n",
       "  /* The background is the default theme color */\n",
       "  color: var(--sklearn-color-text-on-default-background);\n",
       "}\n",
       "\n",
       "/* On hover, darken the color of the background */\n",
       "#sk-container-id-4 div.sk-label:hover label.sk-toggleable__label {\n",
       "  color: var(--sklearn-color-text);\n",
       "  background-color: var(--sklearn-color-unfitted-level-2);\n",
       "}\n",
       "\n",
       "/* Label box, darken color on hover, fitted */\n",
       "#sk-container-id-4 div.sk-label.fitted:hover label.sk-toggleable__label.fitted {\n",
       "  color: var(--sklearn-color-text);\n",
       "  background-color: var(--sklearn-color-fitted-level-2);\n",
       "}\n",
       "\n",
       "/* Estimator label */\n",
       "\n",
       "#sk-container-id-4 div.sk-label label {\n",
       "  font-family: monospace;\n",
       "  font-weight: bold;\n",
       "  display: inline-block;\n",
       "  line-height: 1.2em;\n",
       "}\n",
       "\n",
       "#sk-container-id-4 div.sk-label-container {\n",
       "  text-align: center;\n",
       "}\n",
       "\n",
       "/* Estimator-specific */\n",
       "#sk-container-id-4 div.sk-estimator {\n",
       "  font-family: monospace;\n",
       "  border: 1px dotted var(--sklearn-color-border-box);\n",
       "  border-radius: 0.25em;\n",
       "  box-sizing: border-box;\n",
       "  margin-bottom: 0.5em;\n",
       "  /* unfitted */\n",
       "  background-color: var(--sklearn-color-unfitted-level-0);\n",
       "}\n",
       "\n",
       "#sk-container-id-4 div.sk-estimator.fitted {\n",
       "  /* fitted */\n",
       "  background-color: var(--sklearn-color-fitted-level-0);\n",
       "}\n",
       "\n",
       "/* on hover */\n",
       "#sk-container-id-4 div.sk-estimator:hover {\n",
       "  /* unfitted */\n",
       "  background-color: var(--sklearn-color-unfitted-level-2);\n",
       "}\n",
       "\n",
       "#sk-container-id-4 div.sk-estimator.fitted:hover {\n",
       "  /* fitted */\n",
       "  background-color: var(--sklearn-color-fitted-level-2);\n",
       "}\n",
       "\n",
       "/* Specification for estimator info (e.g. \"i\" and \"?\") */\n",
       "\n",
       "/* Common style for \"i\" and \"?\" */\n",
       "\n",
       ".sk-estimator-doc-link,\n",
       "a:link.sk-estimator-doc-link,\n",
       "a:visited.sk-estimator-doc-link {\n",
       "  float: right;\n",
       "  font-size: smaller;\n",
       "  line-height: 1em;\n",
       "  font-family: monospace;\n",
       "  background-color: var(--sklearn-color-background);\n",
       "  border-radius: 1em;\n",
       "  height: 1em;\n",
       "  width: 1em;\n",
       "  text-decoration: none !important;\n",
       "  margin-left: 0.5em;\n",
       "  text-align: center;\n",
       "  /* unfitted */\n",
       "  border: var(--sklearn-color-unfitted-level-1) 1pt solid;\n",
       "  color: var(--sklearn-color-unfitted-level-1);\n",
       "}\n",
       "\n",
       ".sk-estimator-doc-link.fitted,\n",
       "a:link.sk-estimator-doc-link.fitted,\n",
       "a:visited.sk-estimator-doc-link.fitted {\n",
       "  /* fitted */\n",
       "  border: var(--sklearn-color-fitted-level-1) 1pt solid;\n",
       "  color: var(--sklearn-color-fitted-level-1);\n",
       "}\n",
       "\n",
       "/* On hover */\n",
       "div.sk-estimator:hover .sk-estimator-doc-link:hover,\n",
       ".sk-estimator-doc-link:hover,\n",
       "div.sk-label-container:hover .sk-estimator-doc-link:hover,\n",
       ".sk-estimator-doc-link:hover {\n",
       "  /* unfitted */\n",
       "  background-color: var(--sklearn-color-unfitted-level-3);\n",
       "  color: var(--sklearn-color-background);\n",
       "  text-decoration: none;\n",
       "}\n",
       "\n",
       "div.sk-estimator.fitted:hover .sk-estimator-doc-link.fitted:hover,\n",
       ".sk-estimator-doc-link.fitted:hover,\n",
       "div.sk-label-container:hover .sk-estimator-doc-link.fitted:hover,\n",
       ".sk-estimator-doc-link.fitted:hover {\n",
       "  /* fitted */\n",
       "  background-color: var(--sklearn-color-fitted-level-3);\n",
       "  color: var(--sklearn-color-background);\n",
       "  text-decoration: none;\n",
       "}\n",
       "\n",
       "/* Span, style for the box shown on hovering the info icon */\n",
       ".sk-estimator-doc-link span {\n",
       "  display: none;\n",
       "  z-index: 9999;\n",
       "  position: relative;\n",
       "  font-weight: normal;\n",
       "  right: .2ex;\n",
       "  padding: .5ex;\n",
       "  margin: .5ex;\n",
       "  width: min-content;\n",
       "  min-width: 20ex;\n",
       "  max-width: 50ex;\n",
       "  color: var(--sklearn-color-text);\n",
       "  box-shadow: 2pt 2pt 4pt #999;\n",
       "  /* unfitted */\n",
       "  background: var(--sklearn-color-unfitted-level-0);\n",
       "  border: .5pt solid var(--sklearn-color-unfitted-level-3);\n",
       "}\n",
       "\n",
       ".sk-estimator-doc-link.fitted span {\n",
       "  /* fitted */\n",
       "  background: var(--sklearn-color-fitted-level-0);\n",
       "  border: var(--sklearn-color-fitted-level-3);\n",
       "}\n",
       "\n",
       ".sk-estimator-doc-link:hover span {\n",
       "  display: block;\n",
       "}\n",
       "\n",
       "/* \"?\"-specific style due to the `<a>` HTML tag */\n",
       "\n",
       "#sk-container-id-4 a.estimator_doc_link {\n",
       "  float: right;\n",
       "  font-size: 1rem;\n",
       "  line-height: 1em;\n",
       "  font-family: monospace;\n",
       "  background-color: var(--sklearn-color-background);\n",
       "  border-radius: 1rem;\n",
       "  height: 1rem;\n",
       "  width: 1rem;\n",
       "  text-decoration: none;\n",
       "  /* unfitted */\n",
       "  color: var(--sklearn-color-unfitted-level-1);\n",
       "  border: var(--sklearn-color-unfitted-level-1) 1pt solid;\n",
       "}\n",
       "\n",
       "#sk-container-id-4 a.estimator_doc_link.fitted {\n",
       "  /* fitted */\n",
       "  border: var(--sklearn-color-fitted-level-1) 1pt solid;\n",
       "  color: var(--sklearn-color-fitted-level-1);\n",
       "}\n",
       "\n",
       "/* On hover */\n",
       "#sk-container-id-4 a.estimator_doc_link:hover {\n",
       "  /* unfitted */\n",
       "  background-color: var(--sklearn-color-unfitted-level-3);\n",
       "  color: var(--sklearn-color-background);\n",
       "  text-decoration: none;\n",
       "}\n",
       "\n",
       "#sk-container-id-4 a.estimator_doc_link.fitted:hover {\n",
       "  /* fitted */\n",
       "  background-color: var(--sklearn-color-fitted-level-3);\n",
       "}\n",
       "</style><div id=\"sk-container-id-4\" class=\"sk-top-container\"><div class=\"sk-text-repr-fallback\"><pre>RandomForestClassifier(random_state=42)</pre><b>In a Jupyter environment, please rerun this cell to show the HTML representation or trust the notebook. <br />On GitHub, the HTML representation is unable to render, please try loading this page with nbviewer.org.</b></div><div class=\"sk-container\" hidden><div class=\"sk-item\"><div class=\"sk-estimator fitted sk-toggleable\"><input class=\"sk-toggleable__control sk-hidden--visually\" id=\"sk-estimator-id-4\" type=\"checkbox\" checked><label for=\"sk-estimator-id-4\" class=\"sk-toggleable__label fitted sk-toggleable__label-arrow\"><div><div>RandomForestClassifier</div></div><div><a class=\"sk-estimator-doc-link fitted\" rel=\"noreferrer\" target=\"_blank\" href=\"https://scikit-learn.org/1.6/modules/generated/sklearn.ensemble.RandomForestClassifier.html\">?<span>Documentation for RandomForestClassifier</span></a><span class=\"sk-estimator-doc-link fitted\">i<span>Fitted</span></span></div></label><div class=\"sk-toggleable__content fitted\"><pre>RandomForestClassifier(random_state=42)</pre></div> </div></div></div></div>"
      ],
      "text/plain": [
       "RandomForestClassifier(random_state=42)"
      ]
     },
     "execution_count": 97,
     "metadata": {},
     "output_type": "execute_result"
    }
   ],
   "source": [
    "# Train the RandomForestClassifier\n",
    "rf_model = RandomForestClassifier(n_estimators=100, random_state=42)\n",
    "rf_model.fit(X_train_scaled, y_train)"
   ]
  },
  {
   "cell_type": "markdown",
   "metadata": {},
   "source": [
    "## MODEL EVALUATION"
   ]
  },
  {
   "cell_type": "code",
   "execution_count": 98,
   "metadata": {},
   "outputs": [
    {
     "name": "stdout",
     "output_type": "stream",
     "text": [
      "Accuracy score : 0.9125\n"
     ]
    }
   ],
   "source": [
    "# Import necessary libraries\n",
    "from sklearn.metrics import accuracy_score, confusion_matrix, classification_report\n",
    "from sklearn.metrics import classification_report\n",
    "# Assuming y_pred was generated from rf_model.predict(X_test_scaled)\n",
    "y_pred_rf = rf_model.predict(X_test_scaled)\n",
    "\n",
    "# Calculate accuracy\n",
    "accuracy = accuracy_score(y_test, y_pred_rf)\n",
    "print(f\"Accuracy score : {accuracy:.4f}\")\n"
   ]
  },
  {
   "cell_type": "code",
   "execution_count": null,
   "metadata": {},
   "outputs": [
    {
     "name": "stdout",
     "output_type": "stream",
     "text": [
      "\n",
      "Confusion Matrix:\n",
      "[[180  51]\n",
      " [ 44 148]]\n"
     ]
    }
   ],
   "source": [
    "\n",
    "# Calculate and print confusion matrix\n",
    "rf_modelfcm = confusion_matrix(y_test, y_pred_rf)\n",
    "print(\"\\nConfusion Matrix:\")\n",
    "print(cm)"
   ]
  },
  {
   "cell_type": "code",
   "execution_count": 100,
   "metadata": {},
   "outputs": [
    {
     "name": "stdout",
     "output_type": "stream",
     "text": [
      "\n",
      "Classification Report:\n",
      "              precision    recall  f1-score   support\n",
      "\n",
      "           0       0.91      0.93      0.92       231\n",
      "           1       0.91      0.90      0.90       192\n",
      "\n",
      "    accuracy                           0.91       423\n",
      "   macro avg       0.91      0.91      0.91       423\n",
      "weighted avg       0.91      0.91      0.91       423\n",
      "\n"
     ]
    }
   ],
   "source": [
    "# Print classification report\n",
    "print(\"\\nClassification Report:\")\n",
    "print(classification_report(y_test, y_pred_rf))"
   ]
  },
  {
   "cell_type": "code",
   "execution_count": 101,
   "metadata": {},
   "outputs": [
    {
     "data": {
      "image/png": "[encoded data removed]",
      "text/plain": [
       "<Figure size 640x480 with 2 Axes>"
      ]
     },
     "metadata": {},
     "output_type": "display_data"
    }
   ],
   "source": [
    "import seaborn as sns\n",
    "import matplotlib.pyplot as plt\n",
    "\n",
    "sns.heatmap(Rfcm, annot=True, fmt='d', cmap='Greens', xticklabels=['Female', 'Male'], yticklabels=['Female', 'Male'])\n",
    "plt.xlabel('Predicted')\n",
    "plt.ylabel('Actual')\n",
    "plt.title('Confusion Matrix - Random Forest')\n",
    "plt.show()"
   ]
  },
  {
   "cell_type": "markdown",
   "metadata": {},
   "source": [
    "### TEST THE MODEL ON UNSEEN DATA"
   ]
  },
  {
   "cell_type": "markdown",
   "metadata": {},
   "source": [
    "### Save the model"
   ]
  },
  {
   "cell_type": "code",
   "execution_count": 102,
   "metadata": {},
   "outputs": [
    {
     "data": {
      "text/plain": [
       "['Random_Forest_model.pkl']"
      ]
     },
     "execution_count": 102,
     "metadata": {},
     "output_type": "execute_result"
    }
   ],
   "source": [
    "# Save the model\n",
    "import joblib\n",
    "joblib.dump(rf_model, \"Random_Forest_model.pkl\")"
   ]
  },
  {
   "cell_type": "markdown",
   "metadata": {},
   "source": [
    "### Load the model"
   ]
  },
  {
   "cell_type": "code",
   "execution_count": 103,
   "metadata": {},
   "outputs": [
    {
     "data": {
      "text/html": [
       "<style>#sk-container-id-5 {\n",
       "  /* Definition of color scheme common for light and dark mode */\n",
       "  --sklearn-color-text: #000;\n",
       "  --sklearn-color-text-muted: #666;\n",
       "  --sklearn-color-line: gray;\n",
       "  /* Definition of color scheme for unfitted estimators */\n",
       "  --sklearn-color-unfitted-level-0: #fff5e6;\n",
       "  --sklearn-color-unfitted-level-1: #f6e4d2;\n",
       "  --sklearn-color-unfitted-level-2: #ffe0b3;\n",
       "  --sklearn-color-unfitted-level-3: chocolate;\n",
       "  /* Definition of color scheme for fitted estimators */\n",
       "  --sklearn-color-fitted-level-0: #f0f8ff;\n",
       "  --sklearn-color-fitted-level-1: #d4ebff;\n",
       "  --sklearn-color-fitted-level-2: #b3dbfd;\n",
       "  --sklearn-color-fitted-level-3: cornflowerblue;\n",
       "\n",
       "  /* Specific color for light theme */\n",
       "  --sklearn-color-text-on-default-background: var(--sg-text-color, var(--theme-code-foreground, var(--jp-content-font-color1, black)));\n",
       "  --sklearn-color-background: var(--sg-background-color, var(--theme-background, var(--jp-layout-color0, white)));\n",
       "  --sklearn-color-border-box: var(--sg-text-color, var(--theme-code-foreground, var(--jp-content-font-color1, black)));\n",
       "  --sklearn-color-icon: #696969;\n",
       "\n",
       "  @media (prefers-color-scheme: dark) {\n",
       "    /* Redefinition of color scheme for dark theme */\n",
       "    --sklearn-color-text-on-default-background: var(--sg-text-color, var(--theme-code-foreground, var(--jp-content-font-color1, white)));\n",
       "    --sklearn-color-background: var(--sg-background-color, var(--theme-background, var(--jp-layout-color0, #111)));\n",
       "    --sklearn-color-border-box: var(--sg-text-color, var(--theme-code-foreground, var(--jp-content-font-color1, white)));\n",
       "    --sklearn-color-icon: #878787;\n",
       "  }\n",
       "}\n",
       "\n",
       "#sk-container-id-5 {\n",
       "  color: var(--sklearn-color-text);\n",
       "}\n",
       "\n",
       "#sk-container-id-5 pre {\n",
       "  padding: 0;\n",
       "}\n",
       "\n",
       "#sk-container-id-5 input.sk-hidden--visually {\n",
       "  border: 0;\n",
       "  clip: rect(1px 1px 1px 1px);\n",
       "  clip: rect(1px, 1px, 1px, 1px);\n",
       "  height: 1px;\n",
       "  margin: -1px;\n",
       "  overflow: hidden;\n",
       "  padding: 0;\n",
       "  position: absolute;\n",
       "  width: 1px;\n",
       "}\n",
       "\n",
       "#sk-container-id-5 div.sk-dashed-wrapped {\n",
       "  border: 1px dashed var(--sklearn-color-line);\n",
       "  margin: 0 0.4em 0.5em 0.4em;\n",
       "  box-sizing: border-box;\n",
       "  padding-bottom: 0.4em;\n",
       "  background-color: var(--sklearn-color-background);\n",
       "}\n",
       "\n",
       "#sk-container-id-5 div.sk-container {\n",
       "  /* jupyter's `normalize.less` sets `[hidden] { display: none; }`\n",
       "     but bootstrap.min.css set `[hidden] { display: none !important; }`\n",
       "     so we also need the `!important` here to be able to override the\n",
       "     default hidden behavior on the sphinx rendered scikit-learn.org.\n",
       "     See: https://github.com/scikit-learn/scikit-learn/issues/21755 */\n",
       "  display: inline-block !important;\n",
       "  position: relative;\n",
       "}\n",
       "\n",
       "#sk-container-id-5 div.sk-text-repr-fallback {\n",
       "  display: none;\n",
       "}\n",
       "\n",
       "div.sk-parallel-item,\n",
       "div.sk-serial,\n",
       "div.sk-item {\n",
       "  /* draw centered vertical line to link estimators */\n",
       "  background-image: linear-gradient(var(--sklearn-color-text-on-default-background), var(--sklearn-color-text-on-default-background));\n",
       "  background-size: 2px 100%;\n",
       "  background-repeat: no-repeat;\n",
       "  background-position: center center;\n",
       "}\n",
       "\n",
       "/* Parallel-specific style estimator block */\n",
       "\n",
       "#sk-container-id-5 div.sk-parallel-item::after {\n",
       "  content: \"\";\n",
       "  width: 100%;\n",
       "  border-bottom: 2px solid var(--sklearn-color-text-on-default-background);\n",
       "  flex-grow: 1;\n",
       "}\n",
       "\n",
       "#sk-container-id-5 div.sk-parallel {\n",
       "  display: flex;\n",
       "  align-items: stretch;\n",
       "  justify-content: center;\n",
       "  background-color: var(--sklearn-color-background);\n",
       "  position: relative;\n",
       "}\n",
       "\n",
       "#sk-container-id-5 div.sk-parallel-item {\n",
       "  display: flex;\n",
       "  flex-direction: column;\n",
       "}\n",
       "\n",
       "#sk-container-id-5 div.sk-parallel-item:first-child::after {\n",
       "  align-self: flex-end;\n",
       "  width: 50%;\n",
       "}\n",
       "\n",
       "#sk-container-id-5 div.sk-parallel-item:last-child::after {\n",
       "  align-self: flex-start;\n",
       "  width: 50%;\n",
       "}\n",
       "\n",
       "#sk-container-id-5 div.sk-parallel-item:only-child::after {\n",
       "  width: 0;\n",
       "}\n",
       "\n",
       "/* Serial-specific style estimator block */\n",
       "\n",
       "#sk-container-id-5 div.sk-serial {\n",
       "  display: flex;\n",
       "  flex-direction: column;\n",
       "  align-items: center;\n",
       "  background-color: var(--sklearn-color-background);\n",
       "  padding-right: 1em;\n",
       "  padding-left: 1em;\n",
       "}\n",
       "\n",
       "\n",
       "/* Toggleable style: style used for estimator/Pipeline/ColumnTransformer box that is\n",
       "clickable and can be expanded/collapsed.\n",
       "- Pipeline and ColumnTransformer use this feature and define the default style\n",
       "- Estimators will overwrite some part of the style using the `sk-estimator` class\n",
       "*/\n",
       "\n",
       "/* Pipeline and ColumnTransformer style (default) */\n",
       "\n",
       "#sk-container-id-5 div.sk-toggleable {\n",
       "  /* Default theme specific background. It is overwritten whether we have a\n",
       "  specific estimator or a Pipeline/ColumnTransformer */\n",
       "  background-color: var(--sklearn-color-background);\n",
       "}\n",
       "\n",
       "/* Toggleable label */\n",
       "#sk-container-id-5 label.sk-toggleable__label {\n",
       "  cursor: pointer;\n",
       "  display: flex;\n",
       "  width: 100%;\n",
       "  margin-bottom: 0;\n",
       "  padding: 0.5em;\n",
       "  box-sizing: border-box;\n",
       "  text-align: center;\n",
       "  align-items: start;\n",
       "  justify-content: space-between;\n",
       "  gap: 0.5em;\n",
       "}\n",
       "\n",
       "#sk-container-id-5 label.sk-toggleable__label .caption {\n",
       "  font-size: 0.6rem;\n",
       "  font-weight: lighter;\n",
       "  color: var(--sklearn-color-text-muted);\n",
       "}\n",
       "\n",
       "#sk-container-id-5 label.sk-toggleable__label-arrow:before {\n",
       "  /* Arrow on the left of the label */\n",
       "  content: \"▸\";\n",
       "  float: left;\n",
       "  margin-right: 0.25em;\n",
       "  color: var(--sklearn-color-icon);\n",
       "}\n",
       "\n",
       "#sk-container-id-5 label.sk-toggleable__label-arrow:hover:before {\n",
       "  color: var(--sklearn-color-text);\n",
       "}\n",
       "\n",
       "/* Toggleable content - dropdown */\n",
       "\n",
       "#sk-container-id-5 div.sk-toggleable__content {\n",
       "  max-height: 0;\n",
       "  max-width: 0;\n",
       "  overflow: hidden;\n",
       "  text-align: left;\n",
       "  /* unfitted */\n",
       "  background-color: var(--sklearn-color-unfitted-level-0);\n",
       "}\n",
       "\n",
       "#sk-container-id-5 div.sk-toggleable__content.fitted {\n",
       "  /* fitted */\n",
       "  background-color: var(--sklearn-color-fitted-level-0);\n",
       "}\n",
       "\n",
       "#sk-container-id-5 div.sk-toggleable__content pre {\n",
       "  margin: 0.2em;\n",
       "  border-radius: 0.25em;\n",
       "  color: var(--sklearn-color-text);\n",
       "  /* unfitted */\n",
       "  background-color: var(--sklearn-color-unfitted-level-0);\n",
       "}\n",
       "\n",
       "#sk-container-id-5 div.sk-toggleable__content.fitted pre {\n",
       "  /* unfitted */\n",
       "  background-color: var(--sklearn-color-fitted-level-0);\n",
       "}\n",
       "\n",
       "#sk-container-id-5 input.sk-toggleable__control:checked~div.sk-toggleable__content {\n",
       "  /* Expand drop-down */\n",
       "  max-height: 200px;\n",
       "  max-width: 100%;\n",
       "  overflow: auto;\n",
       "}\n",
       "\n",
       "#sk-container-id-5 input.sk-toggleable__control:checked~label.sk-toggleable__label-arrow:before {\n",
       "  content: \"▾\";\n",
       "}\n",
       "\n",
       "/* Pipeline/ColumnTransformer-specific style */\n",
       "\n",
       "#sk-container-id-5 div.sk-label input.sk-toggleable__control:checked~label.sk-toggleable__label {\n",
       "  color: var(--sklearn-color-text);\n",
       "  background-color: var(--sklearn-color-unfitted-level-2);\n",
       "}\n",
       "\n",
       "#sk-container-id-5 div.sk-label.fitted input.sk-toggleable__control:checked~label.sk-toggleable__label {\n",
       "  background-color: var(--sklearn-color-fitted-level-2);\n",
       "}\n",
       "\n",
       "/* Estimator-specific style */\n",
       "\n",
       "/* Colorize estimator box */\n",
       "#sk-container-id-5 div.sk-estimator input.sk-toggleable__control:checked~label.sk-toggleable__label {\n",
       "  /* unfitted */\n",
       "  background-color: var(--sklearn-color-unfitted-level-2);\n",
       "}\n",
       "\n",
       "#sk-container-id-5 div.sk-estimator.fitted input.sk-toggleable__control:checked~label.sk-toggleable__label {\n",
       "  /* fitted */\n",
       "  background-color: var(--sklearn-color-fitted-level-2);\n",
       "}\n",
       "\n",
       "#sk-container-id-5 div.sk-label label.sk-toggleable__label,\n",
       "#sk-container-id-5 div.sk-label label {\n",
       "  /* The background is the default theme color */\n",
       "  color: var(--sklearn-color-text-on-default-background);\n",
       "}\n",
       "\n",
       "/* On hover, darken the color of the background */\n",
       "#sk-container-id-5 div.sk-label:hover label.sk-toggleable__label {\n",
       "  color: var(--sklearn-color-text);\n",
       "  background-color: var(--sklearn-color-unfitted-level-2);\n",
       "}\n",
       "\n",
       "/* Label box, darken color on hover, fitted */\n",
       "#sk-container-id-5 div.sk-label.fitted:hover label.sk-toggleable__label.fitted {\n",
       "  color: var(--sklearn-color-text);\n",
       "  background-color: var(--sklearn-color-fitted-level-2);\n",
       "}\n",
       "\n",
       "/* Estimator label */\n",
       "\n",
       "#sk-container-id-5 div.sk-label label {\n",
       "  font-family: monospace;\n",
       "  font-weight: bold;\n",
       "  display: inline-block;\n",
       "  line-height: 1.2em;\n",
       "}\n",
       "\n",
       "#sk-container-id-5 div.sk-label-container {\n",
       "  text-align: center;\n",
       "}\n",
       "\n",
       "/* Estimator-specific */\n",
       "#sk-container-id-5 div.sk-estimator {\n",
       "  font-family: monospace;\n",
       "  border: 1px dotted var(--sklearn-color-border-box);\n",
       "  border-radius: 0.25em;\n",
       "  box-sizing: border-box;\n",
       "  margin-bottom: 0.5em;\n",
       "  /* unfitted */\n",
       "  background-color: var(--sklearn-color-unfitted-level-0);\n",
       "}\n",
       "\n",
       "#sk-container-id-5 div.sk-estimator.fitted {\n",
       "  /* fitted */\n",
       "  background-color: var(--sklearn-color-fitted-level-0);\n",
       "}\n",
       "\n",
       "/* on hover */\n",
       "#sk-container-id-5 div.sk-estimator:hover {\n",
       "  /* unfitted */\n",
       "  background-color: var(--sklearn-color-unfitted-level-2);\n",
       "}\n",
       "\n",
       "#sk-container-id-5 div.sk-estimator.fitted:hover {\n",
       "  /* fitted */\n",
       "  background-color: var(--sklearn-color-fitted-level-2);\n",
       "}\n",
       "\n",
       "/* Specification for estimator info (e.g. \"i\" and \"?\") */\n",
       "\n",
       "/* Common style for \"i\" and \"?\" */\n",
       "\n",
       ".sk-estimator-doc-link,\n",
       "a:link.sk-estimator-doc-link,\n",
       "a:visited.sk-estimator-doc-link {\n",
       "  float: right;\n",
       "  font-size: smaller;\n",
       "  line-height: 1em;\n",
       "  font-family: monospace;\n",
       "  background-color: var(--sklearn-color-background);\n",
       "  border-radius: 1em;\n",
       "  height: 1em;\n",
       "  width: 1em;\n",
       "  text-decoration: none !important;\n",
       "  margin-left: 0.5em;\n",
       "  text-align: center;\n",
       "  /* unfitted */\n",
       "  border: var(--sklearn-color-unfitted-level-1) 1pt solid;\n",
       "  color: var(--sklearn-color-unfitted-level-1);\n",
       "}\n",
       "\n",
       ".sk-estimator-doc-link.fitted,\n",
       "a:link.sk-estimator-doc-link.fitted,\n",
       "a:visited.sk-estimator-doc-link.fitted {\n",
       "  /* fitted */\n",
       "  border: var(--sklearn-color-fitted-level-1) 1pt solid;\n",
       "  color: var(--sklearn-color-fitted-level-1);\n",
       "}\n",
       "\n",
       "/* On hover */\n",
       "div.sk-estimator:hover .sk-estimator-doc-link:hover,\n",
       ".sk-estimator-doc-link:hover,\n",
       "div.sk-label-container:hover .sk-estimator-doc-link:hover,\n",
       ".sk-estimator-doc-link:hover {\n",
       "  /* unfitted */\n",
       "  background-color: var(--sklearn-color-unfitted-level-3);\n",
       "  color: var(--sklearn-color-background);\n",
       "  text-decoration: none;\n",
       "}\n",
       "\n",
       "div.sk-estimator.fitted:hover .sk-estimator-doc-link.fitted:hover,\n",
       ".sk-estimator-doc-link.fitted:hover,\n",
       "div.sk-label-container:hover .sk-estimator-doc-link.fitted:hover,\n",
       ".sk-estimator-doc-link.fitted:hover {\n",
       "  /* fitted */\n",
       "  background-color: var(--sklearn-color-fitted-level-3);\n",
       "  color: var(--sklearn-color-background);\n",
       "  text-decoration: none;\n",
       "}\n",
       "\n",
       "/* Span, style for the box shown on hovering the info icon */\n",
       ".sk-estimator-doc-link span {\n",
       "  display: none;\n",
       "  z-index: 9999;\n",
       "  position: relative;\n",
       "  font-weight: normal;\n",
       "  right: .2ex;\n",
       "  padding: .5ex;\n",
       "  margin: .5ex;\n",
       "  width: min-content;\n",
       "  min-width: 20ex;\n",
       "  max-width: 50ex;\n",
       "  color: var(--sklearn-color-text);\n",
       "  box-shadow: 2pt 2pt 4pt #999;\n",
       "  /* unfitted */\n",
       "  background: var(--sklearn-color-unfitted-level-0);\n",
       "  border: .5pt solid var(--sklearn-color-unfitted-level-3);\n",
       "}\n",
       "\n",
       ".sk-estimator-doc-link.fitted span {\n",
       "  /* fitted */\n",
       "  background: var(--sklearn-color-fitted-level-0);\n",
       "  border: var(--sklearn-color-fitted-level-3);\n",
       "}\n",
       "\n",
       ".sk-estimator-doc-link:hover span {\n",
       "  display: block;\n",
       "}\n",
       "\n",
       "/* \"?\"-specific style due to the `<a>` HTML tag */\n",
       "\n",
       "#sk-container-id-5 a.estimator_doc_link {\n",
       "  float: right;\n",
       "  font-size: 1rem;\n",
       "  line-height: 1em;\n",
       "  font-family: monospace;\n",
       "  background-color: var(--sklearn-color-background);\n",
       "  border-radius: 1rem;\n",
       "  height: 1rem;\n",
       "  width: 1rem;\n",
       "  text-decoration: none;\n",
       "  /* unfitted */\n",
       "  color: var(--sklearn-color-unfitted-level-1);\n",
       "  border: var(--sklearn-color-unfitted-level-1) 1pt solid;\n",
       "}\n",
       "\n",
       "#sk-container-id-5 a.estimator_doc_link.fitted {\n",
       "  /* fitted */\n",
       "  border: var(--sklearn-color-fitted-level-1) 1pt solid;\n",
       "  color: var(--sklearn-color-fitted-level-1);\n",
       "}\n",
       "\n",
       "/* On hover */\n",
       "#sk-container-id-5 a.estimator_doc_link:hover {\n",
       "  /* unfitted */\n",
       "  background-color: var(--sklearn-color-unfitted-level-3);\n",
       "  color: var(--sklearn-color-background);\n",
       "  text-decoration: none;\n",
       "}\n",
       "\n",
       "#sk-container-id-5 a.estimator_doc_link.fitted:hover {\n",
       "  /* fitted */\n",
       "  background-color: var(--sklearn-color-fitted-level-3);\n",
       "}\n",
       "</style><div id=\"sk-container-id-5\" class=\"sk-top-container\"><div class=\"sk-text-repr-fallback\"><pre>RandomForestClassifier(random_state=42)</pre><b>In a Jupyter environment, please rerun this cell to show the HTML representation or trust the notebook. <br />On GitHub, the HTML representation is unable to render, please try loading this page with nbviewer.org.</b></div><div class=\"sk-container\" hidden><div class=\"sk-item\"><div class=\"sk-estimator fitted sk-toggleable\"><input class=\"sk-toggleable__control sk-hidden--visually\" id=\"sk-estimator-id-5\" type=\"checkbox\" checked><label for=\"sk-estimator-id-5\" class=\"sk-toggleable__label fitted sk-toggleable__label-arrow\"><div><div>RandomForestClassifier</div></div><div><a class=\"sk-estimator-doc-link fitted\" rel=\"noreferrer\" target=\"_blank\" href=\"https://scikit-learn.org/1.6/modules/generated/sklearn.ensemble.RandomForestClassifier.html\">?<span>Documentation for RandomForestClassifier</span></a><span class=\"sk-estimator-doc-link fitted\">i<span>Fitted</span></span></div></label><div class=\"sk-toggleable__content fitted\"><pre>RandomForestClassifier(random_state=42)</pre></div> </div></div></div></div>"
      ],
      "text/plain": [
       "RandomForestClassifier(random_state=42)"
      ]
     },
     "execution_count": 103,
     "metadata": {},
     "output_type": "execute_result"
    }
   ],
   "source": [
    "# Load the model\n",
    "Random_Forest_model = joblib.load(\"Random_Forest_model.pkl\")   \n",
    "\n",
    "Random_Forest_model"
   ]
  },
  {
   "cell_type": "markdown",
   "metadata": {},
   "source": [
    "### TEST THE MODEL ON UNSEEN DATA"
   ]
  },
  {
   "cell_type": "markdown",
   "metadata": {},
   "source": [
    "                         1 example"
   ]
  },
  {
   "cell_type": "code",
   "execution_count": 104,
   "metadata": {},
   "outputs": [],
   "source": [
    "#let's predict the new data using random forest\n",
    "new_data1 = [[35,1.7,70,3,5,0,3,4]]\n",
    "# let's scale the new data\n",
    "new = pd.DataFrame(scaler.transform(new_data1), columns = data_encoded.columns[:-1])"
   ]
  },
  {
   "cell_type": "code",
   "execution_count": 105,
   "metadata": {},
   "outputs": [
    {
     "name": "stdout",
     "output_type": "stream",
     "text": [
      "The gender is female!\n"
     ]
    }
   ],
   "source": [
    "#let's predict the new data\n",
    "prediction1 = Random_Forest_model.predict(new)\n",
    "if prediction1 == 0:\n",
    "     print(\"The gender is female!\")\n",
    "else:\n",
    "     print(\"The gender is male !\")"
   ]
  },
  {
   "cell_type": "markdown",
   "metadata": {},
   "source": [
    "                         2 example"
   ]
  },
  {
   "cell_type": "code",
   "execution_count": 106,
   "metadata": {},
   "outputs": [
    {
     "data": {
      "application/vnd.microsoft.datawrangler.viewer.v0+json": {
       "columns": [
        {
         "name": "index",
         "rawType": "int64",
         "type": "integer"
        },
        {
         "name": "Age",
         "rawType": "float64",
         "type": "float"
        },
        {
         "name": "Height",
         "rawType": "float64",
         "type": "float"
        },
        {
         "name": "Weight",
         "rawType": "float64",
         "type": "float"
        },
        {
         "name": "FCVC",
         "rawType": "float64",
         "type": "float"
        },
        {
         "name": "NCP",
         "rawType": "float64",
         "type": "float"
        },
        {
         "name": "CH2O",
         "rawType": "float64",
         "type": "float"
        },
        {
         "name": "FAF",
         "rawType": "float64",
         "type": "float"
        },
        {
         "name": "TUE",
         "rawType": "float64",
         "type": "float"
        }
       ],
       "conversionMethod": "pd.DataFrame",
       "ref": "64893575-e183-4238-b0e3-957b33cd69aa",
       "rows": [
        [
         "0",
         "9.594932670455877",
         "12.732606994230894",
         "-0.2688887098358498",
         "1.0989681057860312",
         "2.9595085540100547",
         "-3.294701760123315",
         "2.3241315442582753",
         "127.76096245705939"
        ]
       ],
       "shape": {
        "columns": 8,
        "rows": 1
       }
      },
      "text/html": [
       "<div>\n",
       "<style scoped>\n",
       "    .dataframe tbody tr th:only-of-type {\n",
       "        vertical-align: middle;\n",
       "    }\n",
       "\n",
       "    .dataframe tbody tr th {\n",
       "        vertical-align: top;\n",
       "    }\n",
       "\n",
       "    .dataframe thead th {\n",
       "        text-align: right;\n",
       "    }\n",
       "</style>\n",
       "<table border=\"1\" class=\"dataframe\">\n",
       "  <thead>\n",
       "    <tr style=\"text-align: right;\">\n",
       "      <th></th>\n",
       "      <th>Age</th>\n",
       "      <th>Height</th>\n",
       "      <th>Weight</th>\n",
       "      <th>FCVC</th>\n",
       "      <th>NCP</th>\n",
       "      <th>CH2O</th>\n",
       "      <th>FAF</th>\n",
       "      <th>TUE</th>\n",
       "    </tr>\n",
       "  </thead>\n",
       "  <tbody>\n",
       "    <tr>\n",
       "      <th>0</th>\n",
       "      <td>9.594933</td>\n",
       "      <td>12.732607</td>\n",
       "      <td>-0.268889</td>\n",
       "      <td>1.098968</td>\n",
       "      <td>2.959509</td>\n",
       "      <td>-3.294702</td>\n",
       "      <td>2.324132</td>\n",
       "      <td>127.760962</td>\n",
       "    </tr>\n",
       "  </tbody>\n",
       "</table>\n",
       "</div>"
      ],
      "text/plain": [
       "        Age     Height    Weight      FCVC       NCP      CH2O       FAF  \\\n",
       "0  9.594933  12.732607 -0.268889  1.098968  2.959509 -3.294702  2.324132   \n",
       "\n",
       "          TUE  \n",
       "0  127.760962  "
      ]
     },
     "execution_count": 106,
     "metadata": {},
     "output_type": "execute_result"
    }
   ],
   "source": [
    "#let's predict the new data2 \n",
    "new_data2 = [[85,2.9,80,3,5,0,3,78]]\n",
    "# let's scale the new data2\n",
    "new2 = pd.DataFrame(scaler.transform(new_data2), columns = data_encoded.columns[:-1])\n",
    "new2"
   ]
  },
  {
   "cell_type": "code",
   "execution_count": 107,
   "metadata": {},
   "outputs": [
    {
     "name": "stdout",
     "output_type": "stream",
     "text": [
      "The gender is male !\n"
     ]
    }
   ],
   "source": [
    "#let's predict the new data\n",
    "prediction2 = Random_Forest_model.predict(new2)\n",
    "if prediction2 == 0:\n",
    "     print(\"The gender is female!\")\n",
    "else:\n",
    "     print(\"The gender is male !\")"
   ]
  },
  {
   "cell_type": "markdown",
   "metadata": {},
   "source": [
    "# 3 NAIVE BAYES"
   ]
  },
  {
   "cell_type": "markdown",
   "metadata": {},
   "source": [
    "### Naive Bayes\n",
    "\n",
    "**Naive Bayes** is a probabilistic classification algorithm based on applying **Bayes' Theorem** with strong (naive) independence assumptions. It is particularly suited for large datasets and works well with categorical input features.\n",
    "\n",
    "Naive Bayes assumes that the features are independent given the class label, which simplifies the computation of the likelihood. Despite this simplifying assumption, Naive Bayes often performs surprisingly well in practice, especially for text classification problems.\n",
    "\n",
    "### Key Characteristics:\n",
    "- **Probabilistic approach**: Estimates the probability of each class based on the input features.\n",
    "- **Naive assumption**: Assumes that the features are conditionally independent given the class label.\n",
    "- **Fast and scalable**: Ideal for large datasets, particularly in text classification tasks (e.g., spam detection).\n",
    "- **Works well with categorical data**: Often used with datasets where features\n"
   ]
  },
  {
   "cell_type": "markdown",
   "metadata": {},
   "source": [
    "### Splitting dataset"
   ]
  },
  {
   "cell_type": "code",
   "execution_count": 108,
   "metadata": {},
   "outputs": [],
   "source": [
    "# Import necessary libraries as usually\n",
    "from sklearn.naive_bayes import GaussianNB\n",
    "from sklearn.metrics import accuracy_score, confusion_matrix, classification_report\n",
    "from sklearn.metrics import classification_report"
   ]
  },
  {
   "cell_type": "code",
   "execution_count": 109,
   "metadata": {},
   "outputs": [],
   "source": [
    "X = data_encoded.drop(columns=['Gender'], axis=1).values\n",
    "y = data_encoded['Gender']\n",
    "\n",
    "# Split the dataset into training and test sets\n",
    "X_train, X_test, y_train, y_test = train_test_split(X, y, test_size=0.2, random_state=0)\n",
    "\n",
    "# Initialize the scaler\n",
    "scaler = StandardScaler()\n",
    "\n",
    "# Fit the scaler on the training data only and transform\n",
    "X_train_scaled = scaler.fit_transform(X_train)\n",
    "\n",
    "# Transform the test data using the same scaler\n",
    "X_test_scaled = scaler.transform(X_test)"
   ]
  },
  {
   "cell_type": "markdown",
   "metadata": {},
   "source": [
    "## Training the model"
   ]
  },
  {
   "cell_type": "code",
   "execution_count": 110,
   "metadata": {},
   "outputs": [
    {
     "data": {
      "text/plain": [
       "np.int64(1)"
      ]
     },
     "execution_count": 110,
     "metadata": {},
     "output_type": "execute_result"
    }
   ],
   "source": [
    "# Train the Gaussian Naive Bayes model\n",
    "nb_model = GaussianNB()\n",
    "nb_model.fit(X_train_scaled, y_train)\n",
    "\n",
    "# Make predictions on the test set\n",
    "y_pred_nb = nb_model.predict(X_test_scaled)\n",
    "y_pred_nb[0]"
   ]
  },
  {
   "cell_type": "markdown",
   "metadata": {},
   "source": [
    "## MODEL EVALUATION"
   ]
  },
  {
   "cell_type": "code",
   "execution_count": 111,
   "metadata": {},
   "outputs": [
    {
     "name": "stdout",
     "output_type": "stream",
     "text": [
      "Accuracy: 0.7754\n"
     ]
    }
   ],
   "source": [
    "# Calculate accuracy\n",
    "accuracy = accuracy_score(y_test, y_pred_nb)\n",
    "print(f\"Accuracy: {accuracy:.4f}\")"
   ]
  },
  {
   "cell_type": "code",
   "execution_count": 112,
   "metadata": {},
   "outputs": [
    {
     "name": "stdout",
     "output_type": "stream",
     "text": [
      "\n",
      "Confusion Matrix:\n",
      "[[180  51]\n",
      " [ 44 148]]\n"
     ]
    }
   ],
   "source": [
    "# Calculate and print confusion matrix\n",
    "cm = confusion_matrix(y_test, y_pred_nb)\n",
    "print(\"\\nConfusion Matrix:\")\n",
    "print(cm)"
   ]
  },
  {
   "cell_type": "code",
   "execution_count": 113,
   "metadata": {},
   "outputs": [
    {
     "name": "stdout",
     "output_type": "stream",
     "text": [
      "\n",
      "Classification Report:\n",
      "              precision    recall  f1-score   support\n",
      "\n",
      "           0       0.80      0.78      0.79       231\n",
      "           1       0.74      0.77      0.76       192\n",
      "\n",
      "    accuracy                           0.78       423\n",
      "   macro avg       0.77      0.78      0.77       423\n",
      "weighted avg       0.78      0.78      0.78       423\n",
      "\n"
     ]
    }
   ],
   "source": [
    "# Print classification report\n",
    "print(\"\\nClassification Report:\")\n",
    "print(classification_report(y_test, y_pred_nb))"
   ]
  },
  {
   "cell_type": "code",
   "execution_count": 114,
   "metadata": {},
   "outputs": [
    {
     "data": {
      "image/png": "[encoded data removed]",
      "text/plain": [
       "<Figure size 640x480 with 2 Axes>"
      ]
     },
     "metadata": {},
     "output_type": "display_data"
    }
   ],
   "source": [
    "import seaborn as sns\n",
    "import matplotlib.pyplot as plt\n",
    "\n",
    "sns.heatmap(cm, annot=True, fmt='d', cmap='Blues', xticklabels=['Female', 'Male'], yticklabels=['Female', 'Male'])\n",
    "plt.xlabel('Predicted')\n",
    "plt.ylabel('Actual')\n",
    "plt.title('Confusion Matrix - Naive Bayes')\n",
    "plt.show()"
   ]
  },
  {
   "cell_type": "markdown",
   "metadata": {},
   "source": [
    "### TEST THE MODEL ON UNSEEN DATA"
   ]
  },
  {
   "cell_type": "markdown",
   "metadata": {},
   "source": [
    "### save the model"
   ]
  },
  {
   "cell_type": "code",
   "execution_count": 115,
   "metadata": {},
   "outputs": [
    {
     "data": {
      "text/plain": [
       "['Naive_Bayes_model.pkl']"
      ]
     },
     "execution_count": 115,
     "metadata": {},
     "output_type": "execute_result"
    }
   ],
   "source": [
    "# Save the model\n",
    "import joblib\n",
    "joblib.dump(nb_model, \"Naive_Bayes_model.pkl\")"
   ]
  },
  {
   "cell_type": "markdown",
   "metadata": {},
   "source": [
    "### Load the model"
   ]
  },
  {
   "cell_type": "code",
   "execution_count": 116,
   "metadata": {},
   "outputs": [
    {
     "data": {
      "text/html": [
       "<style>#sk-container-id-6 {\n",
       "  /* Definition of color scheme common for light and dark mode */\n",
       "  --sklearn-color-text: #000;\n",
       "  --sklearn-color-text-muted: #666;\n",
       "  --sklearn-color-line: gray;\n",
       "  /* Definition of color scheme for unfitted estimators */\n",
       "  --sklearn-color-unfitted-level-0: #fff5e6;\n",
       "  --sklearn-color-unfitted-level-1: #f6e4d2;\n",
       "  --sklearn-color-unfitted-level-2: #ffe0b3;\n",
       "  --sklearn-color-unfitted-level-3: chocolate;\n",
       "  /* Definition of color scheme for fitted estimators */\n",
       "  --sklearn-color-fitted-level-0: #f0f8ff;\n",
       "  --sklearn-color-fitted-level-1: #d4ebff;\n",
       "  --sklearn-color-fitted-level-2: #b3dbfd;\n",
       "  --sklearn-color-fitted-level-3: cornflowerblue;\n",
       "\n",
       "  /* Specific color for light theme */\n",
       "  --sklearn-color-text-on-default-background: var(--sg-text-color, var(--theme-code-foreground, var(--jp-content-font-color1, black)));\n",
       "  --sklearn-color-background: var(--sg-background-color, var(--theme-background, var(--jp-layout-color0, white)));\n",
       "  --sklearn-color-border-box: var(--sg-text-color, var(--theme-code-foreground, var(--jp-content-font-color1, black)));\n",
       "  --sklearn-color-icon: #696969;\n",
       "\n",
       "  @media (prefers-color-scheme: dark) {\n",
       "    /* Redefinition of color scheme for dark theme */\n",
       "    --sklearn-color-text-on-default-background: var(--sg-text-color, var(--theme-code-foreground, var(--jp-content-font-color1, white)));\n",
       "    --sklearn-color-background: var(--sg-background-color, var(--theme-background, var(--jp-layout-color0, #111)));\n",
       "    --sklearn-color-border-box: var(--sg-text-color, var(--theme-code-foreground, var(--jp-content-font-color1, white)));\n",
       "    --sklearn-color-icon: #878787;\n",
       "  }\n",
       "}\n",
       "\n",
       "#sk-container-id-6 {\n",
       "  color: var(--sklearn-color-text);\n",
       "}\n",
       "\n",
       "#sk-container-id-6 pre {\n",
       "  padding: 0;\n",
       "}\n",
       "\n",
       "#sk-container-id-6 input.sk-hidden--visually {\n",
       "  border: 0;\n",
       "  clip: rect(1px 1px 1px 1px);\n",
       "  clip: rect(1px, 1px, 1px, 1px);\n",
       "  height: 1px;\n",
       "  margin: -1px;\n",
       "  overflow: hidden;\n",
       "  padding: 0;\n",
       "  position: absolute;\n",
       "  width: 1px;\n",
       "}\n",
       "\n",
       "#sk-container-id-6 div.sk-dashed-wrapped {\n",
       "  border: 1px dashed var(--sklearn-color-line);\n",
       "  margin: 0 0.4em 0.5em 0.4em;\n",
       "  box-sizing: border-box;\n",
       "  padding-bottom: 0.4em;\n",
       "  background-color: var(--sklearn-color-background);\n",
       "}\n",
       "\n",
       "#sk-container-id-6 div.sk-container {\n",
       "  /* jupyter's `normalize.less` sets `[hidden] { display: none; }`\n",
       "     but bootstrap.min.css set `[hidden] { display: none !important; }`\n",
       "     so we also need the `!important` here to be able to override the\n",
       "     default hidden behavior on the sphinx rendered scikit-learn.org.\n",
       "     See: https://github.com/scikit-learn/scikit-learn/issues/21755 */\n",
       "  display: inline-block !important;\n",
       "  position: relative;\n",
       "}\n",
       "\n",
       "#sk-container-id-6 div.sk-text-repr-fallback {\n",
       "  display: none;\n",
       "}\n",
       "\n",
       "div.sk-parallel-item,\n",
       "div.sk-serial,\n",
       "div.sk-item {\n",
       "  /* draw centered vertical line to link estimators */\n",
       "  background-image: linear-gradient(var(--sklearn-color-text-on-default-background), var(--sklearn-color-text-on-default-background));\n",
       "  background-size: 2px 100%;\n",
       "  background-repeat: no-repeat;\n",
       "  background-position: center center;\n",
       "}\n",
       "\n",
       "/* Parallel-specific style estimator block */\n",
       "\n",
       "#sk-container-id-6 div.sk-parallel-item::after {\n",
       "  content: \"\";\n",
       "  width: 100%;\n",
       "  border-bottom: 2px solid var(--sklearn-color-text-on-default-background);\n",
       "  flex-grow: 1;\n",
       "}\n",
       "\n",
       "#sk-container-id-6 div.sk-parallel {\n",
       "  display: flex;\n",
       "  align-items: stretch;\n",
       "  justify-content: center;\n",
       "  background-color: var(--sklearn-color-background);\n",
       "  position: relative;\n",
       "}\n",
       "\n",
       "#sk-container-id-6 div.sk-parallel-item {\n",
       "  display: flex;\n",
       "  flex-direction: column;\n",
       "}\n",
       "\n",
       "#sk-container-id-6 div.sk-parallel-item:first-child::after {\n",
       "  align-self: flex-end;\n",
       "  width: 50%;\n",
       "}\n",
       "\n",
       "#sk-container-id-6 div.sk-parallel-item:last-child::after {\n",
       "  align-self: flex-start;\n",
       "  width: 50%;\n",
       "}\n",
       "\n",
       "#sk-container-id-6 div.sk-parallel-item:only-child::after {\n",
       "  width: 0;\n",
       "}\n",
       "\n",
       "/* Serial-specific style estimator block */\n",
       "\n",
       "#sk-container-id-6 div.sk-serial {\n",
       "  display: flex;\n",
       "  flex-direction: column;\n",
       "  align-items: center;\n",
       "  background-color: var(--sklearn-color-background);\n",
       "  padding-right: 1em;\n",
       "  padding-left: 1em;\n",
       "}\n",
       "\n",
       "\n",
       "/* Toggleable style: style used for estimator/Pipeline/ColumnTransformer box that is\n",
       "clickable and can be expanded/collapsed.\n",
       "- Pipeline and ColumnTransformer use this feature and define the default style\n",
       "- Estimators will overwrite some part of the style using the `sk-estimator` class\n",
       "*/\n",
       "\n",
       "/* Pipeline and ColumnTransformer style (default) */\n",
       "\n",
       "#sk-container-id-6 div.sk-toggleable {\n",
       "  /* Default theme specific background. It is overwritten whether we have a\n",
       "  specific estimator or a Pipeline/ColumnTransformer */\n",
       "  background-color: var(--sklearn-color-background);\n",
       "}\n",
       "\n",
       "/* Toggleable label */\n",
       "#sk-container-id-6 label.sk-toggleable__label {\n",
       "  cursor: pointer;\n",
       "  display: flex;\n",
       "  width: 100%;\n",
       "  margin-bottom: 0;\n",
       "  padding: 0.5em;\n",
       "  box-sizing: border-box;\n",
       "  text-align: center;\n",
       "  align-items: start;\n",
       "  justify-content: space-between;\n",
       "  gap: 0.5em;\n",
       "}\n",
       "\n",
       "#sk-container-id-6 label.sk-toggleable__label .caption {\n",
       "  font-size: 0.6rem;\n",
       "  font-weight: lighter;\n",
       "  color: var(--sklearn-color-text-muted);\n",
       "}\n",
       "\n",
       "#sk-container-id-6 label.sk-toggleable__label-arrow:before {\n",
       "  /* Arrow on the left of the label */\n",
       "  content: \"▸\";\n",
       "  float: left;\n",
       "  margin-right: 0.25em;\n",
       "  color: var(--sklearn-color-icon);\n",
       "}\n",
       "\n",
       "#sk-container-id-6 label.sk-toggleable__label-arrow:hover:before {\n",
       "  color: var(--sklearn-color-text);\n",
       "}\n",
       "\n",
       "/* Toggleable content - dropdown */\n",
       "\n",
       "#sk-container-id-6 div.sk-toggleable__content {\n",
       "  max-height: 0;\n",
       "  max-width: 0;\n",
       "  overflow: hidden;\n",
       "  text-align: left;\n",
       "  /* unfitted */\n",
       "  background-color: var(--sklearn-color-unfitted-level-0);\n",
       "}\n",
       "\n",
       "#sk-container-id-6 div.sk-toggleable__content.fitted {\n",
       "  /* fitted */\n",
       "  background-color: var(--sklearn-color-fitted-level-0);\n",
       "}\n",
       "\n",
       "#sk-container-id-6 div.sk-toggleable__content pre {\n",
       "  margin: 0.2em;\n",
       "  border-radius: 0.25em;\n",
       "  color: var(--sklearn-color-text);\n",
       "  /* unfitted */\n",
       "  background-color: var(--sklearn-color-unfitted-level-0);\n",
       "}\n",
       "\n",
       "#sk-container-id-6 div.sk-toggleable__content.fitted pre {\n",
       "  /* unfitted */\n",
       "  background-color: var(--sklearn-color-fitted-level-0);\n",
       "}\n",
       "\n",
       "#sk-container-id-6 input.sk-toggleable__control:checked~div.sk-toggleable__content {\n",
       "  /* Expand drop-down */\n",
       "  max-height: 200px;\n",
       "  max-width: 100%;\n",
       "  overflow: auto;\n",
       "}\n",
       "\n",
       "#sk-container-id-6 input.sk-toggleable__control:checked~label.sk-toggleable__label-arrow:before {\n",
       "  content: \"▾\";\n",
       "}\n",
       "\n",
       "/* Pipeline/ColumnTransformer-specific style */\n",
       "\n",
       "#sk-container-id-6 div.sk-label input.sk-toggleable__control:checked~label.sk-toggleable__label {\n",
       "  color: var(--sklearn-color-text);\n",
       "  background-color: var(--sklearn-color-unfitted-level-2);\n",
       "}\n",
       "\n",
       "#sk-container-id-6 div.sk-label.fitted input.sk-toggleable__control:checked~label.sk-toggleable__label {\n",
       "  background-color: var(--sklearn-color-fitted-level-2);\n",
       "}\n",
       "\n",
       "/* Estimator-specific style */\n",
       "\n",
       "/* Colorize estimator box */\n",
       "#sk-container-id-6 div.sk-estimator input.sk-toggleable__control:checked~label.sk-toggleable__label {\n",
       "  /* unfitted */\n",
       "  background-color: var(--sklearn-color-unfitted-level-2);\n",
       "}\n",
       "\n",
       "#sk-container-id-6 div.sk-estimator.fitted input.sk-toggleable__control:checked~label.sk-toggleable__label {\n",
       "  /* fitted */\n",
       "  background-color: var(--sklearn-color-fitted-level-2);\n",
       "}\n",
       "\n",
       "#sk-container-id-6 div.sk-label label.sk-toggleable__label,\n",
       "#sk-container-id-6 div.sk-label label {\n",
       "  /* The background is the default theme color */\n",
       "  color: var(--sklearn-color-text-on-default-background);\n",
       "}\n",
       "\n",
       "/* On hover, darken the color of the background */\n",
       "#sk-container-id-6 div.sk-label:hover label.sk-toggleable__label {\n",
       "  color: var(--sklearn-color-text);\n",
       "  background-color: var(--sklearn-color-unfitted-level-2);\n",
       "}\n",
       "\n",
       "/* Label box, darken color on hover, fitted */\n",
       "#sk-container-id-6 div.sk-label.fitted:hover label.sk-toggleable__label.fitted {\n",
       "  color: var(--sklearn-color-text);\n",
       "  background-color: var(--sklearn-color-fitted-level-2);\n",
       "}\n",
       "\n",
       "/* Estimator label */\n",
       "\n",
       "#sk-container-id-6 div.sk-label label {\n",
       "  font-family: monospace;\n",
       "  font-weight: bold;\n",
       "  display: inline-block;\n",
       "  line-height: 1.2em;\n",
       "}\n",
       "\n",
       "#sk-container-id-6 div.sk-label-container {\n",
       "  text-align: center;\n",
       "}\n",
       "\n",
       "/* Estimator-specific */\n",
       "#sk-container-id-6 div.sk-estimator {\n",
       "  font-family: monospace;\n",
       "  border: 1px dotted var(--sklearn-color-border-box);\n",
       "  border-radius: 0.25em;\n",
       "  box-sizing: border-box;\n",
       "  margin-bottom: 0.5em;\n",
       "  /* unfitted */\n",
       "  background-color: var(--sklearn-color-unfitted-level-0);\n",
       "}\n",
       "\n",
       "#sk-container-id-6 div.sk-estimator.fitted {\n",
       "  /* fitted */\n",
       "  background-color: var(--sklearn-color-fitted-level-0);\n",
       "}\n",
       "\n",
       "/* on hover */\n",
       "#sk-container-id-6 div.sk-estimator:hover {\n",
       "  /* unfitted */\n",
       "  background-color: var(--sklearn-color-unfitted-level-2);\n",
       "}\n",
       "\n",
       "#sk-container-id-6 div.sk-estimator.fitted:hover {\n",
       "  /* fitted */\n",
       "  background-color: var(--sklearn-color-fitted-level-2);\n",
       "}\n",
       "\n",
       "/* Specification for estimator info (e.g. \"i\" and \"?\") */\n",
       "\n",
       "/* Common style for \"i\" and \"?\" */\n",
       "\n",
       ".sk-estimator-doc-link,\n",
       "a:link.sk-estimator-doc-link,\n",
       "a:visited.sk-estimator-doc-link {\n",
       "  float: right;\n",
       "  font-size: smaller;\n",
       "  line-height: 1em;\n",
       "  font-family: monospace;\n",
       "  background-color: var(--sklearn-color-background);\n",
       "  border-radius: 1em;\n",
       "  height: 1em;\n",
       "  width: 1em;\n",
       "  text-decoration: none !important;\n",
       "  margin-left: 0.5em;\n",
       "  text-align: center;\n",
       "  /* unfitted */\n",
       "  border: var(--sklearn-color-unfitted-level-1) 1pt solid;\n",
       "  color: var(--sklearn-color-unfitted-level-1);\n",
       "}\n",
       "\n",
       ".sk-estimator-doc-link.fitted,\n",
       "a:link.sk-estimator-doc-link.fitted,\n",
       "a:visited.sk-estimator-doc-link.fitted {\n",
       "  /* fitted */\n",
       "  border: var(--sklearn-color-fitted-level-1) 1pt solid;\n",
       "  color: var(--sklearn-color-fitted-level-1);\n",
       "}\n",
       "\n",
       "/* On hover */\n",
       "div.sk-estimator:hover .sk-estimator-doc-link:hover,\n",
       ".sk-estimator-doc-link:hover,\n",
       "div.sk-label-container:hover .sk-estimator-doc-link:hover,\n",
       ".sk-estimator-doc-link:hover {\n",
       "  /* unfitted */\n",
       "  background-color: var(--sklearn-color-unfitted-level-3);\n",
       "  color: var(--sklearn-color-background);\n",
       "  text-decoration: none;\n",
       "}\n",
       "\n",
       "div.sk-estimator.fitted:hover .sk-estimator-doc-link.fitted:hover,\n",
       ".sk-estimator-doc-link.fitted:hover,\n",
       "div.sk-label-container:hover .sk-estimator-doc-link.fitted:hover,\n",
       ".sk-estimator-doc-link.fitted:hover {\n",
       "  /* fitted */\n",
       "  background-color: var(--sklearn-color-fitted-level-3);\n",
       "  color: var(--sklearn-color-background);\n",
       "  text-decoration: none;\n",
       "}\n",
       "\n",
       "/* Span, style for the box shown on hovering the info icon */\n",
       ".sk-estimator-doc-link span {\n",
       "  display: none;\n",
       "  z-index: 9999;\n",
       "  position: relative;\n",
       "  font-weight: normal;\n",
       "  right: .2ex;\n",
       "  padding: .5ex;\n",
       "  margin: .5ex;\n",
       "  width: min-content;\n",
       "  min-width: 20ex;\n",
       "  max-width: 50ex;\n",
       "  color: var(--sklearn-color-text);\n",
       "  box-shadow: 2pt 2pt 4pt #999;\n",
       "  /* unfitted */\n",
       "  background: var(--sklearn-color-unfitted-level-0);\n",
       "  border: .5pt solid var(--sklearn-color-unfitted-level-3);\n",
       "}\n",
       "\n",
       ".sk-estimator-doc-link.fitted span {\n",
       "  /* fitted */\n",
       "  background: var(--sklearn-color-fitted-level-0);\n",
       "  border: var(--sklearn-color-fitted-level-3);\n",
       "}\n",
       "\n",
       ".sk-estimator-doc-link:hover span {\n",
       "  display: block;\n",
       "}\n",
       "\n",
       "/* \"?\"-specific style due to the `<a>` HTML tag */\n",
       "\n",
       "#sk-container-id-6 a.estimator_doc_link {\n",
       "  float: right;\n",
       "  font-size: 1rem;\n",
       "  line-height: 1em;\n",
       "  font-family: monospace;\n",
       "  background-color: var(--sklearn-color-background);\n",
       "  border-radius: 1rem;\n",
       "  height: 1rem;\n",
       "  width: 1rem;\n",
       "  text-decoration: none;\n",
       "  /* unfitted */\n",
       "  color: var(--sklearn-color-unfitted-level-1);\n",
       "  border: var(--sklearn-color-unfitted-level-1) 1pt solid;\n",
       "}\n",
       "\n",
       "#sk-container-id-6 a.estimator_doc_link.fitted {\n",
       "  /* fitted */\n",
       "  border: var(--sklearn-color-fitted-level-1) 1pt solid;\n",
       "  color: var(--sklearn-color-fitted-level-1);\n",
       "}\n",
       "\n",
       "/* On hover */\n",
       "#sk-container-id-6 a.estimator_doc_link:hover {\n",
       "  /* unfitted */\n",
       "  background-color: var(--sklearn-color-unfitted-level-3);\n",
       "  color: var(--sklearn-color-background);\n",
       "  text-decoration: none;\n",
       "}\n",
       "\n",
       "#sk-container-id-6 a.estimator_doc_link.fitted:hover {\n",
       "  /* fitted */\n",
       "  background-color: var(--sklearn-color-fitted-level-3);\n",
       "}\n",
       "</style><div id=\"sk-container-id-6\" class=\"sk-top-container\"><div class=\"sk-text-repr-fallback\"><pre>GaussianNB()</pre><b>In a Jupyter environment, please rerun this cell to show the HTML representation or trust the notebook. <br />On GitHub, the HTML representation is unable to render, please try loading this page with nbviewer.org.</b></div><div class=\"sk-container\" hidden><div class=\"sk-item\"><div class=\"sk-estimator fitted sk-toggleable\"><input class=\"sk-toggleable__control sk-hidden--visually\" id=\"sk-estimator-id-6\" type=\"checkbox\" checked><label for=\"sk-estimator-id-6\" class=\"sk-toggleable__label fitted sk-toggleable__label-arrow\"><div><div>GaussianNB</div></div><div><a class=\"sk-estimator-doc-link fitted\" rel=\"noreferrer\" target=\"_blank\" href=\"https://scikit-learn.org/1.6/modules/generated/sklearn.naive_bayes.GaussianNB.html\">?<span>Documentation for GaussianNB</span></a><span class=\"sk-estimator-doc-link fitted\">i<span>Fitted</span></span></div></label><div class=\"sk-toggleable__content fitted\"><pre>GaussianNB()</pre></div> </div></div></div></div>"
      ],
      "text/plain": [
       "GaussianNB()"
      ]
     },
     "execution_count": 116,
     "metadata": {},
     "output_type": "execute_result"
    }
   ],
   "source": [
    "# Load the model\n",
    "Naive_Bayes_model = joblib.load(\"Naive_Bayes_model.pkl\")\n",
    "Naive_Bayes_model"
   ]
  },
  {
   "cell_type": "markdown",
   "metadata": {},
   "source": [
    "                         1 example"
   ]
  },
  {
   "cell_type": "code",
   "execution_count": 117,
   "metadata": {},
   "outputs": [],
   "source": [
    "#let's predict the new data using random forest\n",
    "new_data1 = [[35,1.7,70,3,5,0,3,4]]\n",
    "# let's scale the new data\n",
    "new = pd.DataFrame(scaler.transform(new_data1), columns = data_encoded.columns[:-1])"
   ]
  },
  {
   "cell_type": "code",
   "execution_count": 118,
   "metadata": {},
   "outputs": [
    {
     "name": "stdout",
     "output_type": "stream",
     "text": [
      "The gender is male !\n"
     ]
    }
   ],
   "source": [
    "#let's predict the new data\n",
    "prediction1 = Naive_Bayes_model.predict(new)\n",
    "if prediction1 == 0:\n",
    "     print(\"The gender is female!\")\n",
    "else:\n",
    "     print(\"The gender is male !\")"
   ]
  },
  {
   "cell_type": "markdown",
   "metadata": {},
   "source": [
    "                         2 example"
   ]
  },
  {
   "cell_type": "code",
   "execution_count": 119,
   "metadata": {},
   "outputs": [
    {
     "data": {
      "application/vnd.microsoft.datawrangler.viewer.v0+json": {
       "columns": [
        {
         "name": "index",
         "rawType": "int64",
         "type": "integer"
        },
        {
         "name": "Age",
         "rawType": "float64",
         "type": "float"
        },
        {
         "name": "Height",
         "rawType": "float64",
         "type": "float"
        },
        {
         "name": "Weight",
         "rawType": "float64",
         "type": "float"
        },
        {
         "name": "FCVC",
         "rawType": "float64",
         "type": "float"
        },
        {
         "name": "NCP",
         "rawType": "float64",
         "type": "float"
        },
        {
         "name": "CH2O",
         "rawType": "float64",
         "type": "float"
        },
        {
         "name": "FAF",
         "rawType": "float64",
         "type": "float"
        },
        {
         "name": "TUE",
         "rawType": "float64",
         "type": "float"
        }
       ],
       "conversionMethod": "pd.DataFrame",
       "ref": "b4e5e2dc-cfe3-470f-8692-6f7405d962a2",
       "rows": [
        [
         "0",
         "9.594932670455877",
         "12.732606994230894",
         "-0.2688887098358498",
         "1.0989681057860312",
         "2.9595085540100547",
         "-3.294701760123315",
         "2.3241315442582753",
         "127.76096245705939"
        ]
       ],
       "shape": {
        "columns": 8,
        "rows": 1
       }
      },
      "text/html": [
       "<div>\n",
       "<style scoped>\n",
       "    .dataframe tbody tr th:only-of-type {\n",
       "        vertical-align: middle;\n",
       "    }\n",
       "\n",
       "    .dataframe tbody tr th {\n",
       "        vertical-align: top;\n",
       "    }\n",
       "\n",
       "    .dataframe thead th {\n",
       "        text-align: right;\n",
       "    }\n",
       "</style>\n",
       "<table border=\"1\" class=\"dataframe\">\n",
       "  <thead>\n",
       "    <tr style=\"text-align: right;\">\n",
       "      <th></th>\n",
       "      <th>Age</th>\n",
       "      <th>Height</th>\n",
       "      <th>Weight</th>\n",
       "      <th>FCVC</th>\n",
       "      <th>NCP</th>\n",
       "      <th>CH2O</th>\n",
       "      <th>FAF</th>\n",
       "      <th>TUE</th>\n",
       "    </tr>\n",
       "  </thead>\n",
       "  <tbody>\n",
       "    <tr>\n",
       "      <th>0</th>\n",
       "      <td>9.594933</td>\n",
       "      <td>12.732607</td>\n",
       "      <td>-0.268889</td>\n",
       "      <td>1.098968</td>\n",
       "      <td>2.959509</td>\n",
       "      <td>-3.294702</td>\n",
       "      <td>2.324132</td>\n",
       "      <td>127.760962</td>\n",
       "    </tr>\n",
       "  </tbody>\n",
       "</table>\n",
       "</div>"
      ],
      "text/plain": [
       "        Age     Height    Weight      FCVC       NCP      CH2O       FAF  \\\n",
       "0  9.594933  12.732607 -0.268889  1.098968  2.959509 -3.294702  2.324132   \n",
       "\n",
       "          TUE  \n",
       "0  127.760962  "
      ]
     },
     "execution_count": 119,
     "metadata": {},
     "output_type": "execute_result"
    }
   ],
   "source": [
    "#let's predict the new data2 \n",
    "new_data2 = [[85,2.9,80,3,5,0,3,78]]\n",
    "# let's scale the new data2\n",
    "new2 = pd.DataFrame(scaler.transform(new_data2), columns = data_encoded.columns[:-1])\n",
    "new2"
   ]
  },
  {
   "cell_type": "code",
   "execution_count": 120,
   "metadata": {},
   "outputs": [
    {
     "name": "stdout",
     "output_type": "stream",
     "text": [
      "The gender is male !\n"
     ]
    }
   ],
   "source": [
    "#let's predict the new data\n",
    "prediction2 = Naive_Bayes_model.predict(new2)\n",
    "if prediction2 == 0:\n",
    "     print(\"The gender is female!\")\n",
    "else:\n",
    "     print(\"The gender is male !\")"
   ]
  },
  {
   "cell_type": "markdown",
   "metadata": {},
   "source": [
    "# Model Performance Evaluation for Gender Prediction\n",
    "\n",
    "## Context\n",
    "I trained 3 classifications models to predict gender (`Male`/`Female`) from an encoded dataset:\n",
    "- **Logistic Regression**: A linear model that estimates the probability of a binary outcome using the logistic (sigmoid) function\n",
    "- **Random Forest Classifier**: An ensemble model with 100 decision trees.\n",
    "- **Gaussian Naive Bayes**: A probabilistic model assuming feature independence.\n",
    "\n",
    "The data was split into 80% training and 20% test sets (`test_size=0.2`, `random_state=0`). Features were standardized using `StandardScaler` to ensure comparable scales.\n",
    "\n",
    "## Evaluation Metrics\n",
    "Performance is evaluated using three metrics:\n",
    "- **Accuracy**: Proportion of correct predictions.\n",
    "- **Confusion Matrix**: Distribution of correct and incorrect predictions.\n",
    "- **Classification Report**: Precision, recall, and F1-score per class.\n",
    "\n",
    "### 1. Logistic Regression\n",
    "\n",
    "#### Accuracy\n",
    "- **Accuracy**: 0.8500 (85% of predictions are correct).\n",
    "\n",
    "![Confusion Matrix](conf_matrix_log.png)  \n",
    "\n",
    "- **Interpretation**:\n",
    "---\n",
    "* ✅ **True Positives (TP)** = 188\n",
    "  Predicted `Male`, and it was actually `Male`.\n",
    "\n",
    "* ✅ **True Negatives (TN)** = 152\n",
    "  Predicted `Female`, and it was actually `Female`.\n",
    "\n",
    "* ❌ **False Positives (FP)** = 40\n",
    "  Predicted `Male`, but it was actually `Female`.\n",
    "\n",
    "* ❌ **False Negatives (FN)** = 43\n",
    "  Predicted `Female`, but it was actually `Male`.\n",
    "---\n",
    "\n",
    "#### Classification Report for the logistic regression\n",
    "  | Classes|      Precision          |         Recall                  |   F1-score            |\n",
    "  |--------|-------------------------|---------------------------------|-----------------------|\n",
    "  |   0    |          82%            |            81%                  |        82%            |\n",
    "  |   1    |          78%            |            79%                  |        79%            |\n",
    "\n",
    "### 1. Random Forest Classifier\n",
    "\n",
    "#### Accuracy\n",
    "- **Accuracy**: 0.9125 ( 91% of predictions are correct).\n",
    "\n",
    "  ![ Random Forest](conf_matrix_rf.png)  \n",
    "\n",
    "- **Interpretation**:\n",
    "---\n",
    "* ✅ **True Positives (TP)** = 214\n",
    "  Predicted `Male`, and it was actually `Male`.\n",
    "\n",
    "* ✅ **True Negatives (TN)** = 172\n",
    "  Predicted `Female`, and it was actually `Female`.\n",
    "\n",
    "* ❌ **False Positives (FP)** = 20\n",
    "  Predicted `Male`, but it was actually `Female`.\n",
    "\n",
    "* ❌ **False Negatives (FN)** = 17\n",
    "  Predicted `Female`, but it was actually `Male`.\n",
    "---\n",
    "\n",
    "#### Classification Report for the Random Forest Classifier\n",
    "\n",
    "  | Classes|      Precision          |         Recall                  |   F1-score            |\n",
    "  |--------|-------------------------|---------------------------------|-----------------------|\n",
    "  |   0    |          91%            |            93%                  |        92%            |\n",
    "  |   1    |          91%            |            90%                  |        90%            |\n",
    "\n",
    "### 1. Naive bayes\n",
    "\n",
    "#### Accuracy\n",
    "- **Accuracy**: 0.78 (78% of predictions are correct).\n",
    "\n",
    "![Naive Bayes](conf_matrix_nb.png)  \n",
    "\n",
    "- **Interpretation**:\n",
    "\n",
    "---\n",
    "* ✅ **True Positives (TP)** = 180\n",
    "  Predicted `Male`, and it was actually `Male`.\n",
    "\n",
    "* ✅ **True Negatives (TN)** = 148\n",
    "  Predicted `Female`, and it was actually `Female`.\n",
    "\n",
    "* ❌ **False Positives (FP)** = 44\n",
    "  Predicted `Male`, but it was actually `Female`.\n",
    "\n",
    "* ❌ **False Negatives (FN)** = 51\n",
    "  Predicted `Female`, but it was actually `Male`.\n",
    "---\n",
    "\n",
    "#### Classification Report for the naive bayes model\n",
    "  | Classes|      Precision          |         Recall                  |   F1-score            |\n",
    "  |--------|-------------------------|---------------------------------|-----------------------|\n",
    "  |   0    |          80%            |            78%                  |        79%            |\n",
    "  |   1    |          74%            |            77%                  |        76%            |\n",
    " "
   ]
  },
  {
   "cell_type": "markdown",
   "metadata": {},
   "source": [
    "## Model Comparison\n",
    "- **Logistic Regression**:\n",
    "  - **Strengths**: Simple, fast to train, highly interpretable, performs well with linearly separable data\n",
    "  - **Weaknesses**: Assumes a linear relationship between features and the log-odds, limited in handling complex or non-linear patterns.\n",
    "- **Random Forest**:\n",
    "  - **Strengths**: Higher accuracy , better F1-scores, robust to complex feature interactions.\n",
    "  - **Weaknesses**: Slower to train, risk of overfitting if not tuned.\n",
    "- **Naive Bayes**:\n",
    "  - **Strengths**: Fast, simple, effective for data with relatively independent features.\n",
    "  - **Weaknesses**: Assumes feature independence, which may limit performance if violated.\n",
    "\n",
    "\n",
    "\n",
    "\n",
    "## Conclusion\n",
    "The **Random Forest** model is the better choice for this problem, with an accuracy of 91% and higher F1-scores for both classes. It handles complex data \n",
    "The **Logistic Regression** model achieved **85% accuracy**, making it a solid and interpretable baseline. It's fast to train and works well when the data is linearly separable.\n",
    "relationships more effectively. **Naive Bayes** remains competitive (78% accuracy) and is faster, making it suitable for quick prototyping or simpler datasets.\n",
    "\n",
    "### Recommendations\n",
    "1. **Optimization**: Tune Random Forest hyperparameters (e.g., `n_estimators`, `max_depth`) using `GridSearchCV` to improve performance.\n",
    "3. **Cross-Validation**: Perform cross-validation to confirm performance robustness.\n"
   ]
  },
  {
   "cell_type": "markdown",
   "metadata": {},
   "source": [
    "***Github : TIMOTHEE NKWAR***\n",
    " **Link to the code in github** <https://github.com/TimotheeNkwar/School_Project/tree/main/Machine%20Learning>"
   ]
  }
 ],
 "metadata": {
  "kernelspec": {
   "display_name": "Timo",
   "language": "python",
   "name": "python3"
  },
  "language_info": {
   "codemirror_mode": {
    "name": "ipython",
    "version": 3
   },
   "file_extension": ".py",
   "mimetype": "text/x-python",
   "name": "python",
   "nbconvert_exporter": "python",
   "pygments_lexer": "ipython3",
   "version": "3.13.2"
  }
 },
 "nbformat": 4,
 "nbformat_minor": 2
}
